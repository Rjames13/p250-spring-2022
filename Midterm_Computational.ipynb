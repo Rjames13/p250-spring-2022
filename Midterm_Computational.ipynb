{
 "cells": [
  {
   "cell_type": "markdown",
   "metadata": {},
   "source": [
    "# PHYS 250 Computational Midterm Exam"
   ]
  },
  {
   "cell_type": "markdown",
   "metadata": {},
   "source": [
    "**Notes:**\n",
    "1. You have 2 hours to do the exam.  Your solution must be uploaded to Canvas (exactly as is done for the prelabs and labs) as a notebook file with its name unchanged.  **Late exams will not be accepted.**  A little bit of extra time has been allotted on Canvas for you to turn it in before it will claim the exam is late.  This is meant to insure that you have a full 2 hours to work on the exam, and then a little bit of time to turn in it.  It is not extra time to work on the exam!\n",
    "2. You must work on the exam yourself.  It must all be your work.  You are free to use resources from the course (prelabs, labs, and examples) as you wish **but not other people** (this even excludes people not in the course).  I am trying to be flexible in terms of when people can work on this portion of the exam.  This means different students will be working on the exam at different times.  **Do not discuss the exam with other students until everyone has completed it.**\n",
    "3. The exam is meant to be completed in the allotted time.  I may have misjudged the amount of time the questions will take.  Keep in mind that everyone is in the same situation as yourself.  If the exam is too long everyone will suffer similarly and I will take that into account when assigning grades.  It is best to look at all the problems and do as much work as you can starting with the problem you are most comfortable with.\n",
    "4. The points for each problem are given below.  You can use this information to decide how to apportion your time working on the problems.\n",
    "5. When I ask for descriptions include all the information you think is relevant to convince me that (a) you know how to solve the problem, and (b) can be used to reproduce the results if someone else in the class were given the description.  The more clear these descriptions are the better chance I have in understanding what you have done and assigning partial credit. When making nice plots you must follow all the good practices discussed and used in the labs.\n",
    "6. **Restart the kernel and rerun the notebook** before turning it in.  Part of the grading process is rerunning the notebook.  The state you left the notebook in is not the final state.  It is the rerun notebook that will be graded, not the static version as turned in.  See Lab00 to remind yourself of what is expected.\n",
    "7. **Read the questions carefully.** There is important information given in various places in various parts of the problem.  Do not skip reading sections, even if they are very small."
   ]
  },
  {
   "cell_type": "markdown",
   "metadata": {},
   "source": [
    "## Initialization\n",
    "\n",
    "Collect all your initialization here.  Make sure all figures are inlined by using `%matplotlib inline`."
   ]
  },
  {
   "cell_type": "code",
   "execution_count": 1,
   "metadata": {
    "deletable": false,
    "nbgrader": {
     "cell_type": "code",
     "checksum": "8b8cb914b8f40283389c3d823b1d6ed7",
     "grade": true,
     "grade_id": "cell-289f2d3309db328b",
     "locked": false,
     "points": 0,
     "schema_version": 3,
     "solution": true
    }
   },
   "outputs": [],
   "source": [
    "import numpy as np\n",
    "import matplotlib.pyplot as plt\n",
    "import scipy.interpolate as interp\n",
    "import scipy.integrate as integ\n",
    "import scipy.optimize as opt\n",
    "# Globally fix plot styling\n",
    "import matplotlib as mpl\n",
    "mpl.rc('xtick', direction='in', top=True)\n",
    "mpl.rc('ytick', direction='in', right=True)\n",
    "mpl.rc('xtick.minor', visible=True)\n",
    "mpl.rc('ytick.minor', visible=True)\n",
    "%matplotlib inline\n",
    "# We will use random numbers in this example, so like we saw earlier ...\n",
    "rng = np.random.default_rng()"
   ]
  },
  {
   "cell_type": "markdown",
   "metadata": {},
   "source": [
    "## 1. Voigt Profile (20 points)\n",
    "\n",
    "The Voigt profile is a distribution that is often used to describe the shape of spectral lines. Physically it is used to describe the combined effects of Doppler and pressure broadening, such as occurs in the atmosphere. Here we will numerically explore some properties of this distribution.\n",
    "\n",
    "The Voigt profile can be calculated as the convolution of a Gaussian and a Lorentzian where the Gaussian has zero mean and standard deviation given by $\\sigma$, while the Lorentzian is centered and described by a parameter $\\gamma$. Symbollically this is written as\n",
    "$$ V(x; \\sigma, \\gamma) = \\int_{-\\infty}^{\\infty} G(y; \\sigma) L(x-y; \\gamma) \\,\\mathrm{d}y, $$\n",
    "where the Gaussian is given by\n",
    "$$ G(x; \\sigma) = \\frac{1}{\\sigma \\sqrt{2\\pi}} \\exp\\left( -\\frac{x^2}{2\\sigma^2} \\right) $$\n",
    "and the Lorentzian is given by\n",
    "$$ L(x; \\gamma) = \\frac{\\gamma}{\\pi (x^2 + \\gamma^2)}. $$\n",
    "\n",
    "Although this integral can be written in terms of a special function (the Faddeeva function, one I have never encountered anywhere else), we will numerically perform the integral.\n",
    "\n",
    "To set this up, define the function below that contains the **integrand**. We will end up passing this function to `quad` to do the integral for us. Note that `y` is the integration variable. (You can define other functions to make defining the integrand simpler if you prefer.) The signature for the integrand is given below. As always, you must document this function."
   ]
  },
  {
   "cell_type": "code",
   "execution_count": 2,
   "metadata": {
    "deletable": false,
    "nbgrader": {
     "cell_type": "code",
     "checksum": "0c2ef4fda2159e08bf6ba172fdcfc015",
     "grade": true,
     "grade_id": "cell-52e90bca10454d95",
     "locked": false,
     "points": 3,
     "schema_version": 3,
     "solution": true,
     "task": false
    }
   },
   "outputs": [],
   "source": [
    "# YOUR CODE HERE\n",
    "\n",
    "def gaussian(x,sigma):\n",
    "    \"\"\" This returns the value of a Gaussian at a xvalue for a gaussian with a standard deviation sigma\"\"\"\n",
    "    return (1/(sigma*np.sqrt(2*np.pi)))*np.exp((-x**2)/(2*sigma**2))\n",
    "def lorentzian(x,gamma):\n",
    "    \"\"\"This returns the values of a lorentzian, centered on gamma at x\"\"\"\n",
    "    return gamma/(np.pi*(x**2+gamma**2))\n",
    "\n",
    "def voigt_integrand(y, x, sigma, gamma):\n",
    "    \"\"\" This returns the value of the integrand of the Voitto profile. Sigma is the standard deviation of the gaussian and gamma is then center of the lorentzian\"\"\"\n",
    "    return gaussian(y,sigma)*lorentzian(x-y,gamma)\n"
   ]
  },
  {
   "cell_type": "markdown",
   "metadata": {},
   "source": [
    "Use the `voigt_integrand` function to calculate the Voigt profile for $x\\in[-10, 10]$ at about 200 points when $\\sigma=0.3$ and $\\gamma=1.1$ by numerically performing the integral. Produce a quick plot of the profile so we can see what it looks like."
   ]
  },
  {
   "cell_type": "code",
   "execution_count": 3,
   "metadata": {
    "deletable": false,
    "nbgrader": {
     "cell_type": "code",
     "checksum": "a2fb2e7bcc3325c21e503007534d1c2b",
     "grade": true,
     "grade_id": "cell-575e0165142bf88b",
     "locked": false,
     "points": 4,
     "schema_version": 3,
     "solution": true,
     "task": false
    }
   },
   "outputs": [
    {
     "name": "stderr",
     "output_type": "stream",
     "text": [
      "No handles with labels found to put in legend.\n"
     ]
    },
    {
     "data": {
      "text/plain": [
       "<matplotlib.legend.Legend at 0x1712f105040>"
      ]
     },
     "execution_count": 3,
     "metadata": {},
     "output_type": "execute_result"
    },
    {
     "data": {
      "image/png": "[encoded data removed]",
      "text/plain": [
       "<Figure size 432x288 with 1 Axes>"
      ]
     },
     "metadata": {
      "needs_background": "light"
     },
     "output_type": "display_data"
    }
   ],
   "source": [
    "sigma=0.3\n",
    "gamma=1.1\n",
    "spacing=np.linspace(-10,10,200)\n",
    "res=np.zeros_like(spacing)\n",
    "err=np.zeros_like(spacing)\n",
    "for j in range( len(spacing)):\n",
    "    (res[j], err[j])=integ.quad(voigt_integrand,-np.inf,np.inf,args=(spacing[j],sigma,gamma))\n",
    "\n",
    "fig = plt.figure()\n",
    "plt.plot(spacing,res)\n",
    "plt.title(\"Voigt profile vs  x\")\n",
    "plt.xlabel(\"x\")\n",
    "plt.ylabel(\"Voigt profile\")\n",
    "plt.legend()\n"
   ]
  },
  {
   "cell_type": "markdown",
   "metadata": {},
   "source": [
    "One important property of a spectral line is its \"width\". Conventionally the width is specified as the Full Width at Half Maximum (FWHM). For the Voigt profile the maximum occurs when $x=0$. (You do not have to show this.) This means $V_{\\mathrm{max}}=V(0; \\sigma, \\gamma)$. From this, the FWHM is defined as $|\\tilde{x}_2 - \\tilde{x}_1|$, where $\\tilde{x}_i$ are the two solutions to\n",
    "$$ V(\\tilde{x}; \\sigma, \\gamma) = \\frac{V_{\\mathrm{max}}}{2} .$$\n",
    "\n",
    "Accurately determine the FWHM for the Voigt profile you calculated above. \"Accurately\" means we cannot just look through the values we tabulated above, we need to do something more. There are many ways to do this you, any one of them will be acceptable.\n",
    "\n",
    "Print the value of the FWHM you find. Also, produce a nice plot of the Voigt profile with a horizontal line drawn at half the maximum and with two vertical lines for the $\\tilde{x}$ values you used to calculate the FWHM."
   ]
  },
  {
   "cell_type": "code",
   "execution_count": 4,
   "metadata": {
    "deletable": false,
    "nbgrader": {
     "cell_type": "code",
     "checksum": "c78506e59985cb0b5a5a3720862425cd",
     "grade": true,
     "grade_id": "cell-d4a5c7838f3993db",
     "locked": false,
     "points": 9,
     "schema_version": 3,
     "solution": true,
     "task": false
    }
   },
   "outputs": [
    {
     "name": "stdout",
     "output_type": "stream",
     "text": [
      "The FWHM is 2.4205539477110847 \n"
     ]
    }
   ],
   "source": [
    "aspline = interp.InterpolatedUnivariateSpline(spacing, res)\n",
    "timesofintrest=spacing[np.where((0.13<res) & (res<0.14))]\n",
    "\n",
    "halfvalue=aspline(0)/2\n",
    "aspline2 = interp.InterpolatedUnivariateSpline(spacing, res-halfvalue) ## making the assumption it is symmetric across x=0 for time\n",
    "x_1=opt.brentq(aspline2,timesofintrest[0],0)\n",
    "x_2=opt.brentq(aspline2,timesofintrest[1],x_1+.5)\n",
    "f_v=np.abs(x_2-x_1)\n",
    "print(f'The FWHM is {f_v} ')"
   ]
  },
  {
   "cell_type": "markdown",
   "metadata": {},
   "source": [
    "The FWHM of the Voigt profile cannot be calculated analytically so approximations are often used. These approximations are typically written in terms of\n",
    "$$ f_G = 2\\sigma \\sqrt{2\\ln(2)} \\quad\\mbox{and}\\quad f_L = 2\\gamma, $$\n",
    "which are the known FWHM for the Gaussian and Lorentzian, respectively.\n",
    "\n",
    "Two approximations often quoted are\n",
    "$$ f_V^{(1)} \\approx \\frac{f_L}{2} + \\sqrt{\\frac{f_L^2}{4} + f_G^2} $$\n",
    "and\n",
    "$$ f_V^{(2)} \\approx 0.5346 f_L + \\sqrt{0.2166 f_L^2 + f_G^2}. $$\n",
    "It is claimed that $f_V^{(1)}$ is accurate to about 1.2% and that $f_V^{(2)}$ is accurate to about 0.02%.\n",
    "\n",
    "Here we will test these claims. Use your calculated value of the FWHM as the \"true\" value and calculate the fractional error in these two approximations. Print the two approximate values of the FWHM and their fractional errors. This should verify the claimed accuracy of the approximations. (This is a check for you! Your FWHM must be consistent with the approximations within the claimed accuracy.)"
   ]
  },
  {
   "cell_type": "code",
   "execution_count": 5,
   "metadata": {
    "deletable": false,
    "nbgrader": {
     "cell_type": "code",
     "checksum": "dec09a9dc859c65f98363122785cc144",
     "grade": true,
     "grade_id": "cell-3e12c99e9d55e4e8",
     "locked": false,
     "points": 4,
     "schema_version": 3,
     "solution": true,
     "task": false
    }
   },
   "outputs": [
    {
     "name": "stdout",
     "output_type": "stream",
     "text": [
      "The error for the first approximation,2.4073124989852888, is 0.005470420825909392. The error for the second approximation,2.4200693438252063, is 0.00020020371218604417\n"
     ]
    }
   ],
   "source": [
    "f_g= 2*sigma*np.sqrt(2*np.log(2))\n",
    "f_l= 2*gamma\n",
    "f_v1=f_l/2 +np.sqrt(((f_l**2)/4)+f_g**2)\n",
    "f_v2 = 0.5346*f_l+np.sqrt(0.2166*f_l**2+f_g**2)\n",
    "print(f'The error for the first approximation,{f_v1}, is {(f_v-f_v1)/f_v}. The error for the second approximation,{f_v2}, is {(f_v-f_v2)/f_v}')"
   ]
  },
  {
   "cell_type": "markdown",
   "metadata": {},
   "source": [
    "## 2. Rocket Motion [30 points]\n",
    "\n",
    "The vertical motion of a rocket that burns fuel for some period of time is a standard application of Newton's second law. Here we will consider a rocket that starts from rest on the ground, is launched vertically, then falls back to the Earth. The equation of motion for the rocket can be written as\n",
    "$$ [m_r + m_p(t)] \\frac{\\mathrm{d}^2 h}{\\mathrm{d} t^2} = -[m_r + m_p(t)] g + \\dot{m}_p(t) v_e - \\frac{1}{2} A \\rho C_D v(t) |v(t)|. $$\n",
    "In this expression\n",
    "* $h(t)$ is the altitude of the rocket,\n",
    "* $v(t)$ is the vertical velocity of the rocket,\n",
    "* $m_r$ is the mass of the body of the rocket,\n",
    "* $m_p(t)$ is the mass of the rocket propellant,\n",
    "* $\\dot{m}_p(t)$ is the rate at which the propellant is being burned,\n",
    "* $v_e$ is the exhaust speed of the propellant,\n",
    "* $\\rho$ is the average air density (taken to be constant for the entire flight),\n",
    "* $A$ is the cross sectional area of the rocket,\n",
    "* $C_D$ is the drag coefficient,\n",
    "* $g$ is the usual acceleration due to gravity near the surface of the Earth.\n",
    "\n",
    "The rate at which the propellant is burned, $\\dot{m}_p(t)$, is a known function which will be given below and which will allow us to determine $m_p(t)$.\n",
    "\n",
    "Convert the equation of motion for the rocket into a system of equations that can be solved numerically. Typeset the equations using LaTeX and state the initial conditions to use to uniquely solve for the motion of the rocket."
   ]
  },
  {
   "cell_type": "markdown",
   "metadata": {
    "deletable": false,
    "nbgrader": {
     "cell_type": "markdown",
     "checksum": "a69b256c19b1155d89923b2ad3febe0c",
     "grade": true,
     "grade_id": "cell-620a19f777ef9eb9",
     "locked": false,
     "points": 4,
     "schema_version": 3,
     "solution": true,
     "task": false
    }
   },
   "source": [
    "$$\\frac{dh}{dt}=v $$\n",
    "$$\\frac{dv}{dt}=\\frac{-[m_r + m_p(t)] g + \\dot{m}_p(t) v_e - \\frac{1}{2} A \\rho C_D v(t) |v(t)|}{[m_r + m_p(t)]} $$"
   ]
  },
  {
   "cell_type": "markdown",
   "metadata": {},
   "source": [
    "To test the code we write we will consider a simple propellant burn rate: a constant burn rate for some time $t_{\\mathrm{burn}}$ which can be written as\n",
    "$$ \\dot{m}_p(t) = \\left\\{ \\begin{array}{cc}\n",
    " \\dot{m}_{p,0} & t < t_{\\mathrm{burn}} \\\\\n",
    " 0 & \\mathrm{otherwise} \\end{array} \\right. . $$\n",
    "From this we can determine the mass of the remaining propellant by integrating the burn rate. Let $m_{p,0}$ be the initial mass of the propellant, then\n",
    "$$ m_p(t) = m_{p,0} - \\int_{0}^{t} \\dot{m}_p(t')\\, \\mathrm{d} t' =\n",
    "  \\left\\{ \\begin{array}{cc}\n",
    " m_{p,0} - \\dot{m}_{p,0} t & t < t_{\\mathrm{burn}} \\\\\n",
    " 0 & \\mathrm{otherwise} \\end{array} \\right. . $$\n",
    " \n",
    "To avoid problems, here is a function that returns the mass of the propellant, $m_p(t)$, and the burn rate $\\dot{m}_p(t)$. This is written in a form that is vectorized (ie., can be called with an array of times). It is not the most efficient implemenation, but is sufficient for our uses."
   ]
  },
  {
   "cell_type": "code",
   "execution_count": 6,
   "metadata": {},
   "outputs": [],
   "source": [
    "def mass_propellant(t, mp0, mpdot0, tburn):\n",
    "    \"\"\"\n",
    "    The mass of the propellant and its burn rate at time t.\n",
    "    Inputs:\n",
    "      t : scalar or array : Times at which to determine the mass and burn rate.\n",
    "      mp0 : Initial mass of propellant.\n",
    "      mpdot0 : Initial (constant) burn rate.\n",
    "      tburn : Total time that the propellant burns.\n",
    "    Outputs:\n",
    "      A tuple of two values are returned for each time:\n",
    "      mp : mass of the propellant.\n",
    "      mpdot : burn rate of the propellant.\n",
    "    \"\"\"\n",
    "    # The Heaviside function is a step function.\n",
    "    # Of course it exists in NumPy!\n",
    "    step = np.heaviside(tburn-t, 0)\n",
    "    m = mp0 - mpdot0 * t\n",
    "    return (step * m, step * mpdot0)"
   ]
  },
  {
   "cell_type": "markdown",
   "metadata": {},
   "source": [
    "To confirm the function works and makes sense, make a quick plot of the mass of the propellant and the burn rate as a function of time. Use $m_{p,0} = 100\\,\\mathrm{kg}$, $\\dot{m}_{p,0} = 20\\,\\mathrm{kg/s}$, and $t_{\\mathrm{burn}}=5\\,\\mathrm{s}$ and plot up to $6$ seconds. You can put both curves on the same plot. The shape of the curves should make sense."
   ]
  },
  {
   "cell_type": "code",
   "execution_count": 7,
   "metadata": {
    "deletable": false,
    "nbgrader": {
     "cell_type": "code",
     "checksum": "8f849a29b29a4f2daf3cda974774d521",
     "grade": true,
     "grade_id": "cell-4786acfb054e1b1f",
     "locked": false,
     "points": 2,
     "schema_version": 3,
     "solution": true,
     "task": false
    }
   },
   "outputs": [
    {
     "data": {
      "text/plain": [
       "<matplotlib.legend.Legend at 0x1712f27ee50>"
      ]
     },
     "execution_count": 7,
     "metadata": {},
     "output_type": "execute_result"
    },
    {
     "data": {
      "image/png": "[encoded data removed]",
      "text/plain": [
       "<Figure size 432x288 with 1 Axes>"
      ]
     },
     "metadata": {
      "needs_background": "light"
     },
     "output_type": "display_data"
    }
   ],
   "source": [
    "mp0=100 ##kg, assuming no unit conversion needed\n",
    "mdotp0= 20 ## kg/s\n",
    "tBurn=5 ##s\n",
    "t2=np.arange(0,6,0.01)\n",
    "output =mass_propellant(t2,mp0,mdotp0,tBurn)\n",
    "fig = plt.figure()\n",
    "plt.plot(t2,output[0], label='m_p')\n",
    "plt.plot(t2,output[1], label='mdot_p')\n",
    "plt.xlabel(\"time (s)\")\n",
    "plt.legend()"
   ]
  },
  {
   "cell_type": "markdown",
   "metadata": {},
   "source": [
    "Define a function we can pass to `solve_ivp` to solve the system of equations you wrote above. As always, this function must be documented. Use $g=9.81\\,\\mathrm{m/s^2}$."
   ]
  },
  {
   "cell_type": "code",
   "execution_count": 8,
   "metadata": {
    "deletable": false,
    "nbgrader": {
     "cell_type": "code",
     "checksum": "626f046ce08d922311e3504e453e9522",
     "grade": true,
     "grade_id": "cell-12dd4bd395c5d7af",
     "locked": false,
     "points": 6,
     "schema_version": 3,
     "solution": true,
     "task": false
    }
   },
   "outputs": [],
   "source": [
    "def rocket(t, y, mr, mp0, mpdot0, tburn, ve, rho, A, CD):\n",
    "    \"\"\"\n",
    "`   step of rocket trajectory\n",
    "    :param t: time of step to calculate\n",
    "    :param y: init value. structure as y[0] =height at t in meters, y[1]= v meter per second,y[2]=mp kg, y[3]=mpdot kg/s\n",
    "    :param mr: rocket mass in kg\n",
    "    :param mp0: inital mass of perpelent\n",
    "    :param mpdot0: init rate of fuel burning kg/s\n",
    "    :param tburn: time of burn\n",
    "    :param ve: exhast speed\n",
    "    :param rho: density of air\n",
    "    :param A:  cross section area of rocket\n",
    "    :param CD: Drag coefficient\n",
    "    :return: dydt( change in values of y) same order\n",
    "    \"\"\"\n",
    "    g=9.81 #m/s^2\n",
    "    dydt=np.zeros_like(y)\n",
    "    dydt[0]=y[1]\n",
    "\n",
    "    topeq=-(mr+y[2])*g+y[3]*ve-.5*A*rho*CD* y[1]*np.linalg.norm(y[1])\n",
    "    bottomeq=(mr+y[2])\n",
    "    dydt[1]= topeq/bottomeq\n",
    "    (newmp,newmpdot)=mass_propellant(t,mp0,mpdot0,tburn)\n",
    "    dydt[2]=y[2]-newmp\n",
    "    dydt[3]=y[3]-newmpdot\n",
    "    return dydt\n",
    "\n"
   ]
  },
  {
   "cell_type": "markdown",
   "metadata": {},
   "source": [
    "It would now be good to do a number of test of the function we just wrote. One good test would be to start with no air resistance and cases with and without burning propellant. Due to limited time we will instead jump straight to solving for one rocket flight.\n",
    "\n",
    "Here we will use the propellant parameters given above (for the plot you produced). We will also choose\n",
    "* $m_r = 50\\,\\mathrm{kg}$,\n",
    "* $v_e = 325\\,\\mathrm{m/s}$,\n",
    "* $\\rho=1.091\\,\\mathrm{kg/m^3}$,\n",
    "* the rocket as cylinder, so the cross sectional area is $A=\\pi r^2$ with $r=0.5\\,\\mathrm{m}$,\n",
    "* $C_D=0.15$.\n",
    "\n",
    "Solve the system of equations for a long enough time to see the rocket return to the ground. Produce a quick plot of the altitude and velocity of the rocket as a function of time. (*Hint:* The total time will be less that $100\\,\\mathrm{s}$. Use a time less than this.)"
   ]
  },
  {
   "cell_type": "code",
   "execution_count": 9,
   "metadata": {
    "deletable": false,
    "nbgrader": {
     "cell_type": "code",
     "checksum": "21d3e48f47f52ba7d191d839410c73b9",
     "grade": true,
     "grade_id": "cell-32fb2d544c0e8977",
     "locked": false,
     "points": 5,
     "schema_version": 3,
     "solution": true,
     "task": false
    }
   },
   "outputs": [
    {
     "name": "stdout",
     "output_type": "stream",
     "text": [
      "1583\n"
     ]
    },
    {
     "data": {
      "image/png": "[encoded data removed]",
      "text/plain": [
       "<Figure size 432x288 with 1 Axes>"
      ]
     },
     "metadata": {
      "needs_background": "light"
     },
     "output_type": "display_data"
    }
   ],
   "source": [
    "mr = 50 #kg\n",
    "ve= 325 #m/s\n",
    "rho= 1.091 #kg/m^3\n",
    "A= np.pi * 0.5**2 #m^2\n",
    "CD=0.15\n",
    "#t, y, mr, mp0, mpdot0, tburn, ve, rho, A, CD\n",
    "y0=[0,0,mp0,mdotp0]\n",
    "sol = integ.solve_ivp(lambda time, h: rocket(time, h, mr,mp0,mdotp0,tBurn,ve,rho,A,CD), (0, 25), y0,\n",
    "                       atol=1e-12, rtol=1e-12)\n",
    "fig = plt.figure()\n",
    "plt.plot(sol.t,sol.y[0], label='altitude(m)')\n",
    "plt.plot(sol.t,sol.y[1], label='velocity(m/s)')\n",
    "plt.plot(sol.t,np.zeros_like(sol.t) ,'--',label='ground')\n",
    "plt.title(\"Rocket Trajectory\")\n",
    "plt.xlabel(\"Time(s)\")\n",
    "plt.legend()\n",
    "print(len(sol.y[1]))"
   ]
  },
  {
   "cell_type": "markdown",
   "metadata": {},
   "source": [
    "Since we have not run test cases, one check we can do is look at the time when the velocity of the rocket is a maximum. *Accurately* determine and print the maximum speed of the rocket, the time at which this occurs, and the height of the rocket at this time. (Remember that all these quantities have units!)"
   ]
  },
  {
   "cell_type": "code",
   "execution_count": 10,
   "metadata": {
    "deletable": false,
    "nbgrader": {
     "cell_type": "code",
     "checksum": "3a2d7101d45313252333d6b3ef485ab7",
     "grade": true,
     "grade_id": "cell-a1500f13085cee55",
     "locked": false,
     "points": 6,
     "schema_version": 3,
     "solution": true,
     "task": false
    }
   },
   "outputs": [
    {
     "name": "stdout",
     "output_type": "stream",
     "text": [
      "The max speed of the rocket is 65.95119050092558 m/s at time 3.351889959490301 s and is at a height of 146.23446602985805 m\n"
     ]
    }
   ],
   "source": [
    "vspline=interp.InterpolatedUnivariateSpline(sol.t,sol.y[1])\n",
    "asplineheight=interp.InterpolatedUnivariateSpline(sol.t,sol.y[0])\n",
    "maxspeedtime=opt.brentq(vspline.derivative(1),0,5)\n",
    "print(f'The max speed of the rocket is {vspline(maxspeedtime)} m/s at time {maxspeedtime} s and is at a height of {asplineheight(maxspeedtime)} m')"
   ]
  },
  {
   "cell_type": "markdown",
   "metadata": {},
   "source": [
    "The time at which the maximum velocity occurs is \"obvious\". Here \"obvious\" means that we knew what the time would be even before doing the calculation and/or now that we see the answer, it makes sense.\n",
    "\n",
    "Briefly explain why the time of the maximum velocity make sense."
   ]
  },
  {
   "cell_type": "markdown",
   "metadata": {
    "deletable": false,
    "nbgrader": {
     "cell_type": "markdown",
     "checksum": "79b6f5e8fea70e3413467a1102b68a81",
     "grade": true,
     "grade_id": "cell-72a96d714af502b7",
     "locked": false,
     "points": 3,
     "schema_version": 3,
     "solution": true,
     "task": false
    }
   },
   "source": [
    "The max velocity is obviously the time right when the rocket stops burning at tBurn because the is when it will stop having a positive acceleration and will start to decelerated due to gravity."
   ]
  },
  {
   "cell_type": "markdown",
   "metadata": {},
   "source": [
    "Determine and print the maximum altitude the rocket achieves and the time at which this occurs. Also determine and print the time at which the rocket hits the ground and the speed it has when it hits."
   ]
  },
  {
   "cell_type": "code",
   "execution_count": 11,
   "metadata": {
    "deletable": false,
    "nbgrader": {
     "cell_type": "code",
     "checksum": "4c1cef4ce6e59b254da7e26ae4ad3f83",
     "grade": true,
     "grade_id": "cell-de6d33c604db713c",
     "locked": false,
     "points": 4,
     "schema_version": 3,
     "solution": true,
     "task": false
    }
   },
   "outputs": [
    {
     "name": "stdout",
     "output_type": "stream",
     "text": [
      "The max height of the rocket is 471.74786551244966m at time equals 12.631740375516113s\n"
     ]
    }
   ],
   "source": [
    "asplineheight=interp.InterpolatedUnivariateSpline(sol.t,sol.y[0])\n",
    "maxheighttime=opt.brentq(asplineheight.derivative(1),10,15)\n",
    "print(f'The max height of the rocket is {asplineheight(maxheighttime)}m at time equals {maxheighttime}s')"
   ]
  },
  {
   "cell_type": "markdown",
   "metadata": {},
   "source": [
    "## Turn in the Exam\n",
    "\n",
    "Turn in the exam following the procedure described at the top of the notebook."
   ]
  }
 ],
 "metadata": {
  "anaconda-cloud": {},
  "authors": [
   {
    "name": "Craig J Copi",
    "semester": "Spring 2019"
   }
  ],
  "kernelspec": {
   "display_name": "Python 3 (ipykernel)",
   "language": "python",
   "name": "python3"
  },
  "language_info": {
   "codemirror_mode": {
    "name": "ipython",
    "version": 3
   },
   "file_extension": ".py",
   "mimetype": "text/x-python",
   "name": "python",
   "nbconvert_exporter": "python",
   "pygments_lexer": "ipython3",
   "version": "3.9.0"
  }
 },
 "nbformat": 4,
 "nbformat_minor": 4
}