{
 "cells": [
  {
   "cell_type": "markdown",
   "metadata": {},
   "source": [
    "# Lab 08 : Heat Flow\n",
    "\n",
    "## Objectives\n",
    "\n",
    "In this lab we will solve a system of linear equations to study heat flow in a rod and produce nice, color heat maps of the results using `imshow`.\n",
    "\n",
    "Much of the preparation for this lab was discussed in the prelab.  **You must understand and complete PreLab 08 to proceed!**  In fact, once you have completed the prelab we can just apply those results to a couple of initial conditions."
   ]
  },
  {
   "cell_type": "markdown",
   "metadata": {},
   "source": [
    "## Initialization\n",
    "\n",
    "As always, initialize your environment now by loading all modules required and setting up the plotting environment."
   ]
  },
  {
   "cell_type": "code",
   "execution_count": 21,
   "metadata": {
    "deletable": false,
    "nbgrader": {
     "cell_type": "code",
     "checksum": "e2bdf604d06aad702739a039cb4514cb",
     "grade": true,
     "grade_id": "cell-7bfea0d2a4c0b6e1",
     "locked": false,
     "points": 0,
     "schema_version": 3,
     "solution": true
    }
   },
   "outputs": [],
   "source": [
    "import numpy as np\n",
    "import matplotlib.pyplot as plt\n",
    "import scipy.optimize as opt\n",
    "import scipy.interpolate as interp\n",
    "import scipy.special as sf\n",
    "import scipy.integrate as integ\n",
    "import scipy.linalg as la\n",
    "import matplotlib as mpl\n",
    "mpl.rc('xtick', direction='in', top=True)\n",
    "mpl.rc('ytick', direction='in', right=True)\n",
    "mpl.rc('xtick.minor', visible=True)\n",
    "mpl.rc('ytick.minor', visible=True)\n"
   ]
  },
  {
   "cell_type": "markdown",
   "metadata": {},
   "source": [
    "## Heat Flow\n",
    "\n",
    "The prelab contains a more thorough discussion of how we will solve for the heat flow through a rod.  Here we summarize the important points.\n",
    "\n",
    "The temperature at position $x$ and time $t$, $T(t,x)$, satisfies the partial differential equation\n",
    "$$ \\frac{\\partial T}{\\partial t} = \\frac{\\partial^2 T}{\\partial x^2}. $$\n",
    "Using the *Crank-Nicolson* method it can be shown that this partial differential equation becomes the **system of linear equations**\n",
    "$$\n",
    "-r T(t_{j+1},x_{i-1}) + (1+2r) T(t_{j+1},x_i) - r T(t_{j+1},x_{i+1}) = r T(t_j,x_{i-1}) + (1-2r) T(t_j,x_i) +r T(t_j,x_{i+1}),\n",
    "$$\n",
    "where\n",
    "$$ r\\equiv \\frac{\\Delta t}{2(\\Delta x)^2},$$\n",
    "and $\\Delta t$ and $\\Delta x$ are the time and space step sizes.  In the prelab we saw that this can be written in the form\n",
    "$$ \\mathsf{A}\\vec T_{j+1} = \\mathsf{B} \\vec T_j \\equiv \\vec \\tau_j, $$\n",
    "where we know how to construct $\\mathsf{A}$ and $\\vec\\tau_j$.  Further, we discussed solving this system using `scipy.linalg.solve_banded`.  We will apply this now.\n",
    "\n",
    "(*Note:* As mentioned in the prelab, you can use `scipy.linalg.solveh_banded` instead of `scipy.linalg.solve_banded` if so inclined.)"
   ]
  },
  {
   "cell_type": "markdown",
   "metadata": {},
   "source": [
    "Copy the useful results from the prelab.  In particular, your functions for calculating $\\vec\\tau_j$ and the coefficient matrix should be included here."
   ]
  },
  {
   "cell_type": "code",
   "execution_count": 3,
   "metadata": {
    "deletable": false,
    "nbgrader": {
     "cell_type": "code",
     "checksum": "84521a3005be4bffd40f3593ae9a93d4",
     "grade": true,
     "grade_id": "cell-e0e2900f6cbaeea8",
     "locked": false,
     "points": 2,
     "schema_version": 3,
     "solution": true
    }
   },
   "outputs": [],
   "source": [
    "def tau(T, r):\n",
    "    tau= np.zeros_like(T)\n",
    "    tau[0]= (1-2*r)*T[0] + r*T[1]\n",
    "    tau[1:-1]= r*T[0:-2] + (1-2*r)*T[1:-1] + r*T[2:]\n",
    "    tau[-1]= r*T[-2] + (1-2*r)*T[-1]\n",
    "    return tau\n",
    "\n",
    "def coefficient_matrix(N, r):\n",
    "    A_band= np.zeros((3, N))\n",
    "    A_band[1, ::]= 1+2*r\n",
    "    A_band[0,1:]= -r\n",
    "    A_band[2,:-1]= -r\n",
    "    return A_band"
   ]
  },
  {
   "cell_type": "markdown",
   "metadata": {},
   "source": [
    "## Test Case\n",
    "\n",
    "As has been stated a few times, whenever we solve a numerical problem we should first apply our technique to a problem with a known solution.  It is easy to make simple mistakes and solving a known problem can catch many (but not necessarily all) such mistakes.\n",
    "\n",
    "For our test problem we will solve for the temperature along a rod of length $L=1$ discretized by splitting it into $1000$ segments ($N_x=1001$ points).  For the initial temperature profile we will let $T(0,x)=\\sin(\\pi x)$.  To evolve the system choose $\\Delta t=10^{-4}$ and evolve for $N_t=N_x$ steps.  Evolve the system by solving the linear system of equations at each time step.  (In this case you *must* use a loop to step through time.)  Store your results in a two dimensional array, `T[j,i]`, so that each *row* of the array is the temperature along the rod at a particular time.\n",
    "\n",
    "For these initial conditions the known solution is $T(t,x) = \\mathrm{e}^{-\\pi^2 t} \\sin(\\pi x)$.  We will use this to test our numerical solution."
   ]
  },
  {
   "cell_type": "markdown",
   "metadata": {},
   "source": [
    "Solve for the heat flow in the rod as a function of time, $T(t,x)$, using the method described above.  Provide the code for doing this below.  You should also test your solution!  One way to do this is to produce quick plots at various times of your result and the known solution.  You may include these plots in your notebook if you prefer, regardless, you should find good agreement (at least at the level of plots) between your solution and the known one."
   ]
  },
  {
   "cell_type": "code",
   "execution_count": 4,
   "metadata": {
    "deletable": false,
    "nbgrader": {
     "cell_type": "code",
     "checksum": "121f6022a797e52f3ada67b39bd3ea5e",
     "grade": true,
     "grade_id": "cell-29342f0c521a044f",
     "locked": false,
     "points": 10,
     "schema_version": 3,
     "solution": true
    }
   },
   "outputs": [],
   "source": [
    "deltt= 10**-4\n",
    "deltx= 10**-3\n",
    "r= deltt/ (2*deltx**2)\n",
    "N= np.arange(0, 1001, 1)\n",
    "\n",
    "def T(x,t):\n",
    "    return np.exp(-t*np.pi**2)*np.sin(np.pi*x)\n",
    "\n",
    "A= coefficient_matrix(N[-1]+1,r)\n",
    "\n",
    "T_list= np.zeros([N[-1],len(N)])\n",
    "tau_list= np.zeros([N[-1],len(N)])\n",
    "\n",
    "T_list[0]= T(deltx*N, 0)\n",
    "tau_list[0]= tau(T_list[0], r)\n",
    "\n",
    "##\n",
    "for i in range(1, N[-1]):\n",
    "    T_list[i]= la.solve_banded((1,1), A, tau_list[i-1])\n",
    "    tau_list[i]= tau(T_list[i], r)\n",
    "    \n",
    "\n",
    "\n"
   ]
  },
  {
   "cell_type": "markdown",
   "metadata": {},
   "source": [
    "Produce a nice figure of your results showing the temperature along the rod at the times, $t=0$, $0.025$, $0.05$, $0.075$, and $0.1$."
   ]
  },
  {
   "cell_type": "code",
   "execution_count": 5,
   "metadata": {
    "deletable": false,
    "nbgrader": {
     "cell_type": "code",
     "checksum": "bf5f7cb1d8c56dab6645cd2622a1cc0e",
     "grade": true,
     "grade_id": "cell-422a9a2e38be1821",
     "locked": false,
     "points": 5,
     "schema_version": 3,
     "solution": true
    }
   },
   "outputs": [
    {
     "data": {
      "text/plain": "<matplotlib.legend.Legend at 0x7f1c4f88cc40>"
     },
     "execution_count": 5,
     "metadata": {},
     "output_type": "execute_result"
    },
    {
     "data": {
      "text/plain": "<Figure size 432x288 with 1 Axes>",
      "image/png": "[encoded data removed]"
     },
     "metadata": {
      "needs_background": "light"
     },
     "output_type": "display_data"
    }
   ],
   "source": [
    "fig= plt.figure()\n",
    "\n",
    "ax = fig.add_subplot(111)\n",
    "ax.plot(T_list[0],label=\"Time:0ms\")\n",
    "ax.plot(T_list[25],label=\"Time:25ms\")\n",
    "ax.plot(T_list[50],label=\"Time:50ms\")\n",
    "ax.plot(T_list[75],label=\"Time:75ms\")\n",
    "ax.plot(T_list[100],label=\"Time:100ms\")\n",
    "ax.legend()\n"
   ]
  },
  {
   "cell_type": "markdown",
   "metadata": {},
   "source": [
    "The above plot is nice, but it is even nicer to see the actual two dimensional heat flow.  We can do this using `imshow`.  Unfortunately `imshow` has some behavior we need to work around.  It knows nothing about what the $x$ and $y$ axes represent so just uses index values.  It also starts with $(0,0)$ in the upper left corner whereas for us it would make more sense to put it in the lower left corner (reverse the $y$-axis).  We can fix these issues and make the plot much nicer by doing a few things.  Here I will assume we use the usual variables `fig` and `ax` when we create a figure.  Modify the function calls given below as need be.\n",
    "\n",
    "1. As noted, our $y$-axis represents time and it makes more sense to have time increasing as we move upward.  This behavior can easily be changed by switching the order of the limits on the $y$-axis.  When you first use `imshow` if you check the limits using `ax.get_ylim()` what do you see?  How do we change the limits along the $y$-axis?  Alternatively the order of the input array can be reversed (at least for the $y$-axis).  This is less elegant, but does work.\n",
    "1. The use of index numbers for the axis tick labels is not very informative.  We do have full control over ticks and their labels, but modifying them can become involved if we want a generic way of manipulating them.  For our purposes if we just want to change the tick labels we can use `ax.set_xticklabels` and `ax.set_yticklabels`.  Even with these there are some details to work out.  Though it is much nicer to do so, it is **not required to fix the tick labels**.  You may leave them as index values if you prefer.\n",
    "1. We have produced a nice color image with `imshow`, but what do the colors mean?  We must add a color bar to the figure to show what each color represents.  To do this note that `imshow` returns an object when it is called.  This object knows all about what was plotted, in particular what color map was used and the mapping between colors and numeric values.  We will need to store this object so suppose we call it `img`.  With this object we can construct a color bar using `cb = fig.colorbar(img)`.  Notice that this stores the returned color bar object in the variable `cb`.  We now have a nice color bar but what does *it* represent?  We can use `cb.set_label` to put a label on it.\n",
    "1. Finally, all the other rules we have used when producing nice figures still apply and must be followed."
   ]
  },
  {
   "cell_type": "code",
   "execution_count": 32,
   "metadata": {
    "deletable": false,
    "nbgrader": {
     "cell_type": "code",
     "checksum": "2e1ffa57d188463156bc40c708a07b8d",
     "grade": true,
     "grade_id": "cell-cb421e3e652b8426",
     "locked": false,
     "points": 5,
     "schema_version": 3,
     "solution": true
    }
   },
   "outputs": [
    {
     "data": {
      "text/plain": "<Figure size 432x288 with 1 Axes>",
      "image/png": "[encoded data removed]"
     },
     "metadata": {
      "needs_background": "light"
     },
     "output_type": "display_data"
    }
   ],
   "source": [
    "fig1= plt.figure()\n",
    "ax=fig1.add_subplot(111)\n",
    "im1=ax.imshow(T_list)\n",
    "ax.set_ylim(0,1000)\n",
    "\n",
    "cb = fig.colorbar(im1)"
   ]
  },
  {
   "cell_type": "markdown",
   "metadata": {},
   "source": [
    "## Fixed End Temperature Case\n",
    "\n",
    "As another example, let us consider the case where the rod starts at a constant temperature but with the ends held at fixed temperatures.  We wish to see how the heat propagates from the ends of the rod in this case.\n",
    "\n",
    "As a specific example we will consider $T(0,x)=100$ except at the end points where $T(0,0)=50$ and $T(0,1)=200$.\n",
    "\n",
    "To keep these end points fixed we need to do a few things.\n",
    "1. Go back to the matrix $\\mathsf{A}$ from the prelab.  We modify it by setting the first and last rows of this matrix to zero, then setting the diagonal elements to one, that is $A_{0,0}=A_{N-1,N-1}=1$.  This will lead to small changes in how we construct the banded matrix `ab`.\n",
    "1. We need to make similar changes on the right hand side of the equation.  The easiest way to do this is to reuse what we did for the test case and then change the end points by hand.  This means, calculate $\\vec\\tau_j$ as we did above, but then replace the first element in this vector with $T(0,0)$ and the last element with $T(0,1)$.\n",
    "\n",
    "Finally, to obtain a numerically stable solution let $N_x=101$, $N_t=1001$, and $\\Delta t=2\\times 10^{-4}$."
   ]
  },
  {
   "cell_type": "markdown",
   "metadata": {},
   "source": [
    "Solve for the heat flow in the rod as function of time, $T(t,x)$, using the method described above.  Provide the code for doing this below. A_band[0,1:]= 0\n",
    "    A_band[2,:-1]= -r"
   ]
  },
  {
   "cell_type": "code",
   "execution_count": null,
   "metadata": {
    "deletable": false,
    "nbgrader": {
     "cell_type": "code",
     "checksum": "6284c614342fca0d6022f9e208325c53",
     "grade": true,
     "grade_id": "cell-031d3ea1b9b2e06f",
     "locked": false,
     "points": 10,
     "schema_version": 3,
     "solution": true
    }
   },
   "outputs": [],
   "source": [
    "# YOUR CODE HERE\n",
    "raise NotImplementedError()"
   ]
  },
  {
   "cell_type": "markdown",
   "metadata": {},
   "source": [
    "Produce a nice figure of your results showing the temperature along the rod at the times, $t=0$, $0.025$, $0.05$, $0.075$, and $0.2$.  This figure should make sense.  In particular, after a long time what do you expect the temperature profile to look like?"
   ]
  },
  {
   "cell_type": "code",
   "execution_count": null,
   "metadata": {
    "deletable": false,
    "nbgrader": {
     "cell_type": "code",
     "checksum": "f5aeefa83b044744f15d0e4d5110ece3",
     "grade": true,
     "grade_id": "cell-d8ee6f49dc45d349",
     "locked": false,
     "points": 4,
     "schema_version": 3,
     "solution": true
    }
   },
   "outputs": [],
   "source": [
    "# YOUR CODE HERE\n",
    "raise NotImplementedError()"
   ]
  },
  {
   "cell_type": "markdown",
   "metadata": {},
   "source": [
    "We again want to produce a heat flow image using `imshow`.  If we do this we find the resulting image is a thin rectangle since $N_x\\ne N_t$.  To get a square image we can use the keyword argument `aspect=\"auto\"` to `imshow` which will automatically stretch the rectangle into a square.  Otherwise the procedure is the same as that followed in the test case above."
   ]
  },
  {
   "cell_type": "code",
   "execution_count": null,
   "metadata": {
    "deletable": false,
    "nbgrader": {
     "cell_type": "code",
     "checksum": "716d5c0857063c266584d7a6e77bfecd",
     "grade": true,
     "grade_id": "cell-f1f412f6d4244c13",
     "locked": false,
     "points": 4,
     "schema_version": 3,
     "solution": true
    }
   },
   "outputs": [],
   "source": [
    "# YOUR CODE HERE\n",
    "raise NotImplementedError()"
   ]
  },
  {
   "cell_type": "markdown",
   "metadata": {},
   "source": [
    "## Member Participation\n",
    "\n",
    "See Lab00 for instructions on turning in labs.  We will follow this procedure the entire semester.\n",
    "\n",
    "In the following cell enter the *Case ID* for each student in the group who partcipated in this lab.  Again, see Lab00 for more details.  It is expected that you have read and understood those details."
   ]
  },
  {
   "cell_type": "markdown",
   "metadata": {},
   "source": []
  }
 ],
 "metadata": {
  "anaconda-cloud": {},
  "authors": [
   {
    "name": "Craig J Copi",
    "semester": "Spring 2019"
   }
  ],
  "kernelspec": {
   "display_name": "Python 3",
   "language": "python",
   "name": "python3"
  },
  "language_info": {
   "codemirror_mode": {
    "name": "ipython",
    "version": 3
   },
   "file_extension": ".py",
   "mimetype": "text/x-python",
   "name": "python",
   "nbconvert_exporter": "python",
   "pygments_lexer": "ipython3",
   "version": "3.8.8"
  }
 },
 "nbformat": 4,
 "nbformat_minor": 4
}