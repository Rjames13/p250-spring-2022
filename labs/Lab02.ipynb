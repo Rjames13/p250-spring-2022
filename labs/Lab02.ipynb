{
 "cells": [
  {
   "cell_type": "markdown",
   "metadata": {},
   "source": [
    "# Lab 02 : Angular speed of the Earth\n",
    "\n",
    "## Objectives\n",
    "\n",
    "In this lab we will solve a real problem which means we will encounter a number of side issues to distract us from our main task.  We have already seen some of the issues in the prelab.  Also, typically when doing calculations we want to avoid writing loops if we can help it since loops are cumbersome to write and slow to run.  Array slicing is a powerful feature of `numpy` arrays that makes it possible to avoid writing loops in many cases.  We will discuss array slicing in more detail in the future, for now we can use a simple form of it, as discussed below."
   ]
  },
  {
   "cell_type": "markdown",
   "metadata": {},
   "source": [
    "## Basic Problem\n",
    "\n",
    "We wish to find the angular velocity of the Earth as a function of time as it orbits the Sun.  This does not sound too hard but is more involved than we may first think. To make things a little simpler we will only find the angular speed of the Earth, $\\mathrm{d}\\theta/\\mathrm{d}t \\equiv \\dot{\\theta}(t)$, not its direction.  From Kepler’s second law we know that the angular speed in an elliptical orbit is not constant: the radius of the orbit sweeps out equal area in equal time.  When we study central forces in classical mechanics we learn that this can be understood in terms of conservation of angular momentum and further that we can easily write down equations of motion and solve them in terms of integrals, giving expressions for how both the radial and angular position of an object behaves in such an orbit.  We are interested in the angular position which for an elliptical orbit is given by\n",
    "\\begin{align}\n",
    "  t(\\theta) &= \\frac{\\tau}{2\\pi}(1-e^2)^{3/2} \\int_0^\\theta \\frac{\\mathrm{d}\\theta'}{(1+e\\cos\\theta')^2} \\\\\n",
    "            &= \\frac{\\tau}{2\\pi}\\left[ 2\\tan^{-1}\\left(\\sqrt{\\frac{1-e}{1+e}}\\tan(\\theta/2)\\right)\n",
    "                        - \\frac{e\\sqrt{1-e^2}\\sin\\theta}{1+e\\cos\\theta}\n",
    "                    \\right]\n",
    "\\end{align}\n",
    "Here $\\tau$ is the period of the orbit, $0 \\leq e < 1$ is the eccentricity of the orbit, and I have chosen $t=0$ at periapsis (the distance of closest approach).  The difficulty we encounter is not in doing the integral, that we **can** do, it is in inverting this function.  We have written an equation for $t(\\theta)$ but really want $\\theta(t)$.  One approach to inverting this would be to do what we did in the previous lab: use a root finder.  That is time consuming and not amenable to taking the derivative we will need.  In this lab we will instead use a spline.\n",
    "\n",
    "The equation given above comes from a direct solution of the equations of motion.  Historically this result has been manipulated in many ways.  In fact, even before Newton’s laws were known this problem was studied observationally.  An alternative approach to the problem is through **Kepler’s equation**:\n",
    "$$\\omega t = \\psi - e \\sin \\psi.$$\n",
    "Here $\\omega t$ is called the *mean anomaly* and $\\psi$ is called the *eccentric anomaly*. (Astronomers seem to like anomalies.)  In this formula the *average speed* is given by $\\omega = 2\\pi/\\tau$ so that $0 \\leq \\omega t < 2\\pi$ for $0 \\leq \\psi \\leq 2\\pi$.  The angle $\\psi$ can be related to the angular position of the Earth, $\\theta$, in many ways; we will use\n",
    "$$\\cos\\theta = \\frac{\\cos\\psi-e}{1-e\\cos\\psi}.$$\n",
    "Note that in the pre-computer age over one hundred methods were developed to invert this equation.  It drove the development of many numerical techniques."
   ]
  },
  {
   "cell_type": "markdown",
   "metadata": {},
   "source": [
    "## Basic Procedure\n",
    "\n",
    "Conceptually the procedure we want to follow is straightforward:\n",
    "1. Calculate $t(\\theta)$ for a grid of values using the two methods discussed above: (1) the first equation for $t(\\theta)$ and (2) Kepler's equation.\n",
    "2. Construct a spline that inverts these to give $\\theta(t)$.\n",
    "3. Calculate the angular velocity, $\\dot\\theta(t)$, by calculating the first derivative of our spline.  Note that we can do this at any time, t, so we will do this on a finely spaced time grid.\n",
    "4. …\n",
    "4. Profit?\n",
    "\n",
    "Naturally it will not be quite so easy.\n",
    "\n",
    "We will only consider the motion of the Earth, but the approach works for any object in an elliptical orbit so all functions we write should be defined in terms of $e$ and $\\tau$ instead of explicitly plugging in numbers.  Ultimately we do need numbers, for the Earth: $e=0.01671123$ and $\\tau=365.25636$ days.\n",
    "\n",
    "As a final note, we are solving a real problem but in a simple way. If we were going to do this for a real research problem we would need to be more careful than we are here.  We would want to perform more checks, consider more methods, ….  In particular, we are not going to do a good job of exploring the accuracy of our methods."
   ]
  },
  {
   "cell_type": "markdown",
   "metadata": {},
   "source": [
    "The end results of this work will be two plots.  You should **always check your intermediate results** as you are developing your solution, even when these checks are not asked for or even suggested.  This includes looking at arrays generated, producing quick plots, *etc*.  You should remove these checks from your final notebook document.  We only want the necessary steps and results in our final notebook."
   ]
  },
  {
   "cell_type": "markdown",
   "metadata": {},
   "source": [
    "## Initialization\n",
    "\n",
    "As always initialize, your environment now by loading all modules required and setting up the plotting environment."
   ]
  },
  {
   "cell_type": "code",
   "execution_count": 1,
   "metadata": {
    "deletable": false,
    "nbgrader": {
     "cell_type": "code",
     "checksum": "ce2337eecf8fae6645cbeab76fc90efa",
     "grade": true,
     "grade_id": "cell-8829c19177db41c1",
     "locked": false,
     "points": 0,
     "schema_version": 3,
     "solution": true
    }
   },
   "outputs": [],
   "source": [
    "import numpy as np\n",
    "import matplotlib.pyplot as plt\n",
    "import scipy.interpolate as interp"
   ]
  },
  {
   "cell_type": "markdown",
   "metadata": {},
   "source": [
    "Although we will define all of our functions to accept arbitrary values of the eccentricity and period, it is still useful to define variables to hold the values for the Earth.  It is good to define these constants early and then just use them when needed.  Define variables for the eccentricity and period of the Earth using the values given above.  Also calculate the average angular speed, $\\omega$, for the Earth, we will also use this below. [Hint: What is the relationship between the period and the angular speed (or angular frequency)?]\n",
    "\n",
    "###### Constants Definitions:"
   ]
  },
  {
   "cell_type": "code",
   "execution_count": 2,
   "metadata": {
    "deletable": false,
    "nbgrader": {
     "cell_type": "code",
     "checksum": "e44d25480c0ae3885539e68d78d679e6",
     "grade": true,
     "grade_id": "cell-ffb3e3765c1a1097",
     "locked": false,
     "points": 1,
     "schema_version": 3,
     "solution": true
    }
   },
   "outputs": [],
   "source": [
    "e_Earth= 0.01671123\n",
    "period_Earth= 365.25636 \n",
    "w_Earth= (2*np.pi)/period_Earth"
   ]
  },
  {
   "cell_type": "markdown",
   "metadata": {},
   "source": [
    "## $t(\\theta)$ Analysis\n",
    "\n",
    "We will begin by analyzing the first equation given above for $t(\\theta)$.  Define a function that evaluates this equation for arbitrary angles.  Recall from the prelab that care must be taken when calculating the arctangent.  The correct quadrant for the calculation can be determined as discussed in the prelab, by using the `arctan2` function, or in many other ways.  Also recall that it is usual for numerical routines to work in radians for angles, not degrees.  Thus to avoid confusion, it is best write your function to accept radians, even if we prefer to work in degrees (as we will below).\n",
    "\n",
    "###### Function Definition:"
   ]
  },
  {
   "cell_type": "code",
   "execution_count": 3,
   "metadata": {
    "deletable": false,
    "nbgrader": {
     "cell_type": "code",
     "checksum": "46dff6c44fb966d4a57ea6c6d5cc022f",
     "grade": false,
     "grade_id": "cell-8e0c25aadd574255",
     "locked": false,
     "schema_version": 3,
     "solution": true
    }
   },
   "outputs": [],
   "source": [
    "def t_theta_func(theta, e, period):\n",
    "    \"\"\" Finds a time given an arbitrary angular position of an object in its orbit, as well as the eceentricity of the\n",
    "    orbit and the period of the orbit\n",
    "    Input: theta= angular position\n",
    "        e= eccentricity of the orbit\n",
    "        period= period of the orbit\n",
    "    Output= time\"\"\"\n",
    "    return (period/(2*np.pi))*((2*np.arctan2(np.sqrt(1-e)*np.sin(theta/2),np.sqrt(1+e)*np.cos(theta/2)))-(e*np.sqrt(1-e**2)*np.sin(theta)/(1+e*np.cos(theta))))"
   ]
  },
  {
   "cell_type": "markdown",
   "metadata": {},
   "source": [
    "As noted in PreLab01, it is important to always test your code as you develop it.  Occasionally, such tests will be provided for you, like the cell below.  You should run this cell after you have defined your function.  If it fails, that means there is an error in your function. You should go back and fix your function.\n",
    "\n",
    "In the future you will be expected to provide your own test cases. Typically these will be simple cases than you can determine analytically from some physical argument.  Here you are given an arbitrary sampling of values that will more fully test your function."
   ]
  },
  {
   "cell_type": "code",
   "execution_count": 4,
   "metadata": {
    "deletable": false,
    "editable": false,
    "nbgrader": {
     "cell_type": "code",
     "checksum": "5997fb4b6693eeaedf77c015f7be89c7",
     "grade": true,
     "grade_id": "cell-6970533362d3dbbb",
     "locked": true,
     "points": 5,
     "schema_version": 3,
     "solution": false
    }
   },
   "outputs": [],
   "source": [
    "assert(np.allclose(np.array([0.        ,  87.34408448, 193.11578584, 316.00273203]),\n",
    "    t_theta_func(np.deg2rad([0, 88, 190, 310]), 0.01671123, 365.25636)))"
   ]
  },
  {
   "cell_type": "markdown",
   "metadata": {},
   "source": [
    "We will now use a spline to estimate $\\theta(t)$ by numerically inverting this function.  To do so, first construct an array of angles, $\\theta$, from 0 to 360 degrees in steps of 1 degree.  Use this and the function defined above to construct a spline representing $\\theta(t)$.  Recall from the prelab that trigonometric functions do **not** take their arguments in degrees, but as humans it is more natural for us to think in degrees.\n",
    "\n",
    "We wish to evaluate the angular speed, $\\dot\\theta(t)$, on a finely spaced grid.  Also construct an array of 5000 points in time from zero to the period of the orbit.  [You will also use this array below.]  Finally, use the spline to calculate an array of the angular speeds.  Give this array a \"sensible\" name as we will use it below for our main plot.\n",
    "\n",
    "###### Code:"
   ]
  },
  {
   "cell_type": "code",
   "execution_count": 5,
   "metadata": {
    "deletable": false,
    "nbgrader": {
     "cell_type": "code",
     "checksum": "c26b4c6cc33811168d60d1ad9a2b9150",
     "grade": true,
     "grade_id": "cell-e30d4d8c018530a0",
     "locked": false,
     "points": 4,
     "schema_version": 3,
     "solution": true
    }
   },
   "outputs": [],
   "source": [
    "theta= np.radians(np.arange(0, 361, 1)) \n",
    "\n",
    "## spline for theta (t)\n",
    "orbitpath1= interp.InterpolatedUnivariateSpline(t_theta_func(theta, e_Earth, period_Earth), theta)\n",
    "\n",
    "t= np.linspace(0, period_Earth, 5000)\n",
    "\n",
    "## spline for angular velocity\n",
    "orbitspeed1= orbitpath1(t, nu=1)\n"
   ]
  },
  {
   "cell_type": "markdown",
   "metadata": {},
   "source": [
    "## Kepler's Equation\n",
    "\n",
    "We will now follow a similar procedure to calculate the angular speed using Kepler's equation instead.  Once again we encounter an issue with evaluating inverse trigonometric functions, here related to the arccosine.\n",
    "\n",
    "In using Kepler's equation we need to calculate $t(\\psi)$ and $\\theta(\\psi)$.  Even though $\\psi$ takes values from $0$ to $2\\pi$, for reasons discussed below, we will only use half this interval.  Construct an array for $\\psi$ from 0 to 180 degrees in steps of 1 degree.  Define a function for calculating $t(\\psi)$ and use it to construct an array evaluated over the $\\psi$ array we just created.  There is no subtlety in doing this, we can directly apply the equations as written above.\n",
    "\n",
    "###### Code:"
   ]
  },
  {
   "cell_type": "code",
   "execution_count": 6,
   "metadata": {
    "deletable": false,
    "nbgrader": {
     "cell_type": "code",
     "checksum": "f15404614ef685abb764ae20c8b12cb9",
     "grade": false,
     "grade_id": "cell-5ea036427ef29b2c",
     "locked": false,
     "schema_version": 3,
     "solution": true
    }
   },
   "outputs": [],
   "source": [
    "psi= np.radians(np.arange(0,181,1))\n",
    "\n",
    "def kepler_t(psi, e, period):\n",
    "    \"\"\"Finds a time of an object in an orbit given an arbitrary angle psi from 0 to 2pi radians\n",
    "    Input: psi= angle from 0 to 2pi radians\n",
    "        e= eccentricity of the orbit\n",
    "        period= period of the orbit\n",
    "    Output: time\"\"\"\n",
    "    return (period/(2*np.pi)*(psi-e*np.sin(psi)))\n",
    "\n",
    "kepler_t_Earth= kepler_t(psi, e_Earth, period_Earth) ## finds t for psi 0 to 180 degrees"
   ]
  },
  {
   "cell_type": "code",
   "execution_count": 7,
   "metadata": {
    "deletable": false,
    "editable": false,
    "nbgrader": {
     "cell_type": "code",
     "checksum": "0355bc6aae131fd67de0d0c69c07714c",
     "grade": true,
     "grade_id": "cell-15de54a379e9f607",
     "locked": true,
     "points": 4,
     "schema_version": 3,
     "solution": false
    }
   },
   "outputs": [],
   "source": [
    "assert(np.allclose(np.array([1.99529842,  28.95245432, 175.40758142]),\n",
    "                   kepler_t(np.deg2rad([2, 29, 173]), 0.01671123, 365.25636)))"
   ]
  },
  {
   "cell_type": "markdown",
   "metadata": {},
   "source": [
    "Next we want to calculate $\\theta(\\psi)$.  Unfortunately this involves the arccosine which suffers from the same problem as the arctangent: it is not uniquely defined.  In this case we do not have the equivalent of `arctan2` defined for the arccosine. For $0\\le\\psi\\le\\pi$ there is no problem, we can invert using the `arccos` function from `numpy`.  When you look up its documentation you see it returns a value in the range 0 to $\\pi$, which is precisely what we want.  For $\\psi>\\pi$ we do have a problem as the `arccos` function will still only return a value in the range 0 to $\\pi$.  We will deal with the complete interval below.  For now, we just focus on the part of the orbit we can easily calculate.\n",
    "\n",
    "Define a function for computing $\\theta(\\psi)$ based on the expression given at the beginning of the lab and using the `arccos` function from `numpy`.  This function will only be valid for $\\psi\\in[0,\\pi]$.  This is why we created the $\\psi$ array as specified above.  Finally use this function and the $\\psi$ array to compute an array for $\\theta(\\psi)$.\n",
    "\n",
    "###### Code:"
   ]
  },
  {
   "cell_type": "code",
   "execution_count": 8,
   "metadata": {
    "deletable": false,
    "nbgrader": {
     "cell_type": "code",
     "checksum": "65aaf17b34adde90b4a1000fdcda9791",
     "grade": false,
     "grade_id": "cell-7d3051065404d201",
     "locked": false,
     "schema_version": 3,
     "solution": true
    }
   },
   "outputs": [],
   "source": [
    "def theta_psi(psi, e):\n",
    "    \"\"\"Finds the angular position theta of an object in orbit given an arbitrary angle psi from 0 to pi radians\n",
    "    Input: psi= arbitrary angle from 0 to pi radians\n",
    "        e= eccentricity of the orbit\n",
    "    Output: theta= angular position of an object\"\"\"\n",
    "    return np.arccos((np.cos(psi)-e)/(1-e*np.cos(psi)))\n",
    "\n",
    "kepler_theta_Earth= theta_psi(psi, e_Earth) ## calculates angular positions theta for psi 0 to 180 degrees"
   ]
  },
  {
   "cell_type": "code",
   "execution_count": 9,
   "metadata": {
    "deletable": false,
    "editable": false,
    "nbgrader": {
     "cell_type": "code",
     "checksum": "b964ef464c64116d4166c35094691cb9",
     "grade": true,
     "grade_id": "cell-0b43e160c49c3eb2",
     "locked": true,
     "points": 4,
     "schema_version": 3,
     "solution": false
    }
   },
   "outputs": [],
   "source": [
    "assert(np.allclose(np.array([0.01774742, 1.50019041, 1.84870346]),\n",
    "                   theta_psi(np.deg2rad([1, 85, 105]), 0.01671123)))"
   ]
  },
  {
   "cell_type": "markdown",
   "metadata": {},
   "source": [
    "We now have arrays for $t(\\psi)$ and $\\theta(\\psi)$.  Much like the $t(\\theta)$ analysis we can use these to construct a spline that defines the function $\\theta(t)$. You should do this below.\n",
    "\n",
    "Unfortunately this spline will only be valid for $t\\in [0,\\tau/2]$, that is, over half an orbit.  We want to use it to find $\\dot\\theta(t)$ over a complete orbit.  Here is where we can use symmetry!\n",
    "\n",
    "**Physically** we know how the first half of the orbit is related to the second half of the orbit.  Thus, if we know how the Earth is moving at an angular position $\\theta \\in [0,\\pi]$, or equivalently at a time $t \\in [0,/\\tau/2]$, we also know how it is moving at an angular position $2\\pi-\\theta$ or time $\\tau-t$.  Think about this, it will tell us how to proceed.\n",
    "\n",
    "**Mathematically** there are a number of transformations we know from trigonometry that we can use to verify this physical picture.   One is to recall that $\\cos(2\\pi-\\theta)=\\cos\\theta$.  Thus, from the relationship given above we have\n",
    "$$\\cos(2\\pi-\\theta) = \\frac{\\cos(2\\pi-\\psi)-e}{1-e\\cos(2\\pi-\\psi)},$$\n",
    "so that\n",
    "$$\\theta=2\\pi - \\cos^{-1}\\left[ \\frac{\\cos(2\\pi-\\psi)-e}{1-e\\cos(2\\pi-\\psi)} \\right]$$\n",
    "which is valid for the rest of the range, $\\psi \\in [\\pi,2\\pi]$.  Equivalently, this shows us how to determine $\\theta(t)$ for $\\tau \\in [\\tau/2,\\tau]$.\n",
    "\n",
    "Putting this all together we can now proceed to describe the full orbit.\n",
    "\n",
    "We want to construct an array for the angular speed of the Earth on the same finely spaced grid we used in the $t(\\theta)$ analysis.  To avoid having to write loops, deal with growing the length of arrays, *etc*., we will use some features provided by `numpy`.\n",
    "1. Create an array of the correct length to hold the angular speed of the Earth over a complete orbit.  This can be done easily by using `np.zeros_like`.  Suppose we called our fine time grid `tgrid`, then `np.zeros_like(tgrid)` creates a new array of the same length and type as `tgrid` but filled with zeros.\n",
    "1. Use array slicing to fill in pieces of the array.  As noted previously, we will study array slicing in more detail in the future, here we will use one simple case.  Suppose `tgrid` has length `N` (where `N` is even so we do not need to treat `N/2` as a special case).  Then for some array `A` of the same length, `A[:N//2]` will represent the first half of the array `A` and `A[N//2:]` will represent the last half.  We can do a lot of things with these slices, in particular we can assign to them!  For example, `A[N//2:]=1` would assign `1` to the first half of the array and leave the last half unchanged.\n",
    "1. You will notice that I wrote `N//2`, not `N/2`, why?  In Python 3 array indices must be integers, but recall that even division of integers returns floating point numbers (sigh).  To fix this, there is a new division operator, `//`, that forces integer division, so `N//2` will do what we want. (This is mostly true, `//` has some other quirks we will not get into here.)\n",
    "\n",
    "With the above we can create an array to hold the desired values of $\\dot\\theta(t)$ for the whole orbit. Fill in the first half from the derivative of the spline and fill in the second half of the array also from the derivative of the spline but now using the symmetry we discussed above.\n",
    "\n",
    "In the end you will have an array for the angular speed of the Earth over a complete orbit based on Kepler's equation.\n",
    "\n",
    "###### Code:"
   ]
  },
  {
   "cell_type": "code",
   "execution_count": 10,
   "metadata": {
    "deletable": false,
    "nbgrader": {
     "cell_type": "code",
     "checksum": "aa886e6ff520a7c18bdf7bfd7c838776",
     "grade": true,
     "grade_id": "cell-b87360e762640552",
     "locked": false,
     "points": 5,
     "schema_version": 3,
     "solution": true
    }
   },
   "outputs": [],
   "source": [
    "## determine theta(t) spline for 0 to 180 degrees for the orbit of the Earth\n",
    "orbitpath2= interp.InterpolatedUnivariateSpline(kepler_t_Earth, kepler_theta_Earth)\n",
    "\n",
    "t2= np.linspace(0, period_Earth/2, 2500)\n",
    "## determine angular velocity(t) for 0 to 180 degrees for the orbit of the Earth\n",
    "orbitspeed2= orbitpath2(t2 , nu=1)\n",
    "\n",
    "def kepler_theta2(psi, e):\n",
    "    \"\"\"Determines the angular position theta of an object in orbit with an arbitrary angle psi from pi to 2pi radians\n",
    "    Input: psi= angle from pi to 2pi radians\n",
    "        e= eccentricity of the orbit\n",
    "    Output: theta= angular position\"\"\"\n",
    "    return 2*np.pi- np.arccos((np.cos(2*np.pi-psi)-e)/(1-e*np.cos(2*np.pi-psi)))\n",
    "\n",
    "\n",
    "psi2= np.radians(np.arange(180, 361, 1))\n",
    "\n",
    "## find angular position theta of the Earth for psi from 180 to 360 degrees\n",
    "kepler_theta_Earth2= kepler_theta2(psi2, e_Earth)\n",
    "\n",
    "## find theta(t) for 180 to 360 degrees for the orbit of the Earth\n",
    "orbitpath3= interp.InterpolatedUnivariateSpline(kepler_t(psi2, e_Earth, period_Earth), kepler_theta_Earth2)\n",
    "\n",
    "t3= np.linspace(period_Earth/2, period_Earth, 2500)\n",
    "## determine angular velocity(t) for 180 to 360 degrees for the orbit of the Earth\n",
    "orbitspeed3= orbitpath3(t3, nu=1)\n",
    "\n",
    "## set up empty array to fill with angular velocity values for entire orbit (psi= 0-360 degrees)\n",
    "orbitspeedtotal= np.zeros_like(t)\n",
    "orbitspeedtotal[:5000//2]= orbitspeed2\n",
    "orbitspeedtotal[5000//2:]= orbitspeed3"
   ]
  },
  {
   "cell_type": "markdown",
   "metadata": {},
   "source": [
    "## Results\n",
    "\n",
    "To show off our results we will produce two figures.\n",
    "\n",
    "### Main Figure\n",
    "\n",
    "Plot the two versions of $\\dot\\theta(t)$ calculated above on the fine time grid.  Your plot should follow all the rules from the previous labs and prelabs.  Though the computer likes to work in radians, we are more comfortable thinking in degrees so you should convert to these units for your plot.  Include a horizontal line for the average angular speed of the Earth calculated at the beginning of the lab.  Since you are plotting quantities with units this fact should (**must**) be reflected in the axis labels; typically units are given in parentheses.  Finally, as also noted in the prelab, `matplotlib` tries to show all the data you provide it.  In the process of doing so it tries to guess reasonable limits for the axes; it does not always get this right.  You should adjust these (and anything else) to improve the readability of the plot.\n",
    "\n",
    "###### Code for creating plot:"
   ]
  },
  {
   "cell_type": "code",
   "execution_count": 23,
   "metadata": {
    "deletable": false,
    "nbgrader": {
     "cell_type": "code",
     "checksum": "b800aaf6f2406da9d1ee4369761f99cb",
     "grade": true,
     "grade_id": "cell-f18d792f97e866ea",
     "locked": false,
     "points": 10,
     "schema_version": 3,
     "solution": true
    }
   },
   "outputs": [
    {
     "data": {
      "image/png": "[encoded data removed]",
      "text/plain": [
       "<Figure size 432x288 with 1 Axes>"
      ]
     },
     "metadata": {
      "needs_background": "light"
     },
     "output_type": "display_data"
    }
   ],
   "source": [
    "plt.plot(t, np.degrees(orbitspeedtotal), color='b', label=\"From Kepler's Equations\")\n",
    "plt.plot(t, np.degrees(orbitspeed1), 'r--', label=\"From Equations of Motion\")\n",
    "plt.axhline(y= np.degrees(w_Earth), color='k', label=\"Average Angular Velocity\")\n",
    "\n",
    "plt.legend()\n",
    "plt.xlabel(\"Time (days)\")\n",
    "plt.ylabel(\"Angular Velocity (deg/day)\")\n",
    "plt.title(\"Comparison of Interpolation Methods for Angular Velocity of the Earth\")\n",
    "plt.xlim(0, 365)\n",
    "plt.minorticks_on()"
   ]
  },
  {
   "cell_type": "markdown",
   "metadata": {},
   "source": [
    "### Comparison of the Methods\n",
    "\n",
    "One reason for using two methods is that they **must** both produce the same result.  Whenever we perform a numerical computation we should always check if our results make sense or not.  Remember that the computer will always return results, even if they make no sense.  Using two different methods at least gives us a consistency check.  If the two methods do not produce very similar results (meaning that the two curves lie on top of each other) then something is wrong, go back and find your error!\n",
    "\n",
    "Though the results look very similar, there are differences.  To study the magnitude of the errors in the methods we have used compute the *absolute difference* between them and produce a plot of these differences.  Typically when we plot errors it makes sense to put them on a semilogarithmic plot.  This can be done most easily using `semilogy` which is exactly like `plot` except that it makes the $y$-axis logarithmic.  Produce a plot for the absolute differences.  Again use all the good practices. (Note: Since there is only one line in the figure, is it necessary to label it and create a legend?)"
   ]
  },
  {
   "cell_type": "code",
   "execution_count": 26,
   "metadata": {
    "deletable": false,
    "nbgrader": {
     "cell_type": "code",
     "checksum": "69cc669b1aa009a5d07e5bec729e583f",
     "grade": true,
     "grade_id": "cell-a838a1bf6d103ece",
     "locked": false,
     "points": 7,
     "schema_version": 3,
     "solution": true
    }
   },
   "outputs": [
    {
     "data": {
      "image/png": "[encoded data removed]",
      "text/plain": [
       "<Figure size 432x288 with 1 Axes>"
      ]
     },
     "metadata": {
      "needs_background": "light"
     },
     "output_type": "display_data"
    }
   ],
   "source": [
    "error= np.abs(orbitspeedtotal-orbitspeed1)\n",
    "plt.semilogy(error)\n",
    "\n",
    "plt.xlabel(\"Index\")\n",
    "plt.ylabel(\"Absolute Error\")\n",
    "plt.title(\"Absolute Difference between Interpolation Methods\")\n",
    "plt.minorticks_on()"
   ]
  },
  {
   "cell_type": "markdown",
   "metadata": {},
   "source": [
    "## Member Participation\n",
    "\n",
    "See Lab00 for instructions on turning in labs.  We will follow this procedure the entire semester.\n",
    "\n",
    "In the following cell enter the *Case ID* for each student in the group who partcipated in this lab.  Again, see Lab00 for more details.  It is expected that you have read and understood those details."
   ]
  },
  {
   "cell_type": "markdown",
   "metadata": {},
   "source": [
    "gmm102, zxw721, rnj13"
   ]
  }
 ],
 "metadata": {
  "anaconda-cloud": {},
  "kernelspec": {
   "display_name": "Python 3",
   "language": "python",
   "name": "python3"
  },
  "language_info": {
   "codemirror_mode": {
    "name": "ipython",
    "version": 3
   },
   "file_extension": ".py",
   "mimetype": "text/x-python",
   "name": "python",
   "nbconvert_exporter": "python",
   "pygments_lexer": "ipython3",
   "version": "3.8.8"
  }
 },
 "nbformat": 4,
 "nbformat_minor": 4
}
