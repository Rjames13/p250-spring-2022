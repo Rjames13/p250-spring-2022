{
 "cells": [
  {
   "cell_type": "markdown",
   "metadata": {},
   "source": [
    "# Lab 00 : An Introduction"
   ]
  },
  {
   "cell_type": "markdown",
   "metadata": {},
   "source": [
    "### Objectives\n",
    "\n",
    "This lab is \"extra credit\". Its main purpose is to get us working with the tools, working as a group, and ironing out all the details in the process. The same procedure will be used for all the labs and for the computational portion of exams! All group members must be able to use the system on their own!  In more detail, the main objectives are\n",
    "\n",
    "- Ensure that we have the working, correct version of Python and the Jupyter system installed.\n",
    "- Develop a work flow for the labs, including working with your group, submitting the lab, etc.\n",
    "- Learn to use the documentation.\n",
    "- Learn some basics of plotting.\n",
    "- Learn some basic functions."
   ]
  },
  {
   "cell_type": "markdown",
   "metadata": {},
   "source": [
    "## Structure Overview\n",
    "\n",
    "The labs and prelabs will be structured in similar ways.  There are text cells and code cells.\n",
    "\n",
    "The text cells (such as this one) will contain information for you to read or a place for you provide a response.  Any text cell that contains\n",
    "```\n",
    "YOUR ANSWER HERE\n",
    "```\n",
    "is a cell that you must edit and provide your response to a question.  You should delete the existing text and replace it with your response.\n",
    "\n",
    "The code cells may already contain code (such as the first code cell below).  You should run this cell as provided.  In addition it may also contain the code\n",
    "```\n",
    "# YOUR CODE HERE\n",
    "raise NotImplementedError()\n",
    "```\n",
    "This is a placeholder that will raise an error.  You should delete these two lines and replace them with code you have written.\n",
    "\n",
    "### Do not delete cells!\n",
    "\n",
    "The cells in the notebooks we use in the prelabs and labs have extra information hidden in them (metadata) which makes grading much easier for me. For this reason, **do not delete or copy existing cells**. You are free to add and delete your own extra cells if you want to test things out. You can also leave such cells in the notebook if you prefer, however, the cells provided in the prelabs and labs are designed to be sufficient for completing the given tasks."
   ]
  },
  {
   "cell_type": "markdown",
   "metadata": {},
   "source": [
    "## Versions\n",
    "\n",
    "As stated in class and on the course website, you **must** be using `Python` version 3.8 (or later) and `IPython` version 7.0 (or later).  If you are using the Anaconda distribution, as suggested on the course website, *and* you downloaded the correct version, you should be fine.\n",
    "\n",
    "Run the following cell to determine what versions of the software you are using.  If there are any errors or if you do not have the correct versions, this must be corrected before proceding."
   ]
  },
  {
   "cell_type": "code",
   "execution_count": 2,
   "metadata": {},
   "outputs": [
    {
     "name": "stdout",
     "output_type": "stream",
     "text": [
      "Python version: 3.8.3 (tags/v3.8.3:6f8c832, May 13 2020, 22:37:02) [MSC v.1924 64 bit (AMD64)]\n",
      "IPython version: 7.28.0\n",
      "NumPy version: 1.19.2\n",
      "SciPy version: 1.5.2\n",
      "Matplotlib version: 3.3.1\n"
     ]
    }
   ],
   "source": [
    "import sys\n",
    "import IPython\n",
    "import numpy\n",
    "import scipy\n",
    "import matplotlib\n",
    "\n",
    "print(\"Python version:\", sys.version)\n",
    "print(\"IPython version:\", IPython.__version__)\n",
    "print(\"NumPy version:\", numpy.__version__)\n",
    "print(\"SciPy version:\", scipy.__version__)\n",
    "print(\"Matplotlib version:\", matplotlib.__version__)"
   ]
  },
  {
   "cell_type": "markdown",
   "metadata": {},
   "source": [
    "## Down with pylab!\n",
    "\n",
    "As a warning, there is an old fashioned way of doing plotting using the so called `pylab` interface.  This is one of the original ways of creating plots and is heavily modelled after `Matlab`.  Not surprisingly, it is a very poor interface and should **never be used**.  It can be invoked in a couple of ways.  I will mention them here so that if you ever see them being used in something you read online, code given to you, *etc.*, immediately stop reading it and run away as fast as you can!\n",
    "\n",
    "The things to watch out for are\n",
    "- `%pylab`\n",
    "- `from matplotlib.pyplot import *`\n",
    "\n",
    "**Never, never, never** use either of these. Run away from any code you find using them!"
   ]
  },
  {
   "cell_type": "markdown",
   "metadata": {},
   "source": [
    "## Plotting: Pyplot interface\n",
    "\n",
    "The simplest interface for \"quick plots\" is the `pyplot` interface.  This is not what we will use for most of our plotting when we are creating quality figures, but it is quite useful when we want to quickly look at things.\n",
    "\n",
    "We will learn much more about this throughout the semester to the point that the following code will become second nature.  For now, this can be used as boilerplate.  Run the following cell to set up the numerical python and plotting environment for us."
   ]
  },
  {
   "cell_type": "code",
   "execution_count": 3,
   "metadata": {},
   "outputs": [],
   "source": [
    "import numpy as np\n",
    "import matplotlib.pyplot as plt\n",
    "# The next line is Optional.\n",
    "# I will include it at times since it used to be necessary.\n",
    "# The default behavior now is to include all figures in the notebook,\n",
    "# which is what we want.\n",
    "# %matplotlib inline \n",
    "\n",
    "# Finally, this creates a random number generator. We will not learn about random\n",
    "# numbers until the end of the semester. Until then, we will just use\n",
    "# them through code like we have here and as shown below.\n",
    "rng = np.random.default_rng()"
   ]
  },
  {
   "cell_type": "markdown",
   "metadata": {},
   "source": [
    "We are now ready to produce our first plot.  Here we will make a histogram of 10,000 Gaussian random values.  The code below does this for us.\n",
    "\n",
    "At this point you should not worry about the details of code that is provided.  We will learn about these as we go along.  On the other hand, it should make sense.  A Gaussian distribution is also called the normal distribution, hence ....\n",
    "\n",
    "Run the following cell."
   ]
  },
  {
   "cell_type": "code",
   "execution_count": 4,
   "metadata": {},
   "outputs": [
    {
     "data": {
      "text/plain": "(array([ 1.,  0.,  0.,  0.,  0.,  0.,  0.,  0.,  0.,  0.,  0.,  0.,  0.,\n         0.,  0.,  0.,  1.,  0.,  1.,  0.,  0.,  0.,  0.,  0.,  0.,  0.,\n         0.,  0.,  0.,  0.,  0.,  0.,  0.,  0.,  0.,  0.,  0.,  1.,  0.,\n         0.,  0.,  0.,  0.,  0.,  1.,  0.,  1.,  0.,  0.,  0.,  0.,  1.,\n         0.,  0.,  0.,  0.,  0.,  1.,  0.,  0.,  0.,  0.,  0.,  0.,  0.,\n         0.,  1.,  0.,  0.,  0.,  0.,  0.,  0.,  0.,  1.,  0.,  0.,  0.,\n         1.,  0.,  0.,  0.,  0.,  0.,  1.,  0.,  0.,  0.,  0.,  0.,  0.,\n         0.,  0.,  0.,  0.,  0.,  0.,  0.,  0.,  0.,  1.,  0.,  0.,  2.,\n         0.,  1.,  1.,  1.,  0.,  0.,  1.,  0.,  1.,  0.,  2.,  0.,  0.,\n         3.,  0.,  0.,  1.,  0.,  0.,  0.,  0.,  1.,  4.,  0.,  2.,  0.,\n         0.,  0.,  2.,  0.,  0.,  0.,  2.,  1.,  3.,  0.,  1.,  2.,  1.,\n         0.,  4.,  0.,  2.,  1.,  1.,  1.,  1.,  3.,  1.,  0.,  0.,  2.,\n         1.,  0.,  1.,  0.,  1.,  1.,  0.,  2.,  1.,  1.,  1.,  0.,  1.,\n         1.,  3.,  2.,  1.,  2.,  4.,  1.,  1.,  3.,  6.,  1.,  2.,  1.,\n         2.,  0.,  1.,  4.,  0.,  3.,  0.,  8.,  0.,  4.,  1.,  1.,  3.,\n         5.,  2.,  4.,  3.,  3.,  3.,  5.,  1.,  4.,  4.,  4.,  4.,  2.,\n         2.,  1.,  5.,  6.,  3.,  3.,  3.,  0.,  5.,  4.,  3.,  1.,  4.,\n         8.,  2.,  4.,  3.,  2.,  3.,  5.,  3.,  2.,  6.,  5.,  1.,  7.,\n         5.,  6.,  2.,  4.,  5.,  2.,  3.,  8.,  5.,  6.,  5.,  3.,  2.,\n         6.,  4., 12.,  9.,  3.,  5.,  2.,  9.,  4.,  6.,  2.,  5.,  6.,\n         6.,  3.,  2.,  3.,  2., 17.,  7.,  9.,  5., 10.,  9.,  8.,  6.,\n         4.,  7., 10.,  9.,  6., 12.,  9., 10., 10.,  5.,  8.,  4.,  6.,\n         4.,  7., 12.,  9., 15., 10., 12., 11., 10.,  8.,  6.,  8., 11.,\n         9.,  8., 14., 10., 11., 14.,  6.,  7., 10.,  6., 13., 18.,  7.,\n        11., 12., 11., 13., 20., 13.,  9., 14.,  9., 12., 16., 11., 14.,\n         9., 11., 14., 16., 15.,  7., 14., 21., 17., 18., 14., 13., 16.,\n        13., 18., 19., 22., 16.,  7., 16., 20., 16., 21., 19., 20., 13.,\n        18., 15., 21., 15., 22., 19., 21.,  9., 17., 16., 18., 15., 15.,\n        18., 17., 20., 18., 20., 12., 15., 16., 21., 24., 13., 28., 23.,\n        18., 20., 23., 19., 17., 24., 13., 21., 27., 20., 23., 23., 31.,\n        20., 28., 19., 27., 28., 38., 25., 21., 28., 27., 23., 22., 20.,\n        27., 33., 22., 27., 29., 27., 20., 27., 20., 19., 35., 19., 23.,\n        34., 22., 21., 30., 21., 22., 25., 19., 28., 33., 24., 25., 20.,\n        23., 21., 21., 25., 27., 28., 30., 20., 25., 26., 26., 27., 29.,\n        28., 28., 31., 26., 21., 21., 26., 19., 21., 32., 26., 43., 24.,\n        28., 29., 35., 25., 34., 24., 33., 32., 31., 30., 32., 36., 29.,\n        34., 27., 25., 27., 31., 29., 31., 20., 22., 31., 31., 28., 31.,\n        33., 20., 31., 28., 18., 34., 27., 32., 31., 35., 30., 23., 23.,\n        41., 24., 30., 25., 29., 35., 31., 36., 27., 41., 34., 24., 30.,\n        23., 31., 32., 26., 29., 32., 35., 43., 37., 36., 18., 25., 38.,\n        37., 32., 23., 23., 27., 30., 26., 35., 31., 24., 30., 26., 26.,\n        25., 24., 33., 30., 27., 24., 23., 28., 28., 28., 37., 31., 32.,\n        41., 30., 34., 26., 19., 19., 39., 24., 21., 35., 36., 24., 27.,\n        27., 25., 23., 30., 24., 29., 22., 25., 20., 13., 24., 24., 24.,\n        23., 19., 15., 27., 20., 24., 23., 35., 17., 22., 24., 24., 26.,\n        26., 24., 21., 19., 25., 21., 27., 16., 24., 26., 21., 20., 17.,\n        22., 30., 16., 28., 29., 20., 20., 24., 15., 25., 14., 24., 15.,\n        20., 22., 20., 26., 17., 19., 21., 24., 19., 17., 25., 20., 24.,\n        21., 23., 15., 18., 19., 27., 18., 19., 12., 11., 16., 19., 13.,\n        21., 18., 21.,  8., 21.,  9., 19., 14., 16., 15., 16., 11., 19.,\n        11., 17., 18., 15., 19.,  9., 17., 11., 16., 13., 15., 20., 12.,\n        14., 12., 13., 10., 14., 18.,  8., 13.,  7., 19., 12., 10., 10.,\n         8., 15.,  7., 10., 13.,  9., 16.,  8., 11.,  7.,  8., 10., 12.,\n        13.,  8.,  9.,  9., 11.,  5., 11., 15., 11.,  8.,  9.,  9., 11.,\n         6., 11.,  9.,  7.,  9., 13.,  9.,  9.,  5., 11.,  3.,  7.,  5.,\n         9.,  4.,  6.,  6., 11., 10.,  3., 13.,  7.,  9.,  7.,  9.,  4.,\n        10.,  7.,  5.,  9.,  2.,  7.,  6.,  4.,  9.,  6.,  4.,  3., 10.,\n         4.,  6.,  3.,  3.,  5., 10.,  5.,  5.,  3.,  6., 10.,  8.,  6.,\n         5.,  7.,  0.,  6.,  6.,  4.,  2.,  9.,  4.,  3.,  7.,  3.,  4.,\n         6.,  2.,  4.,  3.,  3.,  1.,  1.,  7.,  2.,  5.,  4.,  3.,  4.,\n         0.,  3.,  5.,  2.,  3.,  2.,  4.,  3.,  0.,  2.,  3.,  2.,  2.,\n         2.,  3.,  3.,  9.,  3.,  2.,  1.,  2.,  2.,  4.,  2.,  1.,  7.,\n         3.,  2.,  3.,  0.,  2.,  0.,  2.,  3.,  1.,  1.,  0.,  2.,  0.,\n         4.,  2.,  1.,  0.,  1.,  2.,  2.,  2.,  0.,  1.,  2.,  2.,  1.,\n         2.,  0.,  2.,  1.,  0.,  2.,  1.,  2.,  2.,  2.,  1.,  0.,  1.,\n         0.,  0.,  2.,  0.,  1.,  0.,  1.,  0.,  0.,  0.,  0.,  0.,  0.,\n         2.,  0.,  2.,  1.,  2.,  0.,  1.,  0.,  0.,  0.,  0.,  1.,  0.,\n         2.,  2.,  0.,  2.,  0.,  0.,  0.,  1.,  0.,  1.,  1.,  1.,  1.,\n         0.,  0.,  0.,  0.,  0.,  1.,  0.,  0.,  2.,  0.,  0.,  0.,  0.,\n         0.,  1.,  0.,  1.,  1.,  0.,  1.,  0.,  0.,  1.,  0.,  1.,  1.,\n         0.,  0.,  0.,  0.,  0.,  0.,  0.,  0.,  0.,  1.,  0.,  0.,  0.,\n         0.,  2.,  0.,  0.,  0.,  1.,  0.,  0.,  0.,  0.,  0.,  0.,  1.,\n         1.,  0.,  0.,  1.,  0.,  0.,  0.,  0.,  1.,  0.,  0.,  0.,  0.,\n         0.,  0.,  0.,  0.,  0.,  0.,  0.,  1.,  0.,  0.,  1.,  0.,  0.,\n         0.,  0.,  0.,  0.,  0.,  0.,  0.,  1.,  0.,  0.,  0.,  0.,  0.,\n         0.,  0.,  0.,  0.,  0.,  0.,  0.,  0.,  0.,  0.,  0.,  0.,  0.,\n         0.,  0.,  0.,  0.,  0.,  0.,  0.,  0.,  0.,  0.,  0.,  1.]),\n array([-3.71208357, -3.70456434, -3.69704511, ...,  3.79210965,\n         3.79962888,  3.80714811]),\n <BarContainer object of 1000 artists>)"
     },
     "execution_count": 4,
     "metadata": {},
     "output_type": "execute_result"
    },
    {
     "data": {
      "text/plain": "<Figure size 432x288 with 1 Axes>",
      "image/png": "[encoded data removed]"
     },
     "metadata": {
      "needs_background": "light"
     },
     "output_type": "display_data"
    }
   ],
   "source": [
    "plt.hist(rng.normal(size=10000), 1000)"
   ]
  },
  {
   "cell_type": "markdown",
   "metadata": {},
   "source": [
    "What *should* have happened is that a long list of numbers and some other information is printed and after this a figure with the histogram in it. The fact that the figure appears in the notebook means that our notebook is self contained, that is, anyone can open them up and see all the results without having to run any of the cells themselves.  Hence we will always want our figures to be inline like this.\n",
    "\n",
    "While this is good, printing all those numbers was not useful.  It is nice to have access to this information, but looking at it just clutters the notebook, we just wanted the figure!\n",
    "\n",
    "To **not** get the output from a function (the long list of numbers above) we can use another feature of the notebook: a semicolon at the end of a line suppresses output.  Note that this is a feature of the notebook, not a feature of the `Python` language.  Run the following cell.  This should produce a nice histogram of a Gaussian in the notebook itself without all the extra output we saw above."
   ]
  },
  {
   "cell_type": "code",
   "execution_count": 5,
   "metadata": {},
   "outputs": [
    {
     "data": {
      "text/plain": "<Figure size 432x288 with 1 Axes>",
      "image/png": "[encoded data removed]"
     },
     "metadata": {
      "needs_background": "light"
     },
     "output_type": "display_data"
    }
   ],
   "source": [
    "plt.hist(rng.normal(size=10000), 1000);"
   ]
  },
  {
   "cell_type": "markdown",
   "metadata": {},
   "source": [
    "## Some Available Functions\n",
    "\n",
    "For most things we want to do, there are existing functions that will make our life much easier.  For numerical work, `numpy` contains most of the basic utilities.  When we run\n",
    "```\n",
    "import numpy as np\n",
    "```\n",
    "we load the `numpy` module and give it the short name (alias) `np`.  We can access functions in the `numpy` namespace using `np`, which is shorter to type and a standard convention.  You will find most code that uses `numpy` written with this shortcut."
   ]
  },
  {
   "cell_type": "markdown",
   "metadata": {},
   "source": [
    "### `arange`\n",
    "\n",
    "The `arange` function, as the name suggests, is used to generate a range of numbers (as a `numpy` array, this fact will be more useful and meaningful in the future).  Here we will explore this function.  Recall that we need to access this function (and every other `numpy` function) by prepending `np`.  This means that we access this function as `np.arange`.\n",
    "\n",
    "Check the documentation for `arange`.  You should see that there are two optional arguments, `start` and `step` (this is what is meant when the arguments are listed in square brackets) and that `dtype` has a default value (which we will ignore for now)."
   ]
  },
  {
   "cell_type": "markdown",
   "metadata": {},
   "source": [
    "##### Question\n",
    "\n",
    "What are the default values for `start` and `step`?"
   ]
  },
  {
   "cell_type": "markdown",
   "metadata": {
    "deletable": false,
    "nbgrader": {
     "cell_type": "markdown",
     "checksum": "cfa75ff26b32271719f3267e51b19b83",
     "grade": true,
     "grade_id": "cell-30afaab95e8ea572",
     "locked": false,
     "points": 0.5,
     "schema_version": 3,
     "solution": true
    }
   },
   "source": [
    "The default start value is 0, and the default step value is 1. \n"
   ]
  },
  {
   "cell_type": "markdown",
   "metadata": {},
   "source": [
    "##### Testing:\n",
    "\n",
    "The best way to get used to a function is to play around with it a bit.  You should do that now.  For your own edification, see what happens when you run `arange(0)`, `arange(2,0)`, `arange(3,0,-1)`.  You should understand why these behave the way they do.  (Again remember that we must always prepend `np.` to any function from the `numpy` module.  You will not be warned of this again!)\n",
    "\n",
    "For these tests you can/should create code cell(s) below this one.  Cells can be created using the \"Insert\" pull down menu or keyboard shortcuts. (One cell has been created for your convenience.  Feel free to create more or just run a few tests in this cell.  Make sure you leave one test in this cell for grading!)"
   ]
  },
  {
   "cell_type": "code",
   "execution_count": 6,
   "metadata": {
    "deletable": false,
    "nbgrader": {
     "cell_type": "code",
     "checksum": "bc4d84f6110d224992c7ad59d7be4d7e",
     "grade": true,
     "grade_id": "cell-5f14ce6cad82d450",
     "locked": false,
     "points": 0.5,
     "schema_version": 3,
     "solution": true
    }
   },
   "outputs": [
    {
     "data": {
      "text/plain": "array([3, 2, 1])"
     },
     "execution_count": 6,
     "metadata": {},
     "output_type": "execute_result"
    }
   ],
   "source": [
    "np.arange(3,0,-1)"
   ]
  },
  {
   "cell_type": "markdown",
   "metadata": {},
   "source": [
    "###### Question:\n",
    "\n",
    "Show how to use `arange` to generate a list of numbers from -4 to 4 in steps of 0.1."
   ]
  },
  {
   "cell_type": "code",
   "execution_count": 7,
   "metadata": {
    "deletable": false,
    "nbgrader": {
     "cell_type": "code",
     "checksum": "a9955b92c229b63ed2d3a47190a5f41b",
     "grade": true,
     "grade_id": "cell-2930654011687055",
     "locked": false,
     "points": 0.5,
     "schema_version": 3,
     "solution": true
    }
   },
   "outputs": [
    {
     "data": {
      "text/plain": "array([-4.00000000e+00, -3.90000000e+00, -3.80000000e+00, -3.70000000e+00,\n       -3.60000000e+00, -3.50000000e+00, -3.40000000e+00, -3.30000000e+00,\n       -3.20000000e+00, -3.10000000e+00, -3.00000000e+00, -2.90000000e+00,\n       -2.80000000e+00, -2.70000000e+00, -2.60000000e+00, -2.50000000e+00,\n       -2.40000000e+00, -2.30000000e+00, -2.20000000e+00, -2.10000000e+00,\n       -2.00000000e+00, -1.90000000e+00, -1.80000000e+00, -1.70000000e+00,\n       -1.60000000e+00, -1.50000000e+00, -1.40000000e+00, -1.30000000e+00,\n       -1.20000000e+00, -1.10000000e+00, -1.00000000e+00, -9.00000000e-01,\n       -8.00000000e-01, -7.00000000e-01, -6.00000000e-01, -5.00000000e-01,\n       -4.00000000e-01, -3.00000000e-01, -2.00000000e-01, -1.00000000e-01,\n        3.55271368e-15,  1.00000000e-01,  2.00000000e-01,  3.00000000e-01,\n        4.00000000e-01,  5.00000000e-01,  6.00000000e-01,  7.00000000e-01,\n        8.00000000e-01,  9.00000000e-01,  1.00000000e+00,  1.10000000e+00,\n        1.20000000e+00,  1.30000000e+00,  1.40000000e+00,  1.50000000e+00,\n        1.60000000e+00,  1.70000000e+00,  1.80000000e+00,  1.90000000e+00,\n        2.00000000e+00,  2.10000000e+00,  2.20000000e+00,  2.30000000e+00,\n        2.40000000e+00,  2.50000000e+00,  2.60000000e+00,  2.70000000e+00,\n        2.80000000e+00,  2.90000000e+00,  3.00000000e+00,  3.10000000e+00,\n        3.20000000e+00,  3.30000000e+00,  3.40000000e+00,  3.50000000e+00,\n        3.60000000e+00,  3.70000000e+00,  3.80000000e+00,  3.90000000e+00])"
     },
     "execution_count": 7,
     "metadata": {},
     "output_type": "execute_result"
    }
   ],
   "source": [
    "np.arange(-4,4,0.1)"
   ]
  },
  {
   "cell_type": "markdown",
   "metadata": {},
   "source": [
    "Did the generated range contain the endpoint, 4?  Should it have?  Sometimes we want it to, sometimes we do not.  By default `arange` **does not contain the endpoint**.\n",
    "\n",
    "##### Question:\n",
    "\n",
    "Modify your answer to the previous part to include the endpoint, 4."
   ]
  },
  {
   "cell_type": "code",
   "execution_count": 8,
   "metadata": {
    "deletable": false,
    "nbgrader": {
     "cell_type": "code",
     "checksum": "219769c4c2c9204019edd21b53538e40",
     "grade": true,
     "grade_id": "cell-c99b0774c5cc2c0f",
     "locked": false,
     "points": 0.5,
     "schema_version": 3,
     "solution": true
    }
   },
   "outputs": [
    {
     "data": {
      "text/plain": "array([-4.00000000e+00, -3.90000000e+00, -3.80000000e+00, -3.70000000e+00,\n       -3.60000000e+00, -3.50000000e+00, -3.40000000e+00, -3.30000000e+00,\n       -3.20000000e+00, -3.10000000e+00, -3.00000000e+00, -2.90000000e+00,\n       -2.80000000e+00, -2.70000000e+00, -2.60000000e+00, -2.50000000e+00,\n       -2.40000000e+00, -2.30000000e+00, -2.20000000e+00, -2.10000000e+00,\n       -2.00000000e+00, -1.90000000e+00, -1.80000000e+00, -1.70000000e+00,\n       -1.60000000e+00, -1.50000000e+00, -1.40000000e+00, -1.30000000e+00,\n       -1.20000000e+00, -1.10000000e+00, -1.00000000e+00, -9.00000000e-01,\n       -8.00000000e-01, -7.00000000e-01, -6.00000000e-01, -5.00000000e-01,\n       -4.00000000e-01, -3.00000000e-01, -2.00000000e-01, -1.00000000e-01,\n        3.55271368e-15,  1.00000000e-01,  2.00000000e-01,  3.00000000e-01,\n        4.00000000e-01,  5.00000000e-01,  6.00000000e-01,  7.00000000e-01,\n        8.00000000e-01,  9.00000000e-01,  1.00000000e+00,  1.10000000e+00,\n        1.20000000e+00,  1.30000000e+00,  1.40000000e+00,  1.50000000e+00,\n        1.60000000e+00,  1.70000000e+00,  1.80000000e+00,  1.90000000e+00,\n        2.00000000e+00,  2.10000000e+00,  2.20000000e+00,  2.30000000e+00,\n        2.40000000e+00,  2.50000000e+00,  2.60000000e+00,  2.70000000e+00,\n        2.80000000e+00,  2.90000000e+00,  3.00000000e+00,  3.10000000e+00,\n        3.20000000e+00,  3.30000000e+00,  3.40000000e+00,  3.50000000e+00,\n        3.60000000e+00,  3.70000000e+00,  3.80000000e+00,  3.90000000e+00,\n        4.00000000e+00])"
     },
     "execution_count": 8,
     "metadata": {},
     "output_type": "execute_result"
    }
   ],
   "source": [
    "np.arange(-4,4.1,0.1)"
   ]
  },
  {
   "cell_type": "markdown",
   "metadata": {},
   "source": [
    "### `linspace`\n",
    "\n",
    "Also as noted in the `arange` documentation, an alternative function that serves a similar purpose is `linspace`.  Look up the documentation for `linspace`.  (In fact, whenever we encounter an unknown function we should look up its documentation!)\n",
    "\n",
    "##### Question:\n",
    "\n",
    "Briefly compare and contrast the `linspace` and `arange` functions. Write a couple of sentences comparing them.  (It is also worthwhile to redo the previous exploration of `arange` now with `linspace`.)"
   ]
  },
  {
   "cell_type": "markdown",
   "metadata": {
    "deletable": false,
    "nbgrader": {
     "cell_type": "markdown",
     "checksum": "4c30332786574828de21abe24af072b3",
     "grade": true,
     "grade_id": "cell-70a5c4c71e313b10",
     "locked": false,
     "points": 1,
     "schema_version": 3,
     "solution": true
    }
   },
   "source": [
    "The linspace function returns evenly spaced numbers over an interval, and the amount of numbers in the array is specified by the third argument. The arange function, on the other hand, allows the user to specify the step size between numbers in the interval using the third argument. "
   ]
  },
  {
   "cell_type": "markdown",
   "metadata": {},
   "source": [
    "## A \"Real\" Plot\n",
    "\n",
    "We will now take the first step toward creating a real plot.  The default plots created by `matplotlib` are \"ok\", not great, but with a little effort we can make them very nice.  We will work on this more throughout the semester.\n",
    "\n",
    "As an example, we will improve the plot we made above.  The `random.normal` function is suppose to pick random values from a Gaussian distribution with zero mean and unit variance.  We will test this by plotting the histogram along with the expected curve for a Gaussian distribution.  To do so we will proceed as follows.  All code should be put in the cell at the end of this section.\n",
    "\n",
    "### Steps:\n",
    "\n",
    "1. Generate 10,000 random numbers using `rng.normal` as was done above.  Store them in some variable (use whatever name you prefer).\n",
    "2. Find the minimum and maximum values from your array.  Looking through such a long array by hand would not be a good use of your time, so naturally there are functions for doing this.  Find some appropriate functions and use them.  Print the minimum and maximum values using the `print` function.  (Note: There are a number of ways to do this, you only need to find one.)\n",
    "3. When we generate a histogram using `hist` we can specify the binning in a few ways.  In our original plot we told `hist` to use 1000 bins; it figured out how big to make them from the data we provided (and, in fact, returned this information).  Alternatively, we can tell it what bins to use and we will do that here.  Create an array of bin values in steps of 0.1 from some value smaller than the minimum in your array to some value larger than the maximum in your array.  It makes sense to use \"simple\" numbers like 3.8 or 4.2 instead of an arbitrary real number.  Store this array in some new variable.\n",
    "4. Use the array from the previous part as the bins for your histogram.  As always, check the documentation of `hist` to learn how to do this.  (You will notice there is a `bins` keyword.) \n",
    "5. We would now like to plot the *expected* Gaussian on top of the histogram.  A general Gaussian is given by\n",
    "$$ f(x,\\mu,\\sigma) = \\frac1{\\sqrt{2\\pi\\sigma^2}} \\exp\\!\\left[ -\\frac{(x-\\mu)^2}{2\\sigma^2} \\!\\right], $$\n",
    "where $\\mu$ is the mean and $\\sigma$ is the variance (width) of the Gaussian.  (What are the *expected* values for $\\mu$ and $\\sigma$ for the distribution used by `rng.normal`?)  Unfortunately, if you plot this function on top of the histogram, they will not lie on top of each other correctly.  (You should try this!)  The problem is that this function is normalized, but our histogram was not.  This is easy to fix.  Once again look at the documentation for `hist` and notice that it has a `density` keyword.  (Note that there used to be a `normed` keyword. This was deprecated awhile ago and should not be used in new plots, though you may see it in older code.)  There are also many other options that may be useful.  For example, I prefer to make histograms as steps instead of being filled.  Feel free to explore some of these options.)\n",
    "6. We are now ready to plot the Gaussian.  To do this use the `plot` function.  When you look up its documentation you will find it has many, many options.  It is good to play with some of them.  The most useful ones for now are those that allow us to change the color, style, and width of the line. (Hint: We also need to *calculate* the Gaussian.  This uses functions like exponentiation and square roots and a constant, $\\pi$.  Naturally there are functions defined to do these operations and the value of $\\pi$ is also available to us.  In what module that we have already loaded would you expect them to be in?  What do you expect them to be called?  Often things will work out as we expect.)\n",
    "7. If you have performed the steps given above you now have a plot, but not a very useful plot.  It contains a histogram and a line, but what are these things?  What are we suppose to learn from the plot?  There are a few things we should **always** do whenever we make a plot.  We will have a more complete set of rules in the next lab but for now here are a few things to do to get us started:\n",
    "  1. **Required:** Label the axes.  What is on the $x$ and $y$ axes in the plot?  Without labels we have no idea.  The labels on these axes should be descriptive so that at a quick glance we know what is being plotted.  At this point you may be able to guess the names of the functions to use to label the axes. (Hint: Look up `xlabel`.  Also, remember that any function that comes from a module must be prefixed by that modules name.  For plotting we have chosen to use the alias `plt` for the `pyplot` interface.)\n",
    "  2. **Required:** Title the figure.  For this course you must **always** add a title to your figures.  When a figure is included in a paper you write it has a caption so a title is not necessary (nor should be included), but for this course you must always include one.  It should come as no surprise what function to use to create a title!\n",
    "  3. **Suggested:** Add minor tick marks.  By default only the major tick marks (with tick labels) are created.  A figure almost always looks better with smaller ticks in-between the larger ones.  These can be turned on using `minorticks_on()`. We will see other ways to globally achieve such changes in the near future. I have much more to say about producing quality plots!\n",
    "8. Finally, put all of this together into a single code cell below that prints the minimum and maximum values and also produces the required plot."
   ]
  },
  {
   "cell_type": "code",
   "execution_count": 9,
   "metadata": {
    "deletable": false,
    "nbgrader": {
     "cell_type": "code",
     "checksum": "53ed9a75cde94e70cd4f94610d7a2c08",
     "grade": true,
     "grade_id": "cell-17fa0d61fcfbcd7e",
     "locked": false,
     "points": 7,
     "schema_version": 3,
     "solution": true
    }
   },
   "outputs": [
    {
     "name": "stdout",
     "output_type": "stream",
     "text": [
      "-3.776137190233419\n",
      "3.746847202453795\n"
     ]
    },
    {
     "data": {
      "text/plain": "<Figure size 432x288 with 1 Axes>",
      "image/png": "[encoded data removed]"
     },
     "metadata": {
      "needs_background": "light"
     },
     "output_type": "display_data"
    }
   ],
   "source": [
    "\n",
    "randlist= rng.normal(size=10000); \n",
    "print(np.min(randlist))\n",
    "print(np.max(randlist))\n",
    "\n",
    "bins= np.arange(np.min(randlist).round(1),np.max(randlist).round(1),0.1);\n",
    "\n",
    "plt.hist(randlist,bins, density=True);\n",
    "\n",
    "x=np.arange(-4,4.1,0.01);\n",
    "gaussian= (1/np.sqrt(2*np.pi))*(np.e**((-x**2)/2))\n",
    "plt.plot(x, gaussian)\n",
    "\n",
    "plt.ylabel(\"Probability\")\n",
    "plt.xlabel(\"Number Generated\")\n",
    "plt.title(\"Gaussian Distribution of Random Number Generator\")\n",
    "plt.minorticks_on()"
   ]
  },
  {
   "cell_type": "markdown",
   "metadata": {},
   "source": [
    "## Finishing Up\n",
    "\n",
    "We are **not** done yet!  The end result of all of this work should be a single document, this notebook, that contains all the required work, documentation, and code.  It should be a complete document that \"works\".  When working on problems, we often try little things in cells, delete them, *etc.*  Due to the way the notebook works, the backend kernel remembers all these intermediate steps (variables that were created/set, for example) even after we delete the cells containing the work.  Thus we should verify that our document is complete.  One way to do so is described below.\n",
    "\n",
    "### Operation: \n",
    "\n",
    "The simplest way to verify our notebook is to rerun it from the beginning in a new kernel. The most direct way to do this is to use the double right arrow button at the top. When you hover over this button the tooltip should tell you it will restart the kernel and rerun the notebook.\n",
    "\n",
    "Equivlently, you could instead go to the *Kernel* pull-down menu and select *Restart & Run All*.\n",
    "\n",
    "Using either method you will get a pop up warning telling you want it is going to do and ask for you to confirm the operation.\n",
    "\n",
    "### Note:\n",
    "\n",
    "Your notebook **will be rerun before grading**.  Even if you had left all the correct results/plots in your notebook when you uploaded it, if your notebook does not run, then it is incorrect.  A notebook is a dynamic document, not a static one.  Everyone (with the right environment installed) should be able to run it themselves and reproduce your results.\n",
    "\n",
    "**Always rerun your full notebook in a new kernel when you think it is complete.** This is an essential step. You will be surprised how many times this catches errors."
   ]
  },
  {
   "cell_type": "markdown",
   "metadata": {},
   "source": [
    "## Turning in the Lab\n",
    "\n",
    "Once everything is completed, the lab should be submitted by uploading it via canvas.  For a group assignment, only one member of the group needs to submit the lab.  Just make sure somebody does it!\n",
    "\n",
    "The **name of the notebook file cannot be changed**.  The name of the uploaded file must be the same as the name of the file as listed in the assignment on canvas.  Again, I will stress, **do not change the name of the file**.  If the file is incorrectly named it will not be graded and you will receive no credit.\n",
    "\n",
    "For example, this file is called `Lab00.ipynb`.  That is the name of the file that must be submitted.  If this name got mangled in some way when you downloaded the file, rename it!"
   ]
  },
  {
   "cell_type": "markdown",
   "metadata": {},
   "source": [
    "## Member Participation\n",
    "\n",
    "In the following cell enter the *Case ID* for each student in the group who partcipated in this lab.  This is not just a list of group members, we already know who is in each group.  Participation means having taken an active role in its development through discussions, coding, *etc.*  By being included in this list you are affirming that each student is justified in claiming this lab as their work.  Including someone who does not deserve credit is cheating. Such cases are a violation of academic integrity and will be treated as stated in the syllabus.  If there are any questions or concerns regarding this, please contact the course instructor.  All such communications will be treated with strict confidence."
   ]
  },
  {
   "cell_type": "markdown",
   "metadata": {
    "deletable": false,
    "nbgrader": {
     "cell_type": "markdown",
     "checksum": "fff3c882c6eefc7c3dce10bb0b785d99",
     "grade": true,
     "grade_id": "cell-9d8dd31e7ce59c67",
     "locked": false,
     "points": 0,
     "schema_version": 3,
     "solution": true
    }
   },
   "source": [
    "gmm102, rnj13, zxw721"
   ]
  }
 ],
 "metadata": {
  "kernelspec": {
   "display_name": "Python 3",
   "language": "python",
   "name": "python3"
  },
  "language_info": {
   "codemirror_mode": {
    "name": "ipython",
    "version": 3
   },
   "file_extension": ".py",
   "mimetype": "text/x-python",
   "name": "python",
   "nbconvert_exporter": "python",
   "pygments_lexer": "ipython3",
   "version": "3.8.8"
  }
 },
 "nbformat": 4,
 "nbformat_minor": 4
}