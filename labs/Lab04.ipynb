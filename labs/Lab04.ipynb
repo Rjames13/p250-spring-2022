{
 "cells": [
  {
   "cell_type": "markdown",
   "metadata": {},
   "source": [
    "# Lab 04 : Numerical Integration\n",
    "\n",
    "## Objectives\n",
    "\n",
    "In this lab we will study the extremely powerful integration routine provided for us in `scipy.integrate.quad`.  Despite being extremely powerful, we can make it even better by performing mathematical transformations of the integrals we wish to evaluate.   **This lab is an extension of the analytic work performed in Homework 04, Problem 1 and relies on some of those results.**\n",
    "\n",
    "We will study the simple pendulum.  Despite being \"simple\", recall from introductory physics that we can only solve for the motion of small amplitude oscillations.   Here we will study the full motion of the pendulum."
   ]
  },
  {
   "cell_type": "markdown",
   "metadata": {},
   "source": [
    "## Initialization\n",
    "\n",
    "You can mostly just run the following and ignore the details.  This is some magic required to get equation numbering and referencing working (another of the many great features of $\\LaTeX$).  **You need to run this cell to get equations numbered and labels to work.**  You also need to rerun this cell anytime you need to rerender the numbered equations found below.  It shows how other languages can be included in a Jupyter notebook.  In this case it is javascript, but C, FORTRAN, and many other languages could be included in a similar manner."
   ]
  },
  {
   "cell_type": "code",
   "execution_count": 19,
   "metadata": {},
   "outputs": [
    {
     "data": {
      "text/plain": "<IPython.core.display.Javascript object>",
      "application/javascript": "// Turn on automatic equations numbers and allow for equation labeling and referencing.\nMathJax.Hub.Config({\n  TeX: { equationNumbers: { autoNumber: \"AMS\" } }\n});\n// The following reprocesses/renumbers the equations when executed.  When cells with numbered equations are reprocessed\n// the equation number keeps incrementing.  When numbered equations have labels an error occurs and the equation does not\n// actually get rendered.  Rerun this cell to reset the equation numbers and render all the equations in the document.\nMathJax.Hub.Queue(\n    [\"resetEquationNumbers\",MathJax.InputJax.TeX],\n    [\"PreProcess\",MathJax.Hub], \n    [\"Reprocess\",MathJax.Hub]\n);\n"
     },
     "metadata": {},
     "output_type": "display_data"
    }
   ],
   "source": [
    "%%javascript\n",
    "// Turn on automatic equations numbers and allow for equation labeling and referencing.\n",
    "MathJax.Hub.Config({\n",
    "  TeX: { equationNumbers: { autoNumber: \"AMS\" } }\n",
    "});\n",
    "// The following reprocesses/renumbers the equations when executed.  When cells with numbered equations are reprocessed\n",
    "// the equation number keeps incrementing.  When numbered equations have labels an error occurs and the equation does not\n",
    "// actually get rendered.  Rerun this cell to reset the equation numbers and render all the equations in the document.\n",
    "MathJax.Hub.Queue(\n",
    "    [\"resetEquationNumbers\",MathJax.InputJax.TeX],\n",
    "    [\"PreProcess\",MathJax.Hub], \n",
    "    [\"Reprocess\",MathJax.Hub]\n",
    ");"
   ]
  },
  {
   "cell_type": "markdown",
   "metadata": {},
   "source": [
    "As always initialize, your environment now by loading all modules required and setting up the plotting environment. "
   ]
  },
  {
   "cell_type": "code",
   "execution_count": 11,
   "metadata": {
    "deletable": false,
    "nbgrader": {
     "cell_type": "code",
     "checksum": "d81ee7940ecdd9271d351db1a5c6aece",
     "grade": true,
     "grade_id": "cell-e619b145e7bb29a5",
     "locked": false,
     "points": 0,
     "schema_version": 3,
     "solution": true
    }
   },
   "outputs": [],
   "source": [
    "import numpy as np\n",
    "import matplotlib.pyplot as plt\n",
    "import scipy.integrate as integ\n",
    "import scipy.special as sf"
   ]
  },
  {
   "cell_type": "markdown",
   "source": [
    "\n",
    "## Pendulum Motion\n",
    "\n",
    "As seen in the homework, the period of the oscillations of a pendulum can be written in a few equivalent forms:\n",
    "\n",
    "\\begin{align}\n",
    "\\frac{T(\\theta_m)}{T_0} & = \\frac{\\sqrt 2}{\\pi} \\int_0^{\\theta_m} \\frac{\\mathrm{d}\\theta}{\\sqrt{\\cos\\theta-\\cos\\theta_m}}, \\label {eq:period1} \\\\\n",
    " & = \\frac{2}{\\pi} \\int_0^{\\pi/2} \\frac{\\mathrm{d}\\psi}{\\sqrt{1-\\sin^2(\\theta_m/2)\\sin^2\\psi}}, \\label {eq:period2} \\\\\n",
    " & = 1 + \\sum_{n=1}^\\infty a_{2n} \\sin^{2n}(\\theta_m/2). \\label {eq:periodsum}\n",
    "\\end{align}\n",
    "For the series form, you have calculated the values of the coefficients up to $a_8$.  We will explore all of these forms in this lab."
   ],
   "metadata": {
    "collapsed": false
   }
  },
  {
   "cell_type": "markdown",
   "metadata": {},
   "source": [
    "### Period Calculations\n",
    "\n",
    "Calculate the period using the three expressions above for $\\theta_m$ on a grid from 1 to 179 degrees in steps of 1 degree.  For the two integrals $(\\ref{eq:period1})$ and $(\\ref{eq:period2})$ we cannot avoid writing a loop since `quad` cannot compute many integrals at once.  (In the future we will learn that there is a way to get NumPy to create the loop for us so that we do not need to explicitly write it ourselves.)  For the series $(\\ref{eq:periodsum})$ we *could* avoid writing a loop, but we have not learned how and since we already need to write one loop we may as well use it for this case also.  As seen in the example this week, when we do need to write our own loops it is best to preallocate storage space for the results using `np.zeros` or `np.zeros_like`.\n",
    "\n",
    "Also produce a figure showing the period calculated from the three methods as a function of the pendulum amplitude."
   ]
  },
  {
   "cell_type": "code",
   "execution_count": 12,
   "metadata": {
    "deletable": false,
    "nbgrader": {
     "cell_type": "code",
     "checksum": "7062234069dba6bf8c72fe60b106d937",
     "grade": true,
     "grade_id": "cell-cc686d2ba2511819",
     "locked": false,
     "points": 20,
     "schema_version": 3,
     "solution": true
    }
   },
   "outputs": [
    {
     "data": {
      "text/plain": "Text(0.5, 1.0, 'Comparision of Integration Methods to find the Period')"
     },
     "execution_count": 12,
     "metadata": {},
     "output_type": "execute_result"
    },
    {
     "data": {
      "text/plain": "<Figure size 432x288 with 1 Axes>",
      "image/png": "[encoded data removed]"
     },
     "metadata": {
      "needs_background": "light"
     },
     "output_type": "display_data"
    }
   ],
   "source": [
    "theta_m= np.arange(1., 180., 1)\n",
    "theta_m= np.radians(theta_m) \n",
    "\n",
    "def eq1(theta, theta_m):\n",
    "    return 1/(np.sqrt(np.cos(theta)- np.cos(theta_m)))\n",
    "\n",
    "def eq2(psi, theta_m):\n",
    "    return 1/(np.sqrt(1- (np.sin(theta_m/2))**2*(np.sin(psi))**2))\n",
    "\n",
    "def integ1(theta_m):\n",
    "    return (np.sqrt(2)/np.pi) * integ.quad(eq1, 0, theta_m, args=(theta_m))[0]\n",
    "\n",
    "def integ2(theta_m):\n",
    "    return (2/np.pi) * integ.quad(eq2, 0, np.pi/2, args=(theta_m))[0]\n",
    "\n",
    "eq1ans= np.zeros_like(theta_m)\n",
    "for j in range(len(theta_m)):\n",
    "    eq1ans[j] = integ1(theta_m[j])\n",
    "    \n",
    "eq2ans= np.zeros_like(theta_m)\n",
    "for j in range(len(theta_m)):\n",
    "    eq2ans[j]= integ2(theta_m[j])\n",
    "    \n",
    "a= np.array([0.25, 0.140625, 0.09765625, 0.07476806640625])\n",
    "n= np.arange(1, 5, 1)\n",
    "\n",
    "def eq3(a, n, theta_m):\n",
    "    return 1+ np.sum(a*(np.sin(theta_m/2))**(2*n))\n",
    "\n",
    "eq3ans= np.zeros_like(theta_m)\n",
    "for j in range(len(theta_m)):\n",
    "    eq3ans[j]= eq3(a, n, theta_m[j])\n",
    "\n",
    "plt.plot(np.degrees(theta_m), eq1ans, 'k', label='Equation 1')\n",
    "plt.plot(np.degrees(theta_m), eq2ans, 'r--', label='Equation 2')\n",
    "plt.plot(np.degrees(theta_m), eq3ans, 'b-.', label= 'Equation 3')\n",
    "plt.legend()\n",
    "plt.xlabel('Amplitude (deg)')\n",
    "plt.ylabel('Period (s)')\n",
    "plt.title('Comparision of Integration Methods to find the Period')\n"
   ]
  },
  {
   "cell_type": "markdown",
   "metadata": {},
   "source": [
    "### Error in the Integrals\n",
    "\n",
    "You should find that the two integrals agree with each other, but that the series does not agree with the intrals for large amplitudes.  We will look at the series in more detail below.  For now let us focus on the integrals; we want to carefully look at their accuracy.  As noted in the homework, the integral *can* actually be performed in terms of a special function, the elliptic integral of the first kind,\n",
    "$$ \\frac{T(\\theta_m)}{T_0} = \\frac{2}{\\pi} K\\left[ \\sin^2\\left( \\frac{\\theta_m}{2} \\right) \\right]. $$\n",
    "The elliptic integral of the first kind can be accessed as `scipy.special.ellipk`. (*Note:* I have used a notation here consistent with SciPy, however, this is not universal.  In other places you will find what we are calling $K(x^2)$ instead written as $K(x)$.  In general, before using a special function you should verify the library is using the same conventions as you are!)\n",
    "\n",
    "We are going to produce another figure. Whenever multiple figures are produced using the same quantities, in every figure you should always use the same line style or marker type, colors, *etc*. for the same quantity in each figure.  This makes it much easier for the reader to connect the results among the figures.  For example, this means that if you used purple horse shoes to represent the integral from Eq. $(\\ref{eq:period1})$ in your first figure, then you should also use purple horse shoes to represent the error in the integral from Eq. $(\\ref{eq:period1})$ in the figure you are about to create. (*Note:*  Do **not** use purple horse shoes as a marker.)"
   ]
  },
  {
   "cell_type": "markdown",
   "metadata": {},
   "source": [
    "Produce a figure showing the fractional error in the two integrals $(\\ref{eq:period1})$ and $(\\ref{eq:period2})$.  You may get a warning when you create this plot and/or one of the curves may look strange."
   ]
  },
  {
   "cell_type": "code",
   "execution_count": 13,
   "metadata": {
    "deletable": false,
    "nbgrader": {
     "cell_type": "code",
     "checksum": "7653bb0946d07100669b67da33fbc2a9",
     "grade": true,
     "grade_id": "cell-86244b335ef9a569",
     "locked": false,
     "points": 7,
     "schema_version": 3,
     "solution": true
    }
   },
   "outputs": [
    {
     "data": {
      "text/plain": "<matplotlib.legend.Legend at 0x7f6d98769dc0>"
     },
     "execution_count": 13,
     "metadata": {},
     "output_type": "execute_result"
    },
    {
     "data": {
      "text/plain": "<Figure size 432x288 with 1 Axes>",
      "image/png": "[encoded data removed]"
     },
     "metadata": {
      "needs_background": "light"
     },
     "output_type": "display_data"
    }
   ],
   "source": [
    "ellipans= (2/np.pi)*sf.ellipk(np.sin(theta_m/2)**2)\n",
    "eq1_fracerr= np.abs(ellipans- eq1ans)/ ellipans\n",
    "eq2_fracerr= np.abs(ellipans- eq2ans)/ ellipans\n",
    "\n",
    "plt.semilogy(np.degrees(theta_m), eq1_fracerr, 'k', label='Fractional Error: Equation 1')\n",
    "plt.semilogy(np.degrees(theta_m), eq2_fracerr, 'r--', label= 'Fractional Error: Equation 2')\n",
    "plt.xlabel('Amplitude (deg)')\n",
    "plt.ylabel('Fractional Error')\n",
    "plt.title('Comparison of Fractional Errors')\n",
    "plt.legend()"
   ]
  },
  {
   "cell_type": "markdown",
   "metadata": {},
   "source": [
    "The error from the integral in Eq. $(\\ref{eq:period2})$ should look strange.  You may be worried that is incorrect.  Explain the source of the strange behavior of this error curve.  (*Hint:* Look at the actual values of the errors, not just as they show up in the plot.)"
   ]
  },
  {
   "cell_type": "markdown",
   "metadata": {
    "deletable": false,
    "nbgrader": {
     "cell_type": "markdown",
     "checksum": "51cdf9e056223e0433c9ac35898d1396",
     "grade": true,
     "grade_id": "cell-1cc374e882ae0675",
     "locked": false,
     "points": 2,
     "schema_version": 3,
     "solution": true
    }
   },
   "source": [
    "For equation 2, there are some theta_m values that produce results that have so small an error, or no error that Python would not find a fractional error between the analytical and numerical result. This causes the oscillation between fractional error values of zero and very small fractional errors. "
   ]
  },
  {
   "cell_type": "markdown",
   "metadata": {},
   "source": [
    "### Series Formula\n",
    "\n",
    "Returning to the series form in $(\\ref{eq:periodsum})$ it is not surprising that it does a poor job at large amplitude, particularly since we truncate the sum after a few terms, at $a_8$.  Explain why this is the case."
   ]
  },
  {
   "cell_type": "markdown",
   "metadata": {
    "deletable": false,
    "nbgrader": {
     "cell_type": "markdown",
     "checksum": "62ccd3a96d4448bab23efd58066d47ae",
     "grade": true,
     "grade_id": "cell-728232d1cc3ada4e",
     "locked": false,
     "points": 3,
     "schema_version": 3,
     "solution": true
    }
   },
   "source": [
    "Since the sum is a truncated Taylor series, once we get far enough away from the point we expanded about, the series becomes worse at estimating values. At large amplitudes we get too far away from our expansion point to be able to estimate the period. "
   ]
  },
  {
   "cell_type": "markdown",
   "metadata": {},
   "source": [
    "For what amplitude, $\\theta_m$, from the grid used above, does the fractional error in the period calculated using the series form $(\\ref{eq:periodsum})$ become larger than $10^{-10}$?  (*Note:* The clever way to do this is to use the `where` function, though we have not discussed the `where` function yet so is not necessary to use it here here. Instead, you can just look through the list of values and find the relevant one.  We will learn about the `where` function in the near future.  Also note that we want the **value of the amplitude, $\\theta_m$**, not the index number of where this occurs in the array you calculated.)"
   ]
  },
  {
   "cell_type": "code",
   "execution_count": 14,
   "metadata": {
    "deletable": false,
    "nbgrader": {
     "cell_type": "code",
     "checksum": "0008e6ee09a20cd628342574cbb1a537",
     "grade": true,
     "grade_id": "cell-b603af262dd1de89",
     "locked": false,
     "points": 4,
     "schema_version": 3,
     "solution": true
    }
   },
   "outputs": [
    {
     "name": "stdout",
     "output_type": "stream",
     "text": [
      "The fractional error for the series form becomes greater than 10^-10 when theta_m=16 degrees.\n"
     ]
    }
   ],
   "source": [
    "eq3_fracerr= np.abs(ellipans- eq3ans)/ ellipans\n",
    "\n",
    "print(\"The fractional error for the series form becomes greater than 10^-10 when theta_m=16 degrees.\")"
   ]
  },
  {
   "cell_type": "markdown",
   "metadata": {},
   "source": [
    "## Analytic Manipulations\n",
    "\n",
    "You may wonder why we bothered to have two different integral forms for the period, $(\\ref{eq:period1})$ and $(\\ref{eq:period2})$.  Since `quad` can handle divergent integrands it can, and does, give us good answers to the integral in Eq. $(\\ref{eq:period1})$, so why bother doing the analytic work to transform the integral?  We found above that the transformed integral $(\\ref{eq:period2})$ did lead to smaller errors, so that is a benefit.  Even more so, the transformed integral requires far less work to compute.  Thus by doing a small mathematical manipulation (as you have done in the homework) we arrive at a much easier and much more accurate formula for the computer to evaluate.\n",
    "\n",
    "To verify this, calculate the period for $\\theta_m=97^\\circ$ using $(\\ref{eq:period1})$ and $(\\ref{eq:period2})$.  Print the fractional errors and number of function evaluations required for each integral.  Be amazed!"
   ]
  },
  {
   "cell_type": "code",
   "execution_count": 15,
   "metadata": {
    "deletable": false,
    "nbgrader": {
     "cell_type": "code",
     "checksum": "43c18786e90ac973eb5b74c4bfe9cf19",
     "grade": true,
     "grade_id": "cell-4bed470401d8505d",
     "locked": false,
     "points": 4,
     "schema_version": 3,
     "solution": true
    }
   },
   "outputs": [
    {
     "name": "stdout",
     "output_type": "stream",
     "text": [
      "Fractional Error for Eq 1: 1.2170815759130747e-12\n",
      "Fractional Error for Eq 2: 1.8266270087244106e-16\n",
      "Function Evaluations for Eq 1: 315\n",
      "Function Evaluations for Eq 2: 21\n"
     ]
    }
   ],
   "source": [
    "(eq1res, eq1err, eq1info)= integ.quad(eq1, 0, np.radians(97), args=(np.radians(97)), full_output=True)\n",
    "eq1res= (np.sqrt(2)/np.pi)* eq1res\n",
    "\n",
    "(eq2res, eq2err, eq2info)= integ.quad(eq2, 0, np.pi/2, args=(np.radians(97)), full_output=True)\n",
    "eq2res= (2/np.pi) * eq2res\n",
    "\n",
    "ellipans97= (2/np.pi)*sf.ellipk(np.sin(np.radians(97)/2)**2) \n",
    "\n",
    "print(\"Fractional Error for Eq 1:\", np.abs(ellipans97- eq1res)/ ellipans97)\n",
    "print(\"Fractional Error for Eq 2:\", np.abs(ellipans97- eq2res)/ ellipans97)\n",
    "\n",
    "print(\"Function Evaluations for Eq 1:\", eq1info['neval'])\n",
    "print(\"Function Evaluations for Eq 2:\", eq2info['neval'])"
   ]
  },
  {
   "cell_type": "markdown",
   "metadata": {},
   "source": [
    "## Member Participation\n",
    "\n",
    "See Lab00 for instructions on turning in labs.  We will follow this procedure the entire semester.\n",
    "\n",
    "In the following cell enter the *Case ID* for each student in the group who partcipated in this lab.  Again, see Lab00 for more details.  It is expected that you have read and understood those details."
   ]
  },
  {
   "cell_type": "markdown",
   "metadata": {},
   "source": [
    "gmm102, rnj13, zxw721"
   ]
  }
 ],
 "metadata": {
  "anaconda-cloud": {},
  "authors": [
   {
    "name": "Craig J Copi",
    "semester": "Spring 2019"
   }
  ],
  "kernelspec": {
   "display_name": "Python 3 (ipykernel)",
   "language": "python",
   "name": "python3"
  },
  "language_info": {
   "codemirror_mode": {
    "name": "ipython",
    "version": 3
   },
   "file_extension": ".py",
   "mimetype": "text/x-python",
   "name": "python",
   "nbconvert_exporter": "python",
   "pygments_lexer": "ipython3",
   "version": "3.8.10"
  }
 },
 "nbformat": 4,
 "nbformat_minor": 2
}