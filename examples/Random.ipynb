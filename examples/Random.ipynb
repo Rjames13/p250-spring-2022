{
 "cells": [
  {
   "cell_type": "markdown",
   "metadata": {
    "pycharm": {
     "name": "#%% md\n"
    }
   },
   "source": [
    "# Random Numbers\n",
    "\n",
    "Here we will see some of the uses of random numbers.  We will explore the transformation method.  We will also look at a simple application of Monte Carlo integration and apply it to calculating $\\pi$."
   ]
  },
  {
   "cell_type": "markdown",
   "metadata": {
    "pycharm": {
     "name": "#%% md\n"
    }
   },
   "source": [
    "## Initialization"
   ]
  },
  {
   "cell_type": "code",
   "execution_count": 1,
   "metadata": {
    "pycharm": {
     "name": "#%%\n"
    }
   },
   "outputs": [],
   "source": [
    "import numpy as np\n",
    "import matplotlib.pyplot as plt\n",
    "\n",
    "#Globally fix plot styling\n",
    "import matplotlib as mpl\n",
    "mpl.rc('xtick', direction='in', top=True)\n",
    "mpl.rc('ytick', direction='in', right=True)\n",
    "mpl.rc('xtick.minor', visible=True)\n",
    "mpl.rc('ytick.minor', visible=True)\n",
    "\n",
    "rng = np.random.default_rng()"
   ]
  },
  {
   "cell_type": "markdown",
   "metadata": {
    "pycharm": {
     "name": "#%% md\n"
    }
   },
   "source": [
    "Functions for generating random numbers are contained in the `np.random` module.  Notice that it contains functions for many probability distributions and many utility functions for generating different types of random numbers.  In practice generating random sequences of floating point numbers, integers, and bytes requires care to insure the results are not biased.\n",
    "\n",
    "Throughout the semester, every time we have needed random numbers we used the *modern interface*. However, if you search online for information you will still find many examples that show the use of the *legacy interface*. In some ways it seems simpler to use (you do not need to generate `rng` as we have done multiple times). However, **the legacy interface should not be used in new code**. Here we will finally explore the modern way to generate random numbers."
   ]
  },
  {
   "cell_type": "code",
   "execution_count": null,
   "metadata": {
    "tags": [],
    "pycharm": {
     "name": "#%%\n"
    }
   },
   "outputs": [],
   "source": [
    "np.random?"
   ]
  },
  {
   "cell_type": "markdown",
   "metadata": {
    "pycharm": {
     "name": "#%% md\n"
    }
   },
   "source": [
    "The modern approach is to separate the *bit stream* (the algorithm that actually computes pseudo-random numbers) from the *generator* (which \"generates\" random number from any of a number of probability distributions).\n",
    "\n",
    "The default *bit stream* is currently a permutation congruential\n",
    "generator (`PCG64`) but others are supported, such as the Mersenne twister (`MT19937`). We do not need to know the details of the bit stream for our work.\n",
    "\n",
    "To construct a *generator* we can use `np.random.default_rng()`.\n",
    "\n",
    "Some more comments about random numbers are contained at the end of this example. For now we want to see what is available and to start using them."
   ]
  },
  {
   "cell_type": "code",
   "execution_count": null,
   "metadata": {
    "pycharm": {
     "name": "#%%\n"
    }
   },
   "outputs": [],
   "source": [
    "rng."
   ]
  },
  {
   "cell_type": "markdown",
   "metadata": {
    "pycharm": {
     "name": "#%% md\n"
    }
   },
   "source": [
    "## Exponential Probability Distribution\n",
    "\n",
    "The exponential probability distribution is useful in many contexts.  In fact, we can access it from our generator as `rng.exponential`.  This function allows $t$ to take any value from zero to infinity.  Suppose we want to restrict our choice to a finite range.  Here we will use the transformation method to derive the mapping from the uniform distribution on the unit interval to the exponential distribution on a finite interval.\n",
    "\n",
    "Consider the probability density\n",
    "$$ P(t) \\,\\mathrm{d}t = N \\mathrm{e}^{-t/\\tau} \\,\\mathrm{d}t, $$\n",
    "where $N$ is a normalization and $\\tau$ describes the scale of the distribution.  In the case of particle decays, $\\tau$ would represent the lifetime of the particle.  Suppose we wish to pick random numbers in the interval $t_1\\le t< t_2$.\n",
    "\n",
    "### Normalization\n",
    "\n",
    "First we normalize the probability distribution.  This requires\n",
    "$$ 1 = \\int_{t_1}^{t_2} N \\mathrm{e}^{-t/\\tau} \\,\\mathrm{d}t = \\tau N \\left( \\mathrm{e}^{-t_1/\\tau} - \\mathrm{e}^{-t_2/\\tau} \\right).  $$\n",
    "Solving for the normalization constant we find\n",
    "$$ \\frac{1}{N} = \\tau\\left( \\mathrm{e}^{-t_1/\\tau} - \\mathrm{e}^{-t_2/\\tau} \\right). $$\n",
    "\n",
    "### Mapping\n",
    "\n",
    "Next we map from a uniformly distributed random variable, $u$, on the interval $[0,1)$ to the exponential distribution.  This mapping requires\n",
    "$$ u = \\int_{t_1}^{t} N \\mathrm{e}^{-t'/\\tau} \\,\\mathrm{d}t' = \\tau N \\left( \\mathrm{e}^{-t_1/\\tau} - \\mathrm{e}^{-t/\\tau} \\right). $$\n",
    "We can invert this to solve for $t$.  Doing so gives the desired mapping\n",
    "$$ t = -\\tau \\ln\\left[ \\mathrm{e}^{-t_1/\\tau} - u \\left( \\mathrm{e}^{-t_1/\\tau} - \\mathrm{e}^{-t_2/\\tau} \\right) \\right]. $$\n",
    "\n",
    "### Testing the Mapping\n",
    "\n",
    "To test the mapping consider the set of parameters $\\tau=1.5$, $t_1=0.7$, $t_2=5$.  We will generate a large set of uniformly distributed random numbers and apply the mapping.  To verify that it has the correct distribution we create a histogram using `hist` and plot it along with the true probability distribution.  Note that the true probability distribution is normalized (we did this above to find $N$) thus we must also normalize the histogram.  This is accomplished using the `density` keyword argument to `hist`. (An older way of doing this was to use the `normed` keyword argument.  That is now deprecated and you will get a warning if you use it.)"
   ]
  },
  {
   "cell_type": "code",
   "execution_count": 2,
   "metadata": {
    "pycharm": {
     "name": "#%%\n"
    }
   },
   "outputs": [
    {
     "data": {
      "image/png": "[encoded data removed]",
      "text/plain": [
       "<Figure size 432x288 with 1 Axes>"
      ]
     },
     "metadata": {
      "needs_background": "light"
     },
     "output_type": "display_data"
    }
   ],
   "source": [
    "tau = 1.5\n",
    "t1 = 0.7\n",
    "t2 = 5.0\n",
    "\n",
    "# Normalization\n",
    "N = 1 / (tau * (np.exp(-t1/tau) - np.exp(-t2/tau)))\n",
    "\n",
    "# Probability distribution\n",
    "def P(t):\n",
    "    return N * np.exp(-t/tau)\n",
    "\n",
    "# Generate uniformly distributed random numbers\n",
    "n = 100000\n",
    "u = rng.random(size=n)\n",
    "\n",
    "# Map them to the exponential distribution\n",
    "t = -tau * np.log(np.exp(-t1/tau) - u*(np.exp(-t1/tau) - np.exp(-t2/tau)))\n",
    "\n",
    "tfine = np.linspace(t1, t2, 200)\n",
    "\n",
    "# Plot the results\n",
    "plt.plot(tfine, P(tfine), 'k-', lw=2, label='True Distribution')\n",
    "plt.hist(t, bins=100, histtype='step', density=True, label='Mapped Distribution')\n",
    "plt.xlabel('t')\n",
    "plt.ylabel('Counts (normalized)')\n",
    "plt.legend();"
   ]
  },
  {
   "cell_type": "markdown",
   "metadata": {
    "pycharm": {
     "name": "#%% md\n"
    }
   },
   "source": [
    "## Uniformly Sample the Disk\n",
    "\n",
    "To uniformly sample the area of a disk we do **not** uniformly sample in $r$ and $\\theta$.  To see this let us try uniformly sampling inside the unit circle."
   ]
  },
  {
   "cell_type": "code",
   "execution_count": 3,
   "metadata": {
    "pycharm": {
     "name": "#%%\n"
    }
   },
   "outputs": [
    {
     "data": {
      "image/png": "[encoded data removed]",
      "text/plain": [
       "<Figure size 432x288 with 1 Axes>"
      ]
     },
     "metadata": {
      "needs_background": "light"
     },
     "output_type": "display_data"
    }
   ],
   "source": [
    "# For the edge of the circle:\n",
    "theta_circle = np.linspace(0, 2*np.pi, 1000)\n",
    "X = np.cos(theta_circle)\n",
    "Y = np.sin(theta_circle)\n",
    "\n",
    "N = 3000\n",
    "r = rng.random(size=N)\n",
    "theta = 2*np.pi * rng.random(size=N)\n",
    "x = r*np.cos(theta)\n",
    "y = r*np.sin(theta)\n",
    "\n",
    "fig = plt.figure()\n",
    "ax = fig.add_subplot(111, aspect=1)\n",
    "ax.set_xlim(-1.1, 1.1)\n",
    "ax.set_ylim(-1.1, 1.1)\n",
    "ax.plot(X, Y, 'k-', lw=2)\n",
    "ax.plot(x, y, 'r.');"
   ]
  },
  {
   "cell_type": "markdown",
   "metadata": {
    "pycharm": {
     "name": "#%% md\n"
    }
   },
   "source": [
    "Notice that there are far more points near the center of the circle than there are near the edges.  This makes sense.  Consider two points separated by a small difference in $\\theta$.  For $r$ small these two points would be very near each other.  On the other hand, for a larger $r$ they would be much further apart.  Clearly we should not uniformly sample in both $r$ and $\\theta$, so, how should we sample?\n",
    "\n",
    "Recall that the area element written in Cartesian coordinates is just $\\mathrm{d}A = \\mathrm{d}x\\, \\mathrm{d}y$.  However, in polar coordinates it is written as $\\mathrm{d}A = r\\mathrm{d}r\\, \\mathrm{d}\\theta$.  This effects how we calculate probabilities.  For a uniform distribution in Cartesian coordinates the probability of finding $0\\le x' < x$ and $0\\le y' < y$ is given by\n",
    "$$ P_{\\mathrm{Cartesian}}(x,y) = \\int_0^x \\mathrm{d}x' \\int_0^y \\mathrm{d}y'. $$\n",
    "Notice that $x$ and $y$ separate, the two integrals are independent of each other, so we can treat $x$ and $y$ as two independent uniformly distributed random variables.  This means uniformly sampling the square is easy, just pick $x$ and $y$ independently.\n",
    "\n",
    "In polar coordinates things are different.  The probability of finding $0\\le r'< r$ and $0\\le\\theta'<\\theta$ is given by\n",
    "$$ P_{\\mathrm{polar}}(r,\\theta) = \\frac{1}{\\pi} \\int_0^r r'\\,\\mathrm{d}r' \\int_0^{\\theta} \\mathrm{d}\\theta'. $$\n",
    "We see that again $r$ and $\\theta$ are independent of each other.  We also see that the probability distribution does not depend on $\\theta$ so we can treat $\\theta$ as a uniformly distributed random number, but we *cannot do the same* for $r$.  Instead we see that\n",
    "$$ p(r) \\,\\mathrm{d}r \\propto r \\,\\mathrm{d}r. $$\n",
    "As we saw in class, if $u$ is a uniformly distributed random number, then we can relate it to one that has a linear probability density by $r=\\sqrt{u}$.  Thus we can remap the random numbers calculated above to uniformly sample the disk."
   ]
  },
  {
   "cell_type": "code",
   "execution_count": 4,
   "metadata": {
    "pycharm": {
     "name": "#%%\n"
    }
   },
   "outputs": [
    {
     "data": {
      "image/png": "[encoded data removed]",
      "text/plain": [
       "<Figure size 432x288 with 1 Axes>"
      ]
     },
     "metadata": {
      "needs_background": "light"
     },
     "output_type": "display_data"
    }
   ],
   "source": [
    "# We do NOT change the random numbers.  We reuse the ones we calculated\n",
    "# above and just remap them.\n",
    "R = np.sqrt(r)\n",
    "\n",
    "x = R*np.cos(theta)\n",
    "y = R*np.sin(theta)\n",
    "\n",
    "fig = plt.figure()\n",
    "ax = fig.add_subplot(111, aspect=1)\n",
    "ax.set_xlim(-1.1, 1.1)\n",
    "ax.set_ylim(-1.1, 1.1)\n",
    "ax.plot(X, Y, 'k-', lw=2)\n",
    "ax.plot(x, y, 'r.');"
   ]
  },
  {
   "cell_type": "markdown",
   "metadata": {
    "pycharm": {
     "name": "#%% md\n"
    }
   },
   "source": [
    "Now we have uniformly sampled the circle!"
   ]
  },
  {
   "cell_type": "markdown",
   "metadata": {
    "pycharm": {
     "name": "#%% md\n"
    }
   },
   "source": [
    "## Calculating $\\pi$ with Shotgun\n",
    "\n",
    "How would you estimate $\\pi$ if you only had a shotgun on hand?  Why you would have a shotgun but not some other basic device that could help you determine $\\pi$ I do not know, but this question has been been answered as can be seen in an [ArXiv blog post](https://medium.com/the-physics-arxiv-blog/how-mathematicians-used-a-pump-action-shotgun-to-estimate-pi-c1eb776193ef).  In fact it is a standard problem using the rejection method for performing Monte Carlo integration.  (Actually, when applied to the case of using a shotgun it involves importance sampling, the details of which we did not discuss but builds on topics we have discussed.)\n",
    "\n",
    "The idea is fairly simple.  Consider the unit circle.  We can enclose this inside a square with sides of length 2.  Mathematically we know the areas of the two objects,\n",
    "$$ A_{\\mathrm{square}} = 4 \\quad\\mathrm{and}\\quad A_{\\mathrm{circle}} = \\pi. $$\n",
    "Numerically, if we uniformly sample $N_{\\mathrm{square}}$ points inside the square, something that is easy to do as discussed above, then some number of them will also fall inside the circle.  We can count this number and will call it $N_{\\mathrm{circle}}$.  The ratio of the number of points that fall inside the circle to the total number of points will be nothing more than the ratio of the area of the circle to the area of the square.  In other words,\n",
    "$$ \\frac{N_{\\mathrm{circle}}}{N_{\\mathrm{square}}} = \\frac{A_{\\mathrm{circle}}}{A_{\\mathrm{square}}} = \\frac{\\pi}{4}, $$\n",
    "so\n",
    "$$ \\pi = 4 \\frac{N_{\\mathrm{circle}}}{N_{\\mathrm{square}}}. $$\n",
    "This we can easily calculate!\n",
    "\n",
    "Consider an example with $N_{\\mathrm{square}} = 100000$."
   ]
  },
  {
   "cell_type": "code",
   "execution_count": 5,
   "metadata": {
    "pycharm": {
     "name": "#%%\n"
    }
   },
   "outputs": [
    {
     "name": "stdout",
     "output_type": "stream",
     "text": [
      "pi estimate : 3.13736 has fractional error 0.1347295482422406%\n"
     ]
    }
   ],
   "source": [
    "N = 100000\n",
    "# pick x and y in interval (-1, 1)\n",
    "x = 2*rng.random(N) - 1\n",
    "y = 2*rng.random(N) - 1\n",
    "# find those inside the unit circle\n",
    "ind, = np.where(x**2 + y**2 <= 1)\n",
    "# count them\n",
    "Ncircle = len(ind)\n",
    "# Estimate pi\n",
    "pi_est = (4.0 * Ncircle) / N\n",
    "print(f\"pi estimate : {pi_est} has fractional error {100 * np.abs(1 - pi_est/np.pi)}%\")"
   ]
  },
  {
   "cell_type": "markdown",
   "metadata": {
    "pycharm": {
     "name": "#%% md\n"
    }
   },
   "source": [
    "Using 100,000 points we see we get about 3 digits of accuracy.  To go beyond this we should find the accuracy as a function of the number of points sampled.  Further, since we are using random numbers we will not get the exact same answer each time so we will average over a few samples.\n",
    "\n",
    "Here we write a function to do the hard work for us.  I have sped it up by not using two loops for the computations.  The calculations are much faster without using a double loop, that is, if you do not run out of RAM by trying to calculate too much at once!  So, be careful when running this, particularly for larger values of `N`!"
   ]
  },
  {
   "cell_type": "code",
   "execution_count": 6,
   "metadata": {
    "pycharm": {
     "name": "#%%\n"
    }
   },
   "outputs": [],
   "source": [
    "def pi_MC(N, ntries):\n",
    "    \"\"\"\n",
    "    Monte Carlo estimate of pi using the rejection method.\n",
    "    Random points are chosen inside a square with sides of length 2.\n",
    "    The ratio of the number of points inside the unit circle centered at the middle\n",
    "    of the circle to the total number of points generated is pi/4.\n",
    "    N points are generated for each of ntries realizations.\n",
    "    Returned is an array containing the estimate of pi for each realization.\n",
    "    \"\"\"\n",
    "    # Generate all the realizations at once.  This is significantly\n",
    "    # faster than using a loop!\n",
    "    x = 2*rng.random(size=(ntries, N)) - 1\n",
    "    y = 2*rng.random(size=(ntries, N)) - 1\n",
    "    # find those inside the unit circle\n",
    "    ind = (x**2 + y**2 <= 1)\n",
    "    # Count them.\n",
    "    # Here we use the fact the True=1 and False=0\n",
    "    Ncircle = np.sum(ind, axis=-1)\n",
    "    # Estimate pi\n",
    "    return (4.0 * Ncircle) / N\n",
    "\n",
    "Narr = np.logspace(3, 6, 8).astype(int)\n",
    "ntries = 100\n",
    "pi_est = np.zeros((len(Narr), ntries))\n",
    "# Here we do need to loop over each number of points\n",
    "# we wish to generate.\n",
    "for i in range(len(Narr)):\n",
    "    pi_est[i] = pi_MC(Narr[i], ntries)\n",
    "pi_avg_err = np.mean(np.abs(pi_est - np.pi), axis=1)"
   ]
  },
  {
   "cell_type": "markdown",
   "metadata": {
    "pycharm": {
     "name": "#%% md\n"
    }
   },
   "source": [
    "Next we look at the average errors as a function of the number of points sampled.  The major downside with using Monte Carlo integration is that it converges very slowly.  It behaves like a random walk so the error is expected to decrease only as the square root of the number of samples.  We see this in the results."
   ]
  },
  {
   "cell_type": "code",
   "execution_count": 7,
   "metadata": {
    "pycharm": {
     "name": "#%%\n"
    }
   },
   "outputs": [
    {
     "data": {
      "image/png": "[encoded data removed]",
      "text/plain": [
       "<Figure size 432x288 with 1 Axes>"
      ]
     },
     "metadata": {
      "needs_background": "light"
     },
     "output_type": "display_data"
    }
   ],
   "source": [
    "fig = plt.figure()\n",
    "ax = fig.add_subplot(111)\n",
    "ax.loglog(Narr, pi_avg_err, 'rs', label='Average Error')\n",
    "A = np.sqrt(Narr[-2]) * pi_avg_err[-2]\n",
    "n = np.logspace(3, 6, 100)\n",
    "ax.loglog(n, A/np.sqrt(n), 'k-', label=r'$1/\\sqrt{N}$ Error Scaling')\n",
    "ax.legend(numpoints=1)\n",
    "ax.set_xlabel('N')\n",
    "ax.set_ylabel('Absolute Error')\n",
    "ax.set_title(r'MC Calculation of $\\pi$');"
   ]
  },
  {
   "cell_type": "markdown",
   "metadata": {
    "pycharm": {
     "name": "#%% md\n"
    }
   },
   "source": [
    "## Multiple Random Streams and Reproducibility\n",
    "\n",
    "It was mentioned in class that pseudo-random numbers are preferable to cryptographically secure random numbers for scientific applications since a scientific result should be reproducible.  In the \"old days\" a random number generator took an integer as a seed.  Knowing this integer and the algorithm used for generating our pseudo-random numbers we could reproduce the sequence at some later time.  This can still be done when greating our *bitstream*. The best way to do this is to use `np.random.SeedSequence()`.\n",
    "\n",
    "Note that it is rare to actually save the state information.  Typically we perform our calculations starting from an unknown state and do not worry about it.  Of course the results should *not depend* on the state of the random number generator, this is an important test of the results in general.  In practice I have only found the need to worry about this while debugging code.  If \"something funny happens\" it is quite useful to be able to repeat it as you try to find the source of the problem.\n",
    "\n",
    "To get reproducibility the recommended way to do things is to create a random `SeedSequence` and then save this information. Let us see how this works."
   ]
  },
  {
   "cell_type": "code",
   "execution_count": null,
   "metadata": {
    "tags": [],
    "pycharm": {
     "name": "#%%\n"
    }
   },
   "outputs": [],
   "source": [
    "np.random.SeedSequence?"
   ]
  },
  {
   "cell_type": "markdown",
   "metadata": {
    "pycharm": {
     "name": "#%% md\n"
    }
   },
   "source": [
    "First we create a seed. The important information is the `entropy`. With this number we can reset/reproduce the stream as long as we use the same *bit stream*."
   ]
  },
  {
   "cell_type": "code",
   "execution_count": 8,
   "metadata": {
    "pycharm": {
     "name": "#%%\n"
    }
   },
   "outputs": [
    {
     "name": "stdout",
     "output_type": "stream",
     "text": [
      "SeedSequence(\n",
      "    entropy=329180236506945190122696815002116402242,\n",
      ")\n"
     ]
    }
   ],
   "source": [
    "seq = np.random.SeedSequence()\n",
    "print(seq)"
   ]
  },
  {
   "cell_type": "markdown",
   "metadata": {
    "pycharm": {
     "name": "#%% md\n"
    }
   },
   "source": [
    "As an example, suppose we create two random number generators with the same seed."
   ]
  },
  {
   "cell_type": "code",
   "execution_count": 9,
   "metadata": {
    "pycharm": {
     "name": "#%%\n"
    }
   },
   "outputs": [],
   "source": [
    "rng1 = np.random.default_rng(seq)\n",
    "rng2 = np.random.default_rng(seq)"
   ]
  },
  {
   "cell_type": "markdown",
   "metadata": {
    "pycharm": {
     "name": "#%% md\n"
    }
   },
   "source": [
    "Now, when we generate random numbers from the two streams we get exactly the same values."
   ]
  },
  {
   "cell_type": "code",
   "execution_count": 10,
   "metadata": {
    "pycharm": {
     "name": "#%%\n"
    }
   },
   "outputs": [
    {
     "name": "stdout",
     "output_type": "stream",
     "text": [
      "\n",
      "rng1 gives [0.99709316 0.35382098 0.24268052 0.88192552 0.04663191 0.43113901\n",
      " 0.76340172 0.29009781 0.74561515 0.82153462]\n",
      "rng2 gives [0.99709316 0.35382098 0.24268052 0.88192552 0.04663191 0.43113901\n",
      " 0.76340172 0.29009781 0.74561515 0.82153462]\n",
      "\n"
     ]
    }
   ],
   "source": [
    "print(f\"\"\"\n",
    "rng1 gives {rng1.random(10)}\n",
    "rng2 gives {rng2.random(10)}\n",
    "\"\"\")"
   ]
  },
  {
   "cell_type": "markdown",
   "metadata": {
    "pycharm": {
     "name": "#%% md\n"
    }
   },
   "source": [
    "If we generate more numbers from one of them we get new numbers."
   ]
  },
  {
   "cell_type": "code",
   "execution_count": 11,
   "metadata": {
    "pycharm": {
     "name": "#%%\n"
    }
   },
   "outputs": [
    {
     "name": "stdout",
     "output_type": "stream",
     "text": [
      "[0.17853709 0.23773813 0.82825653 0.05047429 0.61813134 0.65920405\n",
      " 0.12659046 0.64106966 0.91858607 0.02272088]\n"
     ]
    }
   ],
   "source": [
    "print(rng1.random(10))"
   ]
  },
  {
   "cell_type": "markdown",
   "metadata": {
    "pycharm": {
     "name": "#%% md\n"
    }
   },
   "source": [
    "We can reset to the initial state and will then get the same numbers we started with."
   ]
  },
  {
   "cell_type": "code",
   "execution_count": 12,
   "metadata": {
    "pycharm": {
     "name": "#%%\n"
    }
   },
   "outputs": [
    {
     "name": "stdout",
     "output_type": "stream",
     "text": [
      "[0.99709316 0.35382098 0.24268052 0.88192552 0.04663191 0.43113901\n",
      " 0.76340172 0.29009781 0.74561515 0.82153462]\n"
     ]
    }
   ],
   "source": [
    "rng1 = np.random.default_rng(seq)\n",
    "print(rng1.random(10))"
   ]
  },
  {
   "cell_type": "markdown",
   "metadata": {
    "pycharm": {
     "name": "#%% md\n"
    }
   },
   "source": [
    "Related to this we may want or need multiple independent streams of random numbers. We *do not* want to use the same stream in multiple processes. Remember that we are using a pseudo-random number generator. This means if we are in the same state, we will get the same numbers. This requires care particularly important in multi-threaded programs.  Though this is beyond the scope of what we need, it does come up (we use computers with multiple cores so it is quite reasonable to want to use them). The documentation for the bit streams tell use how to properly generate multiple streams from the same `SeedSequence`."
   ]
  },
  {
   "cell_type": "code",
   "execution_count": null,
   "metadata": {
    "tags": [],
    "pycharm": {
     "name": "#%%\n"
    }
   },
   "outputs": [],
   "source": [
    "np.random.PCG64?"
   ]
  },
  {
   "cell_type": "markdown",
   "metadata": {
    "pycharm": {
     "name": "#%% md\n"
    }
   },
   "source": [
    "For example, to generator 4 independent streams we can use the following."
   ]
  },
  {
   "cell_type": "code",
   "execution_count": 13,
   "metadata": {
    "pycharm": {
     "name": "#%%\n"
    }
   },
   "outputs": [
    {
     "name": "stdout",
     "output_type": "stream",
     "text": [
      "Sequence entropy: 4321\n",
      "[Generator(PCG64) at 0x7F2040914740, Generator(PCG64) at 0x7F2040914040, Generator(PCG64) at 0x7F2040914820, Generator(PCG64) at 0x7F20409142E0]\n"
     ]
    }
   ],
   "source": [
    "# First create a seed. We will explicitly choose a seed this time, this is not necessary.\n",
    "seq = np.random.SeedSequence(4321)\n",
    "print(f\"Sequence entropy: {seq.entropy}\")\n",
    "rngs= [ np.random.default_rng(s) for s in seq.spawn(4)]\n",
    "print(rngs)"
   ]
  },
  {
   "cell_type": "markdown",
   "metadata": {
    "pycharm": {
     "name": "#%% md\n"
    }
   },
   "source": [
    "The main message is that care must be taken when working with random numbers. In cryptographic cases this is even more true, extreme care must be taken to not make a mistake which allows information an attacker can use to leak out. (There are many examples of such errors.) Even in scientific settings, the use of bad random number generators or incorrectly using them can lead to biased results. It is always best to test results to be sure they make sense. Using different *bit streams* can help: the statistical properties of the results should not change using different streams."
   ]
  }
 ],
 "metadata": {
  "anaconda-cloud": {},
  "kernelspec": {
   "display_name": "Python 3 (ipykernel)",
   "language": "python",
   "name": "python3"
  },
  "language_info": {
   "codemirror_mode": {
    "name": "ipython",
    "version": 3
   },
   "file_extension": ".py",
   "mimetype": "text/x-python",
   "name": "python",
   "nbconvert_exporter": "python",
   "pygments_lexer": "ipython3",
   "version": "3.9.7"
  }
 },
 "nbformat": 4,
 "nbformat_minor": 4
}