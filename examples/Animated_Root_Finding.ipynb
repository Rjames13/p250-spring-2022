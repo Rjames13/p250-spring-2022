{
 "cells": [
  {
   "cell_type": "markdown",
   "metadata": {},
   "source": [
    "# Animations of Root Finding\n",
    "\n",
    "Animations of simple implementations of the bisection algorithm and the secant method are provided.  These algorithms are implemented in a very simple, non-robust way, to highlight some of their features and failings.\n",
    "\n",
    "## Note:\n",
    "\n",
    "To run in Jupyter Lab I think you need to install the `ipywidgets` Jupyter Lab extension and `ipympl`.  Both of these are available from `Anaconda`. Also see the [documentation](https://ipywidgets.readthedocs.io/en/latest/index.html) for `ipywidgets` for more information.  In particular the *Installation* section discusses the extension for Jupyter Lab. If you install through `Anaconda`, I think this notebook will \"just work\" (though you may need to completely restart jupyter lab, not just the kernel, after you install ipympl)."
   ]
  },
  {
   "cell_type": "code",
   "execution_count": 1,
   "metadata": {},
   "outputs": [],
   "source": [
    "\n",
    "import numpy as np\n",
    "import matplotlib.pyplot as plt\n",
    "import ipywidgets as widgets\n",
    "#from IPython.display import display\n",
    "import matplotlib as mpl\n",
    "mpl.rc('xtick', direction='in', top=True)\n",
    "mpl.rc('ytick', direction='in', right=True)"
   ]
  },
  {
   "cell_type": "markdown",
   "metadata": {},
   "source": [
    "## Implementation\n",
    "\n",
    "The implementation of these algorithms in an over engineered manner, yet still without a clearly separated api.  The details of the implementation are not important and will not be the subject of this course.  In particular, much more of the Python language is used here than we will probably even mention or see again in the course.  *You are not expected to understand or study this code.*"
   ]
  },
  {
   "cell_type": "code",
   "execution_count": 2,
   "metadata": {},
   "outputs": [],
   "source": [
    "class RootAlgorithm :\n",
    "    \"\"\"\n",
    "    Base class for a root finding algorithm.\n",
    "    \"\"\"\n",
    "    def __init__(self, func, a, b) :\n",
    "        \"\"\"\n",
    "        For us a root finding algorithm requires a function, f(x).  The algorithm will find\n",
    "        the value of x for which f(x)=0.\n",
    "        In this implementation `func` is a callable that takes one argument.\n",
    "        `a` and `b` are two initial guesses for x to use for the root finding algorithm.\n",
    "        Though we will refer to these as \"brackets\" sometimes, we do not require the root\n",
    "        to be bracketed.\n",
    "        \"\"\"\n",
    "        self.name = None\n",
    "        self.func = func\n",
    "        self.xguess = None # This must be updated in a subclass.\n",
    "        self.reset(a, b)\n",
    "    \n",
    "    def reset(self, a, b) :\n",
    "        \"\"\"\n",
    "        Reset the root finding algorithm back to its starting state.\n",
    "        \"\"\"\n",
    "        self.step = 1\n",
    "        self.set_bracket(a, b)\n",
    "        \n",
    "    def set_bracket(self, a, b) :\n",
    "        \"\"\"\n",
    "        Set the values of `a` and `b` for the algorithm.\n",
    "        \"\"\"\n",
    "        self.a = a\n",
    "        self.b = b\n",
    "        self.calculate_guess()\n",
    "    \n",
    "    def do_step(self) :\n",
    "        \"\"\"\n",
    "        Perform one step of the algorithm.\n",
    "        \"\"\"\n",
    "        self.update_state()\n",
    "        self.calculate_guess()\n",
    "        self.step += 1\n",
    "\n",
    "    def extra_curve_yvals(self, x) :\n",
    "        \"\"\"\n",
    "        Return the y values for an extra curve to include in a plot calculated at the values, `x`.\n",
    "        Here `x` may be a single number of a numpy array.\n",
    "        \"\"\"\n",
    "        return None\n",
    "    \n",
    "    def calculate_guess(self) :\n",
    "        \"\"\"\n",
    "        Calculate the guess for `x` based on the current values of `a` and `b`.\n",
    "        This is algorithm dependent and must be provided in a subclass.\n",
    "        \"\"\"\n",
    "        pass\n",
    "    \n",
    "    def update_state(self) :\n",
    "        \"\"\"\n",
    "        Update the state of the root finding.\n",
    "        This means, update the values of `a` and `b`.\n",
    "        This is algorithm dependent and must be provided in a subclass.\n",
    "        \"\"\"\n",
    "        pass\n",
    "\n",
    "class RootBisection(RootAlgorithm) :\n",
    "    \"\"\"\n",
    "    Very simplistic bisection algorithm.\n",
    "    This does not enforce bracketing (so that we can abuse it).\n",
    "    Never use this for actual root finding!\n",
    "    \"\"\"\n",
    "    def __init__(self, func, a, b) :\n",
    "        super().__init__ (func, a, b)\n",
    "        self.name = 'Bisection'\n",
    "\n",
    "    def calculate_guess(self) :\n",
    "        self.xguess = (self.a + self.b) / 2\n",
    "    \n",
    "    def update_state(self) :\n",
    "        if self.func(self.a) * self.func(self.xguess) > 0 :\n",
    "            self.a = self.xguess\n",
    "        else :\n",
    "            self.b = self.xguess\n",
    "        \n",
    "class RootSecant(RootAlgorithm) :\n",
    "    \"\"\"\n",
    "    Very simplistic secant method algorithm.\n",
    "    This does not enforce bracketing so can fail spectacularly.\n",
    "    Never use this for actual root finding!\n",
    "    \"\"\"\n",
    "    def __init__(self, func, a, b) :\n",
    "        super().__init__ (func, a, b)\n",
    "        self.name = 'Secant Method'\n",
    "\n",
    "    def extra_curve_yvals(self, x) :\n",
    "        fa = self.func(self.a)\n",
    "        fb = self.func(self.b)\n",
    "        m = (fb - fa) / (self.b - self.a)\n",
    "        y = m*(x-self.a) + fa\n",
    "        return y\n",
    "        \n",
    "    def calculate_guess(self) :\n",
    "        fa = self.func(self.a)\n",
    "        fb = self.func(self.b)\n",
    "        self.xguess = self.b - (self.b-self.a)*fb/(fb-fa)\n",
    "        \n",
    "    def update_state(self) :\n",
    "        self.a = self.b\n",
    "        self.b = self.xguess"
   ]
  },
  {
   "cell_type": "markdown",
   "metadata": {},
   "source": [
    "Define a function class. This is not really necessary since functions are already objects and we could just add information to them."
   ]
  },
  {
   "cell_type": "code",
   "execution_count": 3,
   "metadata": {},
   "outputs": [],
   "source": [
    "class Function :\n",
    "    \"\"\"\n",
    "    Wrapper for a function.\n",
    "    \"\"\"\n",
    "    def __init__(self) :\n",
    "        self.title = None\n",
    "        self.expected = None\n",
    "    \n",
    "    def __call__(self, x) :\n",
    "        pass\n",
    "    \n",
    "class Function_Sqrt2(Function) :\n",
    "    \"\"\"\n",
    "    Function for calculating the sqrt(2) using root finding.\n",
    "    The actual function is x^2-2.\n",
    "    \"\"\"\n",
    "    def __init__(self) :\n",
    "        super().__init__()\n",
    "        self.title = r'$\\sqrt{2}$'\n",
    "        self.expected = np.sqrt(2)\n",
    "        \n",
    "    def __call__(self, x) :\n",
    "        return x*x - 2\n",
    "    \n",
    "class Function_Tanh(Function) :\n",
    "    \"\"\"\n",
    "    Function for finding the root of tanh(x-1).\n",
    "    \"\"\"\n",
    "    def __init__(self) :\n",
    "        super().__init__()\n",
    "        self.title = r'$\\tanh(x-1)$'\n",
    "        self.expected = 1\n",
    "        \n",
    "    def __call__(self, x) :\n",
    "        return np.tanh(x-1)"
   ]
  },
  {
   "cell_type": "markdown",
   "metadata": {},
   "source": [
    "Do the animation using ipywidgets for input."
   ]
  },
  {
   "cell_type": "code",
   "execution_count": 4,
   "metadata": {},
   "outputs": [],
   "source": [
    "def make_box_layout():\n",
    "     return widgets.Layout(\n",
    "        border='solid 1px black',\n",
    "        margin='0px 10px 10px 0px',\n",
    "        padding='5px 5px 5px 5px'\n",
    "     )\n",
    "\n",
    "class AnimateRootFinder(widgets.HBox) :\n",
    "    def __init__ (self, algorithm_class, function, a, b) :\n",
    "        \"\"\"\n",
    "        Initialize a root finding algorithm.  This setups the display,\n",
    "        initializes the algorithm, and manages stepping through the algorithm.\n",
    "        Inputs:\n",
    "          algorithm_class : Class name of the root finding algorithm.\n",
    "                            Examples: RootBisection or RootSecant\n",
    "          function : A function object with interface defined by the Function class.\n",
    "          a, b : arrays of length 2 or 3 containing the two initial values for the\n",
    "                 root finding algorithm.\n",
    "                 Element 0 : initial value for a or b\n",
    "                 Element 1 : minimum allowed value for a or maximum allowed value for b\n",
    "                 Element 2 : optional, this is the step size from amin to bmax.\n",
    "                             If both a[2] and b[2] are provided, then a[2] is used.\n",
    "        \"\"\"\n",
    "        super().__init__()\n",
    "        # Store information for future use\n",
    "        self.ain = a\n",
    "        self.bin = b\n",
    "        self.algorithm = algorithm_class(function, a[0], b[0])\n",
    "        self.func = function\n",
    "        # xvalues to use in plot, just add 25% to end of allowed bracket.\n",
    "        self.xrange = np.linspace(self.ain[1]-np.abs(0.25*self.ain[1]),\n",
    "                                  self.bin[1]+np.abs(0.25*self.bin[1]),\n",
    "                                 100)\n",
    "        output = widgets.Output()\n",
    "        with output:\n",
    "            (self.fig, self.ax) = plt.subplots(constrained_layout=True, figsize=(5, 3.5))\n",
    "        self.fig.canvas.toolbar_position = 'bottom'\n",
    "        self.aline = self.ax.axvline(self.algorithm.a, color='r')\n",
    "        self.bline = self.ax.axvline(self.algorithm.b, color='g')\n",
    "        self.xguessline = self.ax.axvline(self.algorithm.xguess, color='k', ls='--')\n",
    "        self.funcline = self.ax.plot(self.xrange, self.func(self.xrange), 'k-')\n",
    "        # There may be an extra curve to plot\n",
    "        self.extraline = None\n",
    "        extra_yvals = self.algorithm.extra_curve_yvals(self.xrange)\n",
    "        if extra_yvals is not None :\n",
    "            self.extraline = self.ax.plot(self.xrange, extra_yvals, 'b-')[0]\n",
    "        # We definitely want the y=0\n",
    "        self.ax.axhline(0, color='k')\n",
    "        # We want the plot to look nicer\n",
    "        self.ax.minorticks_on()\n",
    "        self.ax.set_autoscale_on(False)\n",
    "        self.ax.set_xlim(self.xrange[0], self.xrange[-1])\n",
    "        # Text that will be updated at times.\n",
    "        # Set up the text objects.\n",
    "        self.xguesstext = self.fig.text(0.1, 0.8, f'$x=0$', size=14)\n",
    "        self.xguesstext.set_visible(False)\n",
    "        if self.func.expected is None :\n",
    "            self.errtext = None\n",
    "        else :\n",
    "            self.errtext = self.fig.text(0.1, 0.73, 'err=0', size=14)\n",
    "            self.errtext.set_visible(False)\n",
    "            \n",
    "        self.widgets = {}\n",
    "        step = 0.1\n",
    "        if len(a) == 3 :\n",
    "            step = a[2]\n",
    "        elif len(b) == 3 :\n",
    "            step = b[2]\n",
    "        self.widgets['bracket'] = widgets.FloatRangeSlider(value=[a[0],b[0]], min=a[1], max=b[1],\n",
    "                                                          step=step, description='Bracket',\n",
    "                                                          readout_format='.1f')\n",
    "        self.widgets['reset'] = widgets.Button(description='Reset', tooltip='Reset root finder')\n",
    "        self.widgets['do_step'] = widgets.Button(description='Do Step', tooltip='Do one step of root finding')\n",
    "        # Button actions\n",
    "        self.widgets['reset'].on_click(self.reset)\n",
    "        self.widgets['do_step'].on_click(self.do_step)\n",
    "        # Layout\n",
    "        controls = widgets.VBox([\n",
    "            self.widgets['reset'],\n",
    "            self.widgets['bracket'],\n",
    "            self.widgets['do_step']\n",
    "        ])\n",
    "        controls.layout = make_box_layout()\n",
    "\n",
    "        out_box = widgets.Box([output])\n",
    "        output.layout = make_box_layout()\n",
    "        \n",
    "        # Observe changes in the bracket.\n",
    "        self.widgets['bracket'].observe(self.update_bracket, 'value')\n",
    "        \n",
    "        self.children = [controls, output]\n",
    "        self._update_text()\n",
    "        \n",
    "    def reset(self, *args) :\n",
    "        \"Reset the root finder to the initial state.\"\n",
    "        self.algorithm.reset(self.ain[0], self.bin[0])\n",
    "        w = self.widgets.get('bracket')\n",
    "        if w is not None :\n",
    "            w.value = (self.ain[0], self.bin[0])\n",
    "            w.disabled = False\n",
    "        self.update_plot()\n",
    "    \n",
    "    def update_bracket(self, change) :\n",
    "        \"\"\"\n",
    "        Update the bracket information.  This will also update the root information.\n",
    "        \"\"\"\n",
    "        bracket = change.new\n",
    "        self.algorithm.set_bracket(bracket[0], bracket[1])\n",
    "        self.update_plot()\n",
    "        \n",
    "    def update_plot(self) :\n",
    "        \"\"\"\n",
    "        Update the plot to reflect all changes.\n",
    "        \"\"\"\n",
    "        self._update_lines()\n",
    "        self._update_text()\n",
    "        self._redraw()\n",
    "        \n",
    "    # Internal methods to do the actual updates.\n",
    "    def _update_lines(self) :\n",
    "        self.set_vline(self.aline, self.algorithm.a)\n",
    "        self.set_vline(self.bline, self.algorithm.b)\n",
    "        self.set_vline(self.xguessline, self.algorithm.xguess)\n",
    "        if self.extraline is not None :\n",
    "            extra_yvals = self.algorithm.extra_curve_yvals(self.xrange)\n",
    "            cur = self.extraline.get_data()\n",
    "            self.extraline.set_data((cur[0], extra_yvals))\n",
    "    \n",
    "    def _update_text(self) :\n",
    "        title = f'{self.algorithm.name} for {self.func.title} : Step {self.algorithm.step}'\n",
    "        self.ax.set_title(title)\n",
    "        self.xguesstext.set_text(f'$x={self.algorithm.xguess:.7g}$')\n",
    "        self.xguesstext.set_visible(True)\n",
    "        if self.errtext is not None :\n",
    "            err = np.abs(1 - self.algorithm.xguess/self.func.expected)\n",
    "            self.errtext.set_text(f'err={err:.2g}')\n",
    "            self.errtext.set_visible(True)\n",
    "        \n",
    "    def _redraw(self) :\n",
    "        self.fig.canvas.draw()\n",
    "        \n",
    "    def do_step(self, *args) :\n",
    "        \"\"\"\n",
    "        Do one step of the root finding algorithm and update the plot accordingly.\n",
    "        \"\"\"\n",
    "        # Once we start the algorithm, we can no longer adjust the bracket\n",
    "        # until the root finding is reset.\n",
    "        self.widgets['bracket'].disabled = True\n",
    "        self.algorithm.do_step()\n",
    "        self.update_plot()\n",
    "        \n",
    "    @staticmethod\n",
    "    def set_vline(line, val) :\n",
    "        \"\"\"\n",
    "        Reset the value of a matplotlib vertical line, store in `line`,\n",
    "        to the value, `val`.\n",
    "        This assumes the ordering of information stored in the line.\n",
    "        \"\"\"\n",
    "        cur = line.get_data()\n",
    "        cur[0][0] = cur[0][1] = val\n",
    "        line.set_data(cur)"
   ]
  },
  {
   "cell_type": "code",
   "execution_count": 10,
   "metadata": {},
   "outputs": [
    {
     "data": {
      "application/vnd.jupyter.widget-view+json": {
       "model_id": "aa33518bf6f4468b8cfa586b3bd68a2e",
       "version_major": 2,
       "version_minor": 0
      },
      "text/plain": [
       "AnimateRootFinder(children=(VBox(children=(Button(description='Reset', style=ButtonStyle(), tooltip='Reset roo…"
      ]
     },
     "metadata": {},
     "output_type": "display_data"
    },
    {
     "data": {
      "image/png": "[encoded data removed]",
      "text/plain": [
       "<Figure size 360x252 with 1 Axes>"
      ]
     },
     "metadata": {
      "needs_background": "light"
     },
     "output_type": "display_data"
    }
   ],
   "source": [
    "a = [1, -2, 0.1]\n",
    "b = [2, 3]\n",
    "AnimateRootFinder(RootBisection, Function_Sqrt2(), a, b)"
   ]
  },
  {
   "cell_type": "code",
   "execution_count": 6,
   "metadata": {},
   "outputs": [
    {
     "data": {
      "application/vnd.jupyter.widget-view+json": {
       "model_id": "4c59f165c6414ce0aecf6cb169fc8312",
       "version_major": 2,
       "version_minor": 0
      },
      "text/plain": [
       "AnimateRootFinder(children=(VBox(children=(Button(description='Reset', style=ButtonStyle(), tooltip='Reset roo…"
      ]
     },
     "metadata": {},
     "output_type": "display_data"
    },
    {
     "data": {
      "image/png": "[encoded data removed]",
      "text/plain": [
       "<Figure size 360x252 with 1 Axes>"
      ]
     },
     "metadata": {
      "needs_background": "light"
     },
     "output_type": "display_data"
    }
   ],
   "source": [
    "AnimateRootFinder(RootSecant, Function_Sqrt2(), a, b)"
   ]
  },
  {
   "cell_type": "code",
   "execution_count": 7,
   "metadata": {},
   "outputs": [
    {
     "data": {
      "application/vnd.jupyter.widget-view+json": {
       "model_id": "ec22253bbb78405d99b965f44e373426",
       "version_major": 2,
       "version_minor": 0
      },
      "text/plain": [
       "AnimateRootFinder(children=(VBox(children=(Button(description='Reset', style=ButtonStyle(), tooltip='Reset roo…"
      ]
     },
     "metadata": {},
     "output_type": "display_data"
    },
    {
     "data": {
      "image/png": "[encoded data removed]",
      "text/plain": [
       "<Figure size 360x252 with 1 Axes>"
      ]
     },
     "metadata": {
      "needs_background": "light"
     },
     "output_type": "display_data"
    }
   ],
   "source": [
    "AnimateRootFinder(RootSecant, Function_Tanh(), a, b)"
   ]
  },
  {
   "cell_type": "code",
   "execution_count": 8,
   "metadata": {},
   "outputs": [
    {
     "data": {
      "application/vnd.jupyter.widget-view+json": {
       "model_id": "3e2608d950e1427faf7322f394269e01",
       "version_major": 2,
       "version_minor": 0
      },
      "text/plain": [
       "AnimateRootFinder(children=(VBox(children=(Button(description='Reset', style=ButtonStyle(), tooltip='Reset roo…"
      ]
     },
     "metadata": {},
     "output_type": "display_data"
    },
    {
     "data": {
      "image/png": "[encoded data removed]",
      "text/plain": [
       "<Figure size 360x252 with 1 Axes>"
      ]
     },
     "metadata": {
      "needs_background": "light"
     },
     "output_type": "display_data"
    }
   ],
   "source": [
    "a = [-40, -50, 0.1]\n",
    "b = [2, 3]\n",
    "AnimateRootFinder(RootSecant, Function_Tanh(), a, b)"
   ]
  },
  {
   "cell_type": "code",
   "execution_count": null,
   "metadata": {},
   "outputs": [],
   "source": []
  }
 ],
 "metadata": {
  "kernelspec": {
   "display_name": "Python 3 (ipykernel)",
   "language": "python",
   "name": "python3"
  },
  "language_info": {
   "codemirror_mode": {
    "name": "ipython",
    "version": 3
   },
   "file_extension": ".py",
   "mimetype": "text/x-python",
   "name": "python",
   "nbconvert_exporter": "python",
   "pygments_lexer": "ipython3",
   "version": "3.8.10"
  }
 },
 "nbformat": 4,
 "nbformat_minor": 4
}
