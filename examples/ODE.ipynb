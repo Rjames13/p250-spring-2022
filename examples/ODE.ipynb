{
 "cells": [
  {
   "cell_type": "markdown",
   "metadata": {},
   "source": [
    "# ODE : Initial Value Problems\n",
    "\n",
    "Here we will study the numerical solution of ordinary differential equations with initial conditions specified.  We will only use the function `scipy.integrate.solve_ivp` for this purpose.  It is a general purpose solver with many options, only some of which we will explore."
   ]
  },
  {
   "cell_type": "markdown",
   "metadata": {},
   "source": [
    "## Initialization"
   ]
  },
  {
   "cell_type": "code",
   "execution_count": 1,
   "metadata": {},
   "outputs": [],
   "source": [
    "import numpy as np\n",
    "import matplotlib.pyplot as plt\n",
    "import scipy.integrate as integ\n",
    "import scipy.interpolate as interp\n",
    "# Globally fix plot styling\n",
    "import matplotlib as mpl\n",
    "mpl.rc('xtick', direction='in', top=True)\n",
    "mpl.rc('ytick', direction='in', right=True)\n",
    "mpl.rc('xtick.minor', visible=True)\n",
    "mpl.rc('ytick.minor', visible=True)"
   ]
  },
  {
   "cell_type": "markdown",
   "metadata": {},
   "source": [
    "## Documentation\n",
    "\n",
    "We have already seen the documentation for `scipy.integrate` when we studied numerical integration.  Solving a system of differential equations is very much like numerical integration, in fact, we often say that we \"integrate\" the differential equations.\n",
    "\n",
    "There are two main functions that are typically used within `scipy.integrate`: `solve_ivp`, the one we will use, and `odeint`, which appears in the \"Old API\" section.  In the past I have used `odeint`, you will find much code \"in the wild\" that uses it.  Thus, it would be good to be aware of its existence and to understand a little about it.  Regardless, we are only going to use `solve_ivp`, since, as the documentation for `odeint` states, all new code should use `solve_ivp`."
   ]
  },
  {
   "cell_type": "markdown",
   "metadata": {},
   "source": [
    "## `odeint` versus `solve_ivp`\n",
    "\n",
    "Before looking at documentation let us briefly discuss the difference between these two functions. This is an aside, mostly with information for your edification.\n",
    "\n",
    "When you look at the documentation for `scipy.integrate` you find an *Old API* section which contains `odeint`.  This is the interface that was used to solve initial value problems for years.  It has since been replaced by a more modern (and powerful) interface in `solve_ivp`. \n",
    "\n",
    "The two functions are similar in concept, but almost every choice that could be made differently between the two has been!  This means that these two are **not compatible**.  You cannot just switch between the two.  The way these functions are called, they way they call the function we provide for defining our system of differential equations, the defaults, ..., pretty much everything is different between the two!  I will leave it to you to explore all of the differences.  The ones that are of most importance to us are as follows.\n",
    "1. `odeint` defaults to a \"generic\" solver that tries to guess the best method to use. `solve_ivp` defaults to a solver that works in many cases, but may not be optimal for all problems.\n",
    "2. `odeint` has default tolerances of `1.49012e-8` for both absolute and relative tolerances. `solve_ivp` defaults to `rtol=1e-3` and `atol=1e-6`.  We will probably want to change these.\n",
    "3. `odeint` requires an array of times at which to evaluate the solution to the differential equations, this information is used when solving the system. `solve_ivp` only requires the start and stop times for the solution, it will determine the points in-between as needed to achieve the desired accuracies. An array of times *can* be passed in, but is not required.\n",
    "4. `odeint` accepts the `args=()` keyword option for passing extra arguments to the function we provide which defines the system of differential equations being solved. `solve_ivp` **did not** accept this keyword argument until a recent version.\n",
    "\n",
    "Finally, I will mention that `solve_ivp` gives us much more control over what the solver is doing.  One example of this will also be mentioned in the prelab and lab, the `events` keyword.  This is a feature of many modern solvers in many numerical packages.  There is enough to learn without adding in the extra flexibility (and thus complication) so we will not use it, even though it could be used in many of the problems we will be solving."
   ]
  },
  {
   "cell_type": "markdown",
   "metadata": {},
   "source": [
    "## `solve_ivp`\n",
    "\n",
    "Finally we are ready to check the documentation for `solve_ivp`."
   ]
  },
  {
   "cell_type": "code",
   "execution_count": 2,
   "metadata": {},
   "outputs": [],
   "source": [
    "integ.solve_ivp?"
   ]
  },
  {
   "cell_type": "markdown",
   "metadata": {},
   "source": [
    "The most difficult part in using `solve_ivp` is to understand how to specify the differential equations and initial conditions.  Recall that `solve_ivp` solves a system of *first order* differential equations with initial values specified.  This encompasses a large class of problems we encounter in physics.\n",
    "\n",
    "In its simplest form we can call this functions as\n",
    "```\n",
    "integ.solve_ivp(func, (tmin,tmax), y0)\n",
    "```\n",
    "Here `func` is a function that encodes the system of first order differential equations to be solved, `(tmin,tmax)` is the range of times over which we want to solve the system of first order differential equations, and `y0` is an array of initial conditions."
   ]
  },
  {
   "cell_type": "markdown",
   "metadata": {},
   "source": [
    "### Newton's Second Law\n",
    "\n",
    "To be more clear how to specify the system of first order differential equations and the initial conditions, let us turn to a very common example in physics, Newton's second law,\n",
    "$$\n",
    "\\frac{\\mathrm{d}^2\\vec r}{\\mathrm{dt^2}} = \\frac{\\vec F(\\vec r, \\vec v, t)}{m}.\n",
    "$$\n",
    "Here we explicitly note that the force can be a function of position, velocity, and time.  Writing the vectors in terms of their components,\n",
    "\\begin{align}\n",
    "\\vec r &= x \\hat\\imath + y \\hat\\jmath + z \\hat k, \\\\\n",
    "\\vec F &= F_x \\hat\\imath + F_y \\hat\\jmath + F_z \\hat k,\n",
    "\\end{align}\n",
    "we see that Newton's second law is a system of *second order* differential equations.  Recall that `solve_ivp` solves a system of *first order* differential equations, so what do we do?\n",
    "\n",
    "We can turn *any* higher order differential equation into a *system of first order differential equations* by defining new variables that are the time derivatives of other ones.  For the case of Newton's second law this is a natural thing to do, in fact, we do it without thinking about it.  Consider just the differential equation for the $x$-coordinate,\n",
    "$$\n",
    "\\frac{\\mathrm{d}^2 x}{\\mathrm{d}t^2} = \\frac{F_x}{m}.\n",
    "$$\n",
    "We naturally define $v_x\\equiv\\mathrm{d}x/\\mathrm{d}t$ so this second order differential equation can be written as the system of two first order differential equations,\n",
    "\\begin{align}\n",
    "\\frac{\\mathrm{d}x}{\\mathrm{d}t} &= v_x, \\\\\n",
    "\\frac{\\mathrm{d}v_x}{\\mathrm{d}t} &= \\frac{F_x}{m}.\n",
    "\\end{align}\n",
    "\n",
    "Applying this to the vector form of Newton's second law we have a system of *six* first order equations,\n",
    "\\begin{align}\n",
    "\\frac{\\mathrm{d}\\vec r}{\\mathrm{d}t} &= \\vec v, \\\\\n",
    "\\frac{\\mathrm{d}\\vec v}{\\mathrm{d}t} &= \\frac{\\vec F}{m}.\n",
    "\\end{align}\n",
    "To completely solve this system we need to specify one initial condition for each equation, so, six in total.  Again we know this from introductory physics: to describe the motion of a particle we need to specify its initial position and initial velocity.\n",
    "\n",
    "The function, `func`, we pass to `solve_ivp` is the **right hand side of the system of differential equations to be solved.**  When `solve_ivp` is solving the system of equations it calls this function as\n",
    "```\n",
    "func(t, y, *args)\n",
    "```\n",
    "Here `t` is the current time step and the use of the symbol `y` can be confusing.  The `y` here represents an array of the quantities that appear in the derivatives on the left hand side of our system of differential equations.  For example, in the case of Newton's second law what we are calling `y` here could represent the position and velocity components: $(x, y, z, v_x, v_y, v_z)$.  Now we see why the choice is unfortunate, we are using the similar symbols `y` and $y$ to mean different things!  The order in which we construct this list is arbitrary, we can define it however we like. We do, however, need to use it consistently.  We must make sure `func` returns the right hand side in the same order and similarly the initial conditions, `y0`, must be specified in the same order.  This will be made more clear in the example below.\n",
    "\n",
    "Though we have been discussing this in the context of Newton's second law it can be applied to **any** system of differential equations as noted above.  We only need to write the system in terms of first order differential equations, choose an ordering for `y`, write `func` to return the derivatives in this order, and specify the initial conditions in `y0` in the same order."
   ]
  },
  {
   "cell_type": "markdown",
   "metadata": {},
   "source": [
    "### Lambda functions: Extra arguments\n",
    "\n",
    "As we saw above, `solve_ivp` now supports the `args=()` we have seen in many places. As discussed in class, an alternative to passing in extra arguments using `args` is to use a `lambda` function. Here is another description of `lambda` functions and their uses.\n",
    "\n",
    "If you are familiar with functional programming then `lambda` functions are something you know.  Though Python is a procedural language (like C, FORTRAN, Java, *etc.*) there are many things that can be done using the functional programming paradigm.  Unfortunately we will not explore those here, we will focus on the one thing we need.\n",
    "\n",
    "A simple way to understand them is that a `lambda` function is a simple function without a name that executes a single line of code and returns a value.  We can assign a `lambda` function to a variable, pass it to another function, *etc.*  Its basic structure is\n",
    "```\n",
    "lambda arg1,arg2: do something with arg1 and arg2\n",
    "```\n",
    "There can be an arbitrary number of arguments and the \"do something\" is a single statement/expression that uses the arguments and produces a value.  Notice that `return` is not needed and cannot be included.\n",
    "\n",
    "As a simple example, suppose I wanted to define a cosine function that accepted angles in degrees instead of radians.  I could define this as a `lambda` function as\n",
    "```\n",
    "cosdeg = lambda theta: np.cos(np.deg2rad(theta))\n",
    "```\n",
    "Now if I do something like\n",
    "```\n",
    "cosdeg(60)\n",
    "```\n",
    "it should return 0.5.\n",
    "\n",
    "This idea will be used below in the conjuction with `solve_ivp` (and in the future for other purposes).\n",
    "\n",
    "Before proceeding let us verify that our simple example really does what we claim."
   ]
  },
  {
   "cell_type": "code",
   "execution_count": 3,
   "metadata": {},
   "outputs": [
    {
     "data": {
      "text/plain": "0.5000000000000001"
     },
     "execution_count": 3,
     "metadata": {},
     "output_type": "execute_result"
    }
   ],
   "source": [
    "cosdeg = lambda theta: np.cos(np.deg2rad(theta))\n",
    "cosdeg(60)"
   ]
  },
  {
   "cell_type": "markdown",
   "metadata": {},
   "source": [
    "## Simple Pendulum\n",
    "\n",
    "In the numerical integration lab we studied the simple pendulum.  We will do the same here, now solving the differential equation.  From Newtonian mechanics for a pendulum oscillating in a plane of length $\\ell$ in the presence of a constant gravitational field, $g$, the equation of motion is given by\n",
    "$$\n",
    "\\frac{\\mathrm{d}^2\\theta}{\\mathrm{d}t^2} = -\\frac{g}{\\ell} \\sin\\theta \\equiv -\\omega_0^2 \\sin\\theta.\n",
    "$$\n",
    "For convenience and for generality it is best to define $\\omega_0\\equiv\\sqrt{g/\\ell}$.\n",
    "\n",
    "To solve this differential equation with `solve_ivp` we first need to turn it into a system of first order differential equations.  In this case, it is straight forward.  If we *define* $\\omega\\equiv\\dot\\theta$, then the system of first order differential equations is given by\n",
    "\\begin{align}\n",
    "\\frac{\\mathrm{d}\\theta}{\\mathrm{d}t} &= \\omega, \\\\\n",
    "\\frac{\\mathrm{d}\\omega}{\\mathrm{d}t} &= -\\omega_0^2 \\sin\\theta.\n",
    "\\end{align}\n",
    "To fully specify a physical configuration we need to supply initial conditions at time $t=0$, that is, $\\theta(0)$ and $\\omega(0)$."
   ]
  },
  {
   "cell_type": "markdown",
   "metadata": {},
   "source": [
    "### Function Definition\n",
    "\n",
    "We can now define a function to pass to `solve_ivp` that contains this system of differential equations.  We will include `omega0` as an extra parameter passed to the function.\n",
    "\n",
    "Note that we **must document this function**.  Though in general we should always document any (nontrivial) function, when our function makes specific choices (here the order in which we store information in `y`) it is essential that these choices are clearly documented."
   ]
  },
  {
   "cell_type": "code",
   "execution_count": 4,
   "metadata": {},
   "outputs": [],
   "source": [
    "def pendulum_eom(t, y, omega0):\n",
    "    \"\"\"\n",
    "    y stores values in the following order:\n",
    "    y[0] = theta (radians)\n",
    "    y[1] = omega (radians per time)\n",
    "\n",
    "    omega0 is the 'natural frequency' of the pendulum\n",
    "    for small oscillations and should also be given\n",
    "    in units of radians per time.\n",
    "    \"\"\"\n",
    "    dydt = np.zeros_like(y)\n",
    "    dydt[0] = y[1]\n",
    "    dydt[1] = -omega0**2 * np.sin(y[0])\n",
    "    return dydt"
   ]
  },
  {
   "cell_type": "markdown",
   "metadata": {},
   "source": [
    "### Test Case: Small Amplitude Oscillations\n",
    "\n",
    "For small amplitude oscillations we know the solution to the equation of motion for the pendulum.  As always, when studying something new and when implementing something for the first time, it is best to begin with a simple test case with a known solution.\n",
    "\n",
    "To begin, if we start with the pendulum at rest with some initial amplitude, $\\theta_0$, then our initial conditions are $\\theta(0)=\\theta_0$ and $\\omega(0)=0$.  In this case, when $\\theta_0\\ll 1$ we know that\n",
    "$$ \\theta(t) = \\theta_0 \\cos(\\omega_0 t), \\quad \\omega(t) = -\\theta_0\\omega_0 \\sin(\\omega_0 t), $$\n",
    "and the period of oscillations is\n",
    "$$ T = \\frac{2\\pi}{\\omega_0}. $$\n",
    "\n",
    "As a very simple case, if we choose $\\omega_0=2\\pi$ per second, then $T=1$ second.  Let us see how to solve the differential equation and verify the results.\n",
    "\n",
    "With every thing set up we can now just use `solve_ivp` to find the desired solution."
   ]
  },
  {
   "cell_type": "code",
   "execution_count": 5,
   "metadata": {},
   "outputs": [],
   "source": [
    "omega0 = 2*np.pi\n",
    "# Initial conditions in the same order as used for pendulum_eom.\n",
    "y0 = np.array([0.01, 0])\n",
    "sol = integ.solve_ivp(lambda t, y: pendulum_eom(t, y, omega0), (0, 1.1), y0,\n",
    "                      vectorized=True, atol=1e-12, rtol=1e-12)"
   ]
  },
  {
   "cell_type": "markdown",
   "metadata": {},
   "source": [
    "What did we just do and what did we get in return?\n",
    "\n",
    "Recall that `solve_ivp` requires a few arguments and that there are others we may want to pass in.  In this case we should notice the following.\n",
    "1. The first argument to `solve_ivp` is a function that accepts `t` and `y` and returns the values of the derivatives for these inputs.  Our function, `pendulum_eom`, takes an extra argument, `omega0`, so we have used a `lambda` function to pass this in.  (We could have instead not used a `lambda` function and pass in the extra argument using `args=(omega0)`.) The `lambda` function accepts the `t,y` arguments, passes them on to `pendulum_eom` along with a fixed value of `omega0`.\n",
    "2. The second argument to `solve_ivp` are the initial and final times over which we will solve the differential equations.  Here I chose a range slightly larger than one period.\n",
    "3. The third argument to `solve_ivp` are the initial conditions stored in the array `y0`.  These must be stored in the same order as we store the derivatives that are returned by `pendulum_eom`.  The order is arbitrary, but we must consistently use the order we have chosen.\n",
    "4. The rest of the arguments are optional.  I have chosen to tell `solve_ivp` that our function is vectorized.  This means that if an array of times along with a two-dimensional array of `y` values are passed in, the function will calculate all the derivative for all the times, at once.  We will frequently write functions that are vectorized without even trying to (but not always, for example in the lab we may not) and in principle `solve_ivp` can be more efficient if it has a vectorized function.\n",
    "5. I also chose to make the tolerances much smaller so that we will (hopefully) get more accurate results.\n",
    "6. You will also notice that I **did not** specify at what times to calculate the solutions.  This could have been done by passing in an array of times using the `t_eval` keyword.\n",
    "\n",
    "The results are stored in the return value from `solve_ivp`, what I have called `sol`.  Let us see what it is and what it contains."
   ]
  },
  {
   "cell_type": "code",
   "execution_count": 6,
   "metadata": {},
   "outputs": [
    {
     "data": {
      "text/plain": "scipy.integrate._ivp.ivp.OdeResult"
     },
     "execution_count": 6,
     "metadata": {},
     "output_type": "execute_result"
    }
   ],
   "source": [
    "type(sol)"
   ]
  },
  {
   "cell_type": "markdown",
   "metadata": {},
   "source": [
    "The type is not very instructive, it is some object defined specifically to return information from `solve_ivp`.  We can get information about it in the usual ways."
   ]
  },
  {
   "cell_type": "code",
   "execution_count": 7,
   "metadata": {},
   "outputs": [],
   "source": [
    "sol?"
   ]
  },
  {
   "cell_type": "markdown",
   "metadata": {},
   "source": [
    "As we see, this is essentially a dictionary, so we can access its information in standard Python ways."
   ]
  },
  {
   "cell_type": "code",
   "execution_count": 8,
   "metadata": {},
   "outputs": [
    {
     "data": {
      "text/plain": "dict_keys(['t', 'y', 'sol', 't_events', 'y_events', 'nfev', 'njev', 'nlu', 'status', 'message', 'success'])"
     },
     "execution_count": 8,
     "metadata": {},
     "output_type": "execute_result"
    }
   ],
   "source": [
    "sol.keys()"
   ]
  },
  {
   "cell_type": "markdown",
   "metadata": {},
   "source": [
    "Some of the relevant fields are `success` and `message`, which tell us whether `solve_ivp` thinks it actually solved the system, that is, whether it converged or not."
   ]
  },
  {
   "cell_type": "code",
   "execution_count": null,
   "metadata": {},
   "outputs": [],
   "source": [
    "print(f'''Did solve_ivp succeed? {sol.success}.\n",
    "The message it returned is \"{sol.message}\"''')"
   ]
  },
  {
   "cell_type": "markdown",
   "metadata": {},
   "source": [
    "The most important fields are those that contain the results, `t` and `y`.  These contain the times at which the solutions were calculated and the solutions themselves, respectively."
   ]
  },
  {
   "cell_type": "code",
   "execution_count": 10,
   "metadata": {},
   "outputs": [
    {
     "name": "stdout",
     "output_type": "stream",
     "text": [
      "t = [0.         0.00204566 0.0064623  0.01088045 0.01530051 0.01972314\n",
      " 0.02414899 0.02857874 0.03301307 0.03745264 0.04189814 0.04635029\n",
      " 0.05080979 0.05527736 0.05975376 0.06423975 0.06873612 0.07324368\n",
      " 0.07776326 0.08229574 0.08684203 0.09140306 0.09597983 0.10057337\n",
      " 0.10518477 0.10981517 0.11446578 0.11913789 0.12383287 0.12855217\n",
      " 0.13329735 0.1380701  0.14287222 0.14770567 0.15257257 0.15747524\n",
      " 0.16241621 0.16739827 0.1724245  0.17749831 0.18262349 0.1878043\n",
      " 0.19304551 0.19835249 0.20373131 0.20918879 0.21473262 0.2203713\n",
      " 0.22611396 0.23196984 0.23794691 0.24404908 0.25027106 0.25659086\n",
      " 0.26296437 0.26932909 0.27562211 0.28180015 0.28784461 0.29375459\n",
      " 0.29953799 0.30520584 0.31076944 0.31623925 0.32162455 0.32693347\n",
      " 0.3321731  0.33734958 0.3424683  0.34753399 0.35255084 0.35752256\n",
      " 0.36245246 0.36734352 0.37219844 0.37701967 0.38180943 0.38656976\n",
      " 0.39130254 0.39600951 0.40069228 0.40535235 0.40999112 0.41460991\n",
      " 0.41920994 0.4237924  0.42835838 0.43290893 0.43744505 0.4419677\n",
      " 0.4464778  0.45097621 0.4554638  0.45994138 0.46440974 0.46886966\n",
      " 0.47332188 0.47776714 0.48220615 0.48663962 0.49106824 0.49549269\n",
      " 0.49991366 0.5043318  0.50874927 0.51316833 0.51758963 0.52201384\n",
      " 0.52644163 0.53087366 0.53531061 0.53975316 0.54420201 0.54865787\n",
      " 0.55312145 0.5575935  0.56207476 0.56656601 0.57106806 0.57558173\n",
      " 0.58010787 0.58464737 0.58920116 0.5937702  0.59835551 0.60295814\n",
      " 0.60757921 0.61221991 0.61688147 0.62156522 0.62627259 0.63100507\n",
      " 0.63576429 0.64055199 0.64537005 0.65022051 0.6551056  0.66002774\n",
      " 0.66498958 0.66999407 0.67504445 0.68014432 0.6852977  0.6905091\n",
      " 0.6957836  0.70112691 0.70654549 0.7120466  0.71763836 0.72332963\n",
      " 0.7291297  0.7350474  0.74108909 0.74725472 0.75353137 0.75988574\n",
      " 0.76626311 0.7725977  0.77883505 0.78494502 0.79091933 0.7967626\n",
      " 0.80248484 0.80809742 0.8136113  0.81903633 0.82438121 0.82965349\n",
      " 0.83485975 0.84000574 0.8450965  0.85013645 0.85512953 0.86007924\n",
      " 0.86498871 0.86986077 0.87469798 0.87950267 0.88427697 0.88902284\n",
      " 0.89374207 0.89843634 0.90310719 0.90775608 0.91238436 0.91699331\n",
      " 0.92158411 0.92615791 0.93071579 0.93525876 0.9397878  0.94430385\n",
      " 0.9488078  0.95330051 0.95778283 0.96225555 0.96671945 0.97117529\n",
      " 0.97562382 0.98006576 0.98450182 0.9889327  0.99335908 0.99778164\n",
      " 1.00220107 1.00661802 1.01103622 1.01545636 1.01987908 1.02430506\n",
      " 1.02873496 1.03316944 1.0376092  1.04205493 1.04650731 1.05096707\n",
      " 1.05543493 1.05991164 1.06439797 1.0688947  1.07340265 1.07792266\n",
      " 1.08245559 1.08700236 1.09156391 1.09614123 1.1       ]\n",
      "y = [[ 1.00000000e-02  9.99917400e-03  9.99175792e-03  9.97664139e-03\n",
      "   9.95382576e-03  9.92331356e-03  9.88510870e-03  9.83921647e-03\n",
      "   9.78564355e-03  9.72439803e-03  9.65548939e-03  9.57892845e-03\n",
      "   9.49472741e-03  9.40289978e-03  9.30346035e-03  9.19642516e-03\n",
      "   9.08181140e-03  8.95963742e-03  8.82992254e-03  8.69268708e-03\n",
      "   8.54795214e-03  8.39573953e-03  8.23607161e-03  8.06897111e-03\n",
      "   7.89446092e-03  7.71256389e-03  7.52330251e-03  7.32669863e-03\n",
      "   7.12277307e-03  6.91154521e-03  6.69303251e-03  6.46724986e-03\n",
      "   6.23420899e-03  5.99391759e-03  5.74637842e-03  5.49158817e-03\n",
      "   5.22953615e-03  4.96020275e-03  4.68355758e-03  4.39955732e-03\n",
      "   4.10814316e-03  3.80923785e-03  3.50274230e-03  3.18853193e-03\n",
      "   2.86645292e-03  2.53631910e-03  2.19791107e-03  1.85098058e-03\n",
      "   1.49526704e-03  1.13053937e-03  7.56688895e-04  3.73916542e-04\n",
      "  -1.69328831e-05 -4.13897733e-04 -8.13573929e-04 -1.21139665e-03\n",
      "  -1.60283594e-03 -1.98468952e-03 -2.35539734e-03 -2.71457603e-03\n",
      "  -3.06244265e-03 -3.39943889e-03 -3.72604632e-03 -4.04271143e-03\n",
      "  -4.34982183e-03 -4.64770403e-03 -4.93662892e-03 -5.21681955e-03\n",
      "  -5.48845880e-03 -5.75169621e-03 -6.00665381e-03 -6.25343092e-03\n",
      "  -6.49210818e-03 -6.72275080e-03 -6.94541125e-03 -7.16013155e-03\n",
      "  -7.36694504e-03 -7.56587796e-03 -7.75695069e-03 -7.94017888e-03\n",
      "  -8.11557431e-03 -8.28314566e-03 -8.44289918e-03 -8.59483920e-03\n",
      "  -8.73896865e-03 -8.87528944e-03 -9.00380280e-03 -9.12450958e-03\n",
      "  -9.23741053e-03 -9.34250650e-03 -9.43979863e-03 -9.52928854e-03\n",
      "  -9.61097844e-03 -9.68487128e-03 -9.75097083e-03 -9.80928179e-03\n",
      "  -9.85980989e-03 -9.90256189e-03 -9.93754568e-03 -9.96477035e-03\n",
      "  -9.98424615e-03 -9.99598459e-03 -9.99999842e-03 -9.99630167e-03\n",
      "  -9.98490453e-03 -9.96580758e-03 -9.93901266e-03 -9.90452303e-03\n",
      "  -9.86234329e-03 -9.81247946e-03 -9.75493896e-03 -9.68973058e-03\n",
      "  -9.61686450e-03 -9.53635226e-03 -9.44820675e-03 -9.35244213e-03\n",
      "  -9.24907385e-03 -9.13811856e-03 -9.01959405e-03 -8.89351919e-03\n",
      "  -8.75991382e-03 -8.61879868e-03 -8.47019526e-03 -8.31412567e-03\n",
      "  -8.15061249e-03 -7.97967855e-03 -7.80134677e-03 -7.61563983e-03\n",
      "  -7.42257993e-03 -7.22218845e-03 -7.01448553e-03 -6.79948960e-03\n",
      "  -6.57721689e-03 -6.34768075e-03 -6.11089091e-03 -5.86685265e-03\n",
      "  -5.61556575e-03 -5.35702325e-03 -5.09121006e-03 -4.81810127e-03\n",
      "  -4.53766007e-03 -4.24983550e-03 -3.95455959e-03 -3.65174426e-03\n",
      "  -3.34127771e-03 -3.02302069e-03 -2.69680296e-03 -2.36242105e-03\n",
      "  -2.01963955e-03 -1.66820059e-03 -1.30785118e-03 -9.38407210e-04\n",
      "  -5.59888508e-04 -1.72776469e-04  2.21569008e-04  6.20443492e-04\n",
      "   1.01976688e-03  1.41479211e-03  1.80156683e-03  2.17776416e-03\n",
      "   2.54251038e-03  2.89579383e-03  3.23798063e-03  3.56954748e-03\n",
      "   3.89096296e-03  4.20264426e-03  4.50494703e-03  4.79816810e-03\n",
      "   5.08255264e-03  5.35830202e-03  5.62558110e-03  5.88452453e-03\n",
      "   6.13524206e-03  6.37782290e-03  6.61233934e-03  6.83884970e-03\n",
      "   7.05740081e-03  7.26802997e-03  7.47076669e-03  7.66563403e-03\n",
      "   7.85264980e-03  8.03182756e-03  8.20317739e-03  8.36670664e-03\n",
      "   8.52242049e-03  8.67032252e-03  8.81041507e-03  8.94269965e-03\n",
      "   9.06717727e-03  9.18384870e-03  9.29271472e-03  9.39377630e-03\n",
      "   9.48703481e-03  9.57249215e-03  9.65015091e-03  9.72001445e-03\n",
      "   9.78208702e-03  9.83637382e-03  9.88288112e-03  9.92161625e-03\n",
      "   9.95258773e-03  9.97580523e-03  9.99127966e-03  9.99902316e-03\n",
      "   9.99904915e-03  9.99137230e-03  9.97599523e-03  9.95291913e-03\n",
      "   9.92214657e-03  9.88368150e-03  9.83752926e-03  9.78369659e-03\n",
      "   9.72219162e-03  9.65302387e-03  9.57620421e-03  9.49174488e-03\n",
      "   9.39965945e-03  9.29996274e-03  9.19267083e-03  9.07780096e-03\n",
      "   8.95537149e-03  8.82540182e-03  8.68791225e-03  8.54292393e-03\n",
      "   8.39045869e-03  8.23053891e-03  8.09042966e-03]\n",
      " [ 0.00000000e+00 -8.07556730e-04 -2.55046912e-03 -4.29201300e-03\n",
      "  -6.03099881e-03 -7.76633908e-03 -9.49694338e-03 -1.12217180e-02\n",
      "  -1.29395655e-02 -1.46493846e-02 -1.63500696e-02 -1.80405099e-02\n",
      "  -1.97195900e-02 -2.13861887e-02 -2.30391789e-02 -2.46774269e-02\n",
      "  -2.62997920e-02 -2.79051257e-02 -2.94922713e-02 -3.10600633e-02\n",
      "  -3.26073260e-02 -3.41328735e-02 -3.56355078e-02 -3.71140184e-02\n",
      "  -3.85671808e-02 -3.99937552e-02 -4.13924846e-02 -4.27620935e-02\n",
      "  -4.41012856e-02 -4.54087413e-02 -4.66831154e-02 -4.79230335e-02\n",
      "  -4.91270888e-02 -5.02938376e-02 -5.14217945e-02 -5.25094265e-02\n",
      "  -5.35551459e-02 -5.45573021e-02 -5.55141717e-02 -5.64239463e-02\n",
      "  -5.72847174e-02 -5.80944588e-02 -5.88510035e-02 -5.95520156e-02\n",
      "  -6.01949549e-02 -6.07770327e-02 -6.12951555e-02 -6.17458561e-02\n",
      "  -6.21252131e-02 -6.24287653e-02 -6.26514516e-02 -6.27876520e-02\n",
      "  -6.28315012e-02 -6.27777489e-02 -6.26233024e-02 -6.23688625e-02\n",
      "  -6.20192353e-02 -6.15816833e-02 -6.10637927e-02 -6.04722715e-02\n",
      "  -5.98126963e-02 -5.90896727e-02 -5.83070664e-02 -5.74681964e-02\n",
      "  -5.65759744e-02 -5.56330034e-02 -5.46416483e-02 -5.36040859e-02\n",
      "  -5.25223416e-02 -5.13983179e-02 -5.02338151e-02 -4.90305481e-02\n",
      "  -4.77901594e-02 -4.65142297e-02 -4.52042862e-02 -4.38618099e-02\n",
      "  -4.24882412e-02 -4.10849846e-02 -3.96534131e-02 -3.81948717e-02\n",
      "  -3.67106799e-02 -3.52021348e-02 -3.36705129e-02 -3.21170722e-02\n",
      "  -3.05430540e-02 -2.89496841e-02 -2.73381743e-02 -2.57097235e-02\n",
      "  -2.40655185e-02 -2.24067355e-02 -2.07345402e-02 -1.90500891e-02\n",
      "  -1.73545298e-02 -1.56490020e-02 -1.39346375e-02 -1.22125613e-02\n",
      "  -1.04838918e-02 -8.74974121e-03 -7.01121596e-03 -5.26941727e-03\n",
      "  -3.52544137e-03 -1.78037993e-03 -3.53203702e-05  1.70865377e-03\n",
      "   3.45104464e-03  5.19140169e-03  6.92863883e-03  8.66166711e-03\n",
      "   1.03893944e-02  1.21107252e-02  1.38245601e-02  1.55297955e-02\n",
      "   1.72253232e-02  1.89100303e-02  2.05827983e-02  2.22425030e-02\n",
      "   2.38880139e-02  2.55181938e-02  2.71318980e-02  2.87279741e-02\n",
      "   3.03052606e-02  3.18625870e-02  3.33987725e-02  3.49126249e-02\n",
      "   3.64029400e-02  3.78685002e-02  3.93080733e-02  4.07204107e-02\n",
      "   4.21042463e-02  4.34582939e-02  4.47812456e-02  4.60717689e-02\n",
      "   4.73285039e-02  4.85500599e-02  4.97350117e-02  5.08818946e-02\n",
      "   5.19891995e-02  5.30553660e-02  5.40787750e-02  5.50577398e-02\n",
      "   5.59904944e-02  5.68751810e-02  5.77098327e-02  5.84923536e-02\n",
      "   5.92204932e-02  5.98918152e-02  6.05036571e-02  6.10530802e-02\n",
      "   6.15368074e-02  6.19511474e-02  6.22919099e-02  6.25543272e-02\n",
      "   6.27330324e-02  6.28222123e-02  6.28161663e-02  6.27105385e-02\n",
      "   6.25040342e-02  6.21995774e-02  6.18035278e-02  6.13235383e-02\n",
      "   6.07668193e-02  6.01394879e-02  5.94465896e-02  5.86923203e-02\n",
      "   5.78802423e-02  5.70134496e-02  5.60946841e-02  5.51264184e-02\n",
      "   5.41109148e-02  5.30502678e-02  5.19464364e-02  5.08012678e-02\n",
      "   4.96165164e-02  4.83938583e-02  4.71349027e-02  4.58412018e-02\n",
      "   4.45142582e-02  4.31555310e-02  4.17664417e-02  4.03483781e-02\n",
      "   3.89026982e-02  3.74307334e-02  3.59337915e-02  3.44131585e-02\n",
      "   3.28701014e-02  3.13058691e-02  2.97216949e-02  2.81187970e-02\n",
      "   2.64983806e-02  2.48616381e-02  2.32097508e-02  2.15438893e-02\n",
      "   1.98652145e-02  1.81748782e-02  1.64740239e-02  1.47637870e-02\n",
      "   1.30452959e-02  1.13196721e-02  9.58803059e-03  7.85148068e-03\n",
      "   6.11112605e-03  4.36806526e-03  2.62339217e-03  8.78196176e-04\n",
      "  -8.66437322e-04 -2.60942668e-03 -4.35090175e-03 -6.08978200e-03\n",
      "  -7.82497985e-03 -9.55540481e-03 -1.12799630e-02 -1.29975569e-02\n",
      "  -1.47070851e-02 -1.64074415e-02 -1.80975157e-02 -1.97761919e-02\n",
      "  -2.14423486e-02 -2.30948586e-02 -2.47325878e-02 -2.63543954e-02\n",
      "  -2.79591326e-02 -2.95456425e-02 -3.11127591e-02 -3.26593066e-02\n",
      "  -3.41840984e-02 -3.56859363e-02 -3.69291358e-02]]\n"
     ]
    }
   ],
   "source": [
    "print(\"t =\", sol.t)\n",
    "print(\"y =\", sol.y)"
   ]
  },
  {
   "cell_type": "markdown",
   "metadata": {},
   "source": [
    "How is `y` structured?  Let us look."
   ]
  },
  {
   "cell_type": "code",
   "execution_count": 11,
   "metadata": {},
   "outputs": [
    {
     "name": "stdout",
     "output_type": "stream",
     "text": [
      "Number of times: 227\n",
      "Shape of y: (2, 227)\n"
     ]
    }
   ],
   "source": [
    "print(f'''Number of times: {len(sol.t)}\n",
    "Shape of y: {sol.y.shape}''')"
   ]
  },
  {
   "cell_type": "markdown",
   "metadata": {},
   "source": [
    "So we see that `y` has 2 rows and as many columns as it needs (one for each time in `t`).  The order of the rows is the same as we chose in our function `pendulum_eom`.  For our choice this means `y[0]` is $\\theta(t)$ and `y[1]` is $\\omega(t)$.\n",
    "\n",
    "To verify this let us plot these two along with the known results. (It would be better to plot the absolute difference between the two in order to gauge the size of the errors, but this is nicer to look at.)"
   ]
  },
  {
   "cell_type": "code",
   "execution_count": 12,
   "metadata": {},
   "outputs": [
    {
     "data": {
      "text/plain": "<Figure size 432x288 with 2 Axes>",
      "image/png": "[encoded data removed]"
     },
     "metadata": {
      "needs_background": "light"
     },
     "output_type": "display_data"
    }
   ],
   "source": [
    "fig = plt.figure()\n",
    "# For amusement we show how to produce a plot with\n",
    "# different scales on the left and right axes.\n",
    "axtheta = fig.add_subplot(111)\n",
    "axomega = axtheta.twinx()\n",
    "axtheta.axhline(0, color='k')\n",
    "axtheta.plot(sol.t, np.rad2deg(sol.y[0]), 'k-', label=r'$\\theta(t)$: Numerical')\n",
    "axtheta.plot(sol.t, np.rad2deg(y0[0]*np.cos(omega0*sol.t)), 'r--',\n",
    "             label=r'$\\theta(t)$: Analytical')\n",
    "axomega.plot(sol.t, np.rad2deg(sol.y[1]), 'g-', label=r'$\\omega(t)$: Numerical')\n",
    "axomega.plot(sol.t, np.rad2deg(-y0[0]*omega0*np.sin(omega0*sol.t)), 'b--',\n",
    "             label=r'$\\omega(t)$: Analytical')\n",
    "axtheta.legend(loc='upper left')\n",
    "axomega.legend(loc='lower right')\n",
    "axtheta.set_xlabel('Time (seconds)')\n",
    "axtheta.set_ylabel('Amplitude (degrees)')\n",
    "axomega.set_ylabel('Speed (degrees/second)')\n",
    "axtheta.set_title('Motion of a Small Amplitude Pendulum')\n",
    "axtheta.set_xlim(0, 1.1);"
   ]
  },
  {
   "cell_type": "markdown",
   "metadata": {},
   "source": [
    "Those plots look in good agreement.  We can also calculate the period.  How should we do this?  A simple way is to look for the times where $\\omega(t)=0$, the extrema of the plot.  Since we have calculated this over one period, the last time at which this is true will be the period of the oscillation.  We can do this using a spline.  If you look at the documentation for `InterpolatedUnivariateSpline` we find that if we use a cubic spline, then we can also directly get the roots of this spline! (This is one of many peculiarities of the api.)"
   ]
  },
  {
   "cell_type": "code",
   "execution_count": 13,
   "metadata": {},
   "outputs": [
    {
     "name": "stdout",
     "output_type": "stream",
     "text": [
      "Period = 1.0000062500352112 seconds, expected = 1 second\n"
     ]
    }
   ],
   "source": [
    "omega_t_spline = interp.InterpolatedUnivariateSpline(sol.t, sol.y[1])\n",
    "roots = omega_t_spline.roots()\n",
    "print(\"Period =\", roots[-1], \"seconds, expected = 1 second\")"
   ]
  },
  {
   "cell_type": "markdown",
   "metadata": {},
   "source": [
    "### Larger Amplitude Test\n",
    "\n",
    "Since the small amplitude test was successful, we can now try it for a larger amplitude.  Here we use $\\theta(0)=10$ and make a quick plot of the amplitude as compared to the the amplitude from the small amplitude approximation."
   ]
  },
  {
   "cell_type": "code",
   "execution_count": 14,
   "metadata": {},
   "outputs": [
    {
     "data": {
      "text/plain": "<Figure size 432x288 with 1 Axes>",
      "image/png": "[encoded data removed]"
     },
     "metadata": {
      "needs_background": "light"
     },
     "output_type": "display_data"
    }
   ],
   "source": [
    "y0 = np.array([10., 0])\n",
    "sol = integ.solve_ivp(lambda t, y: pendulum_eom(t, y, omega0), (0, 2), y0,\n",
    "                      vectorized=True, atol=1e-12, rtol=1e-12)\n",
    "plt.plot(sol.t, sol.y[0], label='Numerical')\n",
    "plt.plot(sol.t, y0[0]*np.cos(omega0*sol.t), label='Analytical')\n",
    "plt.xlabel('$t$')\n",
    "plt.ylabel(r'$\\theta(t)$')\n",
    "plt.legend();"
   ]
  },
  {
   "cell_type": "markdown",
   "metadata": {},
   "source": [
    "What happened? This is physically impossible!  The numerical solution never goes to zero!"
   ]
  },
  {
   "cell_type": "markdown",
   "metadata": {},
   "source": [
    "To understand this we need to think back to what we are actually doing and the choices we have made.  What does $\\theta(0)=10$ mean?  It is not just a large number, it is a physically nonsensical initial condition.  Recall that $\\theta$ is specified in radians.  What is 10 radians? Well, $\\pi$ is about 3.14 radians, so we are specifying $\\theta(0)>\\pi$.  That does not make sense physically, hence, numerically we still get a result, but it is nonsensical.\n",
    "\n",
    "If we meant to specify 10 degrees, then we would find..."
   ]
  },
  {
   "cell_type": "code",
   "execution_count": 15,
   "metadata": {},
   "outputs": [
    {
     "data": {
      "text/plain": "<Figure size 432x288 with 1 Axes>",
      "image/png": "[encoded data removed]"
     },
     "metadata": {
      "needs_background": "light"
     },
     "output_type": "display_data"
    }
   ],
   "source": [
    "y0 = np.array([np.deg2rad(10.), 0])\n",
    "sol = integ.solve_ivp(lambda t, y: pendulum_eom(t, y, omega0), (0, 2), y0,\n",
    "                      vectorized=True, atol=1e-12, rtol=1e-12)\n",
    "plt.plot(sol.t, sol.y[0], label='Numerical')\n",
    "plt.plot(sol.t, y0[0]*np.cos(omega0*sol.t), label='Analytical')\n",
    "plt.xlabel('$t$')\n",
    "plt.ylabel(r'$\\theta(t)$')\n",
    "plt.legend();"
   ]
  },
  {
   "cell_type": "markdown",
   "metadata": {},
   "source": [
    "So we see that this is still in good agreement with the small amplitude approximation.  10 degrees is not that large of a deviation."
   ]
  },
  {
   "cell_type": "markdown",
   "metadata": {},
   "source": [
    "### Period versus Amplitude\n",
    "\n",
    "With all of this understood, we can now do many things.  Here is one of them.  Here we will do something similar to the previous lab (though in far less detail) and calculate the period as a function of amplitude.  This is a less efficient way to do what we did in the lab since here we are solving for the full motion of the pendulum which is overkill if we only want the period.  Note that this does require a loop.  *This is slow!*  We actually have to wait for it to run!"
   ]
  },
  {
   "cell_type": "code",
   "execution_count": 16,
   "metadata": {},
   "outputs": [],
   "source": [
    "# Consider a range of periods.\n",
    "theta0deg = np.arange(1, 150)\n",
    "theta0 = np.deg2rad(theta0deg)\n",
    "# Array to store the results\n",
    "period = np.zeros_like(theta0)\n",
    "for j in range(len(theta0)):\n",
    "    y0 = np.array([theta0[j], 0])\n",
    "    # Pick a large enough time range so that we can get at least one period.\n",
    "    # This is \"hand picked\" and depends on the choice of omega0.\n",
    "    sol = integ.solve_ivp(lambda t, y: pendulum_eom(t, y, omega0), (0, 5), y0,\n",
    "                          vectorized=True, atol=1e-12, rtol=1e-12)\n",
    "    omega_t_spline = interp.InterpolatedUnivariateSpline(sol.t, sol.y[1])\n",
    "    roots = omega_t_spline.roots()\n",
    "    # Find the period.  We do this by finding the second time that omega(t)=0\n",
    "    # for t>0.  Due to numerical precision, it is possible that the first time\n",
    "    # will be a very small number close to zero.  We want to skip this time.\n",
    "    # Thus the index of the root we want will either be 1 or 2, depending on\n",
    "    # the size of the first root.\n",
    "    ind = 1\n",
    "    if np.abs(roots[0]) < 0.1:\n",
    "        ind += 1\n",
    "    period[j] = roots[ind]"
   ]
  },
  {
   "cell_type": "markdown",
   "metadata": {},
   "source": [
    "Finally, we plot the results in a way similar to that from the previous lab.  Recall that the small amplitude period is 1 second."
   ]
  },
  {
   "cell_type": "code",
   "execution_count": 17,
   "metadata": {},
   "outputs": [
    {
     "data": {
      "text/plain": "<Figure size 432x288 with 1 Axes>",
      "image/png": "[encoded data removed]"
     },
     "metadata": {
      "needs_background": "light"
     },
     "output_type": "display_data"
    }
   ],
   "source": [
    "fig = plt.figure()\n",
    "ax = fig.add_subplot(111)\n",
    "ax.plot(theta0deg, period)\n",
    "ax.set_xlabel('Amplitude (degrees)')\n",
    "ax.set_ylabel('Period (seconds)')\n",
    "ax.set_title('Period of a Simple Pendulum')\n",
    "ax.set_xlim(theta0deg[0], theta0deg[-1]);"
   ]
  },
  {
   "cell_type": "markdown",
   "metadata": {},
   "source": [
    "### Other Cases\n",
    "\n",
    "With the code we have written we can now apply it to any case we want.  As one more example, let us consider a pendulum of length $\\ell=2\\;\\mathrm{m}$, have the bob of the pendulum start at its lowest point, and give it an initial angular speed of 20 degrees/second.\n",
    "\n",
    "To apply this case we first need to convert these parameters to those used in our code."
   ]
  },
  {
   "cell_type": "code",
   "execution_count": 18,
   "metadata": {},
   "outputs": [],
   "source": [
    "length = 2  # m\n",
    "omega0 = np.sqrt(9.8/length)  # This is sqrt(g/l)\n",
    "angspeed = np.deg2rad(20.)  # Convert speed to radians per second."
   ]
  },
  {
   "cell_type": "markdown",
   "metadata": {},
   "source": [
    "Now we can use these to solve for the motion and produce a nice plot. As noted above, `solve_ivp` does support `args`. To see this, instead of using a `lambda` function, we will use `args` here."
   ]
  },
  {
   "cell_type": "code",
   "execution_count": 19,
   "metadata": {},
   "outputs": [
    {
     "ename": "TypeError",
     "evalue": "Value after * must be an iterable, not numpy.float64",
     "output_type": "error",
     "traceback": [
      "\u001B[1;31m---------------------------------------------------------------------------\u001B[0m",
      "\u001B[1;31mTypeError\u001B[0m                                 Traceback (most recent call last)",
      "\u001B[1;32mC:\\Users\\ROBINJ~1\\AppData\\Local\\Temp/ipykernel_43072/2928003212.py\u001B[0m in \u001B[0;36m<module>\u001B[1;34m\u001B[0m\n\u001B[0;32m      1\u001B[0m \u001B[0my0\u001B[0m \u001B[1;33m=\u001B[0m \u001B[0mnp\u001B[0m\u001B[1;33m.\u001B[0m\u001B[0marray\u001B[0m\u001B[1;33m(\u001B[0m\u001B[1;33m[\u001B[0m\u001B[1;36m0.\u001B[0m\u001B[1;33m,\u001B[0m \u001B[0mangspeed\u001B[0m\u001B[1;33m]\u001B[0m\u001B[1;33m)\u001B[0m\u001B[1;33m\u001B[0m\u001B[1;33m\u001B[0m\u001B[0m\n\u001B[0;32m      2\u001B[0m \u001B[1;31m# Maximum time arbitrarily chosen\u001B[0m\u001B[1;33m\u001B[0m\u001B[1;33m\u001B[0m\u001B[1;33m\u001B[0m\u001B[0m\n\u001B[1;32m----> 3\u001B[1;33m sol = integ.solve_ivp(pendulum_eom, (0, 5.), y0, args=(omega0),\n\u001B[0m\u001B[0;32m      4\u001B[0m                       vectorized=True, atol=1e-12, rtol=1e-12)\n",
      "\u001B[1;32mc:\\users\\robin james\\appdata\\local\\programs\\python\\python39\\lib\\site-packages\\scipy\\integrate\\_ivp\\ivp.py\u001B[0m in \u001B[0;36msolve_ivp\u001B[1;34m(fun, t_span, y0, method, t_eval, dense_output, events, vectorized, args, **options)\u001B[0m\n\u001B[0;32m    540\u001B[0m         \u001B[0mmethod\u001B[0m \u001B[1;33m=\u001B[0m \u001B[0mMETHODS\u001B[0m\u001B[1;33m[\u001B[0m\u001B[0mmethod\u001B[0m\u001B[1;33m]\u001B[0m\u001B[1;33m\u001B[0m\u001B[1;33m\u001B[0m\u001B[0m\n\u001B[0;32m    541\u001B[0m \u001B[1;33m\u001B[0m\u001B[0m\n\u001B[1;32m--> 542\u001B[1;33m     \u001B[0msolver\u001B[0m \u001B[1;33m=\u001B[0m \u001B[0mmethod\u001B[0m\u001B[1;33m(\u001B[0m\u001B[0mfun\u001B[0m\u001B[1;33m,\u001B[0m \u001B[0mt0\u001B[0m\u001B[1;33m,\u001B[0m \u001B[0my0\u001B[0m\u001B[1;33m,\u001B[0m \u001B[0mtf\u001B[0m\u001B[1;33m,\u001B[0m \u001B[0mvectorized\u001B[0m\u001B[1;33m=\u001B[0m\u001B[0mvectorized\u001B[0m\u001B[1;33m,\u001B[0m \u001B[1;33m**\u001B[0m\u001B[0moptions\u001B[0m\u001B[1;33m)\u001B[0m\u001B[1;33m\u001B[0m\u001B[1;33m\u001B[0m\u001B[0m\n\u001B[0m\u001B[0;32m    543\u001B[0m \u001B[1;33m\u001B[0m\u001B[0m\n\u001B[0;32m    544\u001B[0m     \u001B[1;32mif\u001B[0m \u001B[0mt_eval\u001B[0m \u001B[1;32mis\u001B[0m \u001B[1;32mNone\u001B[0m\u001B[1;33m:\u001B[0m\u001B[1;33m\u001B[0m\u001B[1;33m\u001B[0m\u001B[0m\n",
      "\u001B[1;32mc:\\users\\robin james\\appdata\\local\\programs\\python\\python39\\lib\\site-packages\\scipy\\integrate\\_ivp\\rk.py\u001B[0m in \u001B[0;36m__init__\u001B[1;34m(self, fun, t0, y0, t_bound, max_step, rtol, atol, vectorized, first_step, **extraneous)\u001B[0m\n\u001B[0;32m     92\u001B[0m         \u001B[0mself\u001B[0m\u001B[1;33m.\u001B[0m\u001B[0mmax_step\u001B[0m \u001B[1;33m=\u001B[0m \u001B[0mvalidate_max_step\u001B[0m\u001B[1;33m(\u001B[0m\u001B[0mmax_step\u001B[0m\u001B[1;33m)\u001B[0m\u001B[1;33m\u001B[0m\u001B[1;33m\u001B[0m\u001B[0m\n\u001B[0;32m     93\u001B[0m         \u001B[0mself\u001B[0m\u001B[1;33m.\u001B[0m\u001B[0mrtol\u001B[0m\u001B[1;33m,\u001B[0m \u001B[0mself\u001B[0m\u001B[1;33m.\u001B[0m\u001B[0matol\u001B[0m \u001B[1;33m=\u001B[0m \u001B[0mvalidate_tol\u001B[0m\u001B[1;33m(\u001B[0m\u001B[0mrtol\u001B[0m\u001B[1;33m,\u001B[0m \u001B[0matol\u001B[0m\u001B[1;33m,\u001B[0m \u001B[0mself\u001B[0m\u001B[1;33m.\u001B[0m\u001B[0mn\u001B[0m\u001B[1;33m)\u001B[0m\u001B[1;33m\u001B[0m\u001B[1;33m\u001B[0m\u001B[0m\n\u001B[1;32m---> 94\u001B[1;33m         \u001B[0mself\u001B[0m\u001B[1;33m.\u001B[0m\u001B[0mf\u001B[0m \u001B[1;33m=\u001B[0m \u001B[0mself\u001B[0m\u001B[1;33m.\u001B[0m\u001B[0mfun\u001B[0m\u001B[1;33m(\u001B[0m\u001B[0mself\u001B[0m\u001B[1;33m.\u001B[0m\u001B[0mt\u001B[0m\u001B[1;33m,\u001B[0m \u001B[0mself\u001B[0m\u001B[1;33m.\u001B[0m\u001B[0my\u001B[0m\u001B[1;33m)\u001B[0m\u001B[1;33m\u001B[0m\u001B[1;33m\u001B[0m\u001B[0m\n\u001B[0m\u001B[0;32m     95\u001B[0m         \u001B[1;32mif\u001B[0m \u001B[0mfirst_step\u001B[0m \u001B[1;32mis\u001B[0m \u001B[1;32mNone\u001B[0m\u001B[1;33m:\u001B[0m\u001B[1;33m\u001B[0m\u001B[1;33m\u001B[0m\u001B[0m\n\u001B[0;32m     96\u001B[0m             self.h_abs = select_initial_step(\n",
      "\u001B[1;32mc:\\users\\robin james\\appdata\\local\\programs\\python\\python39\\lib\\site-packages\\scipy\\integrate\\_ivp\\base.py\u001B[0m in \u001B[0;36mfun\u001B[1;34m(t, y)\u001B[0m\n\u001B[0;32m    136\u001B[0m         \u001B[1;32mdef\u001B[0m \u001B[0mfun\u001B[0m\u001B[1;33m(\u001B[0m\u001B[0mt\u001B[0m\u001B[1;33m,\u001B[0m \u001B[0my\u001B[0m\u001B[1;33m)\u001B[0m\u001B[1;33m:\u001B[0m\u001B[1;33m\u001B[0m\u001B[1;33m\u001B[0m\u001B[0m\n\u001B[0;32m    137\u001B[0m             \u001B[0mself\u001B[0m\u001B[1;33m.\u001B[0m\u001B[0mnfev\u001B[0m \u001B[1;33m+=\u001B[0m \u001B[1;36m1\u001B[0m\u001B[1;33m\u001B[0m\u001B[1;33m\u001B[0m\u001B[0m\n\u001B[1;32m--> 138\u001B[1;33m             \u001B[1;32mreturn\u001B[0m \u001B[0mself\u001B[0m\u001B[1;33m.\u001B[0m\u001B[0mfun_single\u001B[0m\u001B[1;33m(\u001B[0m\u001B[0mt\u001B[0m\u001B[1;33m,\u001B[0m \u001B[0my\u001B[0m\u001B[1;33m)\u001B[0m\u001B[1;33m\u001B[0m\u001B[1;33m\u001B[0m\u001B[0m\n\u001B[0m\u001B[0;32m    139\u001B[0m \u001B[1;33m\u001B[0m\u001B[0m\n\u001B[0;32m    140\u001B[0m         \u001B[0mself\u001B[0m\u001B[1;33m.\u001B[0m\u001B[0mfun\u001B[0m \u001B[1;33m=\u001B[0m \u001B[0mfun\u001B[0m\u001B[1;33m\u001B[0m\u001B[1;33m\u001B[0m\u001B[0m\n",
      "\u001B[1;32mc:\\users\\robin james\\appdata\\local\\programs\\python\\python39\\lib\\site-packages\\scipy\\integrate\\_ivp\\base.py\u001B[0m in \u001B[0;36mfun_single\u001B[1;34m(t, y)\u001B[0m\n\u001B[0;32m    123\u001B[0m         \u001B[1;32mif\u001B[0m \u001B[0mvectorized\u001B[0m\u001B[1;33m:\u001B[0m\u001B[1;33m\u001B[0m\u001B[1;33m\u001B[0m\u001B[0m\n\u001B[0;32m    124\u001B[0m             \u001B[1;32mdef\u001B[0m \u001B[0mfun_single\u001B[0m\u001B[1;33m(\u001B[0m\u001B[0mt\u001B[0m\u001B[1;33m,\u001B[0m \u001B[0my\u001B[0m\u001B[1;33m)\u001B[0m\u001B[1;33m:\u001B[0m\u001B[1;33m\u001B[0m\u001B[1;33m\u001B[0m\u001B[0m\n\u001B[1;32m--> 125\u001B[1;33m                 \u001B[1;32mreturn\u001B[0m \u001B[0mself\u001B[0m\u001B[1;33m.\u001B[0m\u001B[0m_fun\u001B[0m\u001B[1;33m(\u001B[0m\u001B[0mt\u001B[0m\u001B[1;33m,\u001B[0m \u001B[0my\u001B[0m\u001B[1;33m[\u001B[0m\u001B[1;33m:\u001B[0m\u001B[1;33m,\u001B[0m \u001B[1;32mNone\u001B[0m\u001B[1;33m]\u001B[0m\u001B[1;33m)\u001B[0m\u001B[1;33m.\u001B[0m\u001B[0mravel\u001B[0m\u001B[1;33m(\u001B[0m\u001B[1;33m)\u001B[0m\u001B[1;33m\u001B[0m\u001B[1;33m\u001B[0m\u001B[0m\n\u001B[0m\u001B[0;32m    126\u001B[0m             \u001B[0mfun_vectorized\u001B[0m \u001B[1;33m=\u001B[0m \u001B[0mself\u001B[0m\u001B[1;33m.\u001B[0m\u001B[0m_fun\u001B[0m\u001B[1;33m\u001B[0m\u001B[1;33m\u001B[0m\u001B[0m\n\u001B[0;32m    127\u001B[0m         \u001B[1;32melse\u001B[0m\u001B[1;33m:\u001B[0m\u001B[1;33m\u001B[0m\u001B[1;33m\u001B[0m\u001B[0m\n",
      "\u001B[1;32mc:\\users\\robin james\\appdata\\local\\programs\\python\\python39\\lib\\site-packages\\scipy\\integrate\\_ivp\\base.py\u001B[0m in \u001B[0;36mfun_wrapped\u001B[1;34m(t, y)\u001B[0m\n\u001B[0;32m     18\u001B[0m \u001B[1;33m\u001B[0m\u001B[0m\n\u001B[0;32m     19\u001B[0m     \u001B[1;32mdef\u001B[0m \u001B[0mfun_wrapped\u001B[0m\u001B[1;33m(\u001B[0m\u001B[0mt\u001B[0m\u001B[1;33m,\u001B[0m \u001B[0my\u001B[0m\u001B[1;33m)\u001B[0m\u001B[1;33m:\u001B[0m\u001B[1;33m\u001B[0m\u001B[1;33m\u001B[0m\u001B[0m\n\u001B[1;32m---> 20\u001B[1;33m         \u001B[1;32mreturn\u001B[0m \u001B[0mnp\u001B[0m\u001B[1;33m.\u001B[0m\u001B[0masarray\u001B[0m\u001B[1;33m(\u001B[0m\u001B[0mfun\u001B[0m\u001B[1;33m(\u001B[0m\u001B[0mt\u001B[0m\u001B[1;33m,\u001B[0m \u001B[0my\u001B[0m\u001B[1;33m)\u001B[0m\u001B[1;33m,\u001B[0m \u001B[0mdtype\u001B[0m\u001B[1;33m=\u001B[0m\u001B[0mdtype\u001B[0m\u001B[1;33m)\u001B[0m\u001B[1;33m\u001B[0m\u001B[1;33m\u001B[0m\u001B[0m\n\u001B[0m\u001B[0;32m     21\u001B[0m \u001B[1;33m\u001B[0m\u001B[0m\n\u001B[0;32m     22\u001B[0m     \u001B[1;32mreturn\u001B[0m \u001B[0mfun_wrapped\u001B[0m\u001B[1;33m,\u001B[0m \u001B[0my0\u001B[0m\u001B[1;33m\u001B[0m\u001B[1;33m\u001B[0m\u001B[0m\n",
      "\u001B[1;32mc:\\users\\robin james\\appdata\\local\\programs\\python\\python39\\lib\\site-packages\\scipy\\integrate\\_ivp\\ivp.py\u001B[0m in \u001B[0;36m<lambda>\u001B[1;34m(t, x, fun)\u001B[0m\n\u001B[0;32m    512\u001B[0m         \u001B[1;31m# additional parameters.  Pass in the original fun as a keyword\u001B[0m\u001B[1;33m\u001B[0m\u001B[1;33m\u001B[0m\u001B[1;33m\u001B[0m\u001B[0m\n\u001B[0;32m    513\u001B[0m         \u001B[1;31m# argument to keep it in the scope of the lambda.\u001B[0m\u001B[1;33m\u001B[0m\u001B[1;33m\u001B[0m\u001B[1;33m\u001B[0m\u001B[0m\n\u001B[1;32m--> 514\u001B[1;33m         \u001B[0mfun\u001B[0m \u001B[1;33m=\u001B[0m \u001B[1;32mlambda\u001B[0m \u001B[0mt\u001B[0m\u001B[1;33m,\u001B[0m \u001B[0mx\u001B[0m\u001B[1;33m,\u001B[0m \u001B[0mfun\u001B[0m\u001B[1;33m=\u001B[0m\u001B[0mfun\u001B[0m\u001B[1;33m:\u001B[0m \u001B[0mfun\u001B[0m\u001B[1;33m(\u001B[0m\u001B[0mt\u001B[0m\u001B[1;33m,\u001B[0m \u001B[0mx\u001B[0m\u001B[1;33m,\u001B[0m \u001B[1;33m*\u001B[0m\u001B[0margs\u001B[0m\u001B[1;33m)\u001B[0m\u001B[1;33m\u001B[0m\u001B[1;33m\u001B[0m\u001B[0m\n\u001B[0m\u001B[0;32m    515\u001B[0m         \u001B[0mjac\u001B[0m \u001B[1;33m=\u001B[0m \u001B[0moptions\u001B[0m\u001B[1;33m.\u001B[0m\u001B[0mget\u001B[0m\u001B[1;33m(\u001B[0m\u001B[1;34m'jac'\u001B[0m\u001B[1;33m)\u001B[0m\u001B[1;33m\u001B[0m\u001B[1;33m\u001B[0m\u001B[0m\n\u001B[0;32m    516\u001B[0m         \u001B[1;32mif\u001B[0m \u001B[0mcallable\u001B[0m\u001B[1;33m(\u001B[0m\u001B[0mjac\u001B[0m\u001B[1;33m)\u001B[0m\u001B[1;33m:\u001B[0m\u001B[1;33m\u001B[0m\u001B[1;33m\u001B[0m\u001B[0m\n",
      "\u001B[1;31mTypeError\u001B[0m: Value after * must be an iterable, not numpy.float64"
     ]
    }
   ],
   "source": [
    "y0 = np.array([0., angspeed])\n",
    "# Maximum time arbitrarily chosen\n",
    "sol = integ.solve_ivp(pendulum_eom, (0, 5.), y0, args=(omega0),\n",
    "                      vectorized=True, atol=1e-12, rtol=1e-12)"
   ]
  },
  {
   "cell_type": "markdown",
   "metadata": {},
   "source": [
    "But it did not work! We got an error! What is going on?\n",
    "\n",
    "The error gives a hint. `args` must be \"an iterable\", but `(omega0)` is ambiguous. Consider, for example, the code\n",
    "```\n",
    "example = (8)\n",
    "```\n",
    "what will this do? Let us see ..."
   ]
  },
  {
   "cell_type": "code",
   "execution_count": null,
   "metadata": {},
   "outputs": [],
   "source": [
    "example = (8)\n",
    "print(f\"{example=}\")"
   ]
  },
  {
   "cell_type": "markdown",
   "metadata": {},
   "source": [
    "We did not get a tuple, we just got a number!\n",
    "\n",
    "This makes sense. In a mathematical expression we can write things like\n",
    "```\n",
    "example = (2)*(4 + 1/2)\n",
    "```\n",
    "and we expect this to return 9; we do not expect an error. If `(2)` were interpreted as a tuple, then this would be an error, and we would get very frustrated."
   ]
  },
  {
   "cell_type": "code",
   "execution_count": null,
   "metadata": {},
   "outputs": [],
   "source": [
    "example = (2)*(4 + 1/2)\n",
    "print(f\"{example=}\")"
   ]
  },
  {
   "cell_type": "markdown",
   "metadata": {},
   "source": [
    "So, if we have a single number and want to create an iterable, what should we do?\n",
    "\n",
    "There are a few options. One is to force a tuple by including an empty second element of the tuple, ie., just include a comma.\n",
    "```example1 = (8,)```\n",
    "\n",
    "Alternatively, we could use a list instead of a tuple. There is no ambiguity in the construction of list.\n",
    "```example2 = [8]```"
   ]
  },
  {
   "cell_type": "code",
   "execution_count": null,
   "metadata": {},
   "outputs": [],
   "source": [
    "example1 = (8,)\n",
    "example2 = [8]\n",
    "print(f\"{example1=}, {example2=}\")"
   ]
  },
  {
   "cell_type": "code",
   "execution_count": null,
   "metadata": {},
   "outputs": [],
   "source": [
    "# Maximum time arbitrarily chosen.\n",
    "# Here we show forcing a tuple.\n",
    "sol = integ.solve_ivp(pendulum_eom, (0, 5.), y0, args=(omega0,),\n",
    "                      vectorized=True, atol=1e-12, rtol=1e-12)\n",
    "fig = plt.figure()\n",
    "# For amusement we show how to produce a plot with\n",
    "# different scales on the left and right axes.\n",
    "axtheta = fig.add_subplot(111)\n",
    "axomega = axtheta.twinx()\n",
    "axtheta.axhline(0, color='k')\n",
    "axtheta.plot(sol.t, np.rad2deg(sol.y[0]), 'k-', label=r'$\\theta(t)$')\n",
    "axomega.plot(sol.t, np.rad2deg(sol.y[1]), 'g-', label=r'$\\omega(t)$')\n",
    "axtheta.legend(loc='lower left')\n",
    "axomega.legend(loc='upper right')\n",
    "axtheta.set_xlabel('Time (seconds)')\n",
    "axtheta.set_ylabel('Amplitude (degrees)')\n",
    "axomega.set_ylabel('Speed (degrees/second)')\n",
    "axtheta.set_title('Motion of Pendulum')\n",
    "axtheta.set_xlim(sol.t[0], sol.t[-1]);"
   ]
  },
  {
   "cell_type": "markdown",
   "metadata": {},
   "source": [
    "Finally, we can do the same thing but now give the pendulum a very large initial speed."
   ]
  },
  {
   "cell_type": "code",
   "execution_count": null,
   "metadata": {},
   "outputs": [],
   "source": [
    "angspeed = np.deg2rad(300.) # Convert speed to radians per second.\n",
    "y0 = np.array([0., angspeed])\n",
    "# Maximum time arbitrarily chosen\n",
    "# Here we show using a list.\n",
    "sol = integ.solve_ivp(pendulum_eom, (0, 5.), y0, args=[omega0],\n",
    "                      vectorized=True, atol=1e-12, rtol=1e-12)\n",
    "fig = plt.figure()\n",
    "# For amusement we show how to produce a plot with\n",
    "# different scales on the left and right axes.\n",
    "axtheta = fig.add_subplot(111)\n",
    "axomega = axtheta.twinx()\n",
    "#axtheta.axhline(0, color='k')\n",
    "axtheta.plot(sol.t, np.rad2deg(sol.y[0]), 'k-', label=r'$\\theta(t)$')\n",
    "axomega.plot(sol.t, np.rad2deg(sol.y[1]), 'g-', label=r'$\\omega(t)$')\n",
    "axtheta.legend(loc='upper left')\n",
    "axomega.legend(loc='lower right')\n",
    "axtheta.set_xlabel('Time (seconds)')\n",
    "axtheta.set_ylabel('Amplitude (degrees)')\n",
    "axomega.set_ylabel('Speed (degrees/second)')\n",
    "axtheta.set_title('Motion of Pendulum')\n",
    "axtheta.set_ylim(bottom=0)\n",
    "axtheta.set_xlim(sol.t[0], sol.t[-1]);"
   ]
  },
  {
   "cell_type": "markdown",
   "metadata": {},
   "source": [
    "You can think about and explain why this behavior makes sense!"
   ]
  }
 ],
 "metadata": {
  "kernelspec": {
   "display_name": "Python 3 (ipykernel)",
   "language": "python",
   "name": "python3"
  },
  "language_info": {
   "codemirror_mode": {
    "name": "ipython",
    "version": 3
   },
   "file_extension": ".py",
   "mimetype": "text/x-python",
   "name": "python",
   "nbconvert_exporter": "python",
   "pygments_lexer": "ipython3",
   "version": "3.9.7"
  }
 },
 "nbformat": 4,
 "nbformat_minor": 4
}