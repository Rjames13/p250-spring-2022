{
 "cells": [
  {
   "cell_type": "markdown",
   "metadata": {},
   "source": [
    "# Interpolation\n",
    "\n",
    "Here we will perform a quick exploration of some of the interpolation routines available in `scipy.interpolate`.  As always there is much more available than we will use here.  You should explore some of the other functions on your own."
   ]
  },
  {
   "cell_type": "markdown",
   "metadata": {},
   "source": [
    "## Initialization\n",
    "\n",
    "As always we load all the modules we will need."
   ]
  },
  {
   "cell_type": "code",
   "execution_count": 11,
   "metadata": {},
   "outputs": [],
   "source": [
    "import numpy as np\n",
    "import matplotlib.pyplot as plt\n",
    "import scipy.interpolate as interp\n",
    "# Globally fix plot styling\n",
    "import matplotlib as mpl\n",
    "mpl.rc('xtick', direction='in', top=True)\n",
    "mpl.rc('ytick', direction='in', right=True)\n",
    "mpl.rc('xtick.minor', visible=True)\n",
    "mpl.rc('ytick.minor', visible=True)\n",
    "\n",
    "# We will use random numbers in this example, so like we saw earlier ...\n",
    "rng = np.random.default_rng()"
   ]
  },
  {
   "cell_type": "markdown",
   "metadata": {},
   "source": [
    "## Documentation\n",
    "\n",
    "Again as always we should explore the documentation to learn more about the functions that are available for us.  We will only be interested in univariate interpolation, though there are functions for higher dimensional interpolations available.  The main functions to focus on are `lagrange`, `interp1d`, and `InterpolatedUnivariateSpline`."
   ]
  },
  {
   "cell_type": "code",
   "execution_count": 21,
   "metadata": {},
   "outputs": [],
   "source": [
    "interp?"
   ]
  },
  {
   "cell_type": "code",
   "execution_count": 22,
   "metadata": {},
   "outputs": [],
   "source": [
    "interp.lagrange?"
   ]
  },
  {
   "cell_type": "code",
   "execution_count": 23,
   "metadata": {},
   "outputs": [],
   "source": [
    "interp.interp1d?"
   ]
  },
  {
   "cell_type": "code",
   "execution_count": 24,
   "metadata": {},
   "outputs": [],
   "source": [
    "interp.InterpolatedUnivariateSpline?"
   ]
  },
  {
   "cell_type": "markdown",
   "metadata": {},
   "source": [
    "The main things to pay attention to while looking at these functions are\n",
    "1. what they do,\n",
    "2. how they are called, including optional arguments,\n",
    "3. constraints on the arguments, that is, any special conditions that must be satisfied,\n",
    "4. what they return and any constraints on them."
   ]
  },
  {
   "cell_type": "markdown",
   "metadata": {},
   "source": [
    "## Simple Tests\n",
    "\n",
    "Here we will compare polynomial interpolation with a cubic spline.  It is interesting to vary the number of points, `N`, and see how the two methods compare.  We might expect that for very few points interpolation does a poor job since not much structure about the function we are interpolating is known.  As the number of points is increased it may be expected that interpolation does a better job.  To an extent this is true, however as `N` gets somewhat large (say near 20 or so) the polynomial interpolation can fail spectacularly.  Evaluating a high order polynomial is not easy due to the limited precision of computers.  The spline **does improve** as `N` increases since it is doing a piecewise interpolation.\n",
    "\n",
    "Note that we do not use `interp1d` since it does not allow for extrapolation (see below)."
   ]
  },
  {
   "cell_type": "code",
   "execution_count": 25,
   "metadata": {},
   "outputs": [
    {
     "data": {
      "text/plain": "<Figure size 432x288 with 1 Axes>",
      "image/png": "[encoded data removed]"
     },
     "metadata": {
      "needs_background": "light"
     },
     "output_type": "display_data"
    }
   ],
   "source": [
    "N = 11  # Number of points to generate\n",
    "xmax = 2*np.pi\n",
    "x = (2*rng.random(N)-1)*xmax\n",
    "x.sort()  # We need the x values to be monotonic, so sort them\n",
    "y = np.sin(x)\n",
    "\n",
    "# Use polynomial interpolation and a spline\n",
    "ypoly = interp.lagrange(x, y)\n",
    "yspline = interp.InterpolatedUnivariateSpline(x, y)\n",
    "\n",
    "# For plotting purpose we generate a fine grid\n",
    "xx = np.linspace(-xmax, xmax, 1000)\n",
    "ytrue = np.sin(xx)\n",
    "\n",
    "# Now make a plot\n",
    "fig = plt.figure()\n",
    "ax = fig.add_subplot(111)\n",
    "ax.axhline(0, color='k')\n",
    "ax.plot(x, y, 'ko', label='Tabulated Values')\n",
    "ax.plot(xx, ypoly(xx), 'r--', lw=2, label='Polynomial')\n",
    "ax.plot(xx, yspline(xx), 'b-.', lw=2, label='Spline')\n",
    "ax.plot(xx, ytrue, 'k-', lw=2, zorder=-1, label='True')\n",
    "ax.set_xlim(xx[0], xx[-1])\n",
    "# ax.set_ylim(-1.5, 1.5)\n",
    "ax.legend(loc='best')\n",
    "ax.set_xlabel(r'$x$')\n",
    "ax.set_ylabel('Function Value')\n",
    "ax.set_title('Random Interpolation Test');"
   ]
  },
  {
   "cell_type": "code",
   "execution_count": 17,
   "metadata": {},
   "outputs": [
    {
     "name": "stdout",
     "output_type": "stream",
     "text": [
      "            10             9             8             7             6\n",
      "-2.256e-07 x  + 3.532e-06 x - 5.094e-07 x - 0.0002024 x + 1.123e-05 x\n",
      "             5             4          3             2\n",
      " + 0.008324 x - 2.402e-06 x - 0.1667 x - 2.137e-06 x + 1 x + 3.765e-07\n"
     ]
    }
   ],
   "source": [
    "print(ypoly)"
   ]
  },
  {
   "cell_type": "markdown",
   "metadata": {},
   "source": [
    "Overall we find for \"moderate\" values of `N` both the polynomial and spline work well where the function is well sampled, though the polynomial often better reprents the true function.  In places where it is not or at the ends when the interpolants are extrapolated neither tend to perform well.  This is generic issue with interpolation!"
   ]
  },
  {
   "cell_type": "markdown",
   "metadata": {},
   "source": [
    "## Inverting a Function\n",
    "\n",
    "A very powerful use of interpolation is to invert a function.  We typically think of a function as $y = f(x)$, given $x$ we wish to calculate $y$.  With interpolation, we start with tabulated values for $x$ and $y$ and estimate values of the function at $x$ values in between the tabulated ones.  However, we can just as well invert this and instead consider $x=f^{-1}(y)$.  This is *exactly the same problem* just with the roles of $x$ and $y$ reversed.\n",
    "\n",
    "Here we will consider inverting a simple function: $y=\\mathrm{e}^{-x/3}$.  We know the result in this case, $x=-3\\ln(y)$.\n",
    "\n",
    "First define our function and its inverse."
   ]
  },
  {
   "cell_type": "code",
   "execution_count": 26,
   "metadata": {},
   "outputs": [],
   "source": [
    "def f(x):\n",
    "    return np.exp(-x/3.)\n",
    "def finv(y):\n",
    "    return -3.*np.log(y)"
   ]
  },
  {
   "cell_type": "markdown",
   "metadata": {},
   "source": [
    "Next we perform a simple test to verify that interpolation does a good job of representing our function.  Since this is a quick test we use a \"quick plot\" and do not make it look nice."
   ]
  },
  {
   "cell_type": "code",
   "execution_count": 27,
   "metadata": {},
   "outputs": [
    {
     "name": "stdout",
     "output_type": "stream",
     "text": [
      "Maximum fractional error = 0.017842407358764967\n"
     ]
    },
    {
     "data": {
      "text/plain": "<Figure size 432x288 with 1 Axes>",
      "image/png": "[encoded data removed]"
     },
     "metadata": {
      "needs_background": "light"
     },
     "output_type": "display_data"
    }
   ],
   "source": [
    "x = np.arange(10.)\n",
    "y = f(x)\n",
    "yspline = interp.InterpolatedUnivariateSpline(x, y)\n",
    "xx = np.linspace(0, 10, 1000)\n",
    "ytrue = f(xx)\n",
    "plt.plot(x, y, 'ko')\n",
    "plt.plot(xx, ytrue, 'k-')\n",
    "plt.plot(xx, yspline(xx), 'r--')\n",
    "print(\"Maximum fractional error =\", np.abs(1-yspline(xx)/ytrue).max())"
   ]
  },
  {
   "cell_type": "markdown",
   "metadata": {},
   "source": [
    "Since that works let us try to use a spline to invert the function.  As noted about this just means swapping $x$ and $y$."
   ]
  },
  {
   "cell_type": "code",
   "execution_count": 28,
   "metadata": {},
   "outputs": [
    {
     "ename": "ValueError",
     "evalue": "x must be increasing if s > 0",
     "output_type": "error",
     "traceback": [
      "\u001B[0;31m---------------------------------------------------------------------------\u001B[0m",
      "\u001B[0;31mValueError\u001B[0m                                Traceback (most recent call last)",
      "\u001B[0;32m/tmp/ipykernel_49395/2657155054.py\u001B[0m in \u001B[0;36m<module>\u001B[0;34m\u001B[0m\n\u001B[0;32m----> 1\u001B[0;31m \u001B[0myinvspline_fail\u001B[0m \u001B[0;34m=\u001B[0m \u001B[0minterp\u001B[0m\u001B[0;34m.\u001B[0m\u001B[0mInterpolatedUnivariateSpline\u001B[0m\u001B[0;34m(\u001B[0m\u001B[0my\u001B[0m\u001B[0;34m,\u001B[0m \u001B[0mx\u001B[0m\u001B[0;34m)\u001B[0m\u001B[0;34m\u001B[0m\u001B[0;34m\u001B[0m\u001B[0m\n\u001B[0m",
      "\u001B[0;32m/usr/local/lib/python3.8/dist-packages/scipy/interpolate/fitpack2.py\u001B[0m in \u001B[0;36m__init__\u001B[0;34m(self, x, y, w, bbox, k, ext, check_finite)\u001B[0m\n\u001B[1;32m    659\u001B[0m                  ext=0, check_finite=False):\n\u001B[1;32m    660\u001B[0m \u001B[0;34m\u001B[0m\u001B[0m\n\u001B[0;32m--> 661\u001B[0;31m         x, y, w, bbox, self.ext = self.validate_input(x, y, w, bbox, k, None,\n\u001B[0m\u001B[1;32m    662\u001B[0m                                             ext, check_finite)\n\u001B[1;32m    663\u001B[0m         \u001B[0;32mif\u001B[0m \u001B[0;32mnot\u001B[0m \u001B[0mnp\u001B[0m\u001B[0;34m.\u001B[0m\u001B[0mall\u001B[0m\u001B[0;34m(\u001B[0m\u001B[0mdiff\u001B[0m\u001B[0;34m(\u001B[0m\u001B[0mx\u001B[0m\u001B[0;34m)\u001B[0m \u001B[0;34m>\u001B[0m \u001B[0;36m0.0\u001B[0m\u001B[0;34m)\u001B[0m\u001B[0;34m:\u001B[0m\u001B[0;34m\u001B[0m\u001B[0;34m\u001B[0m\u001B[0m\n",
      "\u001B[0;32m/usr/local/lib/python3.8/dist-packages/scipy/interpolate/fitpack2.py\u001B[0m in \u001B[0;36mvalidate_input\u001B[0;34m(x, y, w, bbox, k, s, ext, check_finite)\u001B[0m\n\u001B[1;32m    222\u001B[0m         \u001B[0;32mif\u001B[0m \u001B[0ms\u001B[0m \u001B[0;32mis\u001B[0m \u001B[0;32mNone\u001B[0m \u001B[0;32mor\u001B[0m \u001B[0ms\u001B[0m \u001B[0;34m>\u001B[0m \u001B[0;36m0\u001B[0m\u001B[0;34m:\u001B[0m\u001B[0;34m\u001B[0m\u001B[0;34m\u001B[0m\u001B[0m\n\u001B[1;32m    223\u001B[0m             \u001B[0;32mif\u001B[0m \u001B[0;32mnot\u001B[0m \u001B[0mnp\u001B[0m\u001B[0;34m.\u001B[0m\u001B[0mall\u001B[0m\u001B[0;34m(\u001B[0m\u001B[0mdiff\u001B[0m\u001B[0;34m(\u001B[0m\u001B[0mx\u001B[0m\u001B[0;34m)\u001B[0m \u001B[0;34m>=\u001B[0m \u001B[0;36m0.0\u001B[0m\u001B[0;34m)\u001B[0m\u001B[0;34m:\u001B[0m\u001B[0;34m\u001B[0m\u001B[0;34m\u001B[0m\u001B[0m\n\u001B[0;32m--> 224\u001B[0;31m                 \u001B[0;32mraise\u001B[0m \u001B[0mValueError\u001B[0m\u001B[0;34m(\u001B[0m\u001B[0;34m\"x must be increasing if s > 0\"\u001B[0m\u001B[0;34m)\u001B[0m\u001B[0;34m\u001B[0m\u001B[0;34m\u001B[0m\u001B[0m\n\u001B[0m\u001B[1;32m    225\u001B[0m         \u001B[0;32melse\u001B[0m\u001B[0;34m:\u001B[0m\u001B[0;34m\u001B[0m\u001B[0;34m\u001B[0m\u001B[0m\n\u001B[1;32m    226\u001B[0m             \u001B[0;32mif\u001B[0m \u001B[0;32mnot\u001B[0m \u001B[0mnp\u001B[0m\u001B[0;34m.\u001B[0m\u001B[0mall\u001B[0m\u001B[0;34m(\u001B[0m\u001B[0mdiff\u001B[0m\u001B[0;34m(\u001B[0m\u001B[0mx\u001B[0m\u001B[0;34m)\u001B[0m \u001B[0;34m>\u001B[0m \u001B[0;36m0.0\u001B[0m\u001B[0;34m)\u001B[0m\u001B[0;34m:\u001B[0m\u001B[0;34m\u001B[0m\u001B[0;34m\u001B[0m\u001B[0m\n",
      "\u001B[0;31mValueError\u001B[0m: x must be increasing if s > 0"
     ]
    }
   ],
   "source": [
    "yinvspline_fail = interp.InterpolatedUnivariateSpline(y, x)"
   ]
  },
  {
   "cell_type": "markdown",
   "metadata": {},
   "source": [
    "It fails to run.  This is an improvement in recent versions of `scipy.interpolate`!  In the past it would silently create the spline, but then for *some values* of `y` it would return `nan`!  It even tells us why it failed."
   ]
  },
  {
   "cell_type": "markdown",
   "metadata": {},
   "source": [
    "To understand what is happening go back to the documenation for `InterpolatedUnivariateSpline`.  Notice that the first argument **must be increasing**.  This is a peculiar limitation of the interface provided by `scipy.interpolate`.  Regardless, it is documented and if you check our `y` array you will find it is actually decreasing, not increasing.  Thus we need to invert the order of the array.  How do we do this?\n",
    "\n",
    "A very powerful feature of array processing languages such as the one provided by NumPy is *array slicing*.  We will have more to say about this in the future but for now we will note that when accessing the elements of an array we can use\n",
    "> `y[start:stop:step]`\n",
    "\n",
    "to get a view of a subset of the array.  This is similar to using `arange` to generate a list of index values inside the square brackets (similar, but not the same).\n",
    "\n",
    "For our purposes we want to reverse the order of the array and will leave the details for the future.  This means we want to start at the end of the array and step backwards through it to get to the beginning.  The shorthand way to do this is `y[::-1]`.\n",
    "\n",
    "First verify this actually works."
   ]
  },
  {
   "cell_type": "code",
   "execution_count": 29,
   "metadata": {},
   "outputs": [
    {
     "name": "stdout",
     "output_type": "stream",
     "text": [
      "y = [1.         0.71653131 0.51341712 0.36787944 0.26359714 0.1888756\n",
      " 0.13533528 0.09697197 0.06948345 0.04978707]\n",
      "y[::-1] = [0.04978707 0.06948345 0.09697197 0.13533528 0.1888756  0.26359714\n",
      " 0.36787944 0.51341712 0.71653131 1.        ]\n"
     ]
    }
   ],
   "source": [
    "print('y =', y)\n",
    "print('y[::-1] =', y[::-1])"
   ]
  },
  {
   "cell_type": "markdown",
   "metadata": {},
   "source": [
    "Now use this to construct a spline of the inverted function.  Note that since we are inverting the order of `y` we must also invert the order of `x`!  This now works much better."
   ]
  },
  {
   "cell_type": "code",
   "execution_count": 31,
   "metadata": {},
   "outputs": [
    {
     "name": "stdout",
     "output_type": "stream",
     "text": [
      "For y = 0.2 true inverse is 4.828313737302301 and our spline gives 4.8283336871512965\n"
     ]
    }
   ],
   "source": [
    "yinvspline = interp.InterpolatedUnivariateSpline(y[::-1], x[::-1])\n",
    "ytry = 0.2\n",
    "print('For y =', ytry, 'true inverse is', finv(ytry), 'and our spline gives', yinvspline(ytry))"
   ]
  },
  {
   "cell_type": "markdown",
   "metadata": {},
   "source": [
    "We can create a quick plot to verify it works over a broader range of values."
   ]
  },
  {
   "cell_type": "code",
   "execution_count": 32,
   "metadata": {},
   "outputs": [
    {
     "data": {
      "text/plain": "[<matplotlib.lines.Line2D at 0x7fc7e46cdca0>]"
     },
     "execution_count": 32,
     "metadata": {},
     "output_type": "execute_result"
    },
    {
     "data": {
      "text/plain": "<Figure size 432x288 with 1 Axes>",
      "image/png": "[encoded data removed]"
     },
     "metadata": {
      "needs_background": "light"
     },
     "output_type": "display_data"
    }
   ],
   "source": [
    "yy = np.linspace(0.1, 1, 1000)\n",
    "plt.plot(yy, finv(yy), 'k-')\n",
    "plt.plot(yy, yinvspline(yy), 'r--')"
   ]
  },
  {
   "cell_type": "markdown",
   "metadata": {},
   "source": [
    "## `interp1d`\n",
    "\n",
    "We have not used `interp1d` in this notebook.  There is nothing wrong with using `interp1d`, it has its own set of features and its own issues.  It provides a different interface for performing piecewise polynomial interpolations (and splines).  One \"feature\" it has is that it does **not** allow you to extrapolate.  This is good and bad.  Since extrapolation is dangerous it prevents you from accidentally extrapolating. (Recall that we can ask a computer to do anything and it will calculate away, even if such a calculation does not make sense.  Here `interp1d` protects us from accidentally making one mistake.)  For our purposes above we wanted to extrapolate so we could see what happens.\n",
    "\n",
    "To see this in practice consider the following.  Notice that we get an error when we ask for a value outside our input range."
   ]
  },
  {
   "cell_type": "code",
   "execution_count": 33,
   "metadata": {},
   "outputs": [],
   "source": [
    "x = np.arange(10)\n",
    "y = np.exp(-x)\n",
    "yinterp = interp.interp1d(x, y, kind='cubic')  # This creates a cubic spline"
   ]
  },
  {
   "cell_type": "code",
   "execution_count": 34,
   "metadata": {},
   "outputs": [
    {
     "data": {
      "text/plain": "array(0.00406393)"
     },
     "execution_count": 34,
     "metadata": {},
     "output_type": "execute_result"
    }
   ],
   "source": [
    "# This should work fine\n",
    "yinterp(5.5)"
   ]
  },
  {
   "cell_type": "code",
   "execution_count": 35,
   "metadata": {},
   "outputs": [
    {
     "ename": "ValueError",
     "evalue": "A value in x_new is above the interpolation range.",
     "output_type": "error",
     "traceback": [
      "\u001B[0;31m---------------------------------------------------------------------------\u001B[0m",
      "\u001B[0;31mValueError\u001B[0m                                Traceback (most recent call last)",
      "\u001B[0;32m/tmp/ipykernel_49395/3309227381.py\u001B[0m in \u001B[0;36m<module>\u001B[0;34m\u001B[0m\n\u001B[1;32m      1\u001B[0m \u001B[0;31m# This should produce an error\u001B[0m\u001B[0;34m\u001B[0m\u001B[0;34m\u001B[0m\u001B[0;34m\u001B[0m\u001B[0m\n\u001B[0;32m----> 2\u001B[0;31m \u001B[0myinterp\u001B[0m\u001B[0;34m(\u001B[0m\u001B[0;36m10.5\u001B[0m\u001B[0;34m)\u001B[0m\u001B[0;34m\u001B[0m\u001B[0;34m\u001B[0m\u001B[0m\n\u001B[0m",
      "\u001B[0;32m/usr/local/lib/python3.8/dist-packages/scipy/interpolate/polyint.py\u001B[0m in \u001B[0;36m__call__\u001B[0;34m(self, x)\u001B[0m\n\u001B[1;32m     76\u001B[0m         \"\"\"\n\u001B[1;32m     77\u001B[0m         \u001B[0mx\u001B[0m\u001B[0;34m,\u001B[0m \u001B[0mx_shape\u001B[0m \u001B[0;34m=\u001B[0m \u001B[0mself\u001B[0m\u001B[0;34m.\u001B[0m\u001B[0m_prepare_x\u001B[0m\u001B[0;34m(\u001B[0m\u001B[0mx\u001B[0m\u001B[0;34m)\u001B[0m\u001B[0;34m\u001B[0m\u001B[0;34m\u001B[0m\u001B[0m\n\u001B[0;32m---> 78\u001B[0;31m         \u001B[0my\u001B[0m \u001B[0;34m=\u001B[0m \u001B[0mself\u001B[0m\u001B[0;34m.\u001B[0m\u001B[0m_evaluate\u001B[0m\u001B[0;34m(\u001B[0m\u001B[0mx\u001B[0m\u001B[0;34m)\u001B[0m\u001B[0;34m\u001B[0m\u001B[0;34m\u001B[0m\u001B[0m\n\u001B[0m\u001B[1;32m     79\u001B[0m         \u001B[0;32mreturn\u001B[0m \u001B[0mself\u001B[0m\u001B[0;34m.\u001B[0m\u001B[0m_finish_y\u001B[0m\u001B[0;34m(\u001B[0m\u001B[0my\u001B[0m\u001B[0;34m,\u001B[0m \u001B[0mx_shape\u001B[0m\u001B[0;34m)\u001B[0m\u001B[0;34m\u001B[0m\u001B[0;34m\u001B[0m\u001B[0m\n\u001B[1;32m     80\u001B[0m \u001B[0;34m\u001B[0m\u001B[0m\n",
      "\u001B[0;32m/usr/local/lib/python3.8/dist-packages/scipy/interpolate/interpolate.py\u001B[0m in \u001B[0;36m_evaluate\u001B[0;34m(self, x_new)\u001B[0m\n\u001B[1;32m    682\u001B[0m         \u001B[0my_new\u001B[0m \u001B[0;34m=\u001B[0m \u001B[0mself\u001B[0m\u001B[0;34m.\u001B[0m\u001B[0m_call\u001B[0m\u001B[0;34m(\u001B[0m\u001B[0mself\u001B[0m\u001B[0;34m,\u001B[0m \u001B[0mx_new\u001B[0m\u001B[0;34m)\u001B[0m\u001B[0;34m\u001B[0m\u001B[0;34m\u001B[0m\u001B[0m\n\u001B[1;32m    683\u001B[0m         \u001B[0;32mif\u001B[0m \u001B[0;32mnot\u001B[0m \u001B[0mself\u001B[0m\u001B[0;34m.\u001B[0m\u001B[0m_extrapolate\u001B[0m\u001B[0;34m:\u001B[0m\u001B[0;34m\u001B[0m\u001B[0;34m\u001B[0m\u001B[0m\n\u001B[0;32m--> 684\u001B[0;31m             \u001B[0mbelow_bounds\u001B[0m\u001B[0;34m,\u001B[0m \u001B[0mabove_bounds\u001B[0m \u001B[0;34m=\u001B[0m \u001B[0mself\u001B[0m\u001B[0;34m.\u001B[0m\u001B[0m_check_bounds\u001B[0m\u001B[0;34m(\u001B[0m\u001B[0mx_new\u001B[0m\u001B[0;34m)\u001B[0m\u001B[0;34m\u001B[0m\u001B[0;34m\u001B[0m\u001B[0m\n\u001B[0m\u001B[1;32m    685\u001B[0m             \u001B[0;32mif\u001B[0m \u001B[0mlen\u001B[0m\u001B[0;34m(\u001B[0m\u001B[0my_new\u001B[0m\u001B[0;34m)\u001B[0m \u001B[0;34m>\u001B[0m \u001B[0;36m0\u001B[0m\u001B[0;34m:\u001B[0m\u001B[0;34m\u001B[0m\u001B[0;34m\u001B[0m\u001B[0m\n\u001B[1;32m    686\u001B[0m                 \u001B[0;31m# Note fill_value must be broadcast up to the proper size\u001B[0m\u001B[0;34m\u001B[0m\u001B[0;34m\u001B[0m\u001B[0;34m\u001B[0m\u001B[0m\n",
      "\u001B[0;32m/usr/local/lib/python3.8/dist-packages/scipy/interpolate/interpolate.py\u001B[0m in \u001B[0;36m_check_bounds\u001B[0;34m(self, x_new)\u001B[0m\n\u001B[1;32m    714\u001B[0m                              \"range.\")\n\u001B[1;32m    715\u001B[0m         \u001B[0;32mif\u001B[0m \u001B[0mself\u001B[0m\u001B[0;34m.\u001B[0m\u001B[0mbounds_error\u001B[0m \u001B[0;32mand\u001B[0m \u001B[0mabove_bounds\u001B[0m\u001B[0;34m.\u001B[0m\u001B[0many\u001B[0m\u001B[0;34m(\u001B[0m\u001B[0;34m)\u001B[0m\u001B[0;34m:\u001B[0m\u001B[0;34m\u001B[0m\u001B[0;34m\u001B[0m\u001B[0m\n\u001B[0;32m--> 716\u001B[0;31m             raise ValueError(\"A value in x_new is above the interpolation \"\n\u001B[0m\u001B[1;32m    717\u001B[0m                              \"range.\")\n\u001B[1;32m    718\u001B[0m \u001B[0;34m\u001B[0m\u001B[0m\n",
      "\u001B[0;31mValueError\u001B[0m: A value in x_new is above the interpolation range."
     ]
    }
   ],
   "source": [
    "# This should produce an error\n",
    "yinterp(10.5)"
   ]
  },
  {
   "cell_type": "code",
   "execution_count": null,
   "metadata": {},
   "outputs": [],
   "source": []
  }
 ],
 "metadata": {
  "anaconda-cloud": {},
  "kernelspec": {
   "display_name": "Python 3 (ipykernel)",
   "language": "python",
   "name": "python3"
  },
  "language_info": {
   "codemirror_mode": {
    "name": "ipython",
    "version": 3
   },
   "file_extension": ".py",
   "mimetype": "text/x-python",
   "name": "python",
   "nbconvert_exporter": "python",
   "pygments_lexer": "ipython3",
   "version": "3.9.7"
  }
 },
 "nbformat": 4,
 "nbformat_minor": 4
}