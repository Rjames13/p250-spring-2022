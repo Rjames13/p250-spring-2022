{
 "cells": [
  {
   "cell_type": "markdown",
   "source": [
    "# Homework 2 #\n",
    "## Robin James rnj13 ##\n"
   ],
   "metadata": {
    "collapsed": false
   }
  },
  {
   "cell_type": "code",
   "execution_count": 127,
   "outputs": [],
   "source": [
    "import numpy as np\n",
    "import scipy.optimize as opt\n",
    "import scipy.interpolate as interp\n",
    "import urllib.request\n"
   ],
   "metadata": {
    "collapsed": false,
    "pycharm": {
     "name": "#%%\n"
    }
   }
  },
  {
   "cell_type": "markdown",
   "source": [
    "\n",
    "# Problem 1 #\n",
    "\n",
    "## Part i ##"
   ],
   "metadata": {
    "collapsed": false
   }
  },
  {
   "cell_type": "code",
   "execution_count": 128,
   "metadata": {
    "collapsed": true
   },
   "outputs": [
    {
     "name": "stdout",
     "output_type": "stream",
     "text": [
      "The estimated population of 1990  5.261121284500007 , compare to the reported to the reported value of 5.327231061. This is a fractional error of  0.012409782069333292\n"
     ]
    }
   ],
   "source": [
    "years=np.array([1980,2000])\n",
    "population= np.array([4.458003514,6.064239055] )\n",
    "poppoly = interp.lagrange(years,population)\n",
    "print(\"The estimated population of 1990 \",poppoly(1990), \", compare to the reported to the reported value of 5.327231061. This is a fractional error of \",np.abs(poppoly(1990)-5.327231061)/5.327231061)"
   ]
  },
  {
   "cell_type": "markdown",
   "source": [
    "## Part ii ##\n",
    "Extrapolate for years 1960 and 2020"
   ],
   "metadata": {
    "collapsed": false
   }
  },
  {
   "cell_type": "code",
   "execution_count": 129,
   "outputs": [
    {
     "name": "stdout",
     "output_type": "stream",
     "text": [
      "The estimated population of 1960 2.851767972999994 , compare to the reported to the reported value of  3.034949748. This is a fractional error of 0.060357432646362806\n"
     ]
    }
   ],
   "source": [
    "print(\"The estimated population of 1960\", poppoly(1960), \", compare to the reported to the reported value of  3.034949748. This is a fractional error of\",np.abs(poppoly(1960)- 3.034949748)/ 3.034949748)"
   ],
   "metadata": {
    "collapsed": false,
    "pycharm": {
     "name": "#%%\n"
    }
   }
  },
  {
   "cell_type": "code",
   "execution_count": 130,
   "outputs": [
    {
     "name": "stdout",
     "output_type": "stream",
     "text": [
      "The estimated population of 2020 7.670474595999991 , compare to the reported to the reported value of   7.794798739. This is a fractional error of 0.01594962835640301\n"
     ]
    }
   ],
   "source": [
    "print(\"The estimated population of 2020\",poppoly(2020), \", compare to the reported to the reported value of   7.794798739. This is a fractional error of\",np.abs(poppoly(2020)-  7.794798739)/  7.794798739)"
   ],
   "metadata": {
    "collapsed": false,
    "pycharm": {
     "name": "#%%\n"
    }
   }
  },
  {
   "cell_type": "markdown",
   "source": [
    "## Part iii ##\n",
    "Extrapolate for years 2050 and 2100"
   ],
   "metadata": {
    "collapsed": false
   }
  },
  {
   "cell_type": "code",
   "execution_count": 131,
   "outputs": [
    {
     "name": "stdout",
     "output_type": "stream",
     "text": [
      "The estimated population of 2050  10.079827907500004  and the estimated population of 2100: 14.095416760000006\n"
     ]
    }
   ],
   "source": [
    "print(\"The estimated population of 2050 \",poppoly(2050),\" and the estimated population of 2100:\",poppoly(2100))"
   ],
   "metadata": {
    "collapsed": false,
    "pycharm": {
     "name": "#%%\n"
    }
   }
  },
  {
   "cell_type": "markdown",
   "source": [
    "## Part iv ##\n",
    "\n",
    "Repeat for previous parts with quadratic polynomial."
   ],
   "metadata": {
    "collapsed": false
   }
  },
  {
   "cell_type": "code",
   "execution_count": 132,
   "outputs": [
    {
     "name": "stdout",
     "output_type": "stream",
     "text": [
      "The estimated population of 1990 5.245937516981996 , compare to the reported to the reported value of 5.327231061. This is a fractional error of 0.015259999629665696\n"
     ]
    }
   ],
   "source": [
    "years=np.array([1970,1980,2000])\n",
    "population= np.array([3.700437046,4.458003514,6.064239055] )\n",
    "poppoly = interp.lagrange(years,population)\n",
    "print(\"The estimated population of 1990\",poppoly(1990), \", compare to the reported to the reported value of 5.327231061. This is a fractional error of\",np.abs(poppoly(1990)-5.327231061)/5.327231061)"
   ],
   "metadata": {
    "collapsed": false,
    "pycharm": {
     "name": "#%%\n"
    }
   }
  },
  {
   "cell_type": "code",
   "execution_count": 133,
   "outputs": [
    {
     "name": "stdout",
     "output_type": "stream",
     "text": [
      "The estimated population of 1960 2.9732381129824716 , compare to the reported to the reported value of  3.034949748. This is a fractional error of 0.020333659579765864\n"
     ]
    }
   ],
   "source": [
    "print(\"The estimated population of 1960\",poppoly(1960), \", compare to the reported to the reported value of  3.034949748. This is a fractional error of\",np.abs(poppoly(1960)- 3.034949748)/ 3.034949748)"
   ],
   "metadata": {
    "collapsed": false,
    "pycharm": {
     "name": "#%%\n"
    }
   }
  },
  {
   "cell_type": "code",
   "execution_count": 134,
   "outputs": [
    {
     "name": "stdout",
     "output_type": "stream",
     "text": [
      "The estimated population of 2020 7.791944735981701 , compare to the reported to the reported value of   7.794798739. This is a fractional error of 0.0003661419767028874\n"
     ]
    }
   ],
   "source": [
    "print(\"The estimated population of 2020\",poppoly(2020), \", compare to the reported to the reported value of   7.794798739. This is a fractional error of\",np.abs(poppoly(2020)-  7.794798739)/  7.794798739)"
   ],
   "metadata": {
    "collapsed": false,
    "pycharm": {
     "name": "#%%\n"
    }
   }
  },
  {
   "cell_type": "code",
   "execution_count": 135,
   "outputs": [
    {
     "name": "stdout",
     "output_type": "stream",
     "text": [
      "The estimated population of 2050 10.611259769981245 and the estimated population of 2100 15.917468859980715\n"
     ]
    }
   ],
   "source": [
    "print(\"The estimated population of 2050\",poppoly(2050),\"and the estimated population of 2100\",(poppoly(2100)))"
   ],
   "metadata": {
    "collapsed": false,
    "pycharm": {
     "name": "#%%\n"
    }
   }
  },
  {
   "cell_type": "markdown",
   "source": [
    "## Part v ##\n",
    "The linear model is better at extrapolation because the quadratic will likely separate from the true value much quicker.\n",
    "\n",
    "# Problem 2 #\n",
    "First step, import data"
   ],
   "metadata": {
    "collapsed": false
   }
  },
  {
   "cell_type": "code",
   "execution_count": 136,
   "outputs": [],
   "source": [
    "url = 'https://raw.githubusercontent.com/cwru-phys-250/p250-spring-2022/master/data/hw2.dat'\n",
    "with urllib.request.urlopen(url) as fp:\n",
    "    (time, position) = np.loadtxt(fp, unpack=True)"
   ],
   "metadata": {
    "collapsed": false,
    "pycharm": {
     "name": "#%%\n"
    }
   }
  },
  {
   "cell_type": "markdown",
   "source": [
    "## Part i ##\n",
    "To estimate the position of the satellite when behind the planet, I used scipy to create a spline. From there I could just input the days of that the data was missing to get an estimate."
   ],
   "metadata": {
    "collapsed": false
   }
  },
  {
   "cell_type": "code",
   "execution_count": 137,
   "outputs": [
    {
     "name": "stdout",
     "output_type": "stream",
     "text": [
      "Estimate position of the satellite while behind the planet:\n",
      "Day: 5, Distance:-0.7463792670859545 arcsecond,\n",
      "Day: 6, Distance:2.7481332628406694 arcsecond,\n"
     ]
    }
   ],
   "source": [
    "plantsp= interp.InterpolatedUnivariateSpline(time,position)\n",
    "print(\"Estimate position of the satellite while behind the planet:\")\n",
    "for i in range(5,7):\n",
    "    print(\"Day: \"+str(i)+\", Distance:\"+ str(plantsp(i))+\" arcsecond,\" )\n"
   ],
   "metadata": {
    "collapsed": false,
    "pycharm": {
     "name": "#%%\n"
    }
   }
  },
  {
   "cell_type": "markdown",
   "source": [
    "## Part ii ##\n",
    "With the knowledge that we can not see the satellite when behind the diameter of the planet, we can say that the max and minimum diameter is equal to two times the distance that satellite was seen just before and just after it is behind the planets. These vaules are the ones recorded to day 4 and 7. So the min angular diameter is 7.9574718 arcseconds and a max angular diameter of 11.9125064 arcseconds."
   ],
   "metadata": {
    "collapsed": false
   }
  },
  {
   "cell_type": "markdown",
   "source": [
    "## Part iii ##\n",
    "To find the period of the orbit, find the two times that the satellite is farthest from the planet (I will refer to them as max and min since they are the max and min of the spine). The difference between theses two times is equal to half the period, so to get the period we just need to multiply by two.\n",
    "To find the max and min, I took the first derivative of my spline and then used bisection functions to find the time the slope in 0. To pick my brackets I look at the data and found the min is between days 2 and 3 and a max between days 7 and 9.\n",
    "\n",
    "## Part iV ##"
   ],
   "metadata": {
    "collapsed": false
   }
  },
  {
   "cell_type": "code",
   "execution_count": 138,
   "outputs": [
    {
     "name": "stdout",
     "output_type": "stream",
     "text": [
      "The minimum distance is at time ,in days, 2.6063867932953144 with a distance, in arcseconds, of -5.99364874662784 and the maximum distance is at time 7.804243347962256 with a distance of 5.996689884475863 \n",
      " Half of the period is these two time subtracted from oneanother and then we multiply by two to get a period of 10.395713109333883 days\n"
     ]
    }
   ],
   "source": [
    "def firstdpath(x):\n",
    "    \"\"\"\n",
    "    :param x:\n",
    "    :return: The value first derivative of the spline repressing a satellites path around a planet\n",
    "\n",
    "    \"\"\"\n",
    "    return plantsp(x,nu=1)\n",
    "\n",
    "maxday=opt.bisect(firstdpath,7,9)\n",
    "minday=opt.bisect(firstdpath,2,3)\n",
    "print(\"The minimum distance is at time ,in days,\",minday, \"with a distance, in arcseconds, of\", plantsp(minday), \"and the maximum distance is at time\", maxday, \"with a distance of\",plantsp(maxday),\"\\n Half of the period is these two time subtracted from oneanother and then we multiply by two to get a period of\", (maxday-minday)*2, \"days\")"
   ],
   "metadata": {
    "collapsed": false,
    "pycharm": {
     "name": "#%%\n"
    }
   }
  }
 ],
 "metadata": {
  "kernelspec": {
   "display_name": "Python 3",
   "language": "python",
   "name": "python3"
  },
  "language_info": {
   "codemirror_mode": {
    "name": "ipython",
    "version": 2
   },
   "file_extension": ".py",
   "mimetype": "text/x-python",
   "name": "python",
   "nbconvert_exporter": "python",
   "pygments_lexer": "ipython2",
   "version": "2.7.6"
  }
 },
 "nbformat": 4,
 "nbformat_minor": 0
}