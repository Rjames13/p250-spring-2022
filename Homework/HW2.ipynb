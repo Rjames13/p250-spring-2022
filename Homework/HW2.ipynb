{
 "cells": [
  {
   "cell_type": "markdown",
   "source": [
    "# Homework 2 #\n",
    "## Robin James rnj13 ##\n"
   ],
   "metadata": {
    "collapsed": false
   }
  },
  {
   "cell_type": "code",
   "execution_count": 27,
   "outputs": [],
   "source": [
    "import numpy as np\n",
    "import scipy.optimize as opt\n",
    "import scipy.interpolate as interp\n",
    "from matplotlib import pyplot as plt\n",
    "import matplotlib as mpl\n",
    "import urllib.request\n",
    "mpl.rc('xtick', direction='in', top=True)\n",
    "mpl.rc('ytick', direction='in', right=True)\n",
    "mpl.rc('xtick.minor', visible=True)\n",
    "mpl.rc('ytick.minor', visible=True)"
   ],
   "metadata": {
    "collapsed": false,
    "pycharm": {
     "name": "#%%\n"
    }
   }
  },
  {
   "cell_type": "markdown",
   "source": [
    "\n",
    "# Problem 1 #\n",
    "\n",
    "## Part i ##"
   ],
   "metadata": {
    "collapsed": false
   }
  },
  {
   "cell_type": "code",
   "execution_count": 28,
   "metadata": {
    "collapsed": true
   },
   "outputs": [
    {
     "name": "stdout",
     "output_type": "stream",
     "text": [
      "The estimated population of 1990 5.261121284500007, compare to the reported to the reported value of 5.327231061. This is a fractional error of 0.012409782069333292\n"
     ]
    }
   ],
   "source": [
    "years=np.array([1980,2000])\n",
    "population= np.array([4.458003514,6.064239055] )\n",
    "poppoly = interp.lagrange(years,population)\n",
    "print(\"The estimated population of 1990 \"+str(poppoly(1990))+ \", compare to the reported to the reported value of 5.327231061. This is a fractional error of \"+ str(np.abs(poppoly(1990)-5.327231061)/5.327231061))"
   ]
  },
  {
   "cell_type": "markdown",
   "source": [
    "## Part ii ##\n",
    "Extrapolate for years 1960 and 2020"
   ],
   "metadata": {
    "collapsed": false
   }
  },
  {
   "cell_type": "code",
   "execution_count": 29,
   "outputs": [
    {
     "name": "stdout",
     "output_type": "stream",
     "text": [
      "The estimated population of 1960 2.851767972999994, compare to the reported to the reported value of  3.034949748. This is a fractional error of 0.060357432646362806\n"
     ]
    }
   ],
   "source": [
    "print(\"The estimated population of 1960 \"+str(poppoly(1960))+ \", compare to the reported to the reported value of  3.034949748. This is a fractional error of \"+ str(np.abs(poppoly(1960)- 3.034949748)/ 3.034949748))"
   ],
   "metadata": {
    "collapsed": false,
    "pycharm": {
     "name": "#%%\n"
    }
   }
  },
  {
   "cell_type": "code",
   "execution_count": 30,
   "outputs": [
    {
     "name": "stdout",
     "output_type": "stream",
     "text": [
      "The estimated population of 2020 7.670474595999991, compare to the reported to the reported value of   7.794798739. This is a fractional error of 0.01594962835640301\n"
     ]
    }
   ],
   "source": [
    "print(\"The estimated population of 2020 \"+str(poppoly(2020))+ \", compare to the reported to the reported value of   7.794798739. This is a fractional error of \"+ str(np.abs(poppoly(2020)-  7.794798739)/  7.794798739))"
   ],
   "metadata": {
    "collapsed": false,
    "pycharm": {
     "name": "#%%\n"
    }
   }
  },
  {
   "cell_type": "markdown",
   "source": [
    "## Part iii ##\n",
    "Extrapolate for years 2050 and 2100"
   ],
   "metadata": {
    "collapsed": false
   }
  },
  {
   "cell_type": "code",
   "execution_count": 31,
   "outputs": [
    {
     "name": "stdout",
     "output_type": "stream",
     "text": [
      "The estimated population of 2050 10.079827907500004 and the estimated population of 2100 14.095416760000006\n"
     ]
    }
   ],
   "source": [
    "print(\"The estimated population of 2050 \"+str(poppoly(2050))+\" and the estimated population of 2100 \"+str(poppoly(2100)))"
   ],
   "metadata": {
    "collapsed": false,
    "pycharm": {
     "name": "#%%\n"
    }
   }
  },
  {
   "cell_type": "markdown",
   "source": [
    "## Part iv ##\n",
    "\n",
    "Repeat for previous parts with quadratic polynomial."
   ],
   "metadata": {
    "collapsed": false
   }
  },
  {
   "cell_type": "code",
   "execution_count": 32,
   "outputs": [
    {
     "name": "stdout",
     "output_type": "stream",
     "text": [
      "The estimated population of 1990 5.245937516981996, compare to the reported to the reported value of 5.327231061. This is a fractional error of 0.015259999629665696\n"
     ]
    }
   ],
   "source": [
    "years=np.array([1970,1980,2000])\n",
    "population= np.array([3.700437046,4.458003514,6.064239055] )\n",
    "poppoly = interp.lagrange(years,population)\n",
    "print(\"The estimated population of 1990 \"+str(poppoly(1990))+ \", compare to the reported to the reported value of 5.327231061. This is a fractional error of \"+ str(np.abs(poppoly(1990)-5.327231061)/5.327231061))"
   ],
   "metadata": {
    "collapsed": false,
    "pycharm": {
     "name": "#%%\n"
    }
   }
  },
  {
   "cell_type": "code",
   "execution_count": 33,
   "outputs": [
    {
     "name": "stdout",
     "output_type": "stream",
     "text": [
      "The estimated population of 1960 2.9732381129824716, compare to the reported to the reported value of  3.034949748. This is a fractional error of 0.020333659579765864\n"
     ]
    }
   ],
   "source": [
    "print(\"The estimated population of 1960 \"+str(poppoly(1960))+ \", compare to the reported to the reported value of  3.034949748. This is a fractional error of \"+ str(np.abs(poppoly(1960)- 3.034949748)/ 3.034949748))"
   ],
   "metadata": {
    "collapsed": false,
    "pycharm": {
     "name": "#%%\n"
    }
   }
  },
  {
   "cell_type": "code",
   "execution_count": 34,
   "outputs": [
    {
     "name": "stdout",
     "output_type": "stream",
     "text": [
      "The estimated population of 2020 7.791944735981701, compare to the reported to the reported value of   7.794798739. This is a fractional error of 0.0003661419767028874\n"
     ]
    }
   ],
   "source": [
    "print(\"The estimated population of 2020 \"+str(poppoly(2020))+ \", compare to the reported to the reported value of   7.794798739. This is a fractional error of \"+ str(np.abs(poppoly(2020)-  7.794798739)/  7.794798739))"
   ],
   "metadata": {
    "collapsed": false,
    "pycharm": {
     "name": "#%%\n"
    }
   }
  },
  {
   "cell_type": "code",
   "execution_count": 35,
   "outputs": [
    {
     "name": "stdout",
     "output_type": "stream",
     "text": [
      "The estimated population of 2050 10.611259769981245 and the estimated population of 2100 15.917468859980715\n"
     ]
    }
   ],
   "source": [
    "print(\"The estimated population of 2050 \"+str(poppoly(2050))+\" and the estimated population of 2100 \"+str(poppoly(2100)))"
   ],
   "metadata": {
    "collapsed": false,
    "pycharm": {
     "name": "#%%\n"
    }
   }
  },
  {
   "cell_type": "markdown",
   "source": [
    "## Part v ##\n",
    "The linear model is better at extrapolation because the quadratic will likely separate from the true value much quicker.\n",
    "\n",
    "# Problem 2 #\n",
    "First step, import data"
   ],
   "metadata": {
    "collapsed": false
   }
  },
  {
   "cell_type": "code",
   "execution_count": 36,
   "outputs": [],
   "source": [
    "url = 'https://raw.githubusercontent.com/cwru-phys-250/p250-spring-2022/master/data/hw2.dat'\n",
    "with urllib.request.urlopen(url) as fp:\n",
    "    (time, position) = np.loadtxt(fp, unpack=True)"
   ],
   "metadata": {
    "collapsed": false,
    "pycharm": {
     "name": "#%%\n"
    }
   }
  },
  {
   "cell_type": "markdown",
   "source": [
    "## Part i ##\n",
    "To estimate the position of the satellite when behind the planet, I used scipy to create a spline. From there I could just input the days of that the data was missing to get an estimate."
   ],
   "metadata": {
    "collapsed": false
   }
  },
  {
   "cell_type": "code",
   "execution_count": 40,
   "outputs": [
    {
     "name": "stdout",
     "output_type": "stream",
     "text": [
      "Estimate position of the satellite while behind the planet:\n",
      "Day: 5, Distance:-0.7463792670859545 arcsecond,\n",
      "Day: 6, Distance:2.7481332628406694 arcsecond,\n"
     ]
    }
   ],
   "source": [
    "plantsp= interp.InterpolatedUnivariateSpline(time,position)\n",
    "print(\"Estimate position of the satellite while behind the planet:\")\n",
    "for i in range(5,7):\n",
    "    print(\"Day: \"+str(i)+\", Distance:\"+ str(plantsp(i))+\" arcsecond,\" )\n"
   ],
   "metadata": {
    "collapsed": false,
    "pycharm": {
     "name": "#%%\n"
    }
   }
  },
  {
   "cell_type": "markdown",
   "source": [
    "## Part 2 ##\n",
    "To find the max and min, I took the first derivative of my spline and then used bisection functions to find the time the slope in 0. To pick my brackets I look at the data and found the min is between 2 and 3 and a max between 7 and 9."
   ],
   "metadata": {
    "collapsed": false
   }
  },
  {
   "cell_type": "code",
   "execution_count": 54,
   "outputs": [
    {
     "name": "stdout",
     "output_type": "stream",
     "text": [
      "The minimum distance is at time ,in days, 2.6063867932953144 with a distance, in arcseconds, of -5.99364874662784 and the maximum distance is at time 7.804243347962256 with a distance of 5.996689884475863\n"
     ]
    }
   ],
   "source": [
    "def firstdpath(x):\n",
    "   return plantsp(x,nu=1)\n",
    "\n",
    "maxday=opt.bisect(firstdpath,7,9)\n",
    "minday=opt.bisect(firstdpath,2,3)\n",
    "print(\"The minimum distance is at time ,in days, \"+str(minday)+ \" with a distance, in arcseconds, of \"+ str(plantsp(minday))+ \" and the maximum distance is at time \"+ str(maxday)+ \" with a distance of \"+ str(plantsp(maxday)) )"
   ],
   "metadata": {
    "collapsed": false,
    "pycharm": {
     "name": "#%%\n"
    }
   }
  },
  {
   "cell_type": "code",
   "execution_count": null,
   "outputs": [],
   "source": [],
   "metadata": {
    "collapsed": false,
    "pycharm": {
     "name": "#%%\n"
    }
   }
  }
 ],
 "metadata": {
  "kernelspec": {
   "display_name": "Python 3",
   "language": "python",
   "name": "python3"
  },
  "language_info": {
   "codemirror_mode": {
    "name": "ipython",
    "version": 2
   },
   "file_extension": ".py",
   "mimetype": "text/x-python",
   "name": "python",
   "nbconvert_exporter": "python",
   "pygments_lexer": "ipython2",
   "version": "2.7.6"
  }
 },
 "nbformat": 4,
 "nbformat_minor": 0
}