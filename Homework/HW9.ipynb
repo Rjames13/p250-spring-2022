{
 "cells": [
  {
   "cell_type": "markdown",
   "source": [
    "# Homework 9 #\n",
    "## Part i ##\n",
    "$$\n",
    "\\begin{pmatrix}\n",
    "x_1 & x_2\n",
    "\\end{pmatrix}\n",
    "\\begin{pmatrix}\n",
    "14 & -2   \\\\\n",
    "-2 & 11\n",
    "\\end{pmatrix}\n",
    "\\begin{pmatrix}\n",
    "x_1   \\\\\n",
    "x_2\n",
    "\\end{pmatrix} =25 $$\n",
    "\n",
    "## Part ii ##\n",
    "\n",
    "To find $\\lambda$\n",
    "$$ |\\mathsf{A} - \\lambda \\mathsf{I}|=0 $$\n",
    "$$ |\\begin{matrix}\n",
    "14-\\lambda & -2   \\\\\n",
    "-2 & 11- \\lambda\n",
    "\\end{matrix}| = 0 $$\n",
    "$$ (14-\\lambda)(11- \\lambda)-4=0 $$\n",
    "$$ \\lambda^2 -25 \\lambda +150=0 $$\n",
    "$$ \\lambda_1=10 $$\n",
    "$$ \\lambda_2=15 $$\n",
    "\n",
    "## Part iii ##\n",
    "Find $V_n$\n",
    "$$ \\begin{pmatrix}\n",
    "14-\\lambda & -2   \\\\\n",
    "-2 & 11- \\lambda\n",
    "\\end{pmatrix} \\begin{pmatrix}\n",
    "x_1   \\\\\n",
    "x_2\n",
    "\\end{pmatrix} = 0 $$\n",
    "For $ \\lambda_1=10 $\n",
    "$$ \\begin{align}\n",
    "4x_1 - 2x_2  &= 0 \\\\\n",
    "-2x_1 + 1x_2 &= 0\n",
    "\\end{align} $$\n",
    "$$ v_1= \\begin{pmatrix}\n",
    "\\frac{1}{2}   \\\\\n",
    "1\n",
    "\\end{pmatrix}\n",
    "\n",
    "For $ \\lambda_2=15 $\n",
    "$$ \\begin{align}\n",
    "-x_1 - 2x_2  &= 0 \\\\\n",
    "-2x_1 -3 x_2 &= 0\n",
    "\\end{align} $$\n",
    "$$ v_1= \\begin{pmatrix}\n",
    "-2   \\\\\n",
    "1\n",
    "\\end{pmatrix}"
   ],
   "metadata": {
    "collapsed": false,
    "pycharm": {
     "name": "#%% md\n"
    }
   }
  },
  {
   "cell_type": "markdown",
   "source": [],
   "metadata": {
    "collapsed": false
   }
  },
  {
   "cell_type": "code",
   "execution_count": 1,
   "outputs": [],
   "source": [
    "import numpy as np\n",
    "import scipy.linalg as la\n",
    "import matplotlib.pyplot as plt\n",
    "import matplotlib as mpl\n",
    "mpl.rc('xtick', direction='in', top=True)\n",
    "mpl.rc('ytick', direction='in', right=True)\n",
    "mpl.rc('xtick.minor', visible=True)\n",
    "mpl.rc('ytick.minor', visible=True)"
   ],
   "metadata": {
    "collapsed": false,
    "pycharm": {
     "name": "#%%\n"
    }
   }
  },
  {
   "cell_type": "code",
   "execution_count": 3,
   "outputs": [],
   "source": [
    "a=la.hilbert(10)"
   ],
   "metadata": {
    "collapsed": false,
    "pycharm": {
     "name": "#%%\n"
    }
   }
  },
  {
   "cell_type": "code",
   "execution_count": 8,
   "outputs": [],
   "source": [
    "(lem,B)=la.eigh(a)\n",
    "kappa=np.max(lem)/np.min(lem)"
   ],
   "metadata": {
    "collapsed": false,
    "pycharm": {
     "name": "#%%\n"
    }
   }
  },
  {
   "cell_type": "code",
   "execution_count": 9,
   "outputs": [
    {
     "data": {
      "text/plain": "16025152962350.574"
     },
     "execution_count": 9,
     "metadata": {},
     "output_type": "execute_result"
    }
   ],
   "source": [
    "kappa"
   ],
   "metadata": {
    "collapsed": false,
    "pycharm": {
     "name": "#%%\n"
    }
   }
  },
  {
   "cell_type": "code",
   "execution_count": 12,
   "outputs": [],
   "source": [
    "inva=la.inv(a)"
   ],
   "metadata": {
    "collapsed": false,
    "pycharm": {
     "name": "#%%\n"
    }
   }
  },
  {
   "cell_type": "code",
   "execution_count": 13,
   "outputs": [
    {
     "data": {
      "text/plain": "array([[ 5.98271290e-05,  1.07064843e-05, -7.95423985e-05,\n         1.36375427e-04, -6.75201416e-04,  1.93786621e-03,\n        -3.19671631e-03,  3.06701660e-03, -1.58691406e-03,\n         3.99589539e-04],\n       [ 5.22737391e-05,  9.04966146e-06, -6.64591789e-05,\n         1.03473663e-04, -5.09262085e-04,  1.46102905e-03,\n        -2.39562988e-03,  2.28881836e-03, -1.22451782e-03,\n         3.04222107e-04],\n       [ 4.64450568e-05,  7.83987343e-06, -5.73396683e-05,\n         8.41617584e-05, -4.04357910e-04,  1.16348267e-03,\n        -1.96838379e-03,  1.84631348e-03, -9.72747803e-04,\n         2.42710114e-04],\n       [ 4.18015843e-05,  6.94487244e-06, -5.06639481e-05,\n         7.10487366e-05, -3.49998474e-04,  9.38415527e-04,\n        -1.62124634e-03,  1.52969360e-03, -8.16345215e-04,\n         2.06470490e-04],\n       [ 3.80112906e-05,  6.22216612e-06, -4.55528498e-05,\n         5.91278076e-05, -2.89916992e-04,  8.27789307e-04,\n        -1.31988525e-03,  1.31607056e-03, -6.90460205e-04,\n         1.75952911e-04],\n       [ 3.48561225e-05,  5.67082316e-06, -4.14550304e-05,\n         5.50746918e-05, -2.64167786e-04,  7.76290894e-04,\n        -1.27410889e-03,  1.23977661e-03, -6.50405884e-04,\n         1.60217285e-04],\n       [ 3.21881380e-05,  5.16325235e-06, -3.76701355e-05,\n         4.57763672e-05, -2.28881836e-04,  6.67572021e-04,\n        -1.04904175e-03,  1.01852417e-03, -5.28335571e-04,\n         1.39236450e-04],\n       [ 2.99015519e-05,  4.77116555e-06, -3.50028276e-05,\n         4.19616699e-05, -2.10762024e-04,  5.87463379e-04,\n        -1.01089478e-03,  9.53674316e-04, -5.07354736e-04,\n         1.31130219e-04],\n       [ 2.79198866e-05,  4.42937016e-06, -3.26633453e-05,\n         3.92198563e-05, -1.92642212e-04,  5.87463379e-04,\n        -9.34600830e-04,  8.77380371e-04, -4.57763672e-04,\n         1.29699707e-04],\n       [ 2.61858586e-05,  4.11737710e-06, -2.99364328e-05,\n         3.17096710e-05, -1.57356262e-04,  4.73022461e-04,\n        -8.08715820e-04,  7.47680664e-04, -3.96728516e-04,\n         9.91821289e-05]])"
     },
     "execution_count": 13,
     "metadata": {},
     "output_type": "execute_result"
    }
   ],
   "source": [
    "a@inva-np.eye(10)"
   ],
   "metadata": {
    "collapsed": false,
    "pycharm": {
     "name": "#%%\n"
    }
   }
  },
  {
   "cell_type": "code",
   "execution_count": 14,
   "outputs": [
    {
     "data": {
      "text/plain": "array([[-1.67403277e-06,  1.45567645e-04, -3.11587986e-03,\n         2.84375586e-02, -1.36071435e-01,  3.75033663e-01,\n        -6.16652444e-01,  5.97017591e-01, -3.13921521e-01,\n         6.91298010e-02],\n       [ 2.16832925e-05, -1.37869180e-03,  2.12016007e-02,\n        -1.33416319e-01,  4.04674428e-01, -5.80924738e-01,\n         2.13963517e-01,  4.06588657e-01, -4.93025123e-01,\n         1.62312165e-01],\n       [-1.87818384e-04,  8.42526387e-03, -8.88775677e-02,\n         3.56877239e-01, -5.70640478e-01,  1.34051447e-01,\n         4.46875713e-01, -6.15397741e-02, -4.94713511e-01,\n         2.69891725e-01],\n       [ 1.24745611e-03, -3.76884259e-02,  2.55155899e-01,\n        -5.66480585e-01,  2.25122887e-01,  4.26343115e-01,\n         2.94090306e-02, -3.71927497e-01, -3.26500431e-01,\n         3.66506465e-01],\n       [-6.67484774e-03,  1.27505803e-01, -4.97391459e-01,\n         4.10971927e-01,  3.63294163e-01, -4.87344006e-02,\n        -3.43217612e-01, -3.52928835e-01, -7.57666942e-02,\n         4.30053664e-01],\n       [ 2.93126764e-02, -3.22879147e-01,  5.83114115e-01,\n         1.69552768e-01, -2.29493333e-01, -3.74836695e-01,\n        -3.09362024e-01, -1.12143643e-01,  1.54211321e-01,\n         4.48204956e-01],\n       [-1.05515795e-01,  5.76271783e-01, -2.01933680e-01,\n        -4.12043529e-01, -3.51322220e-01, -1.95432922e-01,\n        -1.93990025e-02,  1.47212403e-01,  2.94208926e-01,\n         4.19514164e-01],\n       [-3.03404206e-01,  5.99560151e-01,  3.78571505e-01,\n         1.44313674e-01, -2.74969528e-02, -1.46916578e-01,\n        -2.29138818e-01, -2.85631577e-01, -3.24264002e-01,\n        -3.50361227e-01],\n       [ 6.37640842e-01, -7.04371051e-02, -2.33556605e-01,\n        -2.82108835e-01, -2.93657165e-01, -2.90981823e-01,\n        -2.82497991e-01, -2.71744237e-01, -2.60323765e-01,\n        -2.48988410e-01],\n       [-6.99514891e-01, -4.25998913e-01, -3.16976988e-01,\n        -2.55523006e-01, -2.15277840e-01, -1.86578238e-01,\n        -1.64946526e-01, -1.47992143e-01, -1.34310446e-01,\n        -1.23016713e-01]])"
     },
     "execution_count": 14,
     "metadata": {},
     "output_type": "execute_result"
    }
   ],
   "source": [
    "np.transpose(B)"
   ],
   "metadata": {
    "collapsed": false,
    "pycharm": {
     "name": "#%%\n"
    }
   }
  },
  {
   "cell_type": "code",
   "execution_count": null,
   "outputs": [],
   "source": [],
   "metadata": {
    "collapsed": false,
    "pycharm": {
     "name": "#%%\n"
    }
   }
  }
 ],
 "metadata": {
  "kernelspec": {
   "display_name": "Python 3",
   "language": "python",
   "name": "python3"
  },
  "language_info": {
   "codemirror_mode": {
    "name": "ipython",
    "version": 2
   },
   "file_extension": ".py",
   "mimetype": "text/x-python",
   "name": "python",
   "nbconvert_exporter": "python",
   "pygments_lexer": "ipython2",
   "version": "2.7.6"
  }
 },
 "nbformat": 4,
 "nbformat_minor": 0
}