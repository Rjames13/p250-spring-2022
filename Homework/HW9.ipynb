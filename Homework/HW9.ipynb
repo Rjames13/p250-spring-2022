{
 "cells": [
  {
   "cell_type": "markdown",
   "source": [
    "# Homework 9 #\n",
    "## Part i ##\n",
    "$$\n",
    "\\begin{pmatrix}\n",
    "x_1 & x_2\n",
    "\\end{pmatrix}\n",
    "\\begin{pmatrix}\n",
    "14 & -2   \\\\\n",
    "-2 & 11\n",
    "\\end{pmatrix}\n",
    "\\begin{pmatrix}\n",
    "x_1   \\\\\n",
    "x_2\n",
    "\\end{pmatrix} =25 $$\n",
    "\n",
    "## Part ii ##\n",
    "\n",
    "To find $\\lambda$\n",
    "$$ |\\mathsf{A} - \\lambda \\mathsf{I}|=0 $$\n",
    "$$ |\\begin{matrix}\n",
    "14-\\lambda & -2   \\\\\n",
    "-2 & 11- \\lambda\n",
    "\\end{matrix}| = 0 $$\n",
    "$$ (14-\\lambda)(11- \\lambda)-4=0 $$\n",
    "$$ \\lambda^2 -25 \\lambda +150=0 $$\n",
    "$$ \\lambda_1=10 $$\n",
    "$$ \\lambda_2=15 $$\n",
    "\n",
    "## Part iii ##\n",
    "Find $V_n$\n",
    "$$ \\begin{pmatrix}\n",
    "14-\\lambda & -2   \\\\\n",
    "-2 & 11- \\lambda\n",
    "\\end{pmatrix} \\begin{pmatrix}\n",
    "x_1   \\\\\n",
    "x_2\n",
    "\\end{pmatrix} = 0 $$\n",
    "For $ \\lambda_1=10 $\n",
    "$$ \\begin{align}\n",
    "4x_1 - 2x_2  &= 0 \\\\\n",
    "-2x_1 + 1x_2 &= 0\n",
    "\\end{align} $$\n",
    "$$ v_1= \\begin{pmatrix}\n",
    "1  \\\\\n",
    "2\n",
    "\\end{pmatrix} $$\n",
    "\n",
    "For $ \\lambda_2=15 $\n",
    "$$ \\begin{align}\n",
    "-x_1 - 2x_2  &= 0 \\\\\n",
    "-2x_1 -4 x_2 &= 0\n",
    "\\end{align} $$\n",
    "$$ v_2= \\begin{pmatrix}\n",
    "-2   \\\\\n",
    "1\n",
    "\\end{pmatrix} $$\n"
   ],
   "metadata": {
    "collapsed": false,
    "pycharm": {
     "name": "#%% md\n"
    }
   }
  },
  {
   "cell_type": "markdown",
   "source": [
    "## Part iv ##\n",
    "$$ \\mathsf{B} = \\begin{pmatrix}\n",
    "1 & -2   \\\\\n",
    "2& 1\n",
    "\\end{pmatrix} $$\n",
    "$$ \\mathsf{B}^\\mathsf{T} = \\begin{pmatrix}\n",
    "1 & 2   \\\\\n",
    "-2& 1\n",
    "\\end{pmatrix} $$\n",
    "In theory $ \\mathsf{B}^\\mathsf{T}\\mathsf{B}= \\mathsf{I} $\n",
    "$$ \\begin{pmatrix}\n",
    "1 & -2   \\\\\n",
    "2& 1\n",
    "\\end{pmatrix}\n",
    "\\begin{pmatrix}\n",
    "1 & 2   \\\\\n",
    "-2& 1\n",
    "\\end{pmatrix} = \\begin{pmatrix}\n",
    "1+(-2)^2 & 2+-2   \\\\\n",
    "2-2& 1+(-2)^2\n",
    "\\end{pmatrix}= \\frac15 \\mathsf{I} $$\n",
    "The $\\frac{1}{5} $ is the normalization factor of the eigenvectors so that there length is 1. I should have found this and normalized them before but it is a bit easier to work with integers then fractions.\n",
    "\n",
    "## Part v ##\n",
    "Caculate $ \\mathsf{B}^\\mathsf{T}\\mathsf{A}\\mathsf{B} $\n",
    "$$ \\begin{pmatrix}\n",
    "1 & -2   \\\\\n",
    "2& 1\n",
    "\\end{pmatrix}\n",
    " \\begin{pmatrix}\n",
    "14 & -2   \\\\\n",
    "-2& 11\n",
    "\\end{pmatrix}\n",
    "\\begin{pmatrix}\n",
    "1 & 2   \\\\\n",
    "-2& 1\n",
    "\\end{pmatrix} ="
   ],
   "metadata": {
    "collapsed": false
   }
  },
  {
   "cell_type": "code",
   "execution_count": 1,
   "outputs": [],
   "source": [
    "import numpy as np\n",
    "import scipy.linalg as la\n",
    "import matplotlib.pyplot as plt\n",
    "import matplotlib as mpl\n",
    "mpl.rc('xtick', direction='in', top=True)\n",
    "mpl.rc('ytick', direction='in', right=True)\n",
    "mpl.rc('xtick.minor', visible=True)\n",
    "mpl.rc('ytick.minor', visible=True)"
   ],
   "metadata": {
    "collapsed": false,
    "pycharm": {
     "name": "#%%\n"
    }
   }
  },
  {
   "cell_type": "code",
   "execution_count": 2,
   "outputs": [],
   "source": [
    "a=la.hilbert(10)"
   ],
   "metadata": {
    "collapsed": false,
    "pycharm": {
     "name": "#%%\n"
    }
   }
  },
  {
   "cell_type": "code",
   "execution_count": 3,
   "outputs": [],
   "source": [
    "(lem,B)=la.eigh(a)\n",
    "kappa=np.max(lem)/np.min(lem)"
   ],
   "metadata": {
    "collapsed": false,
    "pycharm": {
     "name": "#%%\n"
    }
   }
  },
  {
   "cell_type": "code",
   "execution_count": 12,
   "outputs": [
    {
     "name": "stdout",
     "output_type": "stream",
     "text": [
      "Kappa for A is 16025584813393.43\n"
     ]
    }
   ],
   "source": [
    "print(f'Kappa for A is {kappa}')"
   ],
   "metadata": {
    "collapsed": false,
    "pycharm": {
     "name": "#%%\n"
    }
   }
  },
  {
   "cell_type": "code",
   "execution_count": 5,
   "outputs": [],
   "source": [
    "inva=la.inv(a)"
   ],
   "metadata": {
    "collapsed": false,
    "pycharm": {
     "name": "#%%\n"
    }
   }
  },
  {
   "cell_type": "code",
   "execution_count": 10,
   "outputs": [
    {
     "name": "stdout",
     "output_type": "stream",
     "text": [
      "The maximum ablutue error is 4.312854834312297e-05\n"
     ]
    }
   ],
   "source": [
    "print(f'The maximum ablutue error is {np.max(inva@a-np.eye(10))}')"
   ],
   "metadata": {
    "collapsed": false,
    "pycharm": {
     "name": "#%%\n"
    }
   }
  },
  {
   "cell_type": "code",
   "execution_count": 17,
   "outputs": [
    {
     "data": {
      "text/plain": "3536918134058.636"
     },
     "execution_count": 17,
     "metadata": {},
     "output_type": "execute_result"
    }
   ],
   "source": [
    "tranB =np.transpose(B)\n",
    "D=B@a@tranB\n",
    "invD=la.inv(D)\n",
    "invA=B@invD@tranB\n",
    "np.max(invA)"
   ],
   "metadata": {
    "collapsed": false,
    "pycharm": {
     "name": "#%%\n"
    }
   }
  }
 ],
 "metadata": {
  "kernelspec": {
   "display_name": "Python 3",
   "language": "python",
   "name": "python3"
  },
  "language_info": {
   "codemirror_mode": {
    "name": "ipython",
    "version": 2
   },
   "file_extension": ".py",
   "mimetype": "text/x-python",
   "name": "python",
   "nbconvert_exporter": "python",
   "pygments_lexer": "ipython2",
   "version": "2.7.6"
  }
 },
 "nbformat": 4,
 "nbformat_minor": 0
}