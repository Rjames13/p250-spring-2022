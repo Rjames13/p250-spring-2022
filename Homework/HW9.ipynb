{
 "cells": [
  {
   "cell_type": "markdown",
   "source": [
    "# Homework 9 #\n",
    "## Part i ##\n",
    "$$\n",
    "\\begin{pmatrix}\n",
    "x_1 & x_2\n",
    "\\end{pmatrix}\n",
    "\\begin{pmatrix}\n",
    "14 & -2   \\\\\n",
    "-2 & 11\n",
    "\\end{pmatrix}\n",
    "\\begin{pmatrix}\n",
    "x_1   \\\\\n",
    "x_2\n",
    "\\end{pmatrix} =25 $$\n",
    "\n",
    "## Part ii ##\n",
    "\n",
    "To find $\\lambda$\n",
    "$$ |\\mathsf{A} - \\lambda \\mathsf{I}|=0 $$\n",
    "$$ |\\begin{matrix}\n",
    "14-\\lambda & -2   \\\\\n",
    "-2 & 11- \\lambda\n",
    "\\end{matrix}| = 0 $$\n",
    "$$ (14-\\lambda)(11- \\lambda)-4=0 $$\n",
    "$$ \\lambda^2 -25 \\lambda +150=0 $$\n",
    "$$ \\lambda_1=10 $$\n",
    "$$ \\lambda_2=15 $$\n",
    "\n",
    "## Part iii ##\n",
    "Find $V_n$\n",
    "$$ \\begin{pmatrix}\n",
    "14-\\lambda & -2   \\\\\n",
    "-2 & 11- \\lambda\n",
    "\\end{pmatrix} \\begin{pmatrix}\n",
    "x_1   \\\\\n",
    "x_2\n",
    "\\end{pmatrix} = 0 $$\n",
    "For $ \\lambda_1=10 $\n",
    "$$ \\begin{align}\n",
    "4x_1 - 2x_2  &= 0 \\\\\n",
    "-2x_1 + 1x_2 &= 0\n",
    "\\end{align} $$\n",
    "$$ v_1= \\begin{pmatrix}\n",
    "1  \\\\\n",
    "2\n",
    "\\end{pmatrix} $$\n",
    "\n",
    "For $ \\lambda_2=15 $\n",
    "$$ \\begin{align}\n",
    "-x_1 - 2x_2  &= 0 \\\\\n",
    "-2x_1 -4 x_2 &= 0\n",
    "\\end{align} $$\n",
    "$$ v_2= \\begin{pmatrix}\n",
    "-2   \\\\\n",
    "1\n",
    "\\end{pmatrix} $$\n"
   ],
   "metadata": {
    "collapsed": false,
    "pycharm": {
     "name": "#%% md\n"
    }
   }
  },
  {
   "cell_type": "markdown",
   "source": [
    "## Part iv ##\n",
    "$$ \\mathsf{B} = \\begin{pmatrix}\n",
    "1 & -2   \\\\\n",
    "2& 1\n",
    "\\end{pmatrix} $$\n",
    "$$ \\mathsf{B}^\\mathsf{T} = \\begin{pmatrix}\n",
    "1 & 2   \\\\\n",
    "-2& 1\n",
    "\\end{pmatrix} $$\n",
    "In theory $ \\mathsf{B}^\\mathsf{T}\\mathsf{B}= \\mathsf{I} $\n",
    "$$ \\begin{pmatrix}\n",
    "1 & -2   \\\\\n",
    "2& 1\n",
    "\\end{pmatrix}\n",
    "\\begin{pmatrix}\n",
    "1 & 2   \\\\\n",
    "-2& 1\n",
    "\\end{pmatrix} = \\begin{pmatrix}\n",
    "1+(-2)^2 & 2+-2   \\\\\n",
    "2-2& 1+(-2)^2\n",
    "\\end{pmatrix}= \\frac15 \\mathsf{I} $$\n",
    "The $\\frac{1}{5} $ is the normalization factor of the eigenvectors so that there length is 1. I should have found this and normalized them before but it is a bit easier to work with integers then fractions.\n",
    "\n",
    "## Part v ##\n",
    "Caculate $ \\mathsf{B}^\\mathsf{T}\\mathsf{A}\\mathsf{B} $\n",
    "$$ \\begin{pmatrix}\n",
    "1 & 2   \\\\\n",
    "-2& 1\n",
    "\\end{pmatrix}\n",
    " \\begin{pmatrix}\n",
    "14 & -2   \\\\\n",
    "-2& 11\n",
    "\\end{pmatrix}\n",
    "\\begin{pmatrix}\n",
    "1 & -2   \\\\\n",
    "2& 1\n",
    "\\end{pmatrix} = \\begin{pmatrix}\n",
    "10 & 20   \\\\\n",
    "-30 & 15\n",
    "\\end{pmatrix}\\begin{pmatrix}\n",
    "1 & -2   \\\\\n",
    "2& 1\n",
    "\\end{pmatrix}=5\\begin{pmatrix}\n",
    "10 & 0   \\\\\n",
    "0 & 15\n",
    "\\end{pmatrix} $$\n",
    "This is what we expected.\n",
    "\n",
    "## Part vi ##\n"
   ],
   "metadata": {
    "collapsed": false,
    "pycharm": {
     "name": "#%% md\n"
    }
   }
  },
  {
   "cell_type": "markdown",
   "source": [
    "Note: I believe I did reverse $\\mathsf{B}^\\mathsf{T}$ and $\\mathsf{B}^\\mathsf{T}$ because the transformation of $\\mathsf{B}^\\mathsf{T}$ does not match image but $\\mathsf{B}$ does.\n",
    "$$ x\\mathsf{B} = x\\begin{pmatrix}\n",
    "1 & -2   \\\\\n",
    "2 & 1\n",
    "\\end{pmatrix}=x' $$\n",
    "The first column is the transformation of $x_1$ to $x_1'$ so it will move right 1 and up 2, to find the angle, we can take the the inverse tangent of 2 which comes out to 63.43 degrees.\n",
    "## Part vii ##\n",
    "$$\n",
    "\\begin{pmatrix}\n",
    "x_1 & x_2\n",
    "\\end{pmatrix}\n",
    "\\begin{pmatrix}\n",
    "14 & -2   \\\\\n",
    "-2 & 11\n",
    "\\end{pmatrix}\n",
    "\\begin{pmatrix}\n",
    "x_1   \\\\\n",
    "x_2\n",
    "\\end{pmatrix} =25 $$\n",
    "Transforms to\n",
    "\n",
    "$$\n",
    "\\begin{pmatrix}\n",
    "1 & 2   \\\\\n",
    "-2 & 1\n",
    "\\end{pmatrix}\n",
    "\\begin{pmatrix}\n",
    "x_1 & x_2\n",
    "\\end{pmatrix}\n",
    "\\begin{pmatrix}\n",
    "14 & -2   \\\\\n",
    "-2 & 11\n",
    "\\end{pmatrix}\n",
    "(\\begin{pmatrix}\n",
    "1 & -2   \\\\\n",
    "2 & 1\n",
    "\\end{pmatrix}\n",
    "\\begin{pmatrix}\n",
    "x_1   \\\\\n",
    "x_2\n",
    "\\end{pmatrix}) =25= $$\n",
    "\n",
    "$$\n",
    "\n",
    "\\begin{pmatrix}\n",
    "x_1+2x_2 & -2x_1+x_2\n",
    "\\end{pmatrix}\n",
    "\\begin{pmatrix}\n",
    "14 & -2   \\\\\n",
    "-2 & 11\n",
    "\\end{pmatrix}\n",
    "\n",
    "\\begin{pmatrix}\n",
    "x_1-2x_2   \\\\\n",
    "2x_1+x_2\n",
    "\\end{pmatrix} =25 $$\n",
    "\n",
    "$$ \\begin{pmatrix}\n",
    "14(x_1+2x_2)-2(x_2-2x_1) & 11(-2x_1+x_2)-2(x_1+2x_2)\n",
    "\\end{pmatrix}\n",
    "\n",
    "\\begin{pmatrix}\n",
    "x_1-2x_2   \\\\\n",
    "2x_1+x_2\n",
    "\\end{pmatrix} =25 $$\n",
    "\n",
    "At this point I realized that I rotated it the wrong direction, keeping it though because I  found it interesting and learn a lot from this mistake. Now the proper way...\n",
    "\n",
    "$$\n",
    "\\begin{pmatrix}\n",
    "x_1 & x_2\n",
    "\\end{pmatrix}\n",
    "\\begin{pmatrix}\n",
    "14 & -2   \\\\\n",
    "-2 & 11\n",
    "\\end{pmatrix}\n",
    "\\begin{pmatrix}\n",
    "x_1   \\\\\n",
    "x_2\n",
    "\\end{pmatrix} =25 $$\n",
    "Transforms to\n",
    "\n",
    "\n",
    "$$\n",
    "\\begin{pmatrix}\n",
    "1 & -2   \\\\\n",
    "2 & 1\n",
    "\\end{pmatrix}\n",
    "\\begin{pmatrix}\n",
    "x_1’ & x_2’\n",
    "\\end{pmatrix}\n",
    "\\begin{pmatrix}\n",
    "14 & -2   \\\\\n",
    "-2 & 11\n",
    "\\end{pmatrix}\n",
    "(\\begin{pmatrix}\n",
    "1 & 2   \\\\\n",
    "-2 & 1\n",
    "\\end{pmatrix}\n",
    "\\begin{pmatrix}\n",
    "x_1’   \\\\\n",
    "x_2’\n",
    "\\end{pmatrix}) =25= $$\n",
    "\n",
    "$$\n",
    "\n",
    "\\begin{pmatrix}\n",
    "x_1’-2x_2’ & 2x_1’+x_2’\n",
    "\\end{pmatrix}\n",
    "\\begin{pmatrix}\n",
    "14 & -2   \\\\\n",
    "-2 & 11\n",
    "\\end{pmatrix}\n",
    "(\\begin{pmatrix}\n",
    "1 & 2   \\\\\n",
    "-2 & 1\n",
    "\\end{pmatrix}\n",
    "\\begin{pmatrix}\n",
    "x_1’   \\\\\n",
    "x_2’\n",
    "\\end{pmatrix}) =25= $$\n",
    "\n",
    "$$\n",
    "\n",
    "\\begin{pmatrix}\n",
    "14(x_1’-2x_2’)+2(2x_1’+x_2’) & -2(x_1’-2x_2’)+11(2x_1’+x_2’)\n",
    "\\end{pmatrix}\n",
    "(\\begin{pmatrix}\n",
    "1 & 2   \\\\\n",
    "-2 & 1\n",
    "\\end{pmatrix}\n",
    "\\begin{pmatrix}\n",
    "x_1’   \\\\\n",
    "x_2’\n",
    "\\end{pmatrix}) =25= $$\n",
    "$$\n",
    "\n",
    "\\begin{pmatrix}\n",
    "14(x_1’-2x_2’)+2(2x_1’+x_2’)-2(-2(x_1’-2x_2’)+11(2x_1’+x_2’)) & -2(x_1’-2x_2’)+11(2x_1’+x_2’)+2(14(x_1’-2x_2’)+2(2x_1’+x_2’))\n",
    "\\end{pmatrix}\n",
    "\n",
    "\\begin{pmatrix}\n",
    "x_1’   \\\\\n",
    "x_2’\n",
    "\\end{pmatrix}) =25= $$\n",
    "\n",
    "$$ x_2’ (-2 (x_1’ - 2 x_2’) + 11 (2 x_1’ + x_2’) + 2 (14 (x_1’ - 2x_2’) + 2 (2 x_1’ + x_2’)))+ \\\\ x_1’ (14 (x_1’ - 2 x_2’) + 2 (2 x_1’ + x_2’) - 2 (11 (2 x_1’ + x_2’) - 2 (x_1’ - 2 x_2’)))=25 $$\n",
    "This simplify down to\n",
    "$$ -37x_2'^2-22x_1'^2=25 $$\n",
    "Divide both sides by 25\n",
    "$$ -\\frac{37x_2'^2}{25}-\\frac{22x_1'^2}{25}=1 $$\n",
    "Which means $alpha_1=\\sqrt{-\\frac{25}{22}}$ and $alpha_2=\\sqrt{-\\frac{25}{37}}$.\n",
    "This is wrong because this should be a real function, not complex\n",
    "\n",
    "New approach I need to rotate back by -63.43 or forwards by 296.57\n",
    "So the Rotational matrix should be\n",
    "$$\\begin{pmatrix}\n",
    "\\cos \\theta & -\\sin \\theta   \\\\\n",
    "\\sin \\theta & \\cos \\theta\n",
    "\\end{pmatrix} = \\begin{pmatrix}\n",
    " 0.44729084841 & 0.89438856037  \\\\\n",
    "-0.89438856037 &  0.44729084841\n",
    "\\end{pmatrix}$$"
   ],
   "metadata": {
    "collapsed": false,
    "pycharm": {
     "name": "#%% md\n"
    }
   }
  },
  {
   "cell_type": "code",
   "execution_count": 24,
   "outputs": [],
   "source": [
    "## Problem 2\n",
    "import numpy as np\n",
    "import scipy.linalg as la\n",
    "import matplotlib.pyplot as plt\n",
    "import matplotlib as mpl\n",
    "mpl.rc('xtick', direction='in', top=True)\n",
    "mpl.rc('ytick', direction='in', right=True)\n",
    "mpl.rc('xtick.minor', visible=True)\n",
    "mpl.rc('ytick.minor', visible=True)"
   ],
   "metadata": {
    "collapsed": false,
    "pycharm": {
     "name": "#%%\n"
    }
   }
  },
  {
   "cell_type": "code",
   "execution_count": 25,
   "outputs": [],
   "source": [
    "a=la.hilbert(10)"
   ],
   "metadata": {
    "collapsed": false,
    "pycharm": {
     "name": "#%%\n"
    }
   }
  },
  {
   "cell_type": "code",
   "execution_count": 26,
   "outputs": [],
   "source": [
    "(lem,B)=la.eigh(a)\n",
    "kappa=np.max(lem)/np.min(lem)"
   ],
   "metadata": {
    "collapsed": false,
    "pycharm": {
     "name": "#%%\n"
    }
   }
  },
  {
   "cell_type": "code",
   "execution_count": 27,
   "outputs": [
    {
     "name": "stdout",
     "output_type": "stream",
     "text": [
      "Kappa for A is 16025152962350.574\n"
     ]
    }
   ],
   "source": [
    "print(f'Kappa for A is {kappa}')"
   ],
   "metadata": {
    "collapsed": false,
    "pycharm": {
     "name": "#%%\n"
    }
   }
  },
  {
   "cell_type": "code",
   "execution_count": 28,
   "outputs": [],
   "source": [
    "inva=la.inv(a)\n",
    "##print(f\"Inverse of A: {inva}\") ## VERY MESSY to print"
   ],
   "metadata": {
    "collapsed": false,
    "pycharm": {
     "name": "#%%\n"
    }
   }
  },
  {
   "cell_type": "code",
   "execution_count": 29,
   "outputs": [
    {
     "name": "stdout",
     "output_type": "stream",
     "text": [
      "The maximum absolute error is 0.0001220703125\n"
     ]
    }
   ],
   "source": [
    "print(f'The maximum absolute error is {np.max(inva@a-np.eye(10))}')"
   ],
   "metadata": {
    "collapsed": false,
    "pycharm": {
     "name": "#%%\n"
    }
   }
  },
  {
   "cell_type": "code",
   "execution_count": 30,
   "outputs": [
    {
     "name": "stdout",
     "output_type": "stream",
     "text": [
      "The maximum absolute error is 3536447372137.2227. This is a huge error compare to the previous result, as expected.\n"
     ]
    }
   ],
   "source": [
    "tranB =np.transpose(B)\n",
    "D=B@a@tranB\n",
    "invD=la.inv(D)\n",
    "invA=B@invD@tranB\n",
    "print(f'The maximum absolute error is {np.max(invA-np.eye(10))}. This is a huge error compare to the previous result, as expected.')\n"
   ],
   "metadata": {
    "collapsed": false,
    "pycharm": {
     "name": "#%%\n"
    }
   }
  }
 ],
 "metadata": {
  "kernelspec": {
   "display_name": "Python 3",
   "language": "python",
   "name": "python3"
  },
  "language_info": {
   "codemirror_mode": {
    "name": "ipython",
    "version": 2
   },
   "file_extension": ".py",
   "mimetype": "text/x-python",
   "name": "python",
   "nbconvert_exporter": "python",
   "pygments_lexer": "ipython2",
   "version": "2.7.6"
  }
 },
 "nbformat": 4,
 "nbformat_minor": 0
}