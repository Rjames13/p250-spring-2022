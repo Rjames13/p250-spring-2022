{
 "cells": [
  {
   "cell_type": "markdown",
   "source": [
    "# Homework 11 #\n",
    "## by Robin James ##"
   ],
   "metadata": {
    "collapsed": false,
    "pycharm": {
     "name": "#%% md\n"
    }
   },
   "outputs": []
  },
  {
   "cell_type": "code",
   "execution_count": 406,
   "outputs": [],
   "source": [
    "import numpy as np\n",
    "import matplotlib.pyplot as plt\n",
    "\n",
    "#Globally fix plot styling\n",
    "import matplotlib as mpl\n",
    "mpl.rc('xtick', direction='in', top=True)\n",
    "mpl.rc('ytick', direction='in', right=True)\n",
    "mpl.rc('xtick.minor', visible=True)\n",
    "mpl.rc('ytick.minor', visible=True)\n",
    "\n",
    "rng = np.random.default_rng()"
   ],
   "metadata": {
    "collapsed": false,
    "pycharm": {
     "name": "#%%\n"
    }
   }
  },
  {
   "cell_type": "markdown",
   "source": [
    "# Problem 1 #\n",
    "## Part i ##\n",
    "$$ p(y) = \\frac{N}{y},y \\in[1,a] $$\n",
    "Find N\n",
    "$$ p(y)dy = \\frac{N}{y}dy $$\n",
    "$$ 1 = \\int_1^a\\frac{N}{y}dy $$\n",
    "$$1=Nln|a| $$\n",
    "$$ N= \\frac{1}{ln|a|} $$\n",
    "Mapping [0,1) to function\n",
    "$$ x= \\frac{1}{ln|a|} \\int_1^y \\frac1ydy $$\n",
    "\n",
    "$$ y= a^x $$"
   ],
   "metadata": {
    "collapsed": false,
    "pycharm": {
     "name": "#%% md\n"
    }
   }
  },
  {
   "cell_type": "code",
   "execution_count": 407,
   "metadata": {
    "collapsed": true,
    "pycharm": {
     "name": "#%%\n"
    }
   },
   "outputs": [
    {
     "data": {
      "text/plain": "(array([1563., 1327., 1208., 1091.,  975.,  874.,  861.,  764.,  673.,\n         664.]),\n array([1.00007167, 1.17186698, 1.3436623 , 1.51545762, 1.68725294,\n        1.85904826, 2.03084358, 2.20263889, 2.37443421, 2.54622953,\n        2.71802485]),\n [<matplotlib.patches.Polygon at 0x1f70f94ab50>])"
     },
     "execution_count": 407,
     "metadata": {},
     "output_type": "execute_result"
    },
    {
     "data": {
      "text/plain": "<Figure size 432x288 with 1 Axes>",
      "image/png": "[encoded data removed]"
     },
     "metadata": {
      "needs_background": "light"
     },
     "output_type": "display_data"
    }
   ],
   "source": [
    "## test\n",
    "x=rng.random(size=[10000])\n",
    "r=np.exp(x)\n",
    "plt.hist(r,histtype=\"step\")"
   ]
  },
  {
   "cell_type": "markdown",
   "source": [],
   "metadata": {
    "collapsed": false,
    "pycharm": {
     "name": "#%% md\n"
    }
   },
   "outputs": []
  },
  {
   "cell_type": "markdown",
   "source": [
    "## Part ii ##\n",
    "Find N\n",
    "$$ p(y) dy = \\frac{N}{y^2}dy $$\n",
    "$$ 1 = \\int^N_1 \\frac{N}{y^2}dy $$\n",
    "$$ N = \\frac{1}{1-\\frac{1}{a}} $$\n",
    "Mapping [0,1) to function\n",
    "$$ x= \\frac{1}{1-\\frac{1}{a}} \\int^{y}_1 \\frac{1}{y^2} $$\n",
    "$$ x= \\frac{1}{1-\\frac{1}{a}} (1-\\frac{1}{y})$$\n",
    "$$ y=\\frac{1}{-x+x/a+1} $$"
   ],
   "metadata": {
    "collapsed": false,
    "pycharm": {
     "name": "#%% md\n"
    }
   },
   "outputs": []
  },
  {
   "cell_type": "code",
   "execution_count": 408,
   "outputs": [
    {
     "name": "stderr",
     "output_type": "stream",
     "text": [
      "C:\\Users\\ROBINJ~1\\AppData\\Local\\Temp/ipykernel_19560/611121118.py:8: RuntimeWarning: overflow encountered in exp\n",
      "  np.exp(r)\n"
     ]
    },
    {
     "data": {
      "text/plain": "array([1.97132896e+04, 2.57455125e+01, 8.29624384e+00, ...,\n       6.98308876e+14, 1.57798638e+01, 1.67122681e+01])"
     },
     "execution_count": 408,
     "metadata": {},
     "output_type": "execute_result"
    },
    {
     "data": {
      "text/plain": "<Figure size 432x288 with 1 Axes>",
      "image/png": "[encoded data removed]"
     },
     "metadata": {
      "needs_background": "light"
     },
     "output_type": "display_data"
    }
   ],
   "source": [
    "def g(x, a=2):\n",
    "    return 1/(-x+x/a+1)\n",
    "\n",
    "\n",
    "x=rng.random(size=[10000])\n",
    "plt.hist(g(x,10),histtype=\"step\")\n",
    "r=1/(np.log(2)*x)\n",
    "np.exp(r)"
   ],
   "metadata": {
    "collapsed": false,
    "pycharm": {
     "name": "#%%\n"
    }
   }
  },
  {
   "cell_type": "markdown",
   "source": [
    "\n",
    "# Problem 2 #\n",
    "Given three independent random numbers, $x_1$,$x_2$,$x_3$, it is known that\n",
    "$$ x_1 = \\rho \\cos\\theta \\sin \\phi $$\n",
    "$$ x_2= \\rho \\sin \\theta \\sin \\phi $$\n",
    "$$ x_3= \\rho \\cos \\phi $$\n",
    "or $$ \\rho= \\sqrt{x_1^2+x_2^2+x_3^2} $$\n",
    "$$ \\theta= \\arccos(x_3/\\rho) $$\n",
    "$$ \\phi =\\arctan(x_2/x_1) $$\n",
    "This is good, but before doing the transformation we need to normalize the points, so they all fall in side of the sphere.\n",
    "If we get another uniform random number, u, and divide each coordinate by $ \\rho$ and multiply the cube root of u, we then can apply the polar transformation to get a random point in the unit sphere. The cubic come from the inverse of the volume of a sphere.\n"
   ],
   "metadata": {
    "collapsed": false,
    "pycharm": {
     "name": "#%% md\n"
    }
   }
  },
  {
   "cell_type": "code",
   "execution_count": 409,
   "outputs": [],
   "source": [
    "def getrandomspherepoint(N):\n",
    "    u=rng.random(size=N)\n",
    "    x=rng.uniform(-1,1,size=(3,N))\n",
    "\n",
    "    x=x/np.linalg.norm(x,axis=0)\n",
    "\n",
    "    x=x*np.cbrt(u)\n",
    "\n",
    "    rho=np.linalg.norm(x,axis=0)\n",
    "\n",
    "    theta = np.arccos(x[2,:],rho) * 180 / np.pi\n",
    "    phi = np.arctan2(x[1,:],x[0,:]) * 180 / np.pi\n",
    "    rho=np.linalg.norm(x,axis=0)\n",
    "    return (rho,theta,phi)"
   ],
   "metadata": {
    "collapsed": false,
    "pycharm": {
     "name": "#%%\n"
    }
   }
  },
  {
   "cell_type": "code",
   "execution_count": 410,
   "outputs": [
    {
     "data": {
      "text/plain": "(array([  1537.,   8149.,  20677.,  39109.,  62548.,  92095., 126928.,\n        168101., 214154., 266702.]),\n array([0.01724159, 0.11551742, 0.21379325, 0.31206908, 0.4103449 ,\n        0.50862073, 0.60689656, 0.70517239, 0.80344821, 0.90172404,\n        0.99999987]),\n [<matplotlib.patches.Polygon at 0x1f70fafd2b0>])"
     },
     "execution_count": 410,
     "metadata": {},
     "output_type": "execute_result"
    },
    {
     "data": {
      "text/plain": "<Figure size 432x288 with 1 Axes>",
      "image/png": "[encoded data removed]"
     },
     "metadata": {
      "needs_background": "light"
     },
     "output_type": "display_data"
    }
   ],
   "source": [
    "N=1000000\n",
    "rpolar=getrandomspherepoint(N)\n",
    "plt.hist(rpolar[0],histtype=\"step\")\n",
    "\n",
    "\n"
   ],
   "metadata": {
    "collapsed": false,
    "pycharm": {
     "name": "#%%\n"
    }
   }
  },
  {
   "cell_type": "code",
   "execution_count": 411,
   "outputs": [
    {
     "data": {
      "text/plain": "(array([  1429.,  17908.,  88122., 191619., 193453., 190196., 196235.,\n         98494.,  20631.,   1913.]),\n array([  2.30954248,  19.70409815,  37.09865382,  54.49320949,\n         71.88776517,  89.28232084, 106.67687651, 124.07143218,\n        141.46598785, 158.86054352, 176.25509919]),\n [<matplotlib.patches.Polygon at 0x1f70fbb8160>])"
     },
     "execution_count": 411,
     "metadata": {},
     "output_type": "execute_result"
    },
    {
     "data": {
      "text/plain": "<Figure size 432x288 with 1 Axes>",
      "image/png": "[encoded data removed]"
     },
     "metadata": {
      "needs_background": "light"
     },
     "output_type": "display_data"
    }
   ],
   "source": [
    "plt.hist(rpolar[1],histtype=\"step\",)"
   ],
   "metadata": {
    "collapsed": false,
    "pycharm": {
     "name": "#%%\n"
    }
   }
  },
  {
   "cell_type": "code",
   "execution_count": 412,
   "outputs": [
    {
     "data": {
      "text/plain": "(array([ 90818., 118795.,  80840., 118630.,  90943.,  90768., 118659.,\n         81479., 118585.,  90483.]),\n array([-1.79999391e+02, -1.43999521e+02, -1.07999652e+02, -7.19997831e+01,\n        -3.59999139e+01, -4.47829353e-05,  3.59998244e+01,  7.19996935e+01,\n         1.07999563e+02,  1.43999432e+02,  1.79999301e+02]),\n [<matplotlib.patches.Polygon at 0x1f70fcbc730>])"
     },
     "execution_count": 412,
     "metadata": {},
     "output_type": "execute_result"
    },
    {
     "data": {
      "text/plain": "<Figure size 432x288 with 1 Axes>",
      "image/png": "[encoded data removed]"
     },
     "metadata": {
      "needs_background": "light"
     },
     "output_type": "display_data"
    }
   ],
   "source": [
    "plt.hist(rpolar[2],histtype=\"step\")"
   ],
   "metadata": {
    "collapsed": false,
    "pycharm": {
     "name": "#%%\n"
    }
   }
  },
  {
   "cell_type": "code",
   "execution_count": 412,
   "outputs": [],
   "source": [],
   "metadata": {
    "collapsed": false,
    "pycharm": {
     "name": "#%%\n"
    }
   }
  }
 ],
 "metadata": {
  "kernelspec": {
   "display_name": "Python 3",
   "language": "python",
   "name": "python3"
  },
  "language_info": {
   "codemirror_mode": {
    "name": "ipython",
    "version": 2
   },
   "file_extension": ".py",
   "mimetype": "text/x-python",
   "name": "python",
   "nbconvert_exporter": "python",
   "pygments_lexer": "ipython2",
   "version": "2.7.6"
  }
 },
 "nbformat": 4,
 "nbformat_minor": 0
}