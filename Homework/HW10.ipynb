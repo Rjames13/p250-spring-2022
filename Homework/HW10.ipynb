{
 "cells": [
  {
   "cell_type": "markdown",
   "source": [
    "# Homework 10 #\n",
    "## Robin James ##\n",
    "# Problem 1 #\n"
   ],
   "metadata": {
    "collapsed": false,
    "pycharm": {
     "name": "#%% md\n"
    }
   }
  },
  {
   "cell_type": "code",
   "execution_count": 2,
   "outputs": [],
   "source": [
    "import numpy as np\n",
    "rng = np.random.default_rng()\n",
    "\n",
    "import matplotlib.pyplot as plt\n",
    "\n",
    "import scipy.optimize as opt\n",
    "import scipy.special as sf\n",
    "\n",
    "#Globally fix plot styling\n",
    "import matplotlib as mpl\n",
    "mpl.rc('xtick', direction='in', top=True)\n",
    "mpl.rc('ytick', direction='in', right=True)\n",
    "mpl.rc('xtick.minor', visible=True)\n",
    "mpl.rc('ytick.minor', visible=True)\n"
   ],
   "metadata": {
    "collapsed": false,
    "pycharm": {
     "name": "#%%\n"
    }
   }
  },
  {
   "cell_type": "code",
   "execution_count": 3,
   "outputs": [],
   "source": [
    "def linear_leastsq(x,y,sigma=None):\n",
    "    \"\"\" Returns the linear fit of the data set (x,y) in the form y=a_1+a_2x and uncertainties.\n",
    "    Returns in the sructure ((a_1,a_2),(sigma_1, sigma_2)) \"\"\"\n",
    "    if sigma is None:\n",
    "        sigma= np.ones_like(y)\n",
    "    S=np.sum(1/sigma**2)\n",
    "    Sx=np.sum(x/sigma**2)\n",
    "    Sy=np.sum(y/sigma**2)\n",
    "    Sxx=np.sum(x**2/sigma**2)\n",
    "    Sxy=np.sum((x*y)/sigma**2)\n",
    "    delta= S*Sxx-Sx**2\n",
    "    # sys: a_1S+a_2Sx=Sy ; Sxy=a1Sx+a_2Sxx\n",
    "    a_2=(S*Sxy-Sx*Sy)/delta\n",
    "    a_1=(Sxx*Sy-Sx*Sxy)/delta\n",
    "    sigma_1=np.sqrt(Sxx/delta)\n",
    "    sigma_2= np.sqrt(S/delta)\n",
    "    return ((a_1,a_2),(sigma_1,sigma_2))"
   ],
   "metadata": {
    "collapsed": false,
    "pycharm": {
     "name": "#%%\n"
    }
   }
  },
  {
   "cell_type": "code",
   "execution_count": 7,
   "outputs": [
    {
     "name": "stdout",
     "output_type": "stream",
     "text": [
      "((0.9977512509921818, 2.0001138113360617), (0.014089267641952412, 0.00024495203619790746))\n"
     ]
    },
    {
     "data": {
      "text/plain": "(array([0.99775125, 2.00011381]),\n array([[ 1.98507467e-04, -2.98507464e-06],\n        [-2.98507464e-06,  6.00014994e-08]]))"
     },
     "execution_count": 7,
     "metadata": {},
     "output_type": "execute_result"
    }
   ],
   "source": [
    "x=np.arange(0,100,.5)\n",
    "def f(x,y_0=0,m=1):\n",
    "    return m*x+y_0\n",
    "ytrue=f(x,1,2)\n",
    "sigma_y=.1\n",
    "y = ytrue + sigma_y * rng.normal(size=len(ytrue))\n",
    "sigma_y = np.ones_like(y) * sigma_y\n",
    "print(linear_leastsq(x,y,sigma=sigma_y))\n",
    "opt.curve_fit(f,x,y,p0=(1,2),sigma=sigma_y,\n",
    "absolute_sigma=True)"
   ],
   "metadata": {
    "collapsed": false,
    "pycharm": {
     "name": "#%%\n"
    }
   }
  },
  {
   "cell_type": "code",
   "execution_count": 26,
   "outputs": [
    {
     "name": "stdout",
     "output_type": "stream",
     "text": [
      "True model :\n",
      "chisq = 8.400000000000002\n",
      "dof = 5\n",
      "reduce chisq = 1.6800000000000004\n",
      "goodness of fit = 0.13552522337752945\n"
     ]
    },
    {
     "data": {
      "text/plain": "[<matplotlib.lines.Line2D at 0x2552eaaa7f0>]"
     },
     "execution_count": 26,
     "metadata": {},
     "output_type": "execute_result"
    },
    {
     "data": {
      "text/plain": "<Figure size 432x288 with 1 Axes>",
      "image/png": "[encoded data removed]"
     },
     "metadata": {
      "needs_background": "light"
     },
     "output_type": "display_data"
    }
   ],
   "source": [
    "##Problem 2\n",
    "x= np.arange(-2,3)\n",
    "y=np.array([-4,-7,-3,-3,-2])\n",
    "p,c=linear_leastsq(x,y)\n",
    "chisq = np.sum(((y - f(x, *p)) )**2)\n",
    "dof = len(y) # WHY?!\n",
    "Q = sf.gammaincc(0.5*dof, 0.5*chisq)\n",
    "print(f\"\"\"True model :\n",
    "chisq = {chisq}\n",
    "dof = {dof}\n",
    "reduce chisq = { chisq/dof}\n",
    "goodness of fit = {Q}\"\"\")\n",
    "plt.plot(x,y)"
   ],
   "metadata": {
    "collapsed": false,
    "pycharm": {
     "name": "#%%\n"
    }
   }
  },
  {
   "cell_type": "code",
   "execution_count": 27,
   "outputs": [
    {
     "name": "stdout",
     "output_type": "stream",
     "text": [
      "True model :\n",
      "chisq = 0.17142857142857157\n",
      "dof = 4\n",
      "reduce chisq = 0.04285714285714289\n",
      "goodness of fit = 0.9965298474674833\n"
     ]
    }
   ],
   "source": [
    "\n",
    "#The x=-1 point is the outlier\n",
    "x= np.array([-2,0,1,2])\n",
    "y=np.array([-4,-3,-3,-2])\n",
    "p,c=linear_leastsq(x,y)\n",
    "chisq = np.sum(((y - f(x, *p)) )**2)\n",
    "dof = len(y) # WHY?!\n",
    "Q = sf.gammaincc(0.5*dof, 0.5*chisq)\n",
    "print(f\"\"\"True model :\n",
    "chisq = {chisq}\n",
    "dof = {dof}\n",
    "reduce chisq = { chisq/dof}\n",
    "goodness of fit = {Q}\"\"\")"
   ],
   "metadata": {
    "collapsed": false,
    "pycharm": {
     "name": "#%%\n"
    }
   }
  },
  {
   "cell_type": "code",
   "execution_count": null,
   "outputs": [],
   "source": [],
   "metadata": {
    "collapsed": false,
    "pycharm": {
     "name": "#%%\n"
    }
   }
  }
 ],
 "metadata": {
  "kernelspec": {
   "display_name": "Python 3",
   "language": "python",
   "name": "python3"
  },
  "language_info": {
   "codemirror_mode": {
    "name": "ipython",
    "version": 2
   },
   "file_extension": ".py",
   "mimetype": "text/x-python",
   "name": "python",
   "nbconvert_exporter": "python",
   "pygments_lexer": "ipython2",
   "version": "2.7.6"
  }
 },
 "nbformat": 4,
 "nbformat_minor": 0
}