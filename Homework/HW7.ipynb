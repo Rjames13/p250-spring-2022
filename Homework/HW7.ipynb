{
 "cells": [
  {
   "cell_type": "markdown",
   "metadata": {},
   "source": [
    "# Homework 7 #\n",
    "### by Robin James ###\n",
    "## Problem 1 ##\n",
    "\n",
    "### Part i ###\n",
    "\n",
    "$$\n",
    "\\mathsf{R} (\\theta) = \\begin{pmatrix}\n",
    "\\cos \\theta & -\\sin \\theta & 0\\\\\n",
    "\\sin \\theta & \\cos \\theta & 0 \\\\\n",
    "0 & 0 & 1\n",
    "\\end{pmatrix}\n",
    "$$\n",
    "$$\n",
    "\\mathsf{R}^T (\\theta) = \\begin{pmatrix}\n",
    "\\cos \\theta & \\sin \\theta & 0 \\\\\n",
    "-\\sin \\theta & \\cos \\theta & 0 \\\\\n",
    "0 & 0 & 1\n",
    "\\end{pmatrix}\n",
    "$$\n",
    "$$\n",
    "\\mathsf{R}^T \\mathsf{R} =\\begin{pmatrix}\n",
    "\\cos \\theta & \\sin \\theta & 0 \\\\\n",
    "-\\sin \\theta & \\cos \\theta & 0 \\\\\n",
    "0 & 0 & 1\n",
    "\\end{pmatrix} \\begin{pmatrix}\n",
    "\\cos \\theta & -\\sin \\theta & 0\\\\\n",
    "\\sin \\theta & \\cos \\theta & 0 \\\\\n",
    "0 & 0 & 1\n",
    "\\end{pmatrix}\n",
    "$$\n",
    "$$\n",
    " = \\begin{pmatrix}\n",
    "\\cos^2 \\theta+\\sin^2\\theta & -\\cos(\\theta)\\sin(\\theta)+ \\cos(\\theta)\\sin(\\theta) & 0\\\\\n",
    "-\\cos(\\theta)\\sin(\\theta)+ \\cos(\\theta)\\sin(\\theta) & \\cos^2 \\theta+\\sin^2\\theta & 0 \\\\\n",
    "0 & 0 & 1\n",
    "\\end{pmatrix}\n",
    "$$\n",
    "$$\n",
    " = \\begin{pmatrix}\n",
    "1 & 0 & 0\\\\\n",
    "0 & 1 & 0 \\\\\n",
    "0 & 0 & 1\n",
    "\\end{pmatrix}\n",
    "$$\n",
    "$$\n",
    "\\mathsf{R} \\mathsf{R}^T =\\begin{pmatrix}\n",
    "\\cos \\theta & -\\sin \\theta & 0 \\\\\n",
    "\\sin \\theta & \\cos \\theta & 0 \\\\\n",
    "0 & 0 & 1\n",
    "\\end{pmatrix} \\begin{pmatrix}\n",
    "\\cos \\theta & \\sin \\theta & 0\\\\\n",
    "-\\sin \\theta & \\cos \\theta & 0 \\\\\n",
    "0 & 0 & 1\n",
    "\\end{pmatrix}\n",
    "$$\n",
    "$$\n",
    " = \\begin{pmatrix}\n",
    "\\cos^2 \\theta+\\sin^2\\theta & -\\cos(\\theta)\\sin(\\theta)+ \\cos(\\theta)\\sin(\\theta) & 0\\\\\n",
    "-\\cos(\\theta)\\sin(\\theta)+ \\cos(\\theta)\\sin(\\theta) & \\cos^2 \\theta+\\sin^2\\theta & 0 \\\\\n",
    "0 & 0 & 1\n",
    "\\end{pmatrix}\n",
    "$$\n",
    "$$\n",
    " = \\begin{pmatrix}\n",
    "1 & 0 & 0\\\\\n",
    "0 & 1 & 0 \\\\\n",
    "0 & 0 & 1\n",
    "\\end{pmatrix}\n",
    "$$\n",
    "\n",
    "Both Matrix are equal for all $\\theta$ and equal to the  identy matrix for a 3x3\n",
    "### Part ii ###\n",
    "If $\\phi = -\\theta$, then $\\cos(-\\theta)=-\\cos(\\theta)$ and $\\sin(-\\theta)=\\sin(\\theta)$ leading to\n",
    "$$\\mathsf{R}(-\\theta)=\\mathsf{R}^{T}=\\mathsf{R}^{-1}\n",
    "\\mathsf{R}^T (\\theta) = \\begin{pmatrix}\n",
    "\\cos \\theta & \\sin \\theta & 0 \\\\\n",
    "-\\sin \\theta & \\cos \\theta & 0 \\\\\n",
    "0 & 0 & 1\n",
    "\\end{pmatrix}\n",
    "$$"
   ]
  },
  {
   "cell_type": "markdown",
   "metadata": {},
   "source": [
    "## Problem 2 ##\n",
    "$$\n",
    "\\mathsf{J}  = \\frac{\\partial (x,y,z)}{\\partial (r,\\theta,\\phi)} = \\begin{pmatrix}\n",
    "\\frac{\\partial x}{\\partial r} & \\frac{\\partial x}{\\partial \\theta} & \\frac{\\partial x}{\\partial \\phi} \\\\\n",
    "\\frac{\\partial y}{\\partial r} & \\frac{\\partial y}{\\partial \\theta} & \\frac{\\partial y}{\\partial \\phi} \\\\\n",
    "\\frac{\\partial z}{\\partial r} & \\frac{\\partial z}{\\partial \\theta} & \\frac{\\partial z}{\\partial \\phi}\n",
    "\\end{pmatrix}\n",
    "$$"
   ]
  },
  {
   "cell_type": "markdown",
   "metadata": {},
   "source": [
    "\n",
    "\n",
    "# Do Part ii #\n",
    "The general for of the determent $ A=  \\begin{pmatrix}\n",
    "a & b & c \\\\ d & e & f \\\\ g & h & i \\end{pmatrix}$ is\n",
    "$$ |\\mathsf{A}| = a(ei-fh) -b(di-fg) + c(dh-eg) $$\n",
    "For the Jacobin:\n",
    "$$ |\\mathsf{J}|= \\frac{\\partial x}{\\partial r}(\\frac{\\partial y}{\\partial \\theta}\\frac{\\partial z}{\\partial \\phi}- \\frac{\\partial y}{\\partial \\phi} \\frac{\\partial z}{\\partial \\theta})-\\frac{\\partial x}{\\partial \\theta}(\\frac{\\partial y}{\\partial r}\\frac{\\partial z}{\\partial \\phi} -\\frac{\\partial y}{\\partial \\phi} \\frac{\\partial z}{\\partial r})+\\frac{\\partial x}{\\partial \\phi}(\\frac{\\partial y}{\\partial r}\\frac{\\partial z}{\\partial \\theta}-\\frac{\\partial y}{\\partial \\theta} \\frac{\\partial z}{\\partial r}) $$"
   ]
  },
  {
   "cell_type": "markdown",
   "metadata": {},
   "source": [
    "$$ |\\mathsf{J}|= (\\frac{\\partial x}{\\partial r}\\frac{\\partial y}{\\partial \\theta}\\frac{\\partial z}{\\partial \\phi}-\\frac{\\partial x}{\\partial r} \\frac{\\partial y}{\\partial \\phi} \\frac{\\partial z}{\\partial \\theta})-(\\frac{\\partial x}{\\partial \\theta}\\frac{\\partial y}{\\partial r}\\frac{\\partial z}{\\partial \\phi} -\\\\ \\frac{\\partial x}{\\partial \\theta}\\frac{\\partial y}{\\partial \\phi} \\frac{\\partial z}{\\partial r})+(\\frac{\\partial x}{\\partial \\phi}\\frac{\\partial y}{\\partial r}\\frac{\\partial z}{\\partial \\theta}-\\frac{\\partial x}{\\partial \\phi}\\frac{\\partial y}{\\partial \\theta} \\frac{\\partial z}{\\partial r}) $$\n",
    "$$ |\\mathsf{J}|= \\frac{\\partial x}{\\partial r}\\frac{\\partial y}{\\partial \\theta}\\frac{\\partial z}{\\partial \\phi}-\\frac{\\partial x}{\\partial r} \\frac{\\partial y}{\\partial \\phi} \\frac{\\partial z}{\\partial \\theta}-\\frac{\\partial x}{\\partial \\theta}\\frac{\\partial y}{\\partial r}\\frac{\\partial z}{\\partial \\phi} +\\\\ \\frac{\\partial x}{\\partial \\theta}\\frac{\\partial y}{\\partial \\phi} \\frac{\\partial z}{\\partial r}+\\frac{\\partial x}{\\partial \\phi}\\frac{\\partial y}{\\partial r}\\frac{\\partial z}{\\partial \\theta}-\\frac{\\partial x}{\\partial \\phi}\\frac{\\partial y}{\\partial \\theta} \\frac{\\partial z}{\\partial r} $$"
   ]
  },
  {
   "cell_type": "markdown",
   "metadata": {},
   "source": [
    "Let:\n",
    "$$ x=r \\sin(\\theta) \\cos(\\phi) $$\n",
    "$$ y= r \\sin(\\theta) \\sin(\\phi) $$\n",
    "$$ z= r \\cos(\\theta) $$\n",
    "\n",
    "So:\n",
    "$$ |\\mathsf{J}|= 0+r^2\\sin^3(\\theta) \\cos^2(\\phi)- 0+r^2 \\sin^3(\\theta) \\sin^2(\\phi)+r^2 \\sin(\\theta) \\cos^2(\\theta)\\sin^2(\\phi)+r^2 \\sin(\\theta) \\cos^2(\\theta)\\cos^2(\\phi) $$\n",
    "$$ |\\mathsf{J}|= r^2\\sin(\\theta)(\\sin^2(\\theta) \\cos^2(\\phi)+\\sin^2(\\theta) \\sin^2(\\phi)+ \\cos^2(\\theta)\\sin^2(\\phi)+ \\cos^2(\\theta)\\cos^2(\\phi)) $$\n",
    "$$ |\\mathsf{J}|= r^2\\sin(\\theta) $$\n",
    "$$\n",
    "\\mathsf{d}V=r^2\\sin(\\theta)\\mathsf{d}r\\mathsf{d}\\theta\\mathsf{d}\\phi$$"
   ]
  },
  {
   "cell_type": "markdown",
   "metadata": {
    "pycharm": {
     "name": "#%% md\n"
    }
   },
   "source": [
    "## Problem 3 ##\n",
    "### Part i ###\n",
    "For $f(y) = 4y+12$, $ f(y)=0$ when $ y=-3 $\n",
    "### Part ii ###\n",
    "$$ y_1 =y_0 - \\Delta y =y_0 -\\frac{f(y_0)}{f'(y_0)} $$\n",
    "$$ = y_0- \\frac{4y_0+12}{4}= y_0- (y_0+3)=-3 $$\n",
    "\n",
    "### Part iii ###\n",
    "Newton-Raphson method uses the instantaneous slope to guess the root. For a linear equation, the slope is the same for all values. This means that for any initial value the new guess will return the real root, since it will always calculate the guess base on a constant slope."
   ]
  },
  {
   "cell_type": "code",
   "execution_count": null,
   "metadata": {
    "pycharm": {
     "name": "#%%\n"
    }
   },
   "outputs": [],
   "source": []
  }
 ],
 "metadata": {
  "kernelspec": {
   "display_name": "Python 3 (ipykernel)",
   "language": "python",
   "name": "python3"
  },
  "language_info": {
   "codemirror_mode": {
    "name": "ipython",
    "version": 3
   },
   "file_extension": ".py",
   "mimetype": "text/x-python",
   "name": "python",
   "nbconvert_exporter": "python",
   "pygments_lexer": "ipython3",
   "version": "3.8.10"
  }
 },
 "nbformat": 4,
 "nbformat_minor": 1
}