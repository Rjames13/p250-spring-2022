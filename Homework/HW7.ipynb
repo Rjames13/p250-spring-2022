{
 "cells": [
  {
   "cell_type": "markdown",
   "source": [
    "# Homework 7 #\n",
    "### by Robin James ###\n",
    "## Problem 1 ##\n",
    "\n",
    "### Part i ###\n",
    "\n",
    "$$\n",
    "\\mathsf{R} (\\theta) = \\begin{pmatrix}\n",
    "\\cos \\theta & -\\sin \\theta & 0\\\\\n",
    "\\sin \\theta & \\cos \\theta & 0 \\\\\n",
    "0 & 0 & 1\n",
    "\\end{pmatrix}\n",
    "$$\n",
    "$$\n",
    "\\mathsf{R}^T (\\theta) = \\begin{pmatrix}\n",
    "\\cos \\theta & \\sin \\theta & 0 \\\\\n",
    "-\\sin \\theta & \\cos \\theta & 0 \\\\\n",
    "0 & 0 & 1\n",
    "\\end{pmatrix}\n",
    "$$\n",
    "$$\n",
    "\\mathsf{R}^T \\mathsf{R} =\\begin{pmatrix}\n",
    "\\cos \\theta & \\sin \\theta & 0 \\\\\n",
    "-\\sin \\theta & \\cos \\theta & 0 \\\\\n",
    "0 & 0 & 1\n",
    "\\end{pmatrix} \\begin{pmatrix}\n",
    "\\cos \\theta & -\\sin \\theta & 0\\\\\n",
    "\\sin \\theta & \\cos \\theta & 0 \\\\\n",
    "0 & 0 & 1\n",
    "\\end{pmatrix}\n",
    "$$\n",
    "$$\n",
    " = \\begin{pmatrix}\n",
    "\\cos^2 \\theta+\\sin^2\\theta & -\\cos(\\theta)\\sin(\\theta)+ \\cos(\\theta)\\sin(\\theta) & 0\\\\\n",
    "-\\cos(\\theta)\\sin(\\theta)+ \\cos(\\theta)\\sin(\\theta) & \\cos^2 \\theta+\\sin^2\\theta & 0 \\\\\n",
    "0 & 0 & 1\n",
    "\\end{pmatrix}\n",
    "$$\n",
    "$$\n",
    " = \\begin{pmatrix}\n",
    "1 & 0 & 0\\\\\n",
    "0 & 1 & 0 \\\\\n",
    "0 & 0 & 1\n",
    "\\end{pmatrix}\n",
    "$$\n",
    "$$\n",
    "\\mathsf{R} \\mathsf{R}^T =\\begin{pmatrix}\n",
    "\\cos \\theta & -\\sin \\theta & 0 \\\\\n",
    "\\sin \\theta & \\cos \\theta & 0 \\\\\n",
    "0 & 0 & 1\n",
    "\\end{pmatrix} \\begin{pmatrix}\n",
    "\\cos \\theta & \\sin \\theta & 0\\\\\n",
    "-\\sin \\theta & \\cos \\theta & 0 \\\\\n",
    "0 & 0 & 1\n",
    "\\end{pmatrix}\n",
    "$$\n",
    "$$\n",
    " = \\begin{pmatrix}\n",
    "\\cos^2 \\theta+\\sin^2\\theta & -\\cos(\\theta)\\sin(\\theta)+ \\cos(\\theta)\\sin(\\theta) & 0\\\\\n",
    "-\\cos(\\theta)\\sin(\\theta)+ \\cos(\\theta)\\sin(\\theta) & \\cos^2 \\theta+\\sin^2\\theta & 0 \\\\\n",
    "0 & 0 & 1\n",
    "\\end{pmatrix}\n",
    "$$\n",
    "$$\n",
    " = \\begin{pmatrix}\n",
    "1 & 0 & 0\\\\\n",
    "0 & 1 & 0 \\\\\n",
    "0 & 0 & 1\n",
    "\\end{pmatrix}\n",
    "$$\n",
    "\n",
    "Both Matrix are equal for all $\\theta$ and equal to the  identy matrix for a 3x3"
   ],
   "metadata": {
    "collapsed": false
   }
  },
  {
   "cell_type": "markdown",
   "source": [
    "### Part ii ###\n",
    "$$\\mathsf{R}^{-1}=\\mathsf{adjR}/(\\mathsf{detR}$$"
   ],
   "metadata": {
    "collapsed": false
   }
  },
  {
   "cell_type": "code",
   "execution_count": null,
   "outputs": [],
   "source": [],
   "metadata": {
    "collapsed": false,
    "pycharm": {
     "name": "#%%\n"
    }
   }
  }
 ],
 "metadata": {
  "kernelspec": {
   "display_name": "Python 3",
   "language": "python",
   "name": "python3"
  },
  "language_info": {
   "codemirror_mode": {
    "name": "ipython",
    "version": 2
   },
   "file_extension": ".py",
   "mimetype": "text/x-python",
   "name": "python",
   "nbconvert_exporter": "python",
   "pygments_lexer": "ipython2",
   "version": "2.7.6"
  }
 },
 "nbformat": 4,
 "nbformat_minor": 0
}