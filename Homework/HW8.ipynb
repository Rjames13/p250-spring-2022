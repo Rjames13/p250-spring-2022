{
 "cells": [
  {
   "cell_type": "markdown",
   "source": [
    "# Homework 8 #\n",
    "### Robin James ###\n",
    "## Problem 1 ##\n",
    "$$ \\mathsf{A} = \\left( \\begin{array}{rrr}\n",
    "10 & -7 & 1 \\\\\n",
    "-3 & 2 & 6 \\\\\n",
    "5 & -1 & 5\n",
    "\\end{array} \\right)\n",
    "\\quad\\mathrm{and}\\quad\n",
    "\\vec b = \\left( \\begin{array}{c} 8 \\\\ 4 \\\\ 6 \\end{array} \\right) $$\n",
    "$$ eq2 \\leftarrow eq2+ 0.3 eq1 $$\n",
    "$$ \\mathsf{A} = \\left( \\begin{array}{rrr}\n",
    "10 & -7 & 1 \\\\\n",
    "0& -0.1 & 6.3 \\\\\n",
    "5 & -1 & 5\n",
    "\\end{array} \\right)\n",
    "\\quad\\mathrm{and}\\quad\n",
    "\\vec b = \\left( \\begin{array}{c} 8 \\\\ 6.4 \\\\ 6 \\end{array} \\right) $$\n",
    "$$ eq3 \\leftarrow eq3- 0.5 eq1 $$\n",
    "$$ \\mathsf{A} = \\left( \\begin{array}{rrr}\n",
    "10 & -7 & 1 \\\\\n",
    "0& -0.1 & 6.3 \\\\\n",
    "0& 2.5 & 4.5\n",
    "\\end{array} \\right)\n",
    "\\quad\\mathrm{and}\\quad\n",
    "\\vec b = \\left( \\begin{array}{c} 8 \\\\ 6.4 \\\\ 2 \\end{array} \\right) $$\n",
    "Flip last two rows\n",
    "\n",
    "$$ \\mathsf{A} = \\left( \\begin{array}{rrr}\n",
    "10 & -7 & 1 \\\\\n",
    "0&  2.5& 4.5 \\\\\n",
    "0& -0.1 & 6.3\n",
    "\\end{array} \\right)\n",
    "\\quad\\mathrm{and}\\quad\n",
    "\\vec b = \\left( \\begin{array}{c} 8 \\\\ 2 \\\\ 6.4   \\end{array} \\right) $$\n",
    "\n"
   ],
   "metadata": {
    "collapsed": false
   }
  },
  {
   "cell_type": "markdown",
   "source": [
    "$$ eq3 \\rightarrow eq3 + 0.04 eq2 $$\n",
    "$$ \\mathsf{A} = \\left( \\begin{array}{rrr}\n",
    "10 & -7 & 1 \\\\\n",
    "0&  2.5& 4.5 \\\\\n",
    "0& 0 & 6.48\n",
    "\\end{array} \\right)\n",
    "\\quad\\mathrm{and}\\quad\n",
    "\\vec b = \\left( \\begin{array}{c} 8 \\\\ 2 \\\\ 6.48   \\end{array} \\right) $$\n",
    "$$6.48x_3=6.48 \\\\\n",
    "x_3=1$$\n",
    "Now substitute backwards:\n",
    " $$ 2.5x_2+4.5=2 \\\\\n",
    " x_2=-1 \\\\\n",
    " 10x_1-7x_2+x_3=8 \\\\\n",
    " 10x_1+7+1=8 \\\\\n",
    " x_1=0\\\\\n",
    "  x=(0,-1,1) $$\n",
    "Is valid solution"
   ],
   "metadata": {
    "collapsed": false
   }
  },
  {
   "cell_type": "markdown",
   "source": [
    "## Problem 2 ##\n",
    "### Part i ###\n",
    "\\begin{align}\n",
    "4 x_1 - 7 x_2 + 3x_3 &= 1, \\\\\n",
    " x_1 + 3 x_2 -3 x_3 &= -2, \\\\\n",
    "3 x_1 - 29x_2 + 21 x_3 &= 8\n",
    "\\end{align}\n",
    "$$ \\mathsf{A} = \\left( \\begin{array}{rrr}\n",
    "4 & -7 & 3 \\\\\n",
    "1 & 3 & -3 \\\\\n",
    "3 & -29 & 21\n",
    "\\end{array} \\right)\n",
    "\\quad\\mathrm{and}\\quad\n",
    "\\vec b = \\left( \\begin{array}{c} -1 \\\\ -2 \\\\ 8 \\end{array} \\right) $$\n",
    "$$ eq3 \\rightarrow eq3 + 0.25 eq2 $$"
   ],
   "metadata": {
    "collapsed": false
   }
  },
  {
   "cell_type": "code",
   "execution_count": null,
   "metadata": {
    "collapsed": true
   },
   "outputs": [],
   "source": []
  }
 ],
 "metadata": {
  "kernelspec": {
   "display_name": "Python 3",
   "language": "python",
   "name": "python3"
  },
  "language_info": {
   "codemirror_mode": {
    "name": "ipython",
    "version": 2
   },
   "file_extension": ".py",
   "mimetype": "text/x-python",
   "name": "python",
   "nbconvert_exporter": "python",
   "pygments_lexer": "ipython2",
   "version": "2.7.6"
  }
 },
 "nbformat": 4,
 "nbformat_minor": 0
}