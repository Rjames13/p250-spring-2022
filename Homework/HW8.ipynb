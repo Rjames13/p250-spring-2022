{
 "cells": [
  {
   "cell_type": "markdown",
   "metadata": {
    "pycharm": {
     "name": "#%% md\n"
    }
   },
   "source": [
    "# Homework 8 #\n",
    "### Robin James ###\n",
    "## Problem 1 ##\n",
    "$$ \\mathsf{A} = \\left( \\begin{array}{rrr}\n",
    "10 & -7 & 1 \\\\\n",
    "-3 & 2 & 6 \\\\\n",
    "5 & -1 & 5\n",
    "\\end{array} \\right)\n",
    "\\quad\\mathrm{and}\\quad\n",
    "\\vec b = \\left( \\begin{array}{c} 8 \\\\ 4 \\\\ 6 \\end{array} \\right) $$\n",
    "$$ eq2 \\leftarrow eq2+ 0.3 eq1 $$\n",
    "$$ \\mathsf{A} = \\left( \\begin{array}{rrr}\n",
    "10 & -7 & 1 \\\\\n",
    "0& -0.1 & 6.3 \\\\\n",
    "5 & -1 & 5\n",
    "\\end{array} \\right)\n",
    "\\quad\\mathrm{and}\\quad\n",
    "\\vec b = \\left( \\begin{array}{c} 8 \\\\ 6.4 \\\\ 6 \\end{array} \\right) $$\n",
    "$$ eq3 \\leftarrow eq3- 0.5 eq1 $$\n",
    "$$ \\mathsf{A} = \\left( \\begin{array}{rrr}\n",
    "10 & -7 & 1 \\\\\n",
    "0& -0.1 & 6.3 \\\\\n",
    "0& 2.5 & 4.5\n",
    "\\end{array} \\right)\n",
    "\\quad\\mathrm{and}\\quad\n",
    "\\vec b = \\left( \\begin{array}{c} 8 \\\\ 6.4 \\\\ 2 \\end{array} \\right) $$\n",
    "Flip last two rows\n",
    "\n",
    "$$ \\mathsf{A} = \\left( \\begin{array}{rrr}\n",
    "10 & -7 & 1 \\\\\n",
    "0&  2.5& 4.5 \\\\\n",
    "0& -0.1 & 6.3\n",
    "\\end{array} \\right)\n",
    "\\quad\\mathrm{and}\\quad\n",
    "\\vec b = \\left( \\begin{array}{c} 8 \\\\ 2 \\\\ 6.4   \\end{array} \\right) $$\n",
    "\n"
   ]
  },
  {
   "cell_type": "markdown",
   "metadata": {
    "pycharm": {
     "name": "#%% md\n"
    }
   },
   "source": [
    "$$ eq3 \\rightarrow eq3 + 0.04 eq2 $$\n",
    "$$ \\mathsf{A} = \\left( \\begin{array}{rrr}\n",
    "10 & -7 & 1 \\\\\n",
    "0&  2.5& 4.5 \\\\\n",
    "0& 0 & 6.48\n",
    "\\end{array} \\right)\n",
    "\\quad\\mathrm{and}\\quad\n",
    "\\vec b = \\left( \\begin{array}{c} 8 \\\\ 2 \\\\ 6.48   \\end{array} \\right) $$\n",
    "$$6.48x_3=6.48 \\\\\n",
    "x_3=1$$\n",
    "Now substitute backwards:\n",
    " $$ 2.5x_2+4.5=2 \\\\\n",
    " x_2=-1 \\\\\n",
    " 10x_1-7x_2+x_3=8 \\\\\n",
    " 10x_1+7+1=8 \\\\\n",
    " x_1=0\\\\\n",
    "  x=(0,-1,1) $$\n",
    "Is valid solution"
   ]
  },
  {
   "cell_type": "markdown",
   "metadata": {
    "pycharm": {
     "name": "#%% md\n"
    }
   },
   "source": [
    "## Problem 2 ##\n",
    "### Part i ###\n",
    "\\begin{align}\n",
    "4 x_1 - 7 x_2 + 3x_3 &= 1, \\\\\n",
    " x_1 + 3 x_2 -3 x_3 &= -2, \\\\\n",
    "3 x_1 - 29x_2 + 21 x_3 &= 8\n",
    "\\end{align}\n",
    "$$ \\mathsf{A} = \\left( \\begin{array}{rrr}\n",
    "4 & -7 & 3 \\\\\n",
    "1 & 3 & -3 \\\\\n",
    "3 & -29 & 21\n",
    "\\end{array} \\right)\n",
    "\\quad\\mathrm{and}\\quad\n",
    "\\vec b = \\left( \\begin{array}{c} -1 \\\\ -2 \\\\ 8 \\end{array} \\right) $$\n",
    "$$ eq1 \\rightarrow 0.25 eq1 $$\n",
    "$$ \\mathsf{A} = \\left( \\begin{array}{rrr}\n",
    "1 & -\\frac74 & \\frac34 \\\\\n",
    "1 & 3 & -3 \\\\\n",
    "3 & -29 & 21\n",
    "\\end{array} \\right)\n",
    "\\quad\\mathrm{and}\\quad\n",
    "\\vec b = \\left( \\begin{array}{c} -\\frac14 \\\\ -2 \\\\ 8 \\end{array} \\right) $$\n",
    "$$ eq2 \\rightarrow eq2 - eq1 $$\n",
    "$$ \\mathsf{A} = \\left( \\begin{array}{rrr}\n",
    "1 & -\\frac74 & \\frac34 \\\\\n",
    "0 & \\frac{19}{4} & -\\frac{15}{4} \\\\\n",
    "3 & -29 & 21\n",
    "\\end{array} \\right)\n",
    "\\quad\\mathrm{and}\\quad\n",
    "\\vec b = \\left( \\begin{array}{c} -\\frac14 \\\\ -\\frac74 \\\\ 8 \\end{array} \\right) $$\n",
    "$$ eq3 \\rightarrow eq3 - 3eq1 $$\n",
    "$$ \\mathsf{A} = \\left( \\begin{array}{rrr}\n",
    "1 & -\\frac74 & \\frac34 \\\\\n",
    "0 & \\frac{19}{4} & -\\frac{15}{4} \\\\\n",
    "0 & -\\frac{95}{4} & \\frac{75}{4}\n",
    "\\end{array} \\right)\n",
    "\\quad\\mathrm{and}\\quad\n",
    "\\vec b = \\left( \\begin{array}{c} -\\frac14 \\\\ -\\frac74 \\\\ \\frac{35}{4} \\end{array} \\right) $$\n",
    "$$ eq2 \\rightarrow \\frac{4}{19}eq2 $$\n",
    "$$ \\mathsf{A} = \\left( \\begin{array}{rrr}\n",
    "1 & -\\frac74 & \\frac34 \\\\\n",
    "0 & 1 & -\\frac{15}{19} \\\\\n",
    "0 & -\\frac{95}{4} & \\frac{75}{4}\n",
    "\\end{array} \\right)\n",
    "\\quad\\mathrm{and}\\quad\n",
    "\\vec b = \\left( \\begin{array}{c} -\\frac14 \\\\ -\\frac{7}{19} \\\\ \\frac{35}{4} \\end{array} \\right) $$\n",
    "\n",
    "$$ eq1 \\rightarrow eq1 \\frac{7}{4}eq2 $$\n",
    "$$ \\mathsf{A} = \\left( \\begin{array}{rrr}\n",
    "1 & 0 & -\\frac{12}{19} \\\\\n",
    "0 & 1 & -\\frac{15}{19} \\\\\n",
    "0 & -\\frac{95}{4} & \\frac{75}{4}\n",
    "\\end{array} \\right)\n",
    "\\quad\\mathrm{and}\\quad\n",
    "\\vec b = \\left( \\begin{array}{c} -\\frac{17}{19} \\\\ -\\frac{7}{19} \\\\ \\frac{35}{4} \\end{array} \\right) $$\n",
    "\n",
    "\n",
    "$$ eq3 \\rightarrow eq3 \\frac{95}{4}eq2 $$\n",
    "$$ \\mathsf{A} = \\left( \\begin{array}{rrr}\n",
    "1 & 0 & -\\frac{12}{19} \\\\\n",
    "0 & 1 & -\\frac{15}{19} \\\\\n",
    "0 & 0 & 0\n",
    "\\end{array} \\right)\n",
    "\\quad\\mathrm{and}\\quad\n",
    "\\vec b = \\left( \\begin{array}{c} -\\frac{17}{19} \\\\ -\\frac{7}{19} \\\\ 0 \\end{array} \\right) $$\n",
    "\n",
    "Reduce row echelon form failed\n",
    "### Part ii ###"
   ]
  },
  {
   "cell_type": "code",
   "execution_count": 51,
   "metadata": {
    "pycharm": {
     "name": "#%%\n"
    }
   },
   "outputs": [],
   "source": [
    "import numpy as np\n",
    "import scipy.linalg as la\n",
    "import matplotlib.pyplot as plt\n",
    "import matplotlib as mpl\n",
    "mpl.rc('xtick', direction='in', top=True)\n",
    "mpl.rc('ytick', direction='in', right=True)\n",
    "mpl.rc('xtick.minor', visible=True)\n",
    "mpl.rc('ytick.minor', visible=True)\n",
    "\n",
    "import scipy.interpolate as interp\n"
   ]
  },
  {
   "cell_type": "code",
   "execution_count": 52,
   "metadata": {
    "pycharm": {
     "name": "#%%\n"
    }
   },
   "outputs": [
    {
     "name": "stdout",
     "output_type": "stream",
     "text": [
      "[-0.57894737  0.02631579  0.5       ]\n",
      "np.dot(A, x) = [-1. -2.  8.]\n"
     ]
    },
    {
     "name": "stderr",
     "output_type": "stream",
     "text": [
      "C:\\Users\\ROBINJ~1\\AppData\\Local\\Temp/ipykernel_39784/1772425298.py:3: LinAlgWarning: Ill-conditioned matrix (rcond=4.70329e-18): result may not be accurate.\n",
      "  x=la.solve(a,b)\n"
     ]
    }
   ],
   "source": [
    "a=np.array([[4,-7,3],[1,3,-3],[3,-29,21]])\n",
    "b= np.array([-1,-2,8])\n",
    "x=la.solve(a,b)\n",
    "print(x)\n",
    "print('np.dot(A, x) =', np.dot(a, x))"
   ]
  },
  {
   "cell_type": "markdown",
   "metadata": {
    "pycharm": {
     "name": "#%% md\n"
    }
   },
   "source": [
    "la.solve found a valid solution but gave error of ill conditioned matrix"
   ]
  },
  {
   "cell_type": "code",
   "execution_count": 53,
   "metadata": {
    "pycharm": {
     "name": "#%%\n"
    }
   },
   "outputs": [
    {
     "name": "stdout",
     "output_type": "stream",
     "text": [
      "LU solution:\n",
      " [[ 4.0000000e+00 -7.0000000e+00  3.0000000e+00]\n",
      " [ 0.0000000e+00 -2.3750000e+01  1.8750000e+01]\n",
      " [ 0.0000000e+00  0.0000000e+00 -4.4408921e-16]]\n"
     ]
    }
   ],
   "source": [
    "au = la.lu(a)[2]\n",
    "\n",
    "print(\"LU solution:\\n\", au)"
   ]
  },
  {
   "cell_type": "markdown",
   "metadata": {
    "pycharm": {
     "name": "#%% md\n"
    }
   },
   "source": [
    "One of the values in the upper matrix is very close to zero\n",
    "\n",
    "## Problem 2 ##\n",
    "System of Kirchoff's equations. There are 4 junctions but there are 2 repeats. There are also 3 loops.\n"
   ]
  },
  {
   "cell_type": "markdown",
   "metadata": {
    "pycharm": {
     "name": "#%% md\n"
    }
   },
   "source": [
    "$$\n",
    "\\begin{align}\n",
    "-i_1 +  i_2 + i_3 &= 0, \\\\\n",
    "- i_3 + i_4 + i_5 &= 0, \\\\\n",
    "5 i_1 + 9i_3 + 3 i_5 &= v \\\\\n",
    "5 i_1 - 2 i_2  &= v \\\\\n",
    "5 i_1 +9 i_3 + 2 i_4 &= v\n",
    "\\end{align}\n",
    "$$"
   ]
  },
  {
   "cell_type": "code",
   "execution_count": 54,
   "metadata": {
    "pycharm": {
     "name": "#%%\n"
    }
   },
   "outputs": [
    {
     "data": {
      "text/plain": [
       "array([0.8992629 , 0.75184275, 0.14742015, 0.08845209, 0.05896806])"
      ]
     },
     "execution_count": 54,
     "metadata": {},
     "output_type": "execute_result"
    }
   ],
   "source": [
    "v=6\n",
    "a=np.array([\n",
    " [-1,1,1,0,0],\n",
    " [0,0,-1,1,1],\n",
    " [5,0,9,0,3],\n",
    " [5,2,0,0,0],\n",
    " [5,0,9,2,0]\n",
    "])\n",
    "b= np.array([0,0,v,v,v])\n",
    "la.solve(a,b)"
   ]
  },
  {
   "cell_type": "markdown",
   "metadata": {
    "pycharm": {
     "name": "#%% md\n"
    }
   },
   "source": [
    "We can prove the equations are correct by plotting the currents vs voltage. According to ohms law, this should be a straight line with a slope equal to the $\\frac{1}{R_{eq}}$, where $R_{eq}$ what can be found to be $6\\frac{41}{61}\\Omega$\n",
    "Also $i_1>i_2>i_3>i_4>i_5$"
   ]
  },
  {
   "cell_type": "code",
   "execution_count": 55,
   "metadata": {
    "pycharm": {
     "name": "#%%\n"
    }
   },
   "outputs": [
    {
     "name": "stdout",
     "output_type": "stream",
     "text": [
      "The average slope is 0.14987714987714984. Compare to the theoretic slope, 0.1498771498771499, there is a 5.551115123125783e-17 error. \n"
     ]
    },
    {
     "data": {
      "image/png": "[encoded data removed]",
      "text/plain": [
       "<Figure size 432x288 with 1 Axes>"
      ]
     },
     "metadata": {
      "needs_background": "light"
     },
     "output_type": "display_data"
    }
   ],
   "source": [
    "v= np.arange(0,100,0.01)\n",
    "zeros=np.zeros_like(v)\n",
    "b= np.array([zeros,zeros,v,v,v])\n",
    "sol=la.solve(a,b)\n",
    "\n",
    "spline=interp.InterpolatedUnivariateSpline(v,sol[0])\n",
    "dspline=spline.derivative()\n",
    "plt.plot(v,spline(v))\n",
    "plt.ylabel(\"Current (A)\")\n",
    "plt.xlabel(\"Voltage (V)\")\n",
    "plt.title(\"Current One vs Voltage \")\n",
    "dspline(6)\n",
    "theoryslope=1/(6+(41/61))\n",
    "print(f'The average slope is {(np.sum(dspline(v))/len(v))}. Compare to the theoretic slope, {theoryslope}, there is a {theoryslope-(np.sum(dspline(v))/len(v))} error. ')\n",
    "assert np.allclose(dspline(6),theoryslope)\n",
    "assert sol[0][1]>sol[1][1]>sol[2][1]>sol[3][1]>sol[4][1]"
   ]
  }
 ],
 "metadata": {
  "kernelspec": {
   "display_name": "Python 3 (ipykernel)",
   "language": "python",
   "name": "python3"
  },
  "language_info": {
   "codemirror_mode": {
    "name": "ipython",
    "version": 3
   },
   "file_extension": ".py",
   "mimetype": "text/x-python",
   "name": "python",
   "nbconvert_exporter": "python",
   "pygments_lexer": "ipython3",
   "version": "3.9.0"
  }
 },
 "nbformat": 4,
 "nbformat_minor": 1
}