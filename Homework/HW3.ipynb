{
 "cells": [
  {
   "cell_type": "markdown",
   "source": [
    "# Homework 3 #\n",
    "## Robin James rnj13 ##\n",
    "### Initialization ###"
   ],
   "metadata": {
    "collapsed": false
   }
  },
  {
   "cell_type": "code",
   "execution_count": 20,
   "metadata": {
    "collapsed": true
   },
   "outputs": [],
   "source": [
    "import numpy as np\n",
    "from matplotlib import pyplot as plt\n",
    "import matplotlib as mpl\n",
    "import scipy.optimize as opt\n",
    "mpl.rc('xtick', direction='in', top=True)\n",
    "mpl.rc('ytick', direction='in', right=True)\n",
    "mpl.rc('xtick.minor', visible=True)\n",
    "mpl.rc('ytick.minor', visible=True)\n",
    "\n",
    "rng = np.random.default_rng()"
   ]
  },
  {
   "cell_type": "code",
   "execution_count": 21,
   "outputs": [],
   "source": [
    "def richardson_center(f, z, h, nsteps, args=()):\n",
    "    \"\"\"Evaluate the first derivative of a function at z, that is f'(z),\n",
    "    using Richardson extrapolation and center differencing.\n",
    "\n",
    "    Returned is the full table of approximations, Fij for j <= i. The\n",
    "    values of Fij for j > i are set to zero.  The final value F[-1,-1]\n",
    "    should be the most accurate estimate.\n",
    "\n",
    "    Parameters\n",
    "    ----------\n",
    "    f : function\n",
    "        Vectorized Python function.\n",
    "        This is the function for which we are estimating the derivative.\n",
    "    z : number\n",
    "        Value at which to evaluate the derivative.\n",
    "    h : number\n",
    "        Initial stepsize.\n",
    "    nsteps : integer\n",
    "        Number of steps to perform.\n",
    "    args : tuple, optional\n",
    "        extra arguments to pass to the function, f.\n",
    "    \"\"\"\n",
    "    # Extra check to allow for args=(1) to be handled properly.  This is a\n",
    "    # technical detail that you do not need to worry about.\n",
    "    if not isinstance(args, (tuple, list, np.ndarray)):\n",
    "        args = (args,)\n",
    "    # Create a zero filled table for our estimates\n",
    "    F = np.zeros((nsteps, nsteps))\n",
    "    # First column of F is the center differencing estimate.  We can fill this\n",
    "    # without a loop!\n",
    "    harr = h / 2.**np.arange(nsteps)\n",
    "    F[:,0] = (f(z+harr, *args) - f(z-harr, *args)) / (2.*harr)\n",
    "    # Now iterate, unfortunately we do need one loop.  We could\n",
    "    # get rid of the inner loop but the algorithm is a little easier to\n",
    "    # understand if we do not.\n",
    "    for i in range(1, nsteps):\n",
    "        fact = 0.25\n",
    "        for j in range(1, i+1):\n",
    "            F[i,j] = F[i-1,j-1] - (F[i-1,j-1] - F[i,j-1]) / (1-fact)\n",
    "            fact *= 0.25\n",
    "    return F"
   ],
   "metadata": {
    "collapsed": false,
    "pycharm": {
     "name": "#%%\n"
    }
   }
  },
  {
   "cell_type": "markdown",
   "source": [
    "## Question 1 ##\n",
    "### Part i ###"
   ],
   "metadata": {
    "collapsed": false
   }
  },
  {
   "cell_type": "code",
   "execution_count": 22,
   "outputs": [],
   "source": [
    "def f(x):\n",
    "    \"\"\"f(x)=e^(-x/3)\"\"\"\n",
    "    return np.exp(-x/3)"
   ],
   "metadata": {
    "collapsed": false,
    "pycharm": {
     "name": "#%%\n"
    }
   }
  },
  {
   "cell_type": "code",
   "execution_count": 23,
   "outputs": [
    {
     "name": "stdout",
     "output_type": "stream",
     "text": [
      "Calaculated value for f'(x) using centering diffrencing with h equal to 0.1,0.01,10e-4,10e-5,10e-6,10e-7: [-0.26396553 -0.26396319 -0.26396319 -0.26396319 -0.26396319 -0.26396319\n",
      "  0.        ]\n"
     ]
    }
   ],
   "source": [
    "x=0.7\n",
    "h10=np.array([0.1,0.01,10e-4,10e-5,10e-6,10e-7,10e-8])\n",
    "\n",
    "h = h10 + x\n",
    "\n",
    "\n",
    "N = 7\n",
    "F = richardson_center(f, x, h, N)\n",
    "print(\"Calaculated value for f'(x) using centering diffrencing with h equal to 0.1,0.01,10e-4,10e-5,10e-6,10e-7:\",F[:][:-1][-1])"
   ],
   "metadata": {
    "collapsed": false,
    "pycharm": {
     "name": "#%%\n"
    }
   }
  },
  {
   "cell_type": "markdown",
   "source": [
    "The true value of f'(x) is found by the following:\n",
    "$$ \\frac{d}{dx} f'(x)=\\frac{d}{dx}e^{-\\frac{x}{3}}=$$\n",
    "$$-\\frac{1}{3}e^{-\\frac{x}{3}} $$\n",
    "Evaluated for x= 0.7\n",
    "$$-\\frac{1}{3}e^{-\\frac{0.7}{3}}= -\\frac{1}{3}e^{-\\frac{7}{30}}= -0.26396318877892 $$"
   ],
   "metadata": {
    "collapsed": false
   }
  },
  {
   "cell_type": "code",
   "execution_count": 24,
   "outputs": [
    {
     "name": "stdout",
     "output_type": "stream",
     "text": [
      "Fractional Errors: [8.86144936e-06 3.98039546e-10 4.86259907e-10 1.84774866e-10\n",
      " 1.57028668e-10 1.50979002e-10 1.00000000e+00]\n"
     ]
    },
    {
     "data": {
      "text/plain": "Text(0.5, 0, 'h')"
     },
     "execution_count": 24,
     "metadata": {},
     "output_type": "execute_result"
    },
    {
     "data": {
      "text/plain": "<Figure size 432x288 with 1 Axes>",
      "image/png": "[encoded data removed]"
     },
     "metadata": {
      "needs_background": "light"
     },
     "output_type": "display_data"
    }
   ],
   "source": [
    "r=-0.26396318877892\n",
    "frac_error= np.abs((F[:][:-1][-1]-r)/r)\n",
    "print(\"Fractional Errors:\",frac_error)\n",
    "fig= plt.figure()\n",
    "##fig.yscale(\"log\")\n",
    "ax = fig.add_subplot(111)\n",
    "\n",
    "ax.loglog(h,frac_error)\n",
    "ax.set_title(\"Fractional error vs h\")\n",
    "ax.set_ylabel(\"Fractional error\")\n",
    "ax.set_xlabel(\"h\")"
   ],
   "metadata": {
    "collapsed": false,
    "pycharm": {
     "name": "#%%\n"
    }
   }
  },
  {
   "cell_type": "markdown",
   "source": [
    "### Part ii ###\n",
    "Minimize h for $$ e(h)= \\frac{\\epsilon}{h}+ \\frac{h^2}{6}M $$\n",
    "$$\\frac{d}{dh} \\frac{\\epsilon}{h}+ \\frac{h^2}{6}M = -\\frac{\\epsilon}{h^2}+ \\frac{h}{3}M=0 $$\n",
    "Solving for h\n",
    "$$ h= ({\\frac{3\\epsilon}{M}})^{\\frac{1}{3}} $$"
   ],
   "metadata": {
    "collapsed": false
   }
  },
  {
   "cell_type": "markdown",
   "source": [
    "### Part iii ###\n",
    "$$ f'''(x)=\\frac{-e^{\\frac{-x}{3}}}{27} $$\n",
    "Evaluated for x= 0.7, f'''(x)= -0.029329\n",
    "Max value for f'''(x) is at x== and is $\\frac{-1}{27} $\n",
    "M should be between -0.029329 and $\\frac{-1}{27} $ so -0.033 is a reasonable.\n",
    "\n",
    "This would lead, with $\\epsilon ~ 10^{-16} $ to an h value of $ 2.08 \\times 10^{-5} $"
   ],
   "metadata": {
    "collapsed": false
   }
  },
  {
   "cell_type": "markdown",
   "source": [
    "## Problem 2\n",
    "\n",
    "$$ g(x)=2^xcos(x) $$"
   ],
   "metadata": {
    "collapsed": false
   }
  },
  {
   "cell_type": "code",
   "execution_count": 25,
   "outputs": [],
   "source": [
    "def g(x):\n",
    "    \"\"\" g(x)=(2^x)cosx\"\"\"\n",
    "    return 2**x*np.cos(x)\n",
    "def richardson_forward (f, z, h, nsteps, args=()):\n",
    "    \"\"\"Evaluate the first derivative of a function at z, that is f'(z),\n",
    "    using Richardson extrapolation and forward differencing.\n",
    "\n",
    "    Returned is the full table of approximations, Fij for j <= i. The\n",
    "    values of Fij for j > i are set to zero.  The final value F[-1,-1]\n",
    "    should be the most accurate estimate.\n",
    "\n",
    "    Parameters\n",
    "    ----------\n",
    "    f : function\n",
    "        Vectorized Python function.\n",
    "        This is the function for which we are estimating the derivative.\n",
    "    z : number\n",
    "        Value at which to evaluate the derivative.\n",
    "    h : number\n",
    "        Initial stepsize.\n",
    "    nsteps : integer\n",
    "        Number of steps to perform.\n",
    "    args : tuple, optional\n",
    "        extra arguments to pass to the function, f.\n",
    "    \"\"\"\n",
    "    # Extra check to allow for args=(1) to be handled properly.  This is a\n",
    "\n",
    "    # Extra check to allow for args=(1) to be handled properly. This is a\n",
    "    # technical detail that you do not need to worry about.\n",
    "    if not isinstance(args, (tuple, list, np.ndarray)):\n",
    "        args = (args,)\n",
    "    # Create a zero filled table for our estimates\n",
    "    F = np.zeros ((nsteps,nsteps))\n",
    "    # First column of F is the forward differencing estimate.\n",
    "    # We can fill this without a loop!\n",
    "    harr = h / 2.**np.arange(nsteps)\n",
    "    F[:,0] = (f(z+harr, *args) - f(z, *args)) / (harr)\n",
    "    # Now iterate, unfortunately we do need one loop. We could probably\n",
    "    # get rid of the inner loop but the algorithm is a little easier to\n",
    "    # understand if we do not.\n",
    "    for i in range(1, nsteps):\n",
    "        fact = 0.5\n",
    "        for j in range(1, i+1):\n",
    "            F[i,j] = F[i-1,j-1] - (F[i-1,j-1] - F[i,j-1])/ (1-fact)\n",
    "            fact *= 0.5\n",
    "    return F"
   ],
   "metadata": {
    "collapsed": false,
    "pycharm": {
     "name": "#%%\n"
    }
   }
  },
  {
   "cell_type": "markdown",
   "source": [
    "### Part i ###\n",
    "$$ g'(z)= 2^z(ln(2)cos(z)-sin(z)) $$\n",
    "Evaluated at z=1.15, g'(1.15)= -1.3972187498102788\n",
    "[Note: I am assuming that x should be z or vise versa]\n",
    "\n",
    "### Part ii ###\n"
   ],
   "metadata": {
    "collapsed": false
   }
  },
  {
   "cell_type": "code",
   "execution_count": 26,
   "outputs": [
    {
     "name": "stdout",
     "output_type": "stream",
     "text": [
      "Forward differencing result: -1.3972187498099355 Magnitude of Fractional error: -12.609614689912403\n",
      "Center differencing result: -1.397218749810286 Magnitude ofFractional error: -14.293674201174804\n"
     ]
    }
   ],
   "source": [
    "z=1.15\n",
    "h10=0.4\n",
    "h=h10+z\n",
    "h=-z\n",
    "dgx_true=(2**z)*((np.log(2)*np.cos(z)-np.sin(z)))\n",
    "gforward=richardson_forward(g,z,h,8)[-1][-1]\n",
    "gcenter=richardson_center(g,z,h,8)[-1][-1]\n",
    "frac_e_for= np.abs((gforward-dgx_true)/dgx_true)\n",
    "frac_e_cen= np.abs((gcenter-dgx_true)/dgx_true)\n",
    "print(\"Forward differencing result:\",gforward,\"Magnitude of Fractional error:\",np.log10(frac_e_for))\n",
    "print(\"Center differencing result:\",gcenter,\"Magnitude ofFractional error:\",np.log10(frac_e_cen))"
   ],
   "metadata": {
    "collapsed": false,
    "pycharm": {
     "name": "#%%\n"
    }
   }
  },
  {
   "cell_type": "markdown",
   "source": [
    "### Part iii ###\n",
    "From the last part, I know for forward differencing 7 or 8 to achieve an accuracy of $ 10^{-12}$, but close to 8, while centering differencing must be 0<n<8. To solve this, I just manually plugged in values for n till I found the point where it return closes to 0.  I wanted to use root finding but since n must an integer, I ran into problems. I could think of ways to automate this but they require loops and a bit of logic, so guess and check was faster in this situation."
   ],
   "metadata": {
    "collapsed": false
   }
  },
  {
   "cell_type": "code",
   "execution_count": 27,
   "outputs": [
    {
     "name": "stdout",
     "output_type": "stream",
     "text": [
      "-0.03092656347661915\n",
      "2.144690616204132\n",
      "-0.6096146899124033\n"
     ]
    }
   ],
   "source": [
    "def root_cen(n):\n",
    "    \"\"\" a function of the magnitude accuracy of center differencing with a root at magnitude accuracy = -12. n \"\"\"\n",
    "    return np.log10(np.abs((richardson_center(g,z,h,n)[-1][-1]-dgx_true)/dgx_true))+12\n",
    "def root_for(n):\n",
    "    \"\"\" a function of the magnitude accuracy of forward differencing with a root at magnitude accuracy = -12\"\"\"\n",
    "    return np.log10( np.abs((richardson_forward(g,z,h,n)[-1][-1]-dgx_true)/dgx_true))+12\n",
    "## I should probably pass my variables though the function instead of global calling them as global variables.\n",
    "print(root_cen(5))\n",
    "print(root_for(7))\n",
    "print(root_for(8))"
   ],
   "metadata": {
    "collapsed": false,
    "pycharm": {
     "name": "#%%\n"
    }
   }
  },
  {
   "cell_type": "markdown",
   "source": [
    "Needed 5 iterations for center differencing and 7 for forward.\n",
    "\n",
    "### Part iV ###\n",
    "For forward differencing, you need 1 new function evaluation so the total evaluation for each iteration is n.\n",
    "For center differencing you need 2 new function evaluation so the total evaluation for each iteration is 2n.\n",
    "### Part V ###\n",
    "For center differencing when n=5, 10 functions are called\n",
    "For forwar differencing when n=7, 7 functions are called"
   ],
   "metadata": {
    "collapsed": false
   }
  },
  {
   "cell_type": "markdown",
   "source": [
    "### Part vi ###\n",
    "Find Minimum error by plotting"
   ],
   "metadata": {
    "collapsed": false
   }
  },
  {
   "cell_type": "code",
   "execution_count": 29,
   "outputs": [
    {
     "data": {
      "text/plain": "<matplotlib.legend.Legend at 0x7ff166157f70>"
     },
     "execution_count": 29,
     "metadata": {},
     "output_type": "execute_result"
    },
    {
     "data": {
      "text/plain": "<Figure size 432x288 with 1 Axes>",
      "image/png": "[encoded data removed]"
     },
     "metadata": {
      "needs_background": "light"
     },
     "output_type": "display_data"
    }
   ],
   "source": [
    "def min_cen(n):\n",
    "    \"\"\" a function of the magnitude accuracy of center differencing with a root at magnitude accuracy = -12. n \"\"\"\n",
    "    return np.log10(np.abs((richardson_center(g, z, h, n)[-1][-1] - dgx_true) / dgx_true))\n",
    "def min_for(n):\n",
    "    \"\"\" a function of the magnitude accuracy of forward differencing with a root at magnitude accuracy = -12\"\"\"\n",
    "    return  np.log10(np.abs((richardson_forward(g,z,h,n)[-1][-1]-dgx_true)/dgx_true))\n",
    "alist= np.arange(1,15)\n",
    "min_c=[]\n",
    "min_f=[]\n",
    "for i in alist: ## could not figure out how to do this with numpy array\n",
    "    min_c.append(min_cen(i))\n",
    "    min_f.append(min_for(i))\n",
    "fig= plt.figure()\n",
    "##fig.yscale(\"log\")\n",
    "ax = fig.add_subplot(111)\n",
    "ax.plot(alist,min_c,'rs',label=\"center differencing\")\n",
    "ax.plot(alist,min_f,'ko',label=\"forward differencing\")\n",
    "\n",
    "ax.set_title(\"Fractional error vs n\")\n",
    "ax.set_ylabel(\"Magnitude of Fractional error\")\n",
    "ax.set_xlabel(\"n\")\n",
    "ax.legend()"
   ],
   "metadata": {
    "collapsed": false,
    "pycharm": {
     "name": "#%%\n"
    }
   }
  },
  {
   "cell_type": "markdown",
   "source": [
    "Minimum for center differencing at n equals 6 and for forward differencing  at n equals 9"
   ],
   "metadata": {
    "collapsed": false
   }
  },
  {
   "cell_type": "markdown",
   "source": [
    "### Part vii ###\n",
    "The reason why there is a minimum error is the limited precision that python is able to do. After that, calculations will be truncated, leading to error."
   ],
   "metadata": {
    "collapsed": false,
    "pycharm": {
     "name": "#%% md\n"
    }
   }
  }
 ],
 "metadata": {
  "kernelspec": {
   "display_name": "Python 3",
   "language": "python",
   "name": "python3"
  },
  "language_info": {
   "codemirror_mode": {
    "name": "ipython",
    "version": 2
   },
   "file_extension": ".py",
   "mimetype": "text/x-python",
   "name": "python",
   "nbconvert_exporter": "python",
   "pygments_lexer": "ipython2",
   "version": "2.7.6"
  }
 },
 "nbformat": 4,
 "nbformat_minor": 0
}