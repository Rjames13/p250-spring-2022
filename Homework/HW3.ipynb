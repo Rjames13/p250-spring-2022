{
 "cells": [
  {
   "cell_type": "markdown",
   "source": [
    "# Homework 3 #\n",
    "## Robin James rnj13 ##\n",
    "### Initialization ###"
   ],
   "metadata": {
    "collapsed": false
   }
  },
  {
   "cell_type": "code",
   "execution_count": 1,
   "metadata": {
    "collapsed": true
   },
   "outputs": [],
   "source": [
    "import numpy as np\n",
    "from matplotlib import pyplot as plt\n",
    "import matplotlib as mpl\n",
    "mpl.rc('xtick', direction='in', top=True)\n",
    "mpl.rc('ytick', direction='in', right=True)\n",
    "mpl.rc('xtick.minor', visible=True)\n",
    "mpl.rc('ytick.minor', visible=True)\n",
    "\n",
    "rng = np.random.default_rng()"
   ]
  },
  {
   "cell_type": "code",
   "execution_count": 2,
   "outputs": [],
   "source": [
    "def richardson_center(f, z, h, nsteps, args=()):\n",
    "    \"\"\"Evaluate the first derivative of a function at z, that is f'(z),\n",
    "    using Richardson extrapolation and center differencing.\n",
    "\n",
    "    Returned is the full table of approximations, Fij for j <= i. The\n",
    "    values of Fij for j > i are set to zero.  The final value F[-1,-1]\n",
    "    should be the most accurate estimate.\n",
    "\n",
    "    Parameters\n",
    "    ----------\n",
    "    f : function\n",
    "        Vectorized Python function.\n",
    "        This is the function for which we are estimating the derivative.\n",
    "    z : number\n",
    "        Value at which to evaluate the derivative.\n",
    "    h : number\n",
    "        Initial stepsize.\n",
    "    nsteps : integer\n",
    "        Number of steps to perform.\n",
    "    args : tuple, optional\n",
    "        extra arguments to pass to the function, f.\n",
    "    \"\"\"\n",
    "    # Extra check to allow for args=(1) to be handled properly.  This is a\n",
    "    # technical detail that you do not need to worry about.\n",
    "    if not isinstance(args, (tuple, list, np.ndarray)):\n",
    "        args = (args,)\n",
    "    # Create a zero filled table for our estimates\n",
    "    F = np.zeros((nsteps, nsteps))\n",
    "    # First column of F is the center differencing estimate.  We can fill this\n",
    "    # without a loop!\n",
    "    harr = h / 2.**np.arange(nsteps)\n",
    "    F[:,0] = (f(z+harr, *args) - f(z-harr, *args)) / (2.*harr)\n",
    "    # Now iterate, unfortunately we do need one loop.  We could\n",
    "    # get rid of the inner loop but the algorithm is a little easier to\n",
    "    # understand if we do not.\n",
    "    for i in range(1, nsteps):\n",
    "        fact = 0.25\n",
    "        for j in range(1, i+1):\n",
    "            F[i,j] = F[i-1,j-1] - (F[i-1,j-1] - F[i,j-1]) / (1-fact)\n",
    "            fact *= 0.25\n",
    "    return F"
   ],
   "metadata": {
    "collapsed": false,
    "pycharm": {
     "name": "#%%\n"
    }
   }
  },
  {
   "cell_type": "markdown",
   "source": [
    "## Question 1 ##\n",
    "### Part i ###"
   ],
   "metadata": {
    "collapsed": false
   }
  },
  {
   "cell_type": "code",
   "execution_count": 4,
   "outputs": [],
   "source": [
    "def f(x):\n",
    "    \"\"\"f(x)=e^(-x/3)\"\"\"\n",
    "    return np.exp(-x/3)"
   ],
   "metadata": {
    "collapsed": false,
    "pycharm": {
     "name": "#%%\n"
    }
   }
  },
  {
   "cell_type": "code",
   "execution_count": 36,
   "outputs": [
    {
     "name": "stdout",
     "output_type": "stream",
     "text": [
      "Calaculated value for f'(x) using centering diffrencing with h equal to 0.1,0.01,10e-4,10e-5,10e-6,10e-7: [-0.26396553 -0.26396319 -0.26396319 -0.26396319 -0.26396319 -0.26396319\n",
      "  0.        ]\n"
     ]
    }
   ],
   "source": [
    "x=0.7\n",
    "h10=np.array([0.1,0.01,10e-4,10e-5,10e-6,10e-7,10e-8])\n",
    "\n",
    "h = h10 + x\n",
    "\n",
    "\n",
    "N = 7\n",
    "F = richardson_center(f, x, h, N)\n",
    "print(\"Calaculated value for f'(x) using centering diffrencing with h equal to 0.1,0.01,10e-4,10e-5,10e-6,10e-7:\",F[:][:-1][-1])"
   ],
   "metadata": {
    "collapsed": false,
    "pycharm": {
     "name": "#%%\n"
    }
   }
  },
  {
   "cell_type": "markdown",
   "source": [
    "The true value of f'(x) is found by the following:\n",
    "$$ \\frac{d}{dx} f'(x)=\\frac{d}{dx}e^{-\\frac{x}{3}}=$$\n",
    "$$-\\frac{1}{3}e^{-\\frac{x}{3}} $$\n",
    "Evaluated for x= 0.7\n",
    "$$-\\frac{1}{3}e^{-\\frac{0.7}{3}}= -\\frac{1}{3}e^{-\\frac{7}{30}}= -0.26396318877892 $$"
   ],
   "metadata": {
    "collapsed": false
   }
  },
  {
   "cell_type": "code",
   "execution_count": 41,
   "outputs": [
    {
     "name": "stdout",
     "output_type": "stream",
     "text": [
      "Fractional Errors: [8.86144936e-06 3.98039546e-10 4.86259907e-10 1.84774866e-10\n",
      " 1.57028668e-10 1.50979002e-10 1.00000000e+00]\n"
     ]
    },
    {
     "data": {
      "text/plain": "Text(0.5, 0, 'h')"
     },
     "execution_count": 41,
     "metadata": {},
     "output_type": "execute_result"
    },
    {
     "data": {
      "text/plain": "<Figure size 432x288 with 1 Axes>",
      "image/png": "[encoded data removed]"
     },
     "metadata": {
      "needs_background": "light"
     },
     "output_type": "display_data"
    }
   ],
   "source": [
    "r=-0.26396318877892\n",
    "frac_error= np.abs((F[:][:-1][-1]-r)/r)\n",
    "print(\"Fractional Errors:\",frac_error)\n",
    "fig= plt.figure()\n",
    "##fig.yscale(\"log\")\n",
    "ax = fig.add_subplot(111)\n",
    "\n",
    "ax.loglog(h,frac_error)\n",
    "ax.set_title(\"Fractional error vs h\")\n",
    "ax.set_ylabel(\"Fractional error\")\n",
    "ax.set_xlabel(\"h\")"
   ],
   "metadata": {
    "collapsed": false,
    "pycharm": {
     "name": "#%%\n"
    }
   }
  },
  {
   "cell_type": "markdown",
   "source": [
    "### Part ii ###\n",
    "Minimize h for $$ e(h)= \\frac{\\epsilon}{h}+ \\frac{h^2}{6}M $$\n",
    "$$\\frac{d}{dh} \\frac{\\epsilon}{h}+ \\frac{h^2}{6}M = -\\frac{\\epsilon}{h^2}+ \\frac{h}{3}M=0 $$\n",
    "Solving for h\n",
    "$$ h= ({\\frac{3\\epsilon}{M}})^{\\frac{1}{3}} $$"
   ],
   "metadata": {
    "collapsed": false
   }
  },
  {
   "cell_type": "markdown",
   "source": [
    "### Part iii ###\n",
    "$$ f'''(x)=\\frac{-e^{\\frac{-x}{3}}}{27} $$\n",
    "Evaluated for x= 0.7, f'''(x)= -0.029329\n",
    "Max value for f'''(x) is at x== and is $$\\frac{-1}{27} $$"
   ],
   "metadata": {
    "collapsed": false
   }
  },
  {
   "cell_type": "markdown",
   "source": [
    "## Problem 2 ##\n"
   ],
   "metadata": {
    "collapsed": false
   }
  },
  {
   "cell_type": "code",
   "execution_count": null,
   "outputs": [],
   "source": [],
   "metadata": {
    "collapsed": false,
    "pycharm": {
     "name": "#%%\n"
    }
   }
  }
 ],
 "metadata": {
  "kernelspec": {
   "display_name": "Python 3",
   "language": "python",
   "name": "python3"
  },
  "language_info": {
   "codemirror_mode": {
    "name": "ipython",
    "version": 2
   },
   "file_extension": ".py",
   "mimetype": "text/x-python",
   "name": "python",
   "nbconvert_exporter": "python",
   "pygments_lexer": "ipython2",
   "version": "2.7.6"
  }
 },
 "nbformat": 4,
 "nbformat_minor": 0
}