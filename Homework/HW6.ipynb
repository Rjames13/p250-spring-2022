{
 "cells": [
  {
   "cell_type": "code",
   "execution_count": 1,
   "metadata": {
    "pycharm": {
     "name": "#%%\n"
    }
   },
   "outputs": [],
   "source": [
    "import numpy as np\n",
    "\n",
    "import matplotlib.pyplot as plt\n",
    "import scipy.integrate as integ\n",
    "import scipy.interpolate as interp\n",
    "import  scipy.optimize as opt\n",
    "# Globally fix plot styling\n",
    "import matplotlib as mpl\n",
    "mpl.rc('xtick', direction='in', top=True)\n",
    "mpl.rc('ytick', direction='in', right=True)\n",
    "mpl.rc('xtick.minor', visible=True)\n",
    "mpl.rc('ytick.minor', visible=True)\n",
    "rng= np.random.default_rng()"
   ]
  },
  {
   "cell_type": "markdown",
   "metadata": {
    "pycharm": {
     "name": "#%% md\n"
    }
   },
   "source": [
    "\n",
    "## Problem 1 ##\n",
    "### Part i ###\n",
    "For Projectile motion with air resistance, there are two forces, gravity and drag:\n",
    "\\begin{align}\n",
    " \\vec{F_{net}} &= \\vec{F_g} - \\vec{f_d} \\\\\n",
    " \\vec{F_{net}} &= m\\vec{g} - b\\vec{v}\n",
    "\\end{align}\n",
    "When the object hits terminal velocity, $\\vec{F_{net}}=0$\n",
    "\\begin{align}\n",
    "\n",
    " 0 &= m\\vec{g} - b\\vec{v_t} \\\\\n",
    " m\\vec{g} &= b\\vec{v_t} \\\\\n",
    "\\vec{v_t} &= \\frac{m\\vec{g}}{b}  \\\\\n",
    "\\end{align}"
   ]
  },
  {
   "cell_type": "markdown",
   "metadata": {
    "pycharm": {
     "name": "#%% md\n"
    }
   },
   "source": [
    "### Part ii ###\n",
    "As shown in the part above, the equation of motion is\n",
    "$$  \\vec{F_{net}} = m\\vec{g} - b\\vec{v} $$\n",
    "In different form:\n",
    "$$  \\vec{r''} = m\\vec{g} - b\\vec{r'} $$\n",
    "\n",
    "In component form\n",
    "$$  \\ddot{x} = 0 - b \\dot{x} $$\n",
    "$$  \\ddot{y} = -mg - b\\dot{y} $$\n",
    "And then as a system\n",
    "\n",
    "\\begin{align}\n",
    "    \\dot{x} &=v_x \\\\\n",
    "    \\dot{v_x} &= \\frac{-gv_x}{v_t}\\\\\n",
    "     \\\\\n",
    "     \\\\\n",
    "    \\dot{y}&=v_y \\\\\n",
    "    \\dot{v_y}&=-g(1+ \\frac{v_y}{v_t}) \\\\\n",
    "\n",
    "\n",
    "\n",
    "\n",
    "\n",
    "\\end{align}"
   ]
  },
  {
   "cell_type": "markdown",
   "metadata": {
    "pycharm": {
     "name": "#%% md\n"
    }
   },
   "source": [
    "### Part iii ###\n",
    "Solve x system first:\n",
    "$$ \\Large \\frac{\\mathrm{d}v}{\\mathrm{d}t} = \\frac{-gv_x}{v_t} $$\n",
    "$$ \\Large \\int \\frac{\\mathrm{d}v}{v_x\\mathrm{d}t} = \\int \\frac{-g}{v_t} \\mathrm{d}t$$\n",
    "$$ \\Large ln|v_x|-ln|v_{x0}| = \\frac{-g}{v_t} t $$\n",
    "$$ \\Large v_x(t)=v_{x0}e^{\\frac{-g}{v_t}t} $$\n",
    "$$ \\Large \\int v_x(t) dt =\\int  v_{x0}e^{\\frac{-g}{v_t}t} dt$$\n",
    "$$ \\Large x(t) = \\frac{v_tv_0\\cos\\theta}{g}(1-e^{\\frac{-g}{v_t}t} $$\n",
    "\n",
    "Then solve y system:\n",
    "\n",
    "$$ \\Large \\int \\frac{\\mathrm{d}v}{\\mathrm{d}t} =\\int -g(1+ \\frac{v_y}{v_t}) $$\n",
    "\n",
    "$$ \\Large \\ln(\\frac{v_t+v_y}{v_t+v_{y_0}}) = - \\frac{g}{v_t}t$$\n",
    "\n",
    "\n",
    "$$ \\Large v_y(t) = v_0\\,\\sin\\theta\\,{\\rm e}^{\\frac{-gt}{v_t}} - v_t(1-e^{\\frac{-gt}{v_t}}) $$\n",
    "$$ \\Large \\int v_y(t) = \\int v_0\\,\\sin\\theta\\,{\\rm e}^{\\frac{-gt}{v_t}} - v_t(1-e^{\\frac{-gt}{v_t}}) $$\n",
    "$$ \\Large y(t) = \\frac{v_t}{g}\\,\\left(v_0\\,\\sin\\theta + v_t\\right)\\left(1-{\\rm e}^{\\frac{-gt}{v_t}}\\right) -v_tt) $$\n"
   ]
  },
  {
   "cell_type": "markdown",
   "metadata": {
    "pycharm": {
     "name": "#%% md\n"
    }
   },
   "source": [
    "### Part iv ###\n",
    "Let $ s = \\frac{gt}{v_t} $, $ X(s)=\\frac{g}{v_t^2}x(t)$, and $ Y(s)=\\frac{g}{v_t^2}y(t)$\n",
    "\n",
    "$$\\large\n",
    " X(s) = \\frac{g}{v_t^2} \\frac{v_t^2\\cos\\theta}{g}(1-e^{-s}) $$\n",
    " $$\\large\n",
    " X(s) =  \\cos\\theta(1-e^{-s}) $$\n",
    "$$ \\large Y(s) =\\frac{g}{v_t^2}( \\frac{v_t}{g}\\,\\left(v_t\\,\\sin\\theta + v_t\\right)\\left(1-{\\rm e}^{\\frac{-gt}{v_t}}\\right) -v_tt) $$\n",
    "$$ \\large Y(s) = \\,\\left(\\,\\sin\\theta + 1\\right)\\left(1-{\\rm e}^{-s}\\right)-s $$\n",
    "\n"
   ]
  },
  {
   "cell_type": "markdown",
   "metadata": {
    "pycharm": {
     "name": "#%% md\n"
    }
   },
   "source": [
    "### Part V ###\n",
    "To find $\\theta_{max}$ we want to optimize $X(\\theta)$. The fist step will be to find different s values where  $Y(s)=0$. This can be done with root finding with brackets greater then 0 but less then 3. Once we have s values we can plug those values into the equation we have for $X(s)$ and return the maxime of the results as the optimal angle.\n"
   ]
  },
  {
   "cell_type": "code",
   "execution_count": 2,
   "metadata": {
    "pycharm": {
     "name": "#%%\n"
    }
   },
   "outputs": [
    {
     "name": "stdout",
     "output_type": "stream",
     "text": [
      " The Optimal angle is 35.59 and will travel 0.5140438868714002\n"
     ]
    },
    {
     "data": {
      "text/plain": [
       "0.49103330519440186"
      ]
     },
     "execution_count": 2,
     "metadata": {},
     "output_type": "execute_result"
    }
   ],
   "source": [
    "def xs(t,angle):\n",
    "    return np.cos(np.deg2rad(angle))*(1-np.exp(-t))\n",
    "def ys(t,angle):\n",
    "    return (np.sin(np.deg2rad(angle))+1)*(1-np.exp(-t))-t\n",
    "\n",
    "\n",
    "theta = np.arange(0,45,0.01)\n",
    "\n",
    "sresults=[]\n",
    "for a in theta:\n",
    "   sresults.append([a,opt.brentq(ys,1e-10,3,args=(a))])\n",
    "sresults=np.transpose(np.array(sresults))\n",
    "\n",
    "xresault = xs(sresults[1],sresults[0])\n",
    "\n",
    "results= np.where(xresault==max(xresault))[0][0]\n",
    "\n",
    "print(f\" The Optimal angle is {sresults[0][results]} and will travel {xresault[results]}\")\n",
    "xresault[-1]"
   ]
  },
  {
   "cell_type": "markdown",
   "metadata": {
    "pycharm": {
     "name": "#%% md\n"
    }
   },
   "source": [
    "### Part vii ##\n",
    "Given $g=9.8m/s^2$, $m=2g $, and $b=3.3g/s$\n",
    "Calculate $\\vec v_t $:\n",
    "$$ \\vec{v_t} = \\frac{m\\vec{g}}{b} = 5.94 $$\n",
    "We can then rearrange the x(t) to X(s) transformation:\n",
    "$$ \\frac{X_{max}v_t^2}{g}=1.8503691795554542 $$\n"
   ]
  },
  {
   "cell_type": "code",
   "execution_count": 3,
   "metadata": {
    "pycharm": {
     "name": "#%%\n"
    }
   },
   "outputs": [
    {
     "data": {
      "text/plain": [
       "1.8503691795554542"
      ]
     },
     "execution_count": 3,
     "metadata": {},
     "output_type": "execute_result"
    }
   ],
   "source": [
    "v_t=2/3.3 *9.8\n",
    "xresault[results]*(v_t**2)/9.8"
   ]
  }
 ],
 "metadata": {
  "kernelspec": {
   "display_name": "Python 3 (ipykernel)",
   "language": "python",
   "name": "python3"
  },
  "language_info": {
   "codemirror_mode": {
    "name": "ipython",
    "version": 3
   },
   "file_extension": ".py",
   "mimetype": "text/x-python",
   "name": "python",
   "nbconvert_exporter": "python",
   "pygments_lexer": "ipython3",
   "version": "3.8.10"
  }
 },
 "nbformat": 4,
 "nbformat_minor": 1
}