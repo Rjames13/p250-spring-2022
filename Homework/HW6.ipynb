{
 "cells": [
  {
   "cell_type": "markdown",
   "source": [
    "# Homework 6 #\n",
    "### Robin James ###\n",
    "\n",
    "## Problem 1 ##\n",
    "### Part i ###\n",
    "For Projectile motion with air resistance, there are two forces, gravity and drag:\n",
    "\\begin{align}\n",
    " \\vec{F_{net}} &= \\vec{F_g} - \\vec{f_d} \\\\\n",
    " \\vec{F_{net}} &= m\\vec{g} - b\\vec{v}\n",
    "\\end{align}\n",
    "When the object hits terminal velocity, $\\vec{F_{net}}=0$\n",
    "\\begin{align}\n",
    "\n",
    " 0 &= m\\vec{g} - b\\vec{v_t} \\\\\n",
    " m\\vec{g} &= b\\vec{v_t} \\\\\n",
    "\\vec{v_t} &= \\frac{m\\vec{g}}{b}  \\\\\n",
    "\\end{align}"
   ],
   "metadata": {
    "collapsed": false
   }
  },
  {
   "cell_type": "markdown",
   "source": [
    "### Part ii ###\n",
    "As shown in the part above, the equation of motion is\n",
    "$$  \\vec{F_{net}} = m\\vec{g} - b\\vec{v} $$\n",
    "In different form:\n",
    "$$  \\vec{r''} = m\\vec{g} - b\\vec{r'} $$\n",
    "\n",
    "In component form\n",
    "$$  \\ddot{x} = 0 - b \\dot{x} $$\n",
    "$$  \\ddot{y} = -mg - b\\dot{y} $$\n",
    "And then as a system\n",
    "\n",
    "\\begin{align}\n",
    "    \\dot{x} &=v_x \\\\\n",
    "    \\dot{v_x} &= \\frac{-gv_x}{v_t}\\\\\n",
    "     \\\\\n",
    "     \\\\\n",
    "    \\dot{y}&=v_y \\\\\n",
    "    \\dot{v_y}&=-g(1+ \\frac{v_y}{v_t}) \\\\\n",
    "\n",
    "\n",
    "\n",
    "\n",
    "\n",
    "\\end{align}"
   ],
   "metadata": {
    "collapsed": false
   }
  },
  {
   "cell_type": "markdown",
   "source": [
    "### Part iii ###\n",
    "Solve x system first:\n",
    "$$ \\Large \\frac{\\mathrm{d}v}{\\mathrm{d}t} = \\frac{-gv_x}{v_t} $$\n",
    "$$ \\Large \\int \\frac{\\mathrm{d}v}{v_x\\mathrm{d}t} = \\int \\frac{-g}{v_t} \\mathrm{d}t$$\n",
    "$$ \\Large ln|v_x|-ln|v_{x0}| = \\frac{-g}{v_t} t $$\n",
    "$$ \\Large v_x(t)=v_{x0}e^{\\frac{-g}{v_t}t} $$\n",
    "$$ \\Large \\int v_x(t) dt =\\int  v_{x0}e^{\\frac{-g}{v_t}t} dt$$\n",
    "$$ \\Large x(t) = \\frac{v_tv_0\\cos\\theta}{g}(1-e^{\\frac{-g}{v_t}t}) $$\n",
    "\n",
    "Then solve y system:\n",
    "\n",
    "$$ \\Large \\int \\frac{\\mathrm{d}v}{\\mathrm{d}t} =\\int -g(1+ \\frac{v_y}{v_t}) $$\n",
    "\n",
    "$$ \\Large \\ln(\\frac{v_t+v_y}{v_t+v_{y_0}}) = - \\frac{g}{v_t}t$$\n",
    "\n",
    "\n",
    "$$ \\Large v_y(t) = v_0\\,\\sin\\theta\\,{\\rm e}^{\\frac{-gt}{v_t}} - v_t(1-e^{\\frac{-gt}{v_t}}) $$\n",
    "$$ \\Large \\int v_y(t) = \\int v_0\\,\\sin\\theta\\,{\\rm e}^{\\frac{-gt}{v_t}} - v_t(1-e^{\\frac{-gt}{v_t}}) $$\n",
    "$$ \\Large y(t) = \\frac{v_t}{g}\\,\\left(v_0\\,\\sin\\theta + v_t\\right)\\left(1-{\\rm e}^{\\frac{-gt}{v_t}}\\right) . $$\n"
   ],
   "metadata": {
    "collapsed": false
   }
  },
  {
   "cell_type": "markdown",
   "source": [
    "### Part iv ###\n",
    "Let $ s = \\frac{gt}{v_t} $, $ X(s)=\\frac{g}{v_t^2}x(t)$, and $ Y(s)=\\frac{g}{v_t^2}y(t)$\n",
    "\n",
    "$$\\large\n",
    " X(s) = \\frac{g}{v_t^2} \\frac{v_t^2\\cos\\theta}{g}(1-e^{-s}) $$\n",
    " $$\\large\n",
    " X(s) =  \\cos\\theta(1-e^{-s}) $$\n",
    "$$ \\large Y(s) =\\frac{g}{v_t^2} \\frac{v_t}{g}\\,\\left(v_t\\,\\sin\\theta + v_t\\right)\\left(1-{\\rm e}^{\\frac{-gt}{v_t}}\\right) $$\n",
    "$$ \\large Y(s) = \\,\\left(\\,\\sin\\theta + 1\\right)\\left(1-{\\rm e}^{-s}\\right) $$\n",
    "\n"
   ],
   "metadata": {
    "collapsed": false
   }
  },
  {
   "cell_type": "code",
   "execution_count": null,
   "metadata": {
    "collapsed": true
   },
   "outputs": [],
   "source": []
  }
 ],
 "metadata": {
  "kernelspec": {
   "display_name": "Python 3",
   "language": "python",
   "name": "python3"
  },
  "language_info": {
   "codemirror_mode": {
    "name": "ipython",
    "version": 2
   },
   "file_extension": ".py",
   "mimetype": "text/x-python",
   "name": "python",
   "nbconvert_exporter": "python",
   "pygments_lexer": "ipython2",
   "version": "2.7.6"
  }
 },
 "nbformat": 4,
 "nbformat_minor": 0
}