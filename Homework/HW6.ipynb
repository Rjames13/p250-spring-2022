{
 "cells": [
  {
   "cell_type": "markdown",
   "source": [
    "# Homework 6 #\n",
    "### Robin James ###\n",
    "\n",
    "## Problem 1 ##\n",
    "### Part i ###\n",
    "For Projectile motion with air resistance, there are two forces, gravity and drag:\n",
    "\\begin{align}\n",
    " \\vec{F_{net}} &= \\vec{F_g} - \\vec{f_d} \\\\\n",
    " \\vec{F_{net}} &= m\\vec{g} - b\\vec{v}\n",
    "\\end{align}\n",
    "When the object hits terminal velocity, $\\vec{F_{net}}=0$\n",
    "\\begin{align}\n",
    "\n",
    " 0 &= m\\vec{g} - b\\vec{v_t} \\\\\n",
    " m\\vec{g} &= b\\vec{v_t} \\\\\n",
    "\\vec{v_t} &= \\frac{m\\vec{g}}{b}  \\\\\n",
    "\\end{align}"
   ],
   "metadata": {
    "collapsed": false
   }
  },
  {
   "cell_type": "markdown",
   "source": [
    "### Part ii ###\n",
    "As shown in the part above, the equation of motion is\n",
    "$$  \\vec{F_{net}} = m\\vec{g} - b\\vec{v} $$\n",
    "In different form:\n",
    "$$  \\vec{r''} = m\\vec{g} - b\\vec{r'} $$\n",
    "\n",
    "In component form\n",
    "$$  \\ddot{x} = 0 - b \\dot{x} $$\n",
    "$$  \\ddot{y} = -mg - b\\dot{y} $$\n",
    "And then as a system\n",
    "\n",
    "\\begin{align}\n",
    "    \\dot{x} &=v_x \\\\\n",
    "    \\dot{v_x} &= \\frac{-bv_x}{m}\\\\\n",
    "     \\\\\n",
    "     \\\\\n",
    "    \\dot{y}&=v_y \\\\\n",
    "    \\dot{v_y}&=g- \\frac{bv_y}{m} \\\\\n",
    "\n",
    "\n",
    "\n",
    "\n",
    "\n",
    "\\end{align}"
   ],
   "metadata": {
    "collapsed": false
   }
  },
  {
   "cell_type": "markdown",
   "source": [
    "### Part iii ###\n",
    "Solve x system first:\n",
    "$$ \\frac{\\mathrm{d}v}{\\mathrm{d}t} = \\frac{-bv_x}{m} $$\n",
    "$$ \\int \\frac{\\mathrm{d}v}{v_x\\mathrm{d}t} = \\int \\frac{-b}{m} \\mathrm{d}t$$\n",
    "$$ ln|v_x|-ln|v_{x0}| = \\frac{-b}{m} t $$\n",
    "$$ v_x(t)=v_{x0}e^{\\frac{-b}{m}t} $$\n",
    "$$ \\int v_x(t) dt =\\int  v_{x0}e^{\\frac{-b}{m}t} dt$$\n",
    "$$ x(t) =- \\frac{mv_x0}{b}e^{\\frac{-b}{m}t}+x_0 $$\n",
    "\n",
    "Then solve y system:\n",
    "\n",
    "$$ \\frac{\\mathrm{d}v}{\\mathrm{d}t} =g+ \\frac{-bv_y}{m} $$\n",
    "$$ \\int \\frac{-g\\mathrm{d}v}{v_y\\mathrm{d}t} = \\int   \\frac{-b}{m} \\mathrm{d}t$$\n",
    "\n",
    "$$ v_y(t)=v_{y0}e^{\\frac{-b}{m}t}+\\frac{mg}{b} $$\n",
    "$$ \\int v_y(t)= \\int v_{y0}e^{\\frac{-b}{m}t}+\\frac{mg}{b} $$\n",
    "$$ y(t) =- \\frac{mv_{y0}}{b}e^{\\frac{-b}{m}t}+\\frac{mgt}{b}+y_0 $$"
   ],
   "metadata": {
    "collapsed": false
   }
  },
  {
   "cell_type": "markdown",
   "source": [],
   "metadata": {
    "collapsed": false
   }
  },
  {
   "cell_type": "code",
   "execution_count": null,
   "metadata": {
    "collapsed": true
   },
   "outputs": [],
   "source": []
  }
 ],
 "metadata": {
  "kernelspec": {
   "display_name": "Python 3",
   "language": "python",
   "name": "python3"
  },
  "language_info": {
   "codemirror_mode": {
    "name": "ipython",
    "version": 2
   },
   "file_extension": ".py",
   "mimetype": "text/x-python",
   "name": "python",
   "nbconvert_exporter": "python",
   "pygments_lexer": "ipython2",
   "version": "2.7.6"
  }
 },
 "nbformat": 4,
 "nbformat_minor": 0
}