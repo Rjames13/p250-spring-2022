{
 "cells": [
  {
   "cell_type": "markdown",
   "source": [
    "Homework 1 Phys 250 Robin James rnj13"
   ],
   "metadata": {
    "collapsed": false
   }
  },
  {
   "cell_type": "markdown",
   "source": [
    "# Problem 1 #\n",
    "## Part i ##\n",
    "The perimeter of a square with sides S is 4S. For the propose problem we can write the sum of N squares as:\n",
    "$$ 4S + 2S+ S+ \\frac{S}{2}+... \\frac{4S}{2^{N-1}} = \\[ \\sum_{i=0}^{N-1} \\frac{4S}{2^{i}} \\] = 4S(\\frac{1-(.5S)^N}{1-.5S})$$\n",
    "As N -> $ \\infty $ the perimeter goes to  $$\\frac{4S}{1-\\frac{S}{2}} $$\n",
    "## Part ii ##\n",
    "The area of the square with sides S is $S^2$. The sum of the area is:\n",
    "$$ \\[ \\sum_{i=0}^{N-1} \\frac{S^2}{2^{i}} \\] $$"
   ],
   "metadata": {
    "collapsed": false
   }
  },
  {
   "cell_type": "code",
   "execution_count": null,
   "outputs": [],
   "source": [],
   "metadata": {
    "collapsed": false,
    "pycharm": {
     "name": "#%%\n"
    }
   }
  },
  {
   "cell_type": "markdown",
   "source": [
    "# Problem 2 #\n",
    "Set your coordinate \"a\" to be parallel to the incline of the plane. In the reference frame, the normal force and perpendicular part of the gravitational force. We only need to use Newton's law in the \"a\" direction\n",
    "$$ F_{net{= mgsin( \\theta) $$\n",
    "$$ a_a=gsin(\\theta) $$\n",
    "We can then plug back in to a kinematic equation to get x(t).\n",
    "$$ d= \\frac{1}{2}gsin(\\theta)t^2 $$\n",
    "## Part ii ##\n",
    "$$ 4= .5 g sin(\\theta) => \\theta = arcsin(\\frac{8}{g})= 0.955 rad  $$\n",
    "## Part iii ##\n",
    "$$ 0= \\frac{g}{4\\omega^2}(e^{\\omega}-e^{-\\omega}-2 sin(\\omega)) -4  $$\n",
    "To solve this I will use scipy root finder"
   ],
   "metadata": {
    "collapsed": false
   }
  },
  {
   "cell_type": "code",
   "execution_count": 16,
   "outputs": [],
   "source": [
    "import numpy as np\n",
    "import scipy.optimize as opt\n",
    "\n",
    "def f(w):\n",
    "    return (9.8/(4.*w**2.))*(np.exp(w)-np.exp(-1*w)-2.*np.sin(w))-4."
   ],
   "metadata": {
    "collapsed": false,
    "pycharm": {
     "name": "#%%\n"
    }
   }
  },
  {
   "cell_type": "markdown",
   "source": [
    "Now with the function defined, we need to find two numbers where we think the root is.Since we know $\\omega$ is an angular speed in rad/sec so we can make a guess that it will be greater than 0.01 but less than pi."
   ],
   "metadata": {
    "collapsed": false
   }
  },
  {
   "cell_type": "markdown",
   "source": [],
   "metadata": {
    "collapsed": false
   }
  },
  {
   "cell_type": "code",
   "execution_count": 24,
   "outputs": [
    {
     "data": {
      "text/plain": "2.3612521534858644"
     },
     "execution_count": 24,
     "metadata": {},
     "output_type": "execute_result"
    }
   ],
   "source": [
    "opt.brentq(f,0.01,3.1,xtol=10e-15)"
   ],
   "metadata": {
    "collapsed": false,
    "pycharm": {
     "name": "#%%\n"
    }
   }
  },
  {
   "cell_type": "markdown",
   "source": [
    "Running using brentq, we see that $\\omega = 2.3612521534858644$rad/s\n",
    "## Part iv ##\n",
    "Same proccess as last part."
   ],
   "metadata": {
    "collapsed": false
   }
  },
  {
   "cell_type": "code",
   "execution_count": 25,
   "outputs": [],
   "source": [
    "\n",
    "def f(w):\n",
    "    return (9.8/(4.*w**2.))*(np.exp(w)-np.exp(-1*w)-2.*np.sin(w))-8.\n"
   ],
   "metadata": {
    "collapsed": false,
    "pycharm": {
     "name": "#%%\n"
    }
   }
  },
  {
   "cell_type": "markdown",
   "source": [
    "The speed must be faster then last one but still less than 2pi"
   ],
   "metadata": {
    "collapsed": false
   }
  },
  {
   "cell_type": "code",
   "execution_count": 30,
   "outputs": [
    {
     "data": {
      "text/plain": "3.855403679362072"
     },
     "execution_count": 30,
     "metadata": {},
     "output_type": "execute_result"
    }
   ],
   "source": [
    "opt.brentq(f,2.36,6,xtol=10e-15)"
   ],
   "metadata": {
    "collapsed": false,
    "pycharm": {
     "name": "#%%\n"
    }
   }
  },
  {
   "cell_type": "markdown",
   "source": [
    "To slide 8 meters, $\\omega=3.855403679362072$ rad/s"
   ],
   "metadata": {
    "collapsed": false,
    "pycharm": {
     "name": "#%% md\n"
    }
   }
  },
  {
   "cell_type": "markdown",
   "source": [
    "# Problem 3 #"
   ],
   "metadata": {
    "collapsed": false
   }
  }
 ],
 "metadata": {
  "kernelspec": {
   "display_name": "Python 3",
   "language": "python",
   "name": "python3"
  },
  "language_info": {
   "codemirror_mode": {
    "name": "ipython",
    "version": 2
   },
   "file_extension": ".py",
   "mimetype": "text/x-python",
   "name": "python",
   "nbconvert_exporter": "python",
   "pygments_lexer": "ipython2",
   "version": "2.7.6"
  }
 },
 "nbformat": 4,
 "nbformat_minor": 0
}