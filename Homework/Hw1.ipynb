{
 "cells": [
  {
   "cell_type": "markdown",
   "source": [
    "Homework 1 Phys 250 Robin James rnj13"
   ],
   "metadata": {
    "collapsed": false
   }
  },
  {
   "cell_type": "markdown",
   "source": [
    "# Problem 1 #\n",
    "## Part i ##\n",
    "The perimeter of a square with sides S is 4S. For the propose problem we can write the sum of N squares as:\n",
    "$$ 4S + 2S+ S+ \\frac{S}{2}+... \\frac{4S}{2^{N-1}} = \\[ \\sum_{i=0}^{N-1} \\frac{4S}{2^{i}} \\] = 4S(\\frac{1-(.5S)^N}{1-.5S})$$\n",
    "As N -> $ \\infty $ the perimeter goes to  $$\\frac{4S}{1-\\frac{S}{2}} $$\n",
    "## Part ii ##\n",
    "The area of the square with sides S is $S^2$. The sum of the area is:\n",
    "$$ \\[ \\sum_{i=0}^{N-1} \\frac{S^2}{2^{i}} \\] $$"
   ],
   "metadata": {
    "collapsed": false
   }
  },
  {
   "cell_type": "code",
   "execution_count": null,
   "outputs": [],
   "source": [],
   "metadata": {
    "collapsed": false,
    "pycharm": {
     "name": "#%%\n"
    }
   }
  },
  {
   "cell_type": "markdown",
   "source": [
    "# Problem 2 #\n",
    "Set your coordinate \"a\" to be parallel to the incline of the plane. In the reference frame, the normal force and perpendicular part of the gravitational force. We only need to use Newton's law in the \"a\" direction\n",
    "$$ F_{net{= mgsin( \\theta) $$\n",
    "$$ a_a=gsin(\\theta) $$\n",
    "We can then plug back in to a kinematic equation to get x(t).\n",
    "$$ d= \\frac{1}{2}gsin(\\theta)t^2 $$\n",
    "## Part ii ##\n",
    "$$ 4= .5 g sin(\\theta) => \\theta = arcsin(\\frac{8}{g})= 0.955 rad  $$\n",
    "## Part iii ##\n",
    "$$ 0= \\frac{g}{4\\omega^2}(e^{\\omega}-e^{-\\omega}-2 sin(\\omega)) -4  $$\n",
    "To solve this I will use scipy root finder"
   ],
   "metadata": {
    "collapsed": false
   }
  },
  {
   "cell_type": "code",
   "execution_count": null,
   "outputs": [],
   "source": [
    "import numpy as np\n",
    "import scipy.optimize as opt\n",
    "\n",
    "def f(x):\n",
    "    return (2)"
   ],
   "metadata": {
    "collapsed": false,
    "pycharm": {
     "name": "#%%\n"
    }
   }
  },
  {
   "cell_type": "code",
   "execution_count": null,
   "outputs": [],
   "source": [],
   "metadata": {
    "collapsed": false,
    "pycharm": {
     "name": "#%%\n"
    }
   }
  }
 ],
 "metadata": {
  "kernelspec": {
   "display_name": "Python 3",
   "language": "python",
   "name": "python3"
  },
  "language_info": {
   "codemirror_mode": {
    "name": "ipython",
    "version": 2
   },
   "file_extension": ".py",
   "mimetype": "text/x-python",
   "name": "python",
   "nbconvert_exporter": "python",
   "pygments_lexer": "ipython2",
   "version": "2.7.6"
  }
 },
 "nbformat": 4,
 "nbformat_minor": 0
}