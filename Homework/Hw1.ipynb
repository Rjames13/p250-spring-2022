{
 "cells": [
  {
   "cell_type": "markdown",
   "metadata": {},
   "source": [
    "Homework 1 Phys 250 Robin James rnj13"
   ]
  },
  {
   "cell_type": "markdown",
   "metadata": {},
   "source": [
    "# Problem 1 #\n",
    "## Part i ##\n",
    "The perimeter of a square with sides S is 4S. For the propose problem we can write the sum of N squares as:\n",
    "$$ 4S + 2S+ S+ \\frac{S}{2}+... \\frac{4S}{2^{N-1}} = [ \\sum_{i=0}^{N-1} \\frac{4S}{2^{i}} ] = 4S(\\frac{1-(.5S)^N}{1-.5S})$$\n",
    "As N -> $ \\infty $ the perimeter goes to  $$p=\\frac{4S}{1-\\frac{S}{2}} $$\n",
    "## Part ii ##\n",
    "The area of the square with sides S is $S^2$. The sum of the area is:\n",
    "$$ [ \\sum_{i=0}^{N-1} \\frac{S^2}{2^{i}} ]= 2^{1-N}(2^N-1)S^2 $$\n",
    "As N -> $\\infty$:\n",
    "$$A=2S^2$$\n"
   ]
  },
  {
   "cell_type": "markdown",
   "metadata": {},
   "source": [
    "## Part iii ##\n",
    "$$\\epsilon = Real-Numerical $$\n",
    "For Part i,\n",
    "$$ Real-Numerical =\\frac{4S}{1-\\frac{S}{2}}-4S(\\frac{1-(.5S)^N}{1-.5S}) $$\n",
    "For part ii\n",
    "$$ Real-Numerical =2S^2-2^{1-N}(2^N-1)S^2 $$\n",
    "\n"
   ]
  },
  {
   "cell_type": "markdown",
   "metadata": {},
   "source": [
    "## Part iv ##\n",
    "For the perimeter:\n",
    "$$10^-7=\\frac{4S}{1-\\frac{S}{2}}-4S(\\frac{1-(.5S)^N}{1-.5S}) => $$When S =1, N is equal to 27 since it must be an integer\n",
    "\n",
    "For the area:\n",
    "$$ 10^7=2S^2-2^{1-N}(2^N-1)S^2 => \\frac{(-(ln(\\frac{1}{s^2})-7ln(5)-8ln(2)))} {ln(2)} $$\n",
    "N is equal to 25 when S =1\n",
    "\n",
    "The two answers do not agree for $\\epsilon = 10^{-7}$"
   ]
  },
  {
   "cell_type": "code",
   "execution_count": null,
   "metadata": {
    "collapsed": false,
    "jupyter": {
     "outputs_hidden": false
    },
    "pycharm": {
     "name": "#%%\n"
    }
   },
   "outputs": [],
   "source": []
  },
  {
   "cell_type": "markdown",
   "metadata": {},
   "source": [
    "# Problem 2 #\n",
    "Set your coordinate \"a\" to be parallel to the incline of the plane. In the reference frame, the normal force and perpendicular part of the gravitational force. We only need to use Newton's law in the \"a\" direction\n",
    "$$ F_{net{= mgsin( \\theta) $$\n",
    "$$ a_a=gsin(\\theta) $$\n",
    "We can then plug back in to a kinematic equation to get x(t).\n",
    "$$ d= \\frac{1}{2}gsin(\\theta)t^2 $$\n",
    "## Part ii ##\n",
    "$$ 4= .5 g sin(\\theta) => \\theta = arcsin(\\frac{8}{g})= 0.955 rad  $$\n",
    "## Part iii ##\n",
    "$$ 0= \\frac{g}{4\\omega^2}(e^{\\omega}-e^{-\\omega}-2 sin(\\omega)) -4  $$\n",
    "To solve this I will use scipy root finder"
   ]
  },
  {
   "cell_type": "code",
   "execution_count": 1,
   "metadata": {
    "collapsed": false,
    "jupyter": {
     "outputs_hidden": false
    },
    "pycharm": {
     "name": "#%%\n"
    }
   },
   "outputs": [],
   "source": [
    "import numpy as np\n",
    "import scipy.optimize as opt\n",
    "\n",
    "def f(w):\n",
    "    return (9.8/(4.*w**2.))*(np.exp(w)-np.exp(-1*w)-2.*np.sin(w))-4."
   ]
  },
  {
   "cell_type": "markdown",
   "metadata": {},
   "source": [
    "Now with the function defined, we need to find two numbers where we think the root is.Since we know $\\omega$ is an angular speed in rad/sec so we can make a guess that it will be greater than 0.01 but less than pi."
   ]
  },
  {
   "cell_type": "markdown",
   "metadata": {},
   "source": []
  },
  {
   "cell_type": "code",
   "execution_count": 2,
   "metadata": {
    "collapsed": false,
    "jupyter": {
     "outputs_hidden": false
    },
    "pycharm": {
     "name": "#%%\n"
    }
   },
   "outputs": [
    {
     "data": {
      "text/plain": [
       "2.3612521534858644"
      ]
     },
     "execution_count": 2,
     "metadata": {},
     "output_type": "execute_result"
    }
   ],
   "source": [
    "opt.brentq(f,0.01,3.1,xtol=10e-15)"
   ]
  },
  {
   "cell_type": "markdown",
   "metadata": {},
   "source": [
    "Running using brentq, we see that $\\omega = 2.3612521534858644$rad/s\n",
    "## Part iv ##\n",
    "Same proccess as last part."
   ]
  },
  {
   "cell_type": "code",
   "execution_count": 3,
   "metadata": {
    "collapsed": false,
    "jupyter": {
     "outputs_hidden": false
    },
    "pycharm": {
     "name": "#%%\n"
    }
   },
   "outputs": [],
   "source": [
    "\n",
    "def f(w):\n",
    "    return (9.8/(4.*w**2.))*(np.exp(w)-np.exp(-1*w)-2.*np.sin(w))-8.\n"
   ]
  },
  {
   "cell_type": "markdown",
   "metadata": {},
   "source": [
    "The speed must be faster then last one but still less than 2pi"
   ]
  },
  {
   "cell_type": "code",
   "execution_count": 4,
   "metadata": {
    "collapsed": false,
    "jupyter": {
     "outputs_hidden": false
    },
    "pycharm": {
     "name": "#%%\n"
    }
   },
   "outputs": [
    {
     "data": {
      "text/plain": [
       "3.855403679362072"
      ]
     },
     "execution_count": 4,
     "metadata": {},
     "output_type": "execute_result"
    }
   ],
   "source": [
    "opt.brentq(f,2.36,6,xtol=10e-15)"
   ]
  },
  {
   "cell_type": "markdown",
   "metadata": {
    "pycharm": {
     "name": "#%% md\n"
    }
   },
   "source": [
    "To slide 8 meters, $\\omega=3.855403679362072$ rad/s"
   ]
  },
  {
   "cell_type": "markdown",
   "metadata": {
    "pycharm": {
     "name": "#%% md\n"
    }
   },
   "source": [
    "# Problem 3 #\n",
    "We first subsite the two equations into each other.\n",
    "$$x_{n+1}=2a-x_n$$\n",
    "$$ \\frac{f(x)}{x_n-x{n+1}}=f'(x)$$\n",
    "$$ \\frac{f(x)}{x_n-x{n+1}}=\\frac{dy}{dx}$$\n",
    "$$ \\frac{f(x)}{x_n-(2a-x_n)}=\\frac{dy}{dx}$$\n",
    "$$ \\frac{dx}{2(x_n-a)}=\\frac{dy}{f(x)}$$\n",
    "$$ .5ln|x-a|=ln|f(x)|$$\n",
    "When then can intrate both sides\n",
    "$$A\\sqrt{|x-a|}=f(x) $$\n",
    "\n",
    "Note: I cannot figure out where the sign(x-a) term comes from\n",
    "\n",
    "Part 2 and 3 on paper because mostly scratch work but in summary:\n",
    "Part 2 converges in one iteration with the root at 2.\n",
    "Part 3 starts off looking like it will not converge but then changes at the fifth iteration and starts approaching 2."
   ]
  },
  {
   "cell_type": "code",
   "execution_count": null,
   "metadata": {
    "collapsed": false,
    "jupyter": {
     "outputs_hidden": false
    },
    "pycharm": {
     "name": "#%%\n"
    }
   },
   "outputs": [],
   "source": []
  }
 ],
 "metadata": {
  "kernelspec": {
   "display_name": "Python 3 (ipykernel)",
   "language": "python",
   "name": "python3"
  },
  "language_info": {
   "codemirror_mode": {
    "name": "ipython",
    "version": 3
   },
   "file_extension": ".py",
   "mimetype": "text/x-python",
   "name": "python",
   "nbconvert_exporter": "python",
   "pygments_lexer": "ipython3",
   "version": "3.8.10"
  }
 },
 "nbformat": 4,
 "nbformat_minor": 4
}
