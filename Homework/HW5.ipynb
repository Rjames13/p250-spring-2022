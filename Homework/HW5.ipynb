{
 "cells": [
  {
   "cell_type": "markdown",
   "source": [
    "# Homework 5 #\n",
    "### Robin James ###\n",
    "## Problem 1 ##\n",
    "### Part i ###\n",
    "Center Diffrencing:\n",
    "$$ f'(y) = \\frac{y(t+\\Delta t)-y(t- \\Delta t)}{2\\Delta t} $$\n",
    "\n",
    "We are given $\\frac{dy}{dt}=-f(y(t),t) $ so we can say\n",
    "$$ \\frac{y(t+\\Delta t)-y(t-\\Delta t)}{2\\Delta t}= -f(y,t) $$\n",
    "Solving for $y(t+\\Delta t) $\n",
    "$$y(t+ \\Delta t)= -2\\Delta tf(y,t)+y(t-\\Delta t) $$\n",
    "$$y_{n+1}= y_{n-1}-2\\Delta tf(y_n,t_n) $$"
   ],
   "metadata": {
    "collapsed": false
   }
  },
  {
   "cell_type": "markdown",
   "source": [
    " ### Part ii ###\n",
    "$$y_{n+1}= y_{n-1}-2\\Delta tf(y_n,t_n) $$\n",
    "Substitute $y_n=\\delta y_n+ y_n^{true} $\n",
    "$$\\delta y_{n+1}+ y_{n+1}^{true}= \\delta y_{n-1}+ y_{n-1}^{true}-2\\Delta tf(\\delta y_n+ y_n^{true},t_n) $$\n",
    "For small values of $\\delta y_n $ we can taylor expand out $f(y_n,t_n)$\n",
    "$$\\delta y_{n+1}+ y_{n+1}^{true}= \\delta y_{n-1}+ y_{n-1}^{true}-2\\Delta tf(y^{true}_n,t_n)- 2\\Delta t \\frac { \\partial f}{ \\partial n} |_n \\delta y_n) $$\n",
    "We then assume that the leap fog step works for $y^{true}$ letting:\n",
    " $$\\delta y_{n+1}= \\delta y_{n-1}- 2\\Delta t \\frac { \\partial f}{ \\partial n} |_n \\delta y_n $$\n",
    " or\n",
    " $$\\delta y_{n+1}=\\beta \\delta y_{n-1}  $$\n",
    " where\n",
    " $$ \\beta = (1- 2\\Delta t \\frac { \\partial f}{ \\partial n} |_n ) $$"
   ],
   "metadata": {
    "collapsed": false
   }
  },
  {
   "cell_type": "markdown",
   "source": [
    "### Part iii ###\n",
    "To be stable $ |\\beta| \\le 1$\n",
    "$$ -1 \\le (1- 2\\Delta t \\frac { \\partial f}{ \\partial n} |_n ) \\le 1 $$\n",
    "\n",
    "This gives\n",
    "$$ 2 \\ge 2\\Delta t \\frac { \\partial f}{ \\partial n} |_n $$\n",
    "So leap frog is stable if $ \\Delta t \\le \\frac{1}{\\frac { \\partial f}{ \\partial n} |_n} $\n",
    "## Problem 2 ##"
   ],
   "metadata": {
    "collapsed": false
   }
  },
  {
   "cell_type": "code",
   "execution_count": 3,
   "outputs": [],
   "source": [
    "import numpy as np\n",
    "import matplotlib.pyplot as plt\n",
    "import matplotlib as mpl\n",
    "mpl.rc('xtick', direction='in', top=True)\n",
    "mpl.rc('ytick', direction='in', right=True)\n",
    "mpl.rc('xtick.minor', visible=True)\n",
    "mpl.rc('ytick.minor', visible=True)\n",
    "rng= np.random.default_rng()"
   ],
   "metadata": {
    "collapsed": false,
    "pycharm": {
     "name": "#%%\n"
    }
   }
  },
  {
   "cell_type": "code",
   "execution_count": 35,
   "metadata": {
    "collapsed": true
   },
   "outputs": [],
   "source": [
    "def rk2(f, y0, t, args=(),):\n",
    "    \"\"\"\n",
    "    valuates a first order differential equation using the second order Runge-Kutta algorithm\n",
    "    :param f: function that can be called f(t,y,*args) and is a first order  differential equation\n",
    "    :param y0: initial value\n",
    "    :param t: array of times\n",
    "    :param args: extra argument for f\n",
    "    :return: array of y values\n",
    "    \"\"\"\n",
    "\n",
    "    y =np.zeros_like(t)\n",
    "\n",
    "    y[0]=y0\n",
    "    for i in range(len(t) - 1):\n",
    "        deltat = t[i+1] - t[i]\n",
    "        k1 = f(y[i], t[i], *args)*deltat\n",
    "        k2 = f(y[i] + k1 * deltat / 2., t[i] + deltat / 2., *args)*deltat\n",
    "        y[i+1]=k2+y[i]\n",
    "    return y\n",
    "\n",
    "\n",
    "\n",
    "\n",
    "def rk4(f,y0,t,args=()):\n",
    "    \"\"\"\n",
    "    valuates a first order differential equation using the forth order Runge-Kutta algorithm\n",
    "    :param f: function that can be called f(t,y,*args) and is a first order  differential equation\n",
    "    :param y0: initial value\n",
    "    :param t: array of times\n",
    "    :param args: extra argument for f\n",
    "    :return: array of y values\n",
    "    \"\"\"\n",
    "\n",
    "    y = np.zeros_like(t)\n",
    "    y[0] = y0\n",
    "    for i in range(len(t) - 1):\n",
    "        deltat = t[i+1] - t[i]\n",
    "        k1 = f(y[i], t[i], *args) *deltat\n",
    "        k2 = f(y[i] + k1  / 2., t[i] + deltat / 2., *args) *deltat\n",
    "        k3 = f(y[i] + k2  / 2., t[i] + deltat / 2., *args)*deltat\n",
    "        k4 = f(y[i] + k3 , t[i] + deltat, *args)* deltat\n",
    "        y[i+1] = y[i] +  (k1 + 2*k2 + 2*k3 + k4)/6\n",
    "    return y"
   ]
  },
  {
   "cell_type": "markdown",
   "source": [
    "## Problem 3 ##\n",
    "### Part i ###\n",
    "$$\\frac{dy}{dt}+12y=6t^2-t $$\n",
    "Solve this equation as a linear equation, first define $\\mu(t)$ as\n",
    "    $$\\mu(t) = e^{12t} $$\n",
    "Multiply both sides by $\\mu(t)$\n",
    "$$e^{12t}\\frac{dy}{dt}+12e^{12t}y=e^{12t}(6t^2-t) $$\n",
    "$$e^{12t}\\frac{dy}{dt}+\\frac{d}{dt}e^{12t}y=-e^{12t}(-6t^2+t) $$\n",
    "$$\\frac{d}{dt}(e^{12t}y(t))=-e^{12t}(-6t^2+t) $$\n",
    "$$\\int \\frac{d}{dt}(e^{12t}y(t)) dt=\\int -e^{12t}(-6t^2+t) dt $$\n",
    "Solve and divide by $\\mu(t)$ to get:\n",
    "$$y(t)=\\frac{t^2}{2}-\\frac{t}{6}+ce^{-12t}+\\frac{1}{72} $$\n",
    "Then we must solve for c by using the inital condition $y(0)=\\frac{1}{24}$\n",
    "$$\\frac{1}{24}=c+\\frac{1}{72} $$\n",
    "$$ c= \\frac{1}{36} $$\n",
    "### Part ii/iii ##"
   ],
   "metadata": {
    "collapsed": false
   }
  },
  {
   "cell_type": "code",
   "execution_count": 90,
   "outputs": [
    {
     "name": "stdout",
     "output_type": "stream",
     "text": [
      "At t=0.2s, the true value is 0.0030754987024836835, the rk2 value is 0.0028250802439662203, and rk4 value is 0.003075500267447451. This means that there is a 2.5041845851746323e-04 error for rk2 and a 1.5649637675162198e-09 error for rk4.\n"
     ]
    },
    {
     "data": {
      "text/plain": "<Figure size 432x288 with 2 Axes>",
      "image/png": "[encoded data removed]"
     },
     "metadata": {
      "needs_background": "light"
     },
     "output_type": "display_data"
    }
   ],
   "source": [
    "def diffeq(y,t,args=()):\n",
    "    return 6*t**2-t-12*y\n",
    "def f(t):\n",
    "    return t**2/2-t/6+(1/36)*np.exp(-12*t)+1/72\n",
    "t=np.arange(0,0.2+0.005,0.005)\n",
    "y0=1/24\n",
    "r2=rk2(diffeq,y0,t)\n",
    "r4=rk4(diffeq,y0,t)\n",
    "fig= plt.figure()\n",
    "ax = fig.add_subplot(111)\n",
    "ax.plot(t,f(t),'k', label='True')\n",
    "ax.plot(t,r2, label='r2k')\n",
    "ax.plot(t,r4,'r--', label='r4k')\n",
    "ax1=fig.add_subplot(2,3,3)\n",
    "ax1.plot(t,f(t),'k', label='True')\n",
    "ax1.plot(t,r2, label='r2k')\n",
    "ax1.plot(t,r4,'r--', label='r4k')\n",
    "ax1.set_xlim(0.180, 0.2)\n",
    "ax1.set_ylim(0.002,0.004)\n",
    "\n",
    "ax.set_title(\"Runge-Kutta algorithm compared to true value\")\n",
    "\n",
    "ax.legend(loc='lower left')\n",
    "print(f'At t=0.2s, the true value is {f(0.2)}, the rk2 value is {r2[-1]}, and rk4 value is {r4[-1]}. This means that there is a {np.format_float_scientific(np.abs(r2[-1]-f(.2)))} error for rk2 and a {np.format_float_scientific(np.abs(r4[-1]-f(.2)))} error for rk4.')"
   ],
   "metadata": {
    "collapsed": false,
    "pycharm": {
     "name": "#%%\n"
    }
   }
  },
  {
   "cell_type": "code",
   "execution_count": null,
   "outputs": [],
   "source": [],
   "metadata": {
    "collapsed": false,
    "pycharm": {
     "name": "#%%\n"
    }
   }
  }
 ],
 "metadata": {
  "kernelspec": {
   "display_name": "Python 3",
   "language": "python",
   "name": "python3"
  },
  "language_info": {
   "codemirror_mode": {
    "name": "ipython",
    "version": 2
   },
   "file_extension": ".py",
   "mimetype": "text/x-python",
   "name": "python",
   "nbconvert_exporter": "python",
   "pygments_lexer": "ipython2",
   "version": "2.7.6"
  }
 },
 "nbformat": 4,
 "nbformat_minor": 0
}