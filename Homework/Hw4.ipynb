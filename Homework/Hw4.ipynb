{
 "cells": [
  {
   "cell_type": "markdown",
   "metadata": {},
   "source": [
    "# Homework 4 #\n",
    "### Robin James rnj13 ###\n",
    "## Problem 1 ##"
   ]
  },
  {
   "cell_type": "code",
   "execution_count": 9,
   "metadata": {
    "pycharm": {
     "name": "#%%\n"
    }
   },
   "outputs": [],
   "source": [
    "import numpy as np"
   ]
  },
  {
   "cell_type": "markdown",
   "metadata": {},
   "source": [
    "Simple pendulum period:\n",
    "$$ T_0= 2 \\pi \\sqrt{\\frac{l}{g}} $$\n",
    "\n",
    "Energy of a pendulum:\n",
    "$$ E = \\frac{1}{2} ml^{2}(\\frac{d\\theta}{dt})^{2}+mgl(1-cos \\theta) $$\n",
    "Solve for $ T(\\theta_m) $\n",
    "$$ E-mgl(1-cos \\theta) = \\frac{1}{2} ml^{2}(\\frac{d\\theta}{dt})^{2} $$\n",
    "When the pendulum is at its highest $E=U= mgl(1-cos(\\theta_m)) $\n",
    "$$ mgl(1-cos(\\theta_m))-mgl(1-cos \\theta) = \\frac{1}{2} ml^{2}(\\frac{d\\theta}{dt})^{2} $$\n",
    "$$ g(cos( \\theta)-cos(\\theta_m)) = \\frac{1}{2} l(\\frac{d\\theta}{dt})^{2} $$\n",
    "$$ 2g(cos( \\theta)-cos(\\theta_m)) = l(\\frac{d\\theta}{dt})^{2} $$\n",
    "$$ \\sqrt{\\frac{2g}{l}(cos( \\theta)-cos(\\theta_m))}= \\frac{d\\theta}{dt} $$"
   ]
  },
  {
   "cell_type": "markdown",
   "metadata": {},
   "source": [
    "$$\\int_{0}^{\\theta_m} \\sqrt{\\frac{2g}{l}(cos( \\theta)-cos(\\theta_m))}= \\theta $$\n",
    "$$\\int_{0}^{\\theta_m} \\frac{1}{\\sqrt{\\frac{2g}{l}(cos( \\theta)-cos(\\theta_m))}}= \\theta $$\n",
    "$$\\frac{2T_o}{\\sqrt{2}\\pi}\\int_{0}^{\\theta_m} \\frac{1}{\\sqrt{(cos( \\theta)-cos(\\theta_m))}}= T(\\theta_m) $$\n",
    "$$\\frac{\\sqrt{2}}{\\pi}\\int_{0}^{\\theta_m} \\frac{1}{\\sqrt{(cos( \\theta)-cos(\\theta_m))}}= \\frac{T(\\theta_m)}{T_o} $$"
   ]
  },
  {
   "cell_type": "markdown",
   "metadata": {},
   "source": [
    "## Part II ##\n",
    "$$ \\frac{T(\\theta_m)}{T_0}=\\frac{\\sqrt{2}}{\\pi}\\int_{0}^{\\theta_m}\\frac{d\\theta}{\\sqrt{cos \\theta - cos \\theta_m} $$\n",
    "$$ \\frac{T(\\theta_m)}{T_0}=\\frac{\\sqrt{2}}{\\pi}\\int_{0}^{\\theta_m}\\frac{d\\theta}{\\sqrt{(1-2sin^2(\\frac{\\theta}{2}) - (1-2sin^2(\\frac{\\theta_m}{2}))} $$\n",
    "$$ \\frac{T(\\theta_m)}{T_0}=\\frac{\\sqrt{2}}{\\pi}\\int_{0}^{\\theta_m}\\frac{d\\theta}{\\sqrt{ 2sin^2(\\frac{\\theta_m}{2})-2sin^2(\\frac{\\theta}{2}}) $$\n",
    "$$ \\frac{\\theta_m}{T_0}=\\frac{\\sqrt{2}}{\\pi}\\int_{0}^{\\theta_m}\\frac{d\\theta}{sin(\\theta_m/2)\\sqrt{ 1-\\frac{sin^2(\\theta/2)}{sin^2(\\theta_m/2)}} $$\n"
   ]
  },
  {
   "cell_type": "markdown",
   "metadata": {},
   "source": [
    "## Part iii ##\n",
    "$$ d\\theta=2cos\\psi d\\psi\\frac{sin(\\theta_m/2)}{\\sqrt{1-sin^2\\psi sin^2(\\theta_m/2)}} $$\n",
    "$$ \\frac{\\theta_m}{T_0}=\\frac{\\sqrt{2}}{\\pi}\\int_{0}^{\\theta_m}\\frac{2cos\\psi d\\psi\\frac{sin(\\theta_m/2)}{\\sqrt{1-sin^2\\psi sin^2(\\theta_m/2)}}}{sin(\\theta_m/2)\\sqrt{ 1-sin^2\\psi} $$\n",
    "$$ \\frac{\\theta_m}{T_0}=\\frac{\\sqrt{2}}{\\pi}\\int_{0}^{\\theta_m}d\\psi\\frac{1}{\\sqrt{1-sin^2\\psi sin^2(\\theta_m/2)}} $$"
   ]
  },
  {
   "cell_type": "markdown",
   "metadata": {},
   "source": [
    "## Part iv ##\n",
    "When $\\theta_m = \\pi$ the pendulum is straight up so the torque being applied in zero and no angular movement will happen."
   ]
  },
  {
   "cell_type": "markdown",
   "metadata": {},
   "source": [
    "## Part V ##\n",
    "$$ \\frac{T(\\theta_m)}{T_0}=\\frac{2}{\\pi}\\int_{0}^{\\frac{\\pi}{2}} \\frac{d\\psi}{\\sqrt{1-sin^2(\\theta_m/2)sin^2(\\psi)} $$\n",
    "$$ x= sin(\\theta_m/2)sin(\\psi) $$\n",
    "$$ \\frac{T(\\theta_m)}{T_0}=\\frac{2}{\\pi}\\int_{0}^{\\frac{\\pi}{2}} \\frac{d\\psi}{\\sqrt{1-x^2} $$\n",
    "Taylor expand around x=0\n",
    "$$ \\frac{T(\\theta_m)}{T_0}=\\frac{2}{\\pi}\\int_{0}^{\\frac{\\pi}{2}} (1+\\frac{x^2}{2}+\\frac{3x^4}{8}+\\frac{5x^6}{16}+\\frac{35x^8}{128})d\\psi $$\n",
    "\n",
    "$$ \\frac{T(\\theta_m)}{T_0}=\\frac{2}{\\pi}\\int_{0}^{\\frac{\\pi}{2}} (1+\\frac{(sin(\\theta_m/2)sin(\\psi))^2}{2}+\\frac{3(sin(\\theta_m/2)sin(\\psi))^4}{8}+\\frac{5(sin(\\theta_m/2)sin(\\psi))^6}{16}+\\frac{35(sin(\\theta_m/2)sin(\\psi))^8}{128})d\\psi $$"
   ]
  },
  {
   "cell_type": "markdown",
   "metadata": {},
   "source": [
    "$$ a_0= \\frac{2}{\\pi} \\pi/2 , a_2 = \\frac{2}{\\pi} \\frac{\\psi -sin\\psi cos \\psi}{4}|_0^{\\pi/2}, a_4= \\frac{2}{\\pi} \\frac{36\\psi -24sin 2\\psi + 3sin4 \\psi}{32(8)}|_0^{\\pi/2}  $$\n",
    "$$a_6=\\frac{2}{\\pi} \\frac{60(5)\\psi -45(5)sin 2\\psi + 45sin4 \\psi-5sin6 \\psi}{192(16)}|_0^{\\pi/2} $$\n",
    "$$ a_8 =\\frac{2}{\\pi} \\frac{35(840\\psi -672 sin 2\\psi + 168 sin(4\\psi)-32 sin(6\\psi)+3 sin(8\\psi)}{128(3072)} $$\n",
    "for $\\psi =\\frac{\\pi}{2} $\n"
   ]
  },
  {
   "cell_type": "markdown",
   "metadata": {},
   "source": []
  },
  {
   "cell_type": "code",
   "execution_count": 10,
   "metadata": {
    "pycharm": {
     "name": "#%%\n"
    }
   },
   "outputs": [
    {
     "name": "stdout",
     "output_type": "stream",
     "text": [
      "a_2 is 0.25\n",
      "a_4 is 0.140625\n",
      "a_6 is 0.09765625\n",
      "a_8 is 0.07476806640625001\n"
     ]
    }
   ],
   "source": [
    "\n",
    "\n",
    "a_0=np.pi/2 * (2/np.pi)\n",
    "a_2= np.pi/2/4 * (2/np.pi)\n",
    "a_4 = (36*np.pi/2-24*np.sin(2* np.pi/2)+3*np.sin(4*np.pi/2))/(32*8) * (2/np.pi)\n",
    "a_6 =(60*5*np.pi/2-45*5*np.sin(2*np.pi/2)+45*np.sin(4*np.pi/2)-5*np.sin(6*np.pi/2))/(192*16) * (2/np.pi)\n",
    "a_8 = (2/np.pi) * (35 * (840 * np.pi / 2 - 672 * np.sin(2 * np.pi / 2)+168*np.sin(4* np.pi/2)-32*np.sin(6*np.pi/2)+3 *np.sin(8*np.pi/2))) / (128 * 3072)\n",
    "print(f'a_2 is {a_2}')\n",
    "print(f'a_4 is {a_4}')\n",
    "print(f'a_6 is {a_6}')\n",
    "print(f'a_8 is {a_8}')"
   ]
  },
  {
   "cell_type": "markdown",
   "metadata": {
    "pycharm": {
     "name": "#%% md\n"
    }
   },
   "source": [
    "## Problem 2 ##\n",
    "### Part 1 ###\n",
    "Newton-Cotes formula for order n:\n",
    "$$ \\int^b_a f(x) dx \\approx \\Sigma^n_{k=0}f(x_k)\\int^b_a L_k(x) dx = \\Sigma^n_{k=0}f(x_k) w_k $$\n",
    "with $x_k =a+(k-1)\\frac{b-a}{n-1} $\n",
    "\n",
    "Let n=2\n",
    "$$ \\int^b_a f(x) dx \\approx w_1f(a)+ w_2f(\\frac{a+b}{2})+w_3f(b) $$\n",
    "Let $x=\\frac{a+b}{2}+v$ and $h=\\frac{b-a}{2}$\n",
    "\n",
    "$$ \\int^b_a F(v) dv \\approx w_1F(-h)+w_2F(0)+w_3F(h)$$\n",
    "\n",
    "$$ F = 1 => 2h=w_1+w_2+w_3 $$\n",
    "$$ F= v => 0 = -hw_1+hw_3 => w_1 =w_3 $$\n",
    "$$ F= v^2 => \\frac{2}{3}h^3 w_1 =w_3=\\frac{h}{3} $$\n",
    "This means $w_{2}=\\frac{4}{3}h $\n",
    "Pluging back in\n",
    "$$ \\int^b_a F(v) dv \\approx \\frac{h}{3} F(-h)+\\frac{4}{3}hF(0)+\\frac{h}{3} F(h) $$\n",
    "$$ \\int^b_a f(x) dx \\approx \\frac{b-a}{6}[f(a)+ 4f(\\frac{a+b}{2})+f(b)] $$\n"
   ]
  },
  {
   "cell_type": "markdown",
   "metadata": {},
   "source": [
    "### Part ii ###\n",
    "$$ S_1=(f_0+4f_1+f_2), S_2=(f_2+4f_3+f_4), S_{N/2}=(f_{N-2}+4f_{N-1}+f_{N}) $$\n",
    "$$ \\int^b_a f(x) dx \\approx \\frac{h}{3}(f_0+4f_1+2f_2+4f_3+2f_4+...+f_N) $$\n"
   ]
  },
  {
   "cell_type": "markdown",
   "metadata": {},
   "source": [
    "### part iii ###\n",
    "True value is\n",
    "$$ x(ln(x)-1)|_{1/4}^4=2.14175 $$\n",
    "Trapazoid:\n",
    "$$ \\int^b_a f(x) dx \\approx \\frac{b-a}{2}(f(a)+f(b)=> $$\n",
    "$$ \\int^4_{1/4} ln(x) dx \\approx= \\frac{4-1/4}{2}(ln(1/4)+ln(4)=0 $$\n",
    "Absolute error : 2.14175\n",
    "Simpsion's rule\n",
    "\n",
    "$$ \\int^4_{1/4} ln(x) dx \\approx 15/24[ln(1/4)+ 4ln(17/8)+ln(4)]= $$\n",
    "$$ \\int^4_{1/4} ln(x) dx \\approx 15/24[ 4ln(17/8)] \\approx 1.884429 $$\n",
    "Absolute error = 0.2573"
   ]
  },
  {
   "cell_type": "markdown",
   "metadata": {},
   "source": [
    "## Part iv ##\n",
    "Trapezoid:\n",
    "$$ \\int^b_a f(x) dx \\approx  \\frac{b-a}{2n}(f(a)+2f(\\frac{b+a}{2})+f(b)) $$\n",
    "$$ \\frac{4-1/4}{4}(ln(1/4)+2ln((4-1/4)/2)+ln(4))= \\frac{15}{16}(2ln(17/8)) \\approx 1.413 $$\n",
    "Absolute error = 0.7284\n",
    "Simpson's:\n",
    "$$ \\int^b_a f(x) dx \\approx \\frac{5}{16}(ln(1/4)+4ln(19/16) +2ln(17/8)+ 4ln(49/16)+ln(4)) = \\frac{5}{16}(4ln(19/16) +2ln(17/8)+ 4ln(49/16))=2.08496\n",
    "$$\n",
    "Absolute error= 0.05679"
   ]
  },
  {
   "cell_type": "code",
   "execution_count": 10,
   "metadata": {
    "pycharm": {
     "name": "#%%\n"
    }
   },
   "outputs": [],
   "source": []
  }
 ],
 "metadata": {
  "kernelspec": {
   "display_name": "Python 3 (ipykernel)",
   "language": "python",
   "name": "python3"
  },
  "language_info": {
   "codemirror_mode": {
    "name": "ipython",
    "version": 3
   },
   "file_extension": ".py",
   "mimetype": "text/x-python",
   "name": "python",
   "nbconvert_exporter": "python",
   "pygments_lexer": "ipython3",
   "version": "3.8.10"
  }
 },
 "nbformat": 4,
 "nbformat_minor": 1
}