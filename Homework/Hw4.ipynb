{
 "cells": [
  {
   "cell_type": "markdown",
   "source": [
    "# Homework 4 #\n",
    "### Robin James rnj13 ###\n",
    "## Problem 1 ##\n",
    "Simple pendulum period:\n",
    "$$ T_0= 2 \\pi \\sqrt{\\frac{l}{g}} $$\n",
    "\n",
    "Energy of a pendulum:\n",
    "$$ E = \\frac{1}{2} ml^{2}(\\frac{d\\theta}{dt})^{2}+mgl(1-cos \\theta) $$\n",
    "Solve for $ T(\\theta_m) $\n",
    "$$ E-mgl(1-cos \\theta) = \\frac{1}{2} ml^{2}(\\frac{d\\theta}{dt})^{2} $$\n",
    "When the pendulum is at its highest $E=U= mgl(1-cos(\\theta_m)) $\n",
    "$$ mgl(1-cos(\\theta_m))-mgl(1-cos \\theta) = \\frac{1}{2} ml^{2}(\\frac{d\\theta}{dt})^{2} $$\n",
    "$$ g(cos( \\theta)-cos(\\theta_m)) = \\frac{1}{2} l(\\frac{d\\theta}{dt})^{2} $$\n",
    "$$ 2g(cos( \\theta)-cos(\\theta_m)) = l(\\frac{d\\theta}{dt})^{2} $$\n",
    "$$ \\sqrt{\\frac{2g}{l}(cos( \\theta)-cos(\\theta_m))}= \\frac{d\\theta}{dt} $$"
   ],
   "metadata": {
    "collapsed": false
   }
  },
  {
   "cell_type": "markdown",
   "source": [
    "$$\\int_{0}^{\\theta_m} \\sqrt{\\frac{2g}{l}(cos( \\theta)-cos(\\theta_m))}= \\theta $$\n",
    "$$\\int_{0}^{\\theta_m} \\frac{1}{\\sqrt{\\frac{2g}{l}(cos( \\theta)-cos(\\theta_m))}}= \\theta $$\n",
    "$$\\frac{2T_o}{\\sqrt{2}\\pi}\\int_{0}^{\\theta_m} \\frac{1}{\\sqrt{(cos( \\theta)-cos(\\theta_m))}}= T(\\theta_m) $$\n",
    "$$\\frac{\\sqrt{2}}{\\pi}\\int_{0}^{\\theta_m} \\frac{1}{\\sqrt{(cos( \\theta)-cos(\\theta_m))}}= \\frac{T(\\theta_m)}{T_o} $$"
   ],
   "metadata": {
    "collapsed": false
   }
  },
  {
   "cell_type": "markdown",
   "source": [
    "## Part II ##\n",
    "$$ \\frac{T(\\theta_m)}{T_0}=\\frac{\\sqrt{2}}{\\pi}\\int_{0}^{\\theta_m}\\frac{d\\theta}{\\sqrt{cos \\theta - cos \\theta_m} $$\n",
    "$$ \\frac{T(\\theta_m)}{T_0}=\\frac{\\sqrt{2}}{\\pi}\\int_{0}^{\\theta_m}\\frac{d\\theta}{\\sqrt{(1-2sin^2(\\frac{\\theta}{2}) - (1-2sin^2(\\frac{\\theta_m}{2})} $$\n",
    "$$ \\frac{T(\\theta_m)}{T_0}=\\frac{\\sqrt{2}}{\\pi}\\int_{0}^{\\theta_m}\\frac{d\\theta}{\\sqrt{ 2sin^2(\\frac{\\theta_m}{2})-2sin^2(\\frac{\\theta}{2}}) $$\n"
   ],
   "metadata": {
    "collapsed": false
   }
  },
  {
   "cell_type": "markdown",
   "source": [
    "$$ \\frac{\\theta_m}{T_0}=\\frac{\\sqrt{2}}{\\pi}\\int_{0}^{\\theta_m}\\frac{d\\theta}{\\sqrt{ 2(sin^2(\\frac{\\theta_m}{2})-(\\frac{sin(\\psi)}{sin(\\frac{\\theta_m}{2})})^2)}} $$\n",
    "$$ \\frac{\\theta_m}{T_0}=\\frac{1}{\\pi}\\int_{0}^{\\theta_m}\\frac{d\\theta}{\\sqrt{ sin^2(\\frac{\\theta_m}{2})-sin^2(\\frac{\\theta}{2}}) $$"
   ],
   "metadata": {
    "collapsed": false
   }
  },
  {
   "cell_type": "markdown",
   "source": [
    "## Part iii ###\n"
   ],
   "metadata": {
    "collapsed": false
   }
  },
  {
   "cell_type": "code",
   "execution_count": null,
   "metadata": {
    "collapsed": true
   },
   "outputs": [],
   "source": []
  },
  {
   "cell_type": "code",
   "execution_count": null,
   "outputs": [],
   "source": [],
   "metadata": {
    "collapsed": false,
    "pycharm": {
     "name": "#%%\n"
    }
   }
  }
 ],
 "metadata": {
  "kernelspec": {
   "display_name": "Python 3",
   "language": "python",
   "name": "python3"
  },
  "language_info": {
   "codemirror_mode": {
    "name": "ipython",
    "version": 2
   },
   "file_extension": ".py",
   "mimetype": "text/x-python",
   "name": "python",
   "nbconvert_exporter": "python",
   "pygments_lexer": "ipython2",
   "version": "2.7.6"
  }
 },
 "nbformat": 4,
 "nbformat_minor": 0
}