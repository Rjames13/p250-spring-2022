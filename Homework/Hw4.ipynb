{
 "cells": [
  {
   "cell_type": "markdown",
   "source": [
    "# Homework 4 #\n",
    "### Robin James rnj13 ###\n",
    "## Problem 1 ##"
   ],
   "metadata": {
    "collapsed": false
   }
  },
  {
   "cell_type": "code",
   "execution_count": 2,
   "outputs": [],
   "source": [
    "import numpy as np"
   ],
   "metadata": {
    "collapsed": false,
    "pycharm": {
     "name": "#%%\n"
    }
   }
  },
  {
   "cell_type": "markdown",
   "source": [
    "Simple pendulum period:\n",
    "$$ T_0= 2 \\pi \\sqrt{\\frac{l}{g}} $$\n",
    "\n",
    "Energy of a pendulum:\n",
    "$$ E = \\frac{1}{2} ml^{2}(\\frac{d\\theta}{dt})^{2}+mgl(1-cos \\theta) $$\n",
    "Solve for $ T(\\theta_m) $\n",
    "$$ E-mgl(1-cos \\theta) = \\frac{1}{2} ml^{2}(\\frac{d\\theta}{dt})^{2} $$\n",
    "When the pendulum is at its highest $E=U= mgl(1-cos(\\theta_m)) $\n",
    "$$ mgl(1-cos(\\theta_m))-mgl(1-cos \\theta) = \\frac{1}{2} ml^{2}(\\frac{d\\theta}{dt})^{2} $$\n",
    "$$ g(cos( \\theta)-cos(\\theta_m)) = \\frac{1}{2} l(\\frac{d\\theta}{dt})^{2} $$\n",
    "$$ 2g(cos( \\theta)-cos(\\theta_m)) = l(\\frac{d\\theta}{dt})^{2} $$\n",
    "$$ \\sqrt{\\frac{2g}{l}(cos( \\theta)-cos(\\theta_m))}= \\frac{d\\theta}{dt} $$"
   ],
   "metadata": {
    "collapsed": false
   }
  },
  {
   "cell_type": "markdown",
   "source": [
    "$$\\int_{0}^{\\theta_m} \\sqrt{\\frac{2g}{l}(cos( \\theta)-cos(\\theta_m))}= \\theta $$\n",
    "$$\\int_{0}^{\\theta_m} \\frac{1}{\\sqrt{\\frac{2g}{l}(cos( \\theta)-cos(\\theta_m))}}= \\theta $$\n",
    "$$\\frac{2T_o}{\\sqrt{2}\\pi}\\int_{0}^{\\theta_m} \\frac{1}{\\sqrt{(cos( \\theta)-cos(\\theta_m))}}= T(\\theta_m) $$\n",
    "$$\\frac{\\sqrt{2}}{\\pi}\\int_{0}^{\\theta_m} \\frac{1}{\\sqrt{(cos( \\theta)-cos(\\theta_m))}}= \\frac{T(\\theta_m)}{T_o} $$"
   ],
   "metadata": {
    "collapsed": false
   }
  },
  {
   "cell_type": "markdown",
   "source": [
    "## Part II ##\n",
    "$$ \\frac{T(\\theta_m)}{T_0}=\\frac{\\sqrt{2}}{\\pi}\\int_{0}^{\\theta_m}\\frac{d\\theta}{\\sqrt{cos \\theta - cos \\theta_m} $$\n",
    "$$ \\frac{T(\\theta_m)}{T_0}=\\frac{\\sqrt{2}}{\\pi}\\int_{0}^{\\theta_m}\\frac{d\\theta}{\\sqrt{(1-2sin^2(\\frac{\\theta}{2}) - (1-2sin^2(\\frac{\\theta_m}{2})} $$\n",
    "$$ \\frac{T(\\theta_m)}{T_0}=\\frac{\\sqrt{2}}{\\pi}\\int_{0}^{\\theta_m}\\frac{d\\theta}{\\sqrt{ 2sin^2(\\frac{\\theta_m}{2})-2sin^2(\\frac{\\theta}{2}}) $$\n"
   ],
   "metadata": {
    "collapsed": false
   }
  },
  {
   "cell_type": "markdown",
   "source": [
    "$$ \\frac{\\theta_m}{T_0}=\\frac{\\sqrt{2}}{\\pi}\\int_{0}^{\\theta_m}\\frac{d\\theta}{\\sqrt{ 2(sin^2(\\frac{\\theta_m}{2})-(\\frac{sin(\\psi)}{sin(\\frac{\\theta_m}{2})})^2)}} $$\n",
    "$$ \\frac{\\theta_m}{T_0}=\\frac{1}{\\pi}\\int_{0}^{\\theta_m}\\frac{d\\theta}{\\sqrt{ sin^2(\\frac{\\theta_m}{2})-sin^2(\\frac{\\theta}{2}}) $$"
   ],
   "metadata": {
    "collapsed": false
   }
  },
  {
   "cell_type": "markdown",
   "source": [
    "## Part iii ###\n"
   ],
   "metadata": {
    "collapsed": false
   }
  },
  {
   "cell_type": "markdown",
   "source": [
    "## Part iv ##\n",
    "When $\\theta_m = \\pi$ the pendulum is straight up so the torque being applied in zero and no angular movement will happen."
   ],
   "metadata": {
    "collapsed": false
   }
  },
  {
   "cell_type": "markdown",
   "source": [
    "## Part V ##\n",
    "$$ \\frac{T(\\theta_m)}{T_0}=\\frac{2}{\\pi}\\int_{0}^{\\frac{\\pi}{2}} \\frac{d\\psi}{\\sqrt{1-sin^2(\\theta_m/2)sin^2(\\psi)} $$\n",
    "$$ x= sin(\\theta_m/2)sin(\\psi) $$\n",
    "$$ \\frac{T(\\theta_m)}{T_0}=\\frac{2}{\\pi}\\int_{0}^{\\frac{\\pi}{2}} \\frac{d\\psi}{\\sqrt{1-x^2} $$\n",
    "Taylor expand around x=0\n",
    "$$ \\frac{T(\\theta_m)}{T_0}=\\frac{2}{\\pi}\\int_{0}^{\\frac{\\pi}{2}} (1+\\frac{x^2}{2}+\\frac{3x^4}{8}+\\frac{5x^6}{16})d\\psi $$\n",
    "\n",
    "$$ \\frac{T(\\theta_m)}{T_0}=\\frac{2}{\\pi}\\int_{0}^{\\frac{\\pi}{2}} (1+\\frac{(sin(\\theta_m/2)sin(\\psi))^2}{2}+\\frac{3(sin(\\theta_m/2)sin(\\psi))^4}{8}+\\frac{5(sin(\\theta_m/2)sin(\\psi))^6}{16})d\\psi $$"
   ],
   "metadata": {
    "collapsed": false
   }
  },
  {
   "cell_type": "markdown",
   "source": [
    "$$ a_2=\\pi/2 , a_4 = \\frac{\\psi -sin\\psi cos \\psi}{4}|_0^{\\pi/2}, a_6= \\frac{36\\psi -24sin 2\\psi + 3sin4 \\psi}{32(8)}|_0^{\\pi/2}  $$\n",
    "$$a_8=\\frac{60(5)\\psi -45(5)sin 2\\psi + 45sin4 \\psi-5sin6 \\psi}{192(16)}|_0^{\\pi/2} $$"
   ],
   "metadata": {
    "collapsed": false
   }
  },
  {
   "cell_type": "code",
   "execution_count": 4,
   "outputs": [
    {
     "name": "stdout",
     "output_type": "stream",
     "text": [
      "a_2 is 1.5707963267948966\n",
      "a_4 is 0.39269908169872414\n",
      "a_6 is 0.22089323345553233\n",
      "a_8 is 0.15339807878856412\n"
     ]
    }
   ],
   "source": [
    "\n",
    "\n",
    "a_2=np.pi/2\n",
    "a_4= np.pi/2/4\n",
    "a_6 = (36*np.pi/2-24*np.sin(2* np.pi/2)+3*np.sin(4*np.pi/2))/(32*8)\n",
    "a_8 =(60*5*np.pi/2-45*5*np.sin(2*np.pi/2)+45*np.sin(4*np.pi/2)-5*np.sin(6*np.pi/2))/(192*16)\n",
    "print(f'a_2 is {a_2}')\n",
    "print(f'a_4 is {a_4}')\n",
    "print(f'a_6 is {a_6}')\n",
    "print(f'a_8 is {a_8}')"
   ],
   "metadata": {
    "collapsed": false,
    "pycharm": {
     "name": "#%%\n"
    }
   }
  },
  {
   "cell_type": "markdown",
   "source": [],
   "metadata": {
    "collapsed": false
   }
  },
  {
   "cell_type": "code",
   "execution_count": null,
   "metadata": {
    "collapsed": true
   },
   "outputs": [],
   "source": []
  },
  {
   "cell_type": "code",
   "execution_count": null,
   "outputs": [],
   "source": [],
   "metadata": {
    "collapsed": false,
    "pycharm": {
     "name": "#%%\n"
    }
   }
  }
 ],
 "metadata": {
  "kernelspec": {
   "display_name": "Python 3",
   "language": "python",
   "name": "python3"
  },
  "language_info": {
   "codemirror_mode": {
    "name": "ipython",
    "version": 2
   },
   "file_extension": ".py",
   "mimetype": "text/x-python",
   "name": "python",
   "nbconvert_exporter": "python",
   "pygments_lexer": "ipython2",
   "version": "2.7.6"
  }
 },
 "nbformat": 4,
 "nbformat_minor": 0
}